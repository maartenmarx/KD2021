{
 "cells": [
  {
   "cell_type": "markdown",
   "metadata": {
    "collapsed": false
   },
   "source": [
    "# Assignment Kennis en Data"
   ]
  },
  {
   "cell_type": "markdown",
   "metadata": {
    "collapsed": false
   },
   "source": [
    "## Notebook made by\n",
    "\n",
    "\n",
    "|Naam|Studentnummer|\n",
    "|-|-|\n",
    "|Alex| secret |\n",
    "|Joran| secret |\n",
    "|Sander| secret|\n",
    "|Sven| secret |\n",
    "\n",
    "## Peerreview\n",
    "\n",
    "* Vul onderstaande dict/tabel in en run de cel. Klopt het? Zijn jullie het er allemaal mee eens?\n",
    "    * Verander `1,2,3,4` door jullie studentnummers\n",
    "    * `1: {1:.2,2:.3,3:.3,4:.2}` betekent dat student 1 zijn punt zo over de 4 studenten verdeelt\n",
    "    * Let op, per student moeten de punten optellen tot 1!\n",
    "    * De gegeven punten staan in de tabel op de rijen, de ontvangen punten in de kolommen.\n",
    "    * met `cijfer_per_student` kan je bepalen welk cijfer ieder krijgt bij een gegeven groepscijfer."
   ]
  },
  {
   "cell_type": "markdown",
   "metadata": {
    "collapsed": false
   },
   "source": [
    "## Toelichting\n",
    "\n",
    "* De meeste opgaven worden automatisch nagekeken. Bij vrijwel alle opdrachten staan er een paar tests onder de opdracht, dit is voornamelijk om te zorgen dat je de juiste type output geeft. Dit zijn dus *NIET* alle tests, die komen er bij het graden nog bij.\n",
    "* Elke vraag is 1 punt waard, tenzij anders aangegeven. Soms is die punt onderverdeeld in deelpunten, maar niet altijd. \n",
    "\n",
    "## Voor het inleveren!\n",
    "\n",
    "* Pas niet de cellen aan, vooral niet die je niet kunt editen. Dit levert problemen op bij nakijken. Twijfel je of je per ongeluk iets hebt gewijzigd, kopieer dan bij inleveren je antwoorden naar een nieuw bestand, zodat het niet fout kan gaan.\n",
    "\n",
    "* Zorg dat de code goed runt van boven naar beneden, verifieer dat door boven in Kernel -> Restart & Run All uit te voeren\n",
    "\n",
    "## Na het inleveren!\n",
    "\n",
    "* Het gebeurt erg vaak dat mensen een \"leeg bestand\" inleveren. Vaak een andere versie van de opgave die nog ergens op je computer rondslingerde. Zonde van al je werk toch!\n",
    "* Dus, lever **minstens een half uur voor tijd in**. Download dan wat je hebt ingeleverd op Canvas. Geef het een andere naam om verwarring te voorkomen. En draai alle cellen, en bekijk het. Geen syntax fouten? Alle vragen gemaakt? Dan zit het vast wel goed, en hoef je niet in de zenuwen te zitten."
   ]
  },
  {
   "cell_type": "markdown",
   "metadata": {
    "collapsed": false,
    "toc": true
   },
   "source": [
    "<h1>Table of Contents<span class=\"tocSkip\"></span></h1>\n",
    "<div class=\"toc\"><ul class=\"toc-item\"><li><span><a href=\"#RDF-en-RDFS-completion\" data-toc-modified-id=\"RDF-en-RDFS-completion-1\"><span class=\"toc-item-num\">1&nbsp;&nbsp;</span>RDF en RDFS completion</a></span><ul class=\"toc-item\"><li><span><a href=\"#Jouw-taak\" data-toc-modified-id=\"Jouw-taak-1.1\"><span class=\"toc-item-num\">1.1&nbsp;&nbsp;</span>Jouw taak</a></span><ul class=\"toc-item\"><li><span><a href=\"#Je-cijfer-is-gebaseerd-op\" data-toc-modified-id=\"Je-cijfer-is-gebaseerd-op-1.1.1\"><span class=\"toc-item-num\">1.1.1&nbsp;&nbsp;</span>Je cijfer is gebaseerd op</a></span></li><li><span><a href=\"#Voorwaarden\" data-toc-modified-id=\"Voorwaarden-1.1.2\"><span class=\"toc-item-num\">1.1.2&nbsp;&nbsp;</span>Voorwaarden</a></span><ul class=\"toc-item\"><li><span><a href=\"#Database-en-regels\" data-toc-modified-id=\"Database-en-regels-1.1.2.1\"><span class=\"toc-item-num\">1.1.2.1&nbsp;&nbsp;</span>Database en regels</a></span></li><li><span><a href=\"#Test-voorbeelden\" data-toc-modified-id=\"Test-voorbeelden-1.1.2.2\"><span class=\"toc-item-num\">1.1.2.2&nbsp;&nbsp;</span>Test voorbeelden</a></span></li><li><span><a href=\"#Check-ajb\" data-toc-modified-id=\"Check-ajb-1.1.2.3\"><span class=\"toc-item-num\">1.1.2.3&nbsp;&nbsp;</span>Check ajb</a></span></li></ul></li></ul></li></ul></li><li><span><a href=\"#Jouw-completion-functie\" data-toc-modified-id=\"Jouw-completion-functie-2\"><span class=\"toc-item-num\">2&nbsp;&nbsp;</span>Jouw completion functie</a></span></li><li><span><a href=\"#Jouw-lijst-met-testen\" data-toc-modified-id=\"Jouw-lijst-met-testen-3\"><span class=\"toc-item-num\">3&nbsp;&nbsp;</span>Jouw lijst met testen</a></span></li><li><span><a href=\"#Voor-de-echte-diehards-die-gaan-voor-een-10\" data-toc-modified-id=\"Voor-de-echte-diehards-die-gaan-voor-een-10-4\"><span class=\"toc-item-num\">4&nbsp;&nbsp;</span>Voor de echte diehards die gaan voor een 10</a></span><ul class=\"toc-item\"><li><ul class=\"toc-item\"><li><span><a href=\"#Hoeveel-RDFS-statements-zijn-er-eigenlijk-die-zouden-kunnen-volgen?\" data-toc-modified-id=\"Hoeveel-RDFS-statements-zijn-er-eigenlijk-die-zouden-kunnen-volgen?-4.0.1\"><span class=\"toc-item-num\">4.0.1&nbsp;&nbsp;</span>Hoeveel RDFS statements zijn er eigenlijk die zouden kunnen volgen?</a></span></li></ul></li></ul></li></ul></div>"
   ]
  },
  {
   "cell_type": "markdown",
   "metadata": {
    "collapsed": false
   },
   "source": [
    "# RDF en RDFS completion\n",
    "\n",
    "* We maken een programma dat gegeven een RDF triple store plus een set RDFS statements, alle mogelijke niet triviale logische consequenties hiervan afleidt, en die in een RDF en RDFS database zet.\n",
    "* Dit wordt ook wel *materialization* genoemd. Het idee is dat uit beide kennisbanken **exact dezelfde feiten volgen**, maar dat dat sneller kan vanuit de pure RDF versie (omdat je dan geen feiten hoeft af te leiden).\n",
    "* De technische term voor het algorithme dat deze \"completering\" doet is de *chase*.\n",
    "* Het [artikel van Enrico Franconi et al](https://link.springer.com/chapter/10.1007/978-3-642-41335-3_7) bevat een systeem.\n",
    "* Net als in Franconi werken we alleen met de 4 interresantste RDFS statements:\n",
    "    * **Hierarchie** \n",
    "        * $\\forall xy (Rxy \\rightarrow Sxy)$  (\" to love him is to know him\", als je van iemand houdt dan ken je diegene) \n",
    "        * $\\forall x (Horse(x) \\rightarrow Animal(x))$\n",
    "    * **Domain en range restrictions**\n",
    "        * $\\forall xy (Rxy \\rightarrow Dx)$ (domain) \"Als x een staart heeft is het een dier\"\n",
    "        * $\\forall xy (Rxy \\rightarrow Dy)$ (range)  \"Als je een  ouder bent van y, is y een mens.\"\n",
    "        \n",
    "## Jouw taak\n",
    "\n",
    "1. Maak de functie `complete(facts, rules)` die voldoet aan de volgende eigenschap:\n",
    "    * voor elke feit `(o,p,s)`, facts+rules $\\models$ (o,p,s) $\\Leftrightarrow$ `complete(facts, rules)` $\\models$ (o,p,s) \n",
    "        * Jouw functie is zowel volledig als geldig (*sound and complete*), dat is exact wat je wilt.\n",
    "    * `complete(facts, rules)` is een verzameling feiten.\n",
    "2. Maak een flinke collectie van tests waarmee je test dat jouw functie aan die eisen voldoet. \n",
    "    * Dus dat het niet te veel en niet te weinig, maar exact de juiste feiten impliceert.\n",
    "    * Je deelt die tests met alle anderen, en ook jouw functie, en we gaan dus elke functie tegen elke test draaien, en dus een matrix met scores maken.\n",
    "    \n",
    "### Je cijfer is gebaseerd op \n",
    "\n",
    "1. Hoe goed doorstaat jouw functie alle tests.\n",
    "2. Hoe goed zijn jouw tests.\n",
    "    * Strenge (doch rechtvaardige) tests zijn natuurlijk het best. Tests waar iedereen voor slaagt lijken leuk maar zijn meestal niet veel waard. \n",
    "    \n",
    "    \n",
    "### Voorwaarden\n",
    "\n",
    "#### Database en regels\n",
    "\n",
    "We werken niet direct met RDF en RDFS omdat dat zo'n enorme syntax overhead heeft. We doen de dingen gewoon lekker in Python.\n",
    "\n",
    "* Je RDF store is een verzameling triples, waarbij de 3 elementen strings of integers of floats zijn.\n",
    "    * Je schrijft eigenschappen van individuen als `('henk', 'isa', 'Man')`\n",
    "        * dus altijd met de vaste relatie `isa` in het midden.\n",
    "    * en relaties tussen individuen als `('henk', Houdt_van', 'ingrid')`\n",
    "    * en idem voor relaties tussen individuen en getallen `('henk', 'leeftijd', 53)`\n",
    "    * Begin namen van individuen (\"knopen\") meteen kleine letter, en eigenschappen en relaties met een grote.\n",
    "* Je RDFS store is een dict met sleutels `['subPropertyOf', 'subClassOf', 'domain', 'range']` en voor elke sleutel een verzameling met 2-tuples (paartjes in gewoon Nederlands) als waarde. \n",
    "\n",
    "#### Test voorbeelden\n",
    "\n",
    "Een testset is een lijst triples van de vorm `(D:RDF_store, R:RDFS_store, Pos:RDF_store, Neg:RDF_store)` waarvoor geldt dat \n",
    "* voor elk triple t in Pos: $D,R\\models t$\n",
    "* voor elk triple t in Neg: $D,R\\not\\models t$\n",
    "* Met $\\models$ wordt dus bedoeld volgens de Franconi semantiek, en dus ook volgens de RDF semantiek. Dat betekent dus niet per se dat dit hetzelfde is als volgens jouw completion functie (want die zou fouten kunnen maken).\n",
    "* Hieronder staat een flauw voorbeeld. Jounes is veel gaver en strenger en leuker  natuurlijk!\n",
    "\n",
    "#### Check ajb\n",
    "\n",
    "* Als de tests hieronder niet slagen kunnen we niks met je code, en kan je  dus niet meedoen. Zonde van al je werk toch?"
   ]
  },
  {
   "cell_type": "code",
   "execution_count": 2,
   "metadata": {
    "collapsed": false,
    "deletable": false,
    "editable": false,
    "nbgrader": {
     "cell_type": "code",
     "checksum": "2fa770e88b5b07eba6aab91f623677b0",
     "grade": false,
     "grade_id": "rfds",
     "locked": true,
     "schema_version": 3,
     "solution": false
    }
   },
   "outputs": [
    {
     "data": {
      "text/plain": [
       "{'subPropertyOf': {('Eet', 'Vindt_lekker'), ('Houdt_van', 'Kent')},\n",
       " 'subClassOf': {('Mens', 'Dier'), ('Student', 'Mens')},\n",
       " 'domain': {('Houdt_van', 'Mens')},\n",
       " 'range': ('Vindt_lekker', 'Eten')}"
      ]
     },
     "execution_count": 2,
     "metadata": {},
     "output_type": "execute_result"
    }
   ],
   "source": [
    "# voorbeeld\n",
    "RDFS= {'subPropertyOf': {('Houdt_van','Kent'), ('Eet','Vindt_lekker')},\n",
    "      'subClassOf': {('Mens','Dier'),('Student','Mens')},\n",
    "      'domain': {('Houdt_van','Mens')},\n",
    "      'range': ('Vindt_lekker','Eten')}\n",
    "RDFS"
   ]
  },
  {
   "cell_type": "code",
   "execution_count": 3,
   "metadata": {
    "collapsed": false,
    "deletable": false,
    "editable": false,
    "nbgrader": {
     "cell_type": "code",
     "checksum": "21954308ba447742faade218f1e5fb5b",
     "grade": false,
     "grade_id": "test",
     "locked": true,
     "schema_version": 3,
     "solution": false
    }
   },
   "outputs": [
    {
     "data": {
      "text/plain": [
       "[({('Henk', 'isa', 'Mens')},\n",
       "  {'subPropertyOf': set(),\n",
       "   'subClassOf': {('Mens', 'Sterfelijk')},\n",
       "   'domain': set(),\n",
       "   'range': set()},\n",
       "  {('Henk', 'isa', 'Sterfelijk')},\n",
       "  {('henk', 'Houdt_van', 'ingrid')})]"
      ]
     },
     "execution_count": 3,
     "metadata": {},
     "output_type": "execute_result"
    }
   ],
   "source": [
    "# voorbeeld\n",
    "\n",
    "test1= [\n",
    "    ({('Henk','isa','Mens')},  # RDF store\n",
    "       {'subPropertyOf': set(),  # RDFS store\n",
    "      'subClassOf': {('Mens','Sterfelijk')},\n",
    "      'domain': set(),\n",
    "      'range':  set()},\n",
    "       {('Henk','isa','Sterfelijk')}, # positieve voorbeelden\n",
    "       {('henk', 'Houdt_van', 'ingrid')} # negatieve voorbeelden\n",
    "       )\n",
    "       ]\n",
    "test1"
   ]
  },
  {
   "cell_type": "markdown",
   "metadata": {
    "collapsed": false
   },
   "source": [
    "# Jouw completion functie"
   ]
  },
  {
   "cell_type": "code",
   "execution_count": 4,
   "metadata": {
    "collapsed": false
   },
   "outputs": [],
   "source": [
    "factvoorbeeld = set([('Alex', 'isa', 'student'),\n",
    "                ('Joran', 'isa', 'student'),\n",
    "                ('Sander', 'isa', 'mens'),\n",
    "                ('Sven', 'isa', 'student'),\n",
    "                ('Alex','vindtlekker','lasagne'),\n",
    "                ('Alex', 'haat', 'maandagen'),])\n",
    "\n",
    "rulesvoorbeeld = {'subPropertyOf' : set([('haat', 'kent')]),\n",
    "                 'subClassOf' : set([('student','mens'),('mens','sterfelijk')]),\n",
    "                 'domain' : set([('haat','mens')]),\n",
    "                 'range' : set([('vindtlekker','eten')])}"
   ]
  },
  {
   "cell_type": "code",
   "execution_count": 9,
   "metadata": {
    "collapsed": false,
    "deletable": false,
    "nbgrader": {
     "cell_type": "code",
     "checksum": "e5a511d86305f5c585c5f0450a976d96",
     "grade": false,
     "grade_id": "f",
     "locked": false,
     "schema_version": 3,
     "solution": true
    }
   },
   "outputs": [
    {
     "name": "stdout",
     "output_type": "stream",
     "text": [
      "complete_11691395\n",
      "{('Henk', 'isa', 'Mens')}\n",
      "{'subPropertyOf': set(), 'subClassOf': {('Mens', 'Sterfelijk')}, 'domain': set(), 'range': set()}\n"
     ]
    },
    {
     "data": {
      "text/plain": [
       "{('Henk', 'isa', 'Mens'), ('Henk', 'isa', 'Sterfelijk')}"
      ]
     },
     "execution_count": 9,
     "metadata": {},
     "output_type": "execute_result"
    }
   ],
   "source": [
    "studnr=11691395 \n",
    "functienaam= 'complete_'+str(studnr)\n",
    "print(functienaam)\n",
    "# jouw functie\n",
    "\n",
    "def complete_11691395(facts, rules):  \n",
    "    \n",
    "    returnfacts = list(facts.copy())\n",
    "\n",
    "    for fact in returnfacts:\n",
    "\n",
    "        for rule in rules['domain']:\n",
    "            if fact[1] == rule[0]:\n",
    "                returnfacts.append((fact[0],\"isa\",rule[1]))\n",
    "\n",
    "        for rule in rules['range']:\n",
    "            if fact[1] == rule[0]:\n",
    "                returnfacts.append((fact[2],\"isa\",rule[1]))\n",
    "\n",
    "        for rule in rules['subPropertyOf']:\n",
    "            if fact[1] == rule[0]:\n",
    "                returnfacts.append((fact[0],rule[1],fact[2]))\n",
    "\n",
    "        for rule in rules['subClassOf']:\n",
    "            if fact[1] == \"isa\" and fact[2] == rule[0]:\n",
    "                returnfacts.append((fact[0],\"isa\",rule[1]))\n",
    "                    \n",
    "                \n",
    "    return set(returnfacts)\n",
    "\n",
    "#test\n",
    "facts= test1[0][0]\n",
    "rules= test1[0][1]\n",
    "print(facts)\n",
    "print(rules)\n",
    "complete_11691395(facts,rules)"
   ]
  },
  {
   "cell_type": "code",
   "execution_count": 6,
   "metadata": {
    "collapsed": false,
    "deletable": false,
    "editable": false,
    "nbgrader": {
     "cell_type": "code",
     "checksum": "31bb7fb371f82329a691664a7fa3b08e",
     "grade": true,
     "grade_id": "s",
     "locked": true,
     "points": 0,
     "schema_version": 3,
     "solution": false
    }
   },
   "outputs": [],
   "source": [
    "assert studnr!= 1234567, 'Dit is niet jouw student nummer!'\n"
   ]
  },
  {
   "cell_type": "code",
   "execution_count": 10,
   "metadata": {
    "collapsed": false,
    "deletable": false,
    "editable": false,
    "nbgrader": {
     "cell_type": "code",
     "checksum": "b68d9775579a434d5891083c55365172",
     "grade": true,
     "grade_id": "ft",
     "locked": true,
     "points": 0,
     "schema_version": 3,
     "solution": false
    }
   },
   "outputs": [
    {
     "ename": "TypeError",
     "evalue": "'str' object is not callable",
     "output_type": "error",
     "traceback": [
      "\u001b[0;31m---------------------------------------------------------------------------\u001b[0m",
      "\u001b[0;31mTypeError\u001b[0m                                 Traceback (most recent call last)",
      "\u001b[0;32m<ipython-input-10-b55dfd8a2bab>\u001b[0m in \u001b[0;36m<module>\u001b[0;34m\u001b[0m\n\u001b[1;32m      5\u001b[0m       }\n\u001b[1;32m      6\u001b[0m \u001b[0mRDF\u001b[0m\u001b[0;34m=\u001b[0m \u001b[0;34m{\u001b[0m\u001b[0;34m(\u001b[0m\u001b[0;34m'Henk'\u001b[0m\u001b[0;34m,\u001b[0m\u001b[0;34m'isa'\u001b[0m\u001b[0;34m,\u001b[0m\u001b[0;34m'Mens'\u001b[0m\u001b[0;34m)\u001b[0m\u001b[0;34m}\u001b[0m\u001b[0;34m\u001b[0m\u001b[0;34m\u001b[0m\u001b[0m\n\u001b[0;32m----> 7\u001b[0;31m \u001b[0mcompletion\u001b[0m\u001b[0;34m=\u001b[0m \u001b[0mfunctienaam\u001b[0m\u001b[0;34m(\u001b[0m\u001b[0mRDF\u001b[0m\u001b[0;34m,\u001b[0m\u001b[0mRDFS\u001b[0m\u001b[0;34m)\u001b[0m\u001b[0;34m\u001b[0m\u001b[0;34m\u001b[0m\u001b[0m\n\u001b[0m\u001b[1;32m      8\u001b[0m \u001b[0;32massert\u001b[0m \u001b[0misinstance\u001b[0m\u001b[0;34m(\u001b[0m\u001b[0mcompletion\u001b[0m\u001b[0;34m,\u001b[0m\u001b[0mset\u001b[0m\u001b[0;34m)\u001b[0m\u001b[0;34m\u001b[0m\u001b[0;34m\u001b[0m\u001b[0m\n\u001b[1;32m      9\u001b[0m \u001b[0;32mfor\u001b[0m \u001b[0mt\u001b[0m \u001b[0;32min\u001b[0m \u001b[0mcompletion\u001b[0m\u001b[0;34m:\u001b[0m\u001b[0;34m\u001b[0m\u001b[0;34m\u001b[0m\u001b[0m\n",
      "\u001b[0;31mTypeError\u001b[0m: 'str' object is not callable"
     ]
    }
   ],
   "source": [
    "RDFS= {'subPropertyOf': {('Houdt_van','Kent'), ('Eet','Vindt_lekker')},\n",
    "      'subClassOf': {('Mens','Dier'),('Student','Mens')},\n",
    "      'domain': {('Houdt_van','Mens')},\n",
    "      'range': {('Vindt_lekker','Eten')}\n",
    "      }\n",
    "RDF= {('Henk','isa','Mens')}\n",
    "completion= functienaam(RDF,RDFS)\n",
    "assert isinstance(completion,set)\n",
    "for t in completion:\n",
    "    assert isinstance(t,tuple)\n",
    "    assert len(t)==3\n",
    "    assert isinstance(t[0], str)\n",
    "    assert isinstance(t[1], str)\n",
    "    assert isinstance(t[2], (str, int,float))\n",
    "    "
   ]
  },
  {
   "cell_type": "markdown",
   "metadata": {
    "collapsed": false
   },
   "source": [
    "# Jouw lijst met testen"
   ]
  },
  {
   "cell_type": "code",
   "execution_count": 11,
   "metadata": {
    "collapsed": false,
    "deletable": false,
    "nbgrader": {
     "cell_type": "code",
     "checksum": "793a3e6331c6791cdd2420fd4518352e",
     "grade": false,
     "grade_id": "t",
     "locked": false,
     "schema_version": 3,
     "solution": true
    }
   },
   "outputs": [
    {
     "name": "stdout",
     "output_type": "stream",
     "text": [
      "{('Alex', 'haat', 'maandag'), ('Alex', 'vindtlekker', 'lasagne'), ('lasagne', 'isa', 'basisbehoefte'), ('Alex', 'isa', 'mens'), ('Alex', 'kent', 'maandag'), ('maandag', 'isa', 'dag'), ('lasagne', 'isa', 'eten')}\n",
      "{('Joran', 'wint', 'kahoot'), ('Joran', 'Speelt', 'kahoot'), ('Joran', 'is_goed_in', 'kahoot'), ('Joran', 'isa', 'mens'), ('kahoot', 'isa', 'spel'), ('Joran', 'isa', 'dier'), ('kahoot', 'isa', 'leerzaam')}\n",
      "{('sander', 'haat', 'zuurkool'), ('zuurkool', 'isa', 'eten'), ('zuurkool', 'isa', 'basisbehoefte'), ('sander', 'isa', 'mens'), ('sander', 'kent', 'maarten marx'), ('sander', 'houdt van', 'maarten marx')}\n",
      "{('Sven', 'isa', 'sterfelijk'), ('Sven', 'WoontInStad', 'Almere'), ('Sven', 'isa', 'dier'), ('Sven', 'WoontIn', 'Almere'), ('Almere', 'isa', 'plaats'), ('Almere', 'isa', 'stad'), ('Sven', 'isa', 'mens')}\n"
     ]
    }
   ],
   "source": [
    "test_11691395 = []\n",
    "\n",
    "test_11691395.append((set([('Alex','vindtlekker','lasagne'),('Alex','haat','maandag'),('maandag','isa','dag')]), #facts\n",
    "             {'domain' : set([('vindtlekker', 'mens')]),\n",
    "             'range' : set([('vindtlekker', 'eten')]),\n",
    "             'subPropertyOf': set([('haat','kent')]),\n",
    "             'subClassOf' : set([('eten','basisbehoefte')])}, #rules\n",
    "             set([('lasagne', 'isa', 'basisbehoefte'),('Alex','kent','maandag'),('lasagne','isa','eten')]), #posvoorbeeld\n",
    "             set([('maandag', 'isa', 'basisbehoefte'),('Alex','kent','lasagne')])) #negvoorbeeld\n",
    "           )\n",
    "\n",
    "test_11691395.append((set([('Joran','Speelt','kahoot'),('Joran', 'isa', 'mens'), ('Joran', 'wint', 'kahoot')]), #facts\n",
    "             {'domain' : set([('Speelt', 'dier')]),\n",
    "             'range' : set([('Speelt', 'spel')]),\n",
    "             'subPropertyOf': set([('wint', 'is_goed_in')]),\n",
    "             'subClassOf' : set([('spel','leerzaam'),('mens', 'dier'),('kat','dier')])}, #rules\n",
    "             set([('kahoot', 'isa', 'leerzaam'),('kahoot','isa','spel'),('Joran', 'isa', 'dier'),('Joran', 'isa', 'mens')]), #posvoorbeeld\n",
    "             set([('kahoot', 'isa', 'mens'),('Joran', 'isa', 'kat')])) #negvoorbeeld\n",
    "           )\n",
    "\n",
    "test_11691395.append((set([('sander','houdt van','maarten marx'),('sander','haat','zuurkool'),('zuurkool', 'isa', 'eten')]), #facts\n",
    "             {'domain' : set([('houdt van', 'mens')]),\n",
    "             'range' : set([('houdt van ', 'docent')]),\n",
    "             'subPropertyOf': set([('houdt van','kent')]),\n",
    "             'subClassOf' : set([('eten','basisbehoefte')])}, #rules\n",
    "             set([('zuurkool','isa','basisbehoefte'),('sander','kent','maarten marx')]), #posvoorbeeld\n",
    "             set([('maarten marx', 'isa', 'basisbehoefte'),('sander','kent','zuurkool')])) #negvoorbeeld\n",
    "           )\n",
    "\n",
    "\n",
    "test_11691395.append((set([('Sven','WoontInStad','Almere'),('Sven', 'isa', 'mens')]), #facts\n",
    "             {'domain' : set([('WoontInStad', 'mens')]),\n",
    "             'range' : set([('WoontInStad', 'stad')]),\n",
    "             'subPropertyOf': set([('WoontInStad', 'WoontIn'),('WoontInDorp', 'WoontIn')]),\n",
    "             'subClassOf' : set([('stad','plaats'),('dorp', 'plaats'),('mens','dier'),('dier','sterfelijk')])}, #rules\n",
    "             set([('Almere', 'isa', 'plaats'),('Almere','isa','stad'),('Sven', 'isa', 'mens')]), #posvoorbeeld\n",
    "             set([('Almere','isa','dorp'),('Sven','isa','stad'),('Almere','isa','mens')])) #negvoorbeeld\n",
    "           )\n",
    "\n",
    "for test in test_11691395:\n",
    "    testresult = complete_11691395(test[0],test[1])\n",
    "    assert(all([(x in testresult) for x in test[2]]))\n",
    "    assert(all([(x not in testresult) for x in test[3]]))\n",
    "    print(testresult)"
   ]
  },
  {
   "cell_type": "code",
   "execution_count": 0,
   "metadata": {
    "collapsed": false,
    "deletable": false,
    "editable": false,
    "nbgrader": {
     "cell_type": "code",
     "checksum": "eec1a8944bb8d0211b210689879b82fd",
     "grade": true,
     "grade_id": "tt",
     "locked": true,
     "points": 0,
     "schema_version": 3,
     "solution": false
    }
   },
   "outputs": [],
   "source": [
    "assert isinstance(testnaam,list)\n",
    "for test in testnaam:\n",
    "    assert isinstance(test,tuple)\n",
    "    assert len(test)==4\n",
    "    assert isinstance(test[0],set)\n",
    "    assert isinstance(test[1],dict)\n",
    "    assert isinstance(test[2],set)\n",
    "    assert isinstance(test[3],set)"
   ]
  },
  {
   "cell_type": "markdown",
   "metadata": {
    "collapsed": false
   },
   "source": [
    "# Voor de echte diehards die gaan voor een 10\n",
    "\n",
    "Franconi beschrijft in zijn artikel dat je ook RDFS statements uit andere RDFS statements kunt afleiden. Hij geeft een leuk voorbeeld in het eerste plaatje.\n",
    "\n",
    "Dat kan jij natuurlijk ook!\n",
    "\n",
    "Maak een functie `complete(RDFS)` die precies alle RDFS statements afleidt die volgen uit de verzameling `RDFS`.\n",
    "\n",
    "Maak er ook weer een mooie testset bij, en beargumenteer dat jouw systeem geldig en volledig is.\n",
    "\n",
    "### Hoeveel RDFS statements zijn er eigenlijk die zouden kunnen volgen?\n",
    "\n",
    "* Gegeven de relaties en eigenschappen in de verzameling `RDFS` is dit eindig.\n",
    "* En er zijn maar 4 soorten RDFS statements. \n",
    "* Dus moet het wel eindig zijn, en kan je zelfs uitrekenen hoeveel.\n",
    "* Een manier is om ze allemaal te proberen....\n",
    "    * Voeg het antecedent toe als RDF-triple aan `RDFS` en kijk of het consequent dan volgt...\n",
    "* Reken het eens uit voor $r$ relaties en $p$ eigenschappen.\n",
    "    * Met $r$ relaties kan je $r\\cdot(r-1)$ veel `subPropertyOf` relaties maken toch...\n",
    "    * en dan nog ....\n",
    "    * en ....\n",
    "* Dit is niet eens zo gek, maar met een *chase* gaat het natuurlijk veel sneller omdat je dan resultaatgericht werkt in plaats van als een dolle alles gaat proberen.\n",
    "    * Bijv; Stel je hebt 100 relaties, maar in je RDFS komt er maar 1 voor in antecdent positie in `subPropertyOf` statements. Hoeveel `subPropertyOf` kan je dan afleiden? Ja, dat is dus sneller dan al die 100*99 te gaan proberen toch? Want dat is best veel."
   ]
  },
  {
   "cell_type": "code",
   "execution_count": 0,
   "metadata": {
    "collapsed": false
   },
   "outputs": [],
   "source": [
    "RDFS= {'subPropertyOf': {('Houdt_van','Kent'), ('Eet','Vindt_lekker'), ('Kent','BewustVan'),('Vindt_lekker','Heeft_mening_over')},\n",
    "      'subClassOf': {('Mens','Dier'),('Student','Mens')},\n",
    "      'domain': {('Houdt_van','Mens'),('BewustVan','Denker')},\n",
    "      'range': {('Vindt_lekker','Eten'),('Heeft_mening_over','object')}}"
   ]
  },
  {
   "cell_type": "code",
   "execution_count": 0,
   "metadata": {
    "collapsed": false
   },
   "outputs": [],
   "source": [
    "def complete(RDFS):\n",
    "    \n",
    "    returnRDFS = RDFS.copy()\n",
    "    \n",
    "    # (x subproperty van y & y subproperty van z) -> x subproperty van z\n",
    "    for subprob in returnRDFS['subPropertyOf']:\n",
    "        for subprob2 in returnRDFS['subPropertyOf']:\n",
    "            if subprob != subprob2:\n",
    "                if subprob[1] == subprob2[0]:\n",
    "                    returnRDFS['subPropertyOf'] = list(returnRDFS['subPropertyOf'])\n",
    "                    returnRDFS['subPropertyOf'].append((subprob[0],subprob2[1]))\n",
    "                    returnRDFS['subPropertyOf'] = set(returnRDFS['subPropertyOf'])\n",
    "    \n",
    "    # (x subclass van y & y subclass van z) -> x subclass van z\n",
    "    for subclass in returnRDFS['subClassOf']:\n",
    "        for subclass2 in returnRDFS['subClassOf']:\n",
    "            if subclass != subclass2:\n",
    "                if subclass[1] == subclass2[0]:\n",
    "                    returnRDFS['subClassOf'] = list(returnRDFS['subClassOf'])\n",
    "                    returnRDFS['subClassOf'].append((subclass[0],subclass2[1]))\n",
    "                    returnRDFS['subClassOf'] = set(returnRDFS['subClassOf'])\n",
    "                    \n",
    "    # (x subproperty van y & y heeft domein z) -> x heeft domein z\n",
    "    for dom in returnRDFS['domain']:\n",
    "        for subprob in returnRDFS['subPropertyOf']:\n",
    "            if dom[0] == subprob[1]:\n",
    "                returnRDFS['domain'] = list(returnRDFS['domain'])\n",
    "                returnRDFS['domain'].append((subprob[0],dom[1]))\n",
    "                returnRDFS['domain'] = set(returnRDFS['domain'])\n",
    "                \n",
    "    # (x subproperty van y & y heeft range z) -> x heeft range z\n",
    "    for ran in returnRDFS['range']:\n",
    "        for subprob in returnRDFS['subPropertyOf']:\n",
    "            if ran[0] == subprob[1]:\n",
    "                returnRDFS['range'] = list(returnRDFS['range'])\n",
    "                returnRDFS['range'].append((subprob[0],ran[1]))\n",
    "                returnRDFS['range'] = set(returnRDFS['range'])\n",
    "                \n",
    "    return returnRDFS\n",
    "\n",
    "complete(RDFS)"
   ]
  },
  {
   "cell_type": "code",
   "execution_count": 0,
   "metadata": {
    "collapsed": false
   },
   "outputs": [],
   "source": [
    "testnaam = []\n",
    "           \n",
    "testnaam.append( {'subPropertyOf': {('Houdt_van','Kent'), ('Eet','Vindt_lekker'), ('Kent','BewustVan'),('Vindt_lekker','Heeft_mening_over')},\n",
    "      'subClassOf': {('Mens','Dier'),('Student','Mens')},\n",
    "      'domain': {('Houdt_van','Mens'),('BewustVan','Denker')},\n",
    "      'range': {('Vindt_lekker','Eten'),('Heeft_mening_over','object')}}\n",
    "               )\n",
    "\n",
    "testnaam.append( {'subPropertyOf': {('Houdt_van','Kent'), ('Eet', 'Heeft_mening_over')},\n",
    "      'subClassOf': {('Student', 'Dier')},\n",
    "      'domain': {('Houdt_van', 'Denker'), ('Kent', 'Denker')},\n",
    "      'range': {('Vindt_lekker', 'object'),('Eet', 'object'), ('Eet', 'Eten')}}\n",
    "               ) # Posvoorbeelden\n",
    "\n",
    "testnaam.append( {'subPropertyOf': {('Houdt_van','eten'), ('Eet','Kent')},\n",
    "      'subClassOf': {('Dier','Mens'),('Student','eten')},\n",
    "      'domain': {('Houdt_van','eten')},\n",
    "      'range': {('Heeft_mening_over', 'student')}}\n",
    "               ) # Negvoorrbeelden\n",
    "\n",
    "RDFS_test = complete(testnaam[0])\n",
    "\n",
    "# Check differences \n",
    "for RDFS_type in RDFS_test:\n",
    "    print(RDFS_type)\n",
    "    \n",
    "    print(RDFS_test[RDFS_type])\n",
    "    print(testnaam[0][RDFS_type])\n",
    "    \n",
    "    print('Compleet: ', len(RDFS_test[RDFS_type]))\n",
    "    print('Origineel:', len(testnaam[0][RDFS_type]))\n",
    "    print('')\n",
    "    \n",
    "# Check correctness\n",
    "for RDFS_type in RDFS_test:\n",
    "    print(testnaam[1][RDFS_type])\n",
    "    assert(all([(x in RDFS_test[RDFS_type]) for x in testnaam[1][RDFS_type]]))\n",
    "    assert(all([(x not in RDFS_test[RDFS_type]) for x in testnaam[2][RDFS_type]]))\n",
    "    print(testresult)"
   ]
  },
  {
   "cell_type": "markdown",
   "metadata": {
    "collapsed": false
   },
   "source": [
    "#### Is de functie geldig?\n",
    "\n",
    "Ja hoor! We leggen hem even uit.\n",
    "\n",
    "De eerste for loop pakt alle laagjes van subproperties. als x een subproperty is van y, en y is een subproperty van z, dan is x ook een subproperty van z! Dit is wat de eerste for loop in de nieuwe dict zet.\n",
    "\n",
    "De tweede for loop doet precies hetzelfde als de eerste, alleen dan met classes.\n",
    "\n",
    "De derde for loop kijkt naar domeinen. Als x een subproperty is van y en y heeft domein z, dan heeft x ook domein z.\n",
    "\n",
    "De vierde for loop doet precies hetzelfde als de derde, alleen dan met range."
   ]
  }
 ],
 "metadata": {
  "kernelspec": {
   "display_name": "Python 3 (system-wide)",
   "language": "python",
   "metadata": {
    "cocalc": {
     "description": "Python 3 programming language",
     "priority": 100,
     "url": "https://www.python.org/"
    }
   },
   "name": "python3",
   "resource_dir": "/ext/jupyter/kernels/python3"
  },
  "language_info": {
   "codemirror_mode": {
    "name": "ipython",
    "version": 3
   },
   "file_extension": ".py",
   "mimetype": "text/x-python",
   "name": "python",
   "nbconvert_exporter": "python",
   "pygments_lexer": "ipython3",
   "version": "3.8.5"
  },
  "toc": {
   "nav_menu": {},
   "number_sections": true,
   "sideBar": true,
   "skip_h1_title": false,
   "title_cell": "Table of Contents",
   "title_sidebar": "Contents",
   "toc_cell": true,
   "toc_position": {},
   "toc_section_display": true,
   "toc_window_display": false
  }
 },
 "nbformat": 4,
 "nbformat_minor": 4
}
