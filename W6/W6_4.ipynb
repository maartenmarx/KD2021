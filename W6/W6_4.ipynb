{
 "cells": [
  {
   "cell_type": "markdown",
   "metadata": {},
   "source": [
    "# Assignment Kennis en Data"
   ]
  },
  {
   "cell_type": "markdown",
   "metadata": {},
   "source": [
    "## Notebook made by\n",
    "\n",
    "\n",
    "|Naam|Studentnummer|\n",
    "|-|-|\n",
    "|Robin|secret |\n",
    "|Max|secret |\n",
    "|Sascha|secret |\n",
    "\n",
    "## Peerreview\n",
    "\n",
    "* Vul onderstaande dict/tabel in en run de cel. Klopt het? Zijn jullie het er allemaal mee eens?\n",
    "    * Verander `1,2,3,4` door jullie studentnummers\n",
    "    * `1: {1:.2,2:.3,3:.3,4:.2}` betekent dat student 1 zijn punt zo over de 4 studenten verdeelt\n",
    "    * Let op, per student moeten de punten optellen tot 1!\n",
    "    * De gegeven punten staan in de tabel op de rijen, de ontvangen punten in de kolommen.\n",
    "    * met `cijfer_per_student` kan je bepalen welk cijfer ieder krijgt bij een gegeven groepscijfer."
   ]
  },
  {
   "cell_type": "markdown",
   "metadata": {},
   "source": [
    "## Toelichting\n",
    "\n",
    "* De meeste opgaven worden automatisch nagekeken. Bij vrijwel alle opdrachten staan er een paar tests onder de opdracht, dit is voornamelijk om te zorgen dat je de juiste type output geeft. Dit zijn dus *NIET* alle tests, die komen er bij het graden nog bij.\n",
    "* Elke vraag is 1 punt waard, tenzij anders aangegeven. Soms is die punt onderverdeeld in deelpunten, maar niet altijd. \n",
    "\n",
    "## Voor het inleveren!\n",
    "\n",
    "* Pas niet de cellen aan, vooral niet die je niet kunt editen. Dit levert problemen op bij nakijken. Twijfel je of je per ongeluk iets hebt gewijzigd, kopieer dan bij inleveren je antwoorden naar een nieuw bestand, zodat het niet fout kan gaan.\n",
    "\n",
    "* Zorg dat de code goed runt van boven naar beneden, verifieer dat door boven in Kernel -> Restart & Run All uit te voeren\n",
    "\n",
    "## Na het inleveren!\n",
    "\n",
    "* Het gebeurt erg vaak dat mensen een \"leeg bestand\" inleveren. Vaak een andere versie van de opgave die nog ergens op je computer rondslingerde. Zonde van al je werk toch!\n",
    "* Dus, lever **minstens een half uur voor tijd in**. Download dan wat je hebt ingeleverd op Canvas. Geef het een andere naam om verwarring te voorkomen. En draai alle cellen, en bekijk het. Geen syntax fouten? Alle vragen gemaakt? Dan zit het vast wel goed, en hoef je niet in de zenuwen te zitten."
   ]
  },
  {
   "cell_type": "markdown",
   "metadata": {
    "toc": true
   },
   "source": [
    "<h1>Table of Contents<span class=\"tocSkip\"></span></h1>\n",
    "<div class=\"toc\"><ul class=\"toc-item\"><li><span><a href=\"#RDF-en-RDFS-completion\" data-toc-modified-id=\"RDF-en-RDFS-completion-1\"><span class=\"toc-item-num\">1&nbsp;&nbsp;</span>RDF en RDFS completion</a></span><ul class=\"toc-item\"><li><span><a href=\"#Jouw-taak\" data-toc-modified-id=\"Jouw-taak-1.1\"><span class=\"toc-item-num\">1.1&nbsp;&nbsp;</span>Jouw taak</a></span><ul class=\"toc-item\"><li><span><a href=\"#Je-cijfer-is-gebaseerd-op\" data-toc-modified-id=\"Je-cijfer-is-gebaseerd-op-1.1.1\"><span class=\"toc-item-num\">1.1.1&nbsp;&nbsp;</span>Je cijfer is gebaseerd op</a></span></li><li><span><a href=\"#Voorwaarden\" data-toc-modified-id=\"Voorwaarden-1.1.2\"><span class=\"toc-item-num\">1.1.2&nbsp;&nbsp;</span>Voorwaarden</a></span><ul class=\"toc-item\"><li><span><a href=\"#Database-en-regels\" data-toc-modified-id=\"Database-en-regels-1.1.2.1\"><span class=\"toc-item-num\">1.1.2.1&nbsp;&nbsp;</span>Database en regels</a></span></li><li><span><a href=\"#Test-voorbeelden\" data-toc-modified-id=\"Test-voorbeelden-1.1.2.2\"><span class=\"toc-item-num\">1.1.2.2&nbsp;&nbsp;</span>Test voorbeelden</a></span></li><li><span><a href=\"#Check-ajb\" data-toc-modified-id=\"Check-ajb-1.1.2.3\"><span class=\"toc-item-num\">1.1.2.3&nbsp;&nbsp;</span>Check ajb</a></span></li></ul></li></ul></li></ul></li><li><span><a href=\"#Jouw-completion-functie\" data-toc-modified-id=\"Jouw-completion-functie-2\"><span class=\"toc-item-num\">2&nbsp;&nbsp;</span>Jouw completion functie</a></span></li><li><span><a href=\"#Jouw-lijst-met-testen\" data-toc-modified-id=\"Jouw-lijst-met-testen-3\"><span class=\"toc-item-num\">3&nbsp;&nbsp;</span>Jouw lijst met testen</a></span></li><li><span><a href=\"#Voor-de-echte-diehards-die-gaan-voor-een-10\" data-toc-modified-id=\"Voor-de-echte-diehards-die-gaan-voor-een-10-4\"><span class=\"toc-item-num\">4&nbsp;&nbsp;</span>Voor de echte diehards die gaan voor een 10</a></span><ul class=\"toc-item\"><li><ul class=\"toc-item\"><li><span><a href=\"#Hoeveel-RDFS-statements-zijn-er-eigenlijk-die-zouden-kunnen-volgen?\" data-toc-modified-id=\"Hoeveel-RDFS-statements-zijn-er-eigenlijk-die-zouden-kunnen-volgen?-4.0.1\"><span class=\"toc-item-num\">4.0.1&nbsp;&nbsp;</span>Hoeveel RDFS statements zijn er eigenlijk die zouden kunnen volgen?</a></span></li></ul></li></ul></li></ul></div>"
   ]
  },
  {
   "cell_type": "markdown",
   "metadata": {},
   "source": [
    "# RDF en RDFS completion\n",
    "\n",
    "* We maken een programma dat gegeven een RDF triple store plus een set RDFS statements, alle mogelijke niet triviale logische consequenties hiervan afleidt, en die in een RDF en RDFS database zet.\n",
    "* Dit wordt ook wel *materialization* genoemd. Het idee is dat uit beide kennisbanken **exact dezelfde feiten volgen**, maar dat dat sneller kan vanuit de pure RDF versie (omdat je dan geen feiten hoeft af te leiden).\n",
    "* De technische term voor het algorithme dat deze \"completering\" doet is de *chase*.\n",
    "* Het [artikel van Enrico Franconi et al](https://link.springer.com/chapter/10.1007/978-3-642-41335-3_7) bevat een systeem.\n",
    "* Net als in Franconi werken we alleen met de 4 interresantste RDFS statements:\n",
    "    * **Hierarchie** \n",
    "        * $\\forall xy (Rxy \\rightarrow Sxy)$  (\" to love him is to know him\", als je van iemand houdt dan ken je diegene) \n",
    "        * $\\forall x (Horse(x) \\rightarrow Animal(x))$\n",
    "    * **Domain en range restrictions**\n",
    "        * $\\forall xy (Rxy \\rightarrow Dx)$ (domain) \"Als x een staart heeft is het een dier\"\n",
    "        * $\\forall xy (Rxy \\rightarrow Dy)$ (range)  \"Als je een  ouder bent van y, is y een mens.\"\n",
    "        \n",
    "## Jouw taak\n",
    "\n",
    "1. Maak de functie `complete(facts, rules)` die voldoet aan de volgende eigenschap:\n",
    "    * voor elke feit `(o,p,s)`, facts+rules $\\models$ (o,p,s) $\\Leftrightarrow$ `complete(facts, rules)` $\\models$ (o,p,s) \n",
    "        * Jouw functie is zowel volledig als geldig (*sound and complete*), dat is exact wat je wilt.\n",
    "    * `complete(facts, rules)` is een verzameling feiten.\n",
    "2. Maak een flinke collectie van tests waarmee je test dat jouw functie aan die eisen voldoet. \n",
    "    * Dus dat het niet te veel en niet te weinig, maar exact de juiste feiten impliceert.\n",
    "    * Je deelt die tests met alle anderen, en ook jouw functie, en we gaan dus elke functie tegen elke test draaien, en dus een matrix met scores maken.\n",
    "    \n",
    "### Je cijfer is gebaseerd op \n",
    "\n",
    "1. Hoe goed doorstaat jouw functie alle tests.\n",
    "2. Hoe goed zijn jouw tests.\n",
    "    * Strenge (doch rechtvaardige) tests zijn natuurlijk het best. Tests waar iedereen voor slaagt lijken leuk maar zijn meestal niet veel waard. \n",
    "    \n",
    "    \n",
    "### Voorwaarden\n",
    "\n",
    "#### Database en regels\n",
    "\n",
    "We werken niet direct met RDF en RDFS omdat dat zo'n enorme syntax overhead heeft. We doen de dingen gewoon lekker in Python.\n",
    "\n",
    "* Je RDF store is een verzameling triples, waarbij de 3 elementen strings of integers of floats zijn.\n",
    "    * Je schrijft eigenschappen van individuen als `('henk', 'isa', 'Man')`\n",
    "        * dus altijd met de vaste relatie `isa` in het midden.\n",
    "    * en relaties tussen individuen als `('henk', Houdt_van', 'ingrid')`\n",
    "    * en idem voor relaties tussen individuen en getallen `('henk', 'leeftijd', 53)`\n",
    "    * Begin namen van individuen (\"knopen\") meteen kleine letter, en eigenschappen en relaties met een grote.\n",
    "* Je RDFS store is een dict met sleutels `['subPropertyOf', 'subClassOf', 'domain', 'range']` en voor elke sleutel een verzameling met 2-tuples (paartjes in gewoon Nederlands) als waarde. \n",
    "\n",
    "#### Test voorbeelden\n",
    "\n",
    "Een testset is een lijst triples van de vorm `(D:RDF_store, R:RDFS_store, Pos:RDF_store, Neg:RDF_store)` waarvoor geldt dat \n",
    "* voor elk triple t in Pos: $D,R\\models t$\n",
    "* voor elk triple t in Neg: $D,R\\not\\models t$\n",
    "* Met $\\models$ wordt dus bedoeld volgens de Franconi semantiek, en dus ook volgens de RDF semantiek. Dat betekent dus niet per se dat dit hetzelfde is als volgens jouw completion functie (want die zou fouten kunnen maken).\n",
    "* Hieronder staat een flauw voorbeeld. Jounes is veel gaver en strenger en leuker  natuurlijk!\n",
    "\n",
    "#### Check ajb\n",
    "\n",
    "* Als de tests hieronder niet slagen kunnen we niks met je code, en kan je  dus niet meedoen. Zonde van al je werk toch?"
   ]
  },
  {
   "cell_type": "code",
   "execution_count": 2,
   "metadata": {
    "deletable": false,
    "editable": false,
    "nbgrader": {
     "cell_type": "code",
     "checksum": "2fa770e88b5b07eba6aab91f623677b0",
     "grade": false,
     "grade_id": "rfds",
     "locked": true,
     "schema_version": 3,
     "solution": false
    }
   },
   "outputs": [
    {
     "data": {
      "text/plain": [
       "{'subPropertyOf': {('Eet', 'Vindt_lekker'), ('Houdt_van', 'Kent')},\n",
       " 'subClassOf': {('Mens', 'Dier'), ('Student', 'Mens')},\n",
       " 'domain': {('Houdt_van', 'Mens')},\n",
       " 'range': ('Vindt_lekker', 'Eten')}"
      ]
     },
     "execution_count": 2,
     "metadata": {},
     "output_type": "execute_result"
    }
   ],
   "source": [
    "# voorbeeld\n",
    "RDFS= {'subPropertyOf': {('Houdt_van','Kent'), ('Eet','Vindt_lekker')},\n",
    "      'subClassOf': {('Mens','Dier'),('Student','Mens')},\n",
    "      'domain': {('Houdt_van','Mens')},\n",
    "      'range': ('Vindt_lekker','Eten')}\n",
    "RDFS"
   ]
  },
  {
   "cell_type": "code",
   "execution_count": 3,
   "metadata": {
    "deletable": false,
    "editable": false,
    "nbgrader": {
     "cell_type": "code",
     "checksum": "21954308ba447742faade218f1e5fb5b",
     "grade": false,
     "grade_id": "test",
     "locked": true,
     "schema_version": 3,
     "solution": false
    }
   },
   "outputs": [
    {
     "data": {
      "text/plain": [
       "[({('Henk', 'isa', 'Mens')},\n",
       "  {'subPropertyOf': set(),\n",
       "   'subClassOf': {('Mens', 'Sterfelijk')},\n",
       "   'domain': set(),\n",
       "   'range': set()},\n",
       "  {('Henk', 'isa', 'Sterfelijk')},\n",
       "  {('henk', 'Houdt_van', 'ingrid')})]"
      ]
     },
     "execution_count": 3,
     "metadata": {},
     "output_type": "execute_result"
    }
   ],
   "source": [
    "# voorbeeld\n",
    "\n",
    "test1= [\n",
    "    ({('Henk','isa','Mens')},  # RDF store\n",
    "       {'subPropertyOf': set(),  # RDFS store\n",
    "      'subClassOf': {('Mens','Sterfelijk')},\n",
    "      'domain': set(),\n",
    "      'range':  set()},\n",
    "       {('Henk','isa','Sterfelijk')}, # positieve voorbeelden\n",
    "       {('henk', 'Houdt_van', 'ingrid')} # negatieve voorbeelden\n",
    "       )\n",
    "       ]\n",
    "test1"
   ]
  },
  {
   "cell_type": "markdown",
   "metadata": {},
   "source": [
    "# Jouw completion functie"
   ]
  },
  {
   "cell_type": "code",
   "execution_count": 4,
   "metadata": {
    "deletable": false,
    "nbgrader": {
     "cell_type": "code",
     "checksum": "e5a511d86305f5c585c5f0450a976d96",
     "grade": false,
     "grade_id": "f",
     "locked": false,
     "schema_version": 3,
     "solution": true
    }
   },
   "outputs": [
    {
     "name": "stdout",
     "output_type": "stream",
     "text": [
      "complete_12851981\n"
     ]
    },
    {
     "data": {
      "text/plain": [
       "{('eend', 'Eet', 'henk'),\n",
       " ('eend', 'Vindt_lekker', 'henk'),\n",
       " ('eend', 'isa', 'Dier'),\n",
       " ('eend', 'isa', 'Eten'),\n",
       " ('eend', 'isa', 'Leven'),\n",
       " ('eend', 'isa', 'Organisme'),\n",
       " ('henk', 'Eet', 'eend'),\n",
       " ('henk', 'Vindt_lekker', 'eend'),\n",
       " ('henk', 'isa', 'Dier'),\n",
       " ('henk', 'isa', 'Eten'),\n",
       " ('henk', 'isa', 'Leven'),\n",
       " ('henk', 'isa', 'Organisme')}"
      ]
     },
     "execution_count": 4,
     "metadata": {},
     "output_type": "execute_result"
    }
   ],
   "source": [
    "studnr = 12851981 # leerlingnummer Sascha Kolthof\n",
    "functienaam = 'complete_'+str(studnr)\n",
    "print(functienaam)\n",
    "# jouw functie\n",
    "\n",
    "def complete_12851981(facts, rules):\n",
    "    lengte1 = 0\n",
    "    lengte2 = 1\n",
    "    \n",
    "    # zo lang de set met triples groeit doorgaan\n",
    "    while lengte1 != lengte2:\n",
    "        \n",
    "        # lengte set voor triples toevoegen\n",
    "        lengte1 = len(facts)\n",
    "\n",
    "        \n",
    "        # output set om bij facts te voegen\n",
    "        output = set()\n",
    "        for fact in facts:\n",
    "            for subproperty in rules['subPropertyOf']:\n",
    "                \n",
    "                # als het predicaat behoort tot een subproperty dan is het predicaat dat ook\n",
    "                if fact[1] == subproperty[0]:\n",
    "                    output.add((fact[0], subproperty[1], fact[2]))\n",
    "                    \n",
    "        facts = facts | output\n",
    "\n",
    "        # output set om bij facts te voegen\n",
    "        output = set()\n",
    "        for fact in facts:\n",
    "            for subclass in rules['subClassOf']:\n",
    "                \n",
    "                # als het object van een feit behoort tot een subclass dan is het subject dat ook\n",
    "                if fact[2] == subclass[0] and fact[1] == 'isa':\n",
    "                    output.add((fact[0], fact[1], subclass[1]))\n",
    "                    \n",
    "        facts = facts | output\n",
    "\n",
    "        # output set om bij facts te voegen\n",
    "        output = set()\n",
    "        for fact in facts:\n",
    "            for domain in rules['domain']:\n",
    "                \n",
    "                # als een predicaat overeenkomt met een domein, dan heeft het subject van een feit die eigenschap \n",
    "                if fact[1] == domain[0]:\n",
    "                    output.add((fact[0], 'isa', domain[1]))\n",
    "                    rules['subClassOf'].add((fact[0],domain[1]))\n",
    "                    \n",
    "        facts = facts | output\n",
    "\n",
    "        # output set om bij facts te voegen\n",
    "        output = set()\n",
    "        for fact in facts:\n",
    "            for rang in rules['range']:\n",
    "                \n",
    "                # als een predicaat overeenkomt met een range, dan heeft het object van een feit die eigenschap\n",
    "                if fact[1] == rang[0]:\n",
    "                    output.add((fact[2], 'isa', rang[1]))\n",
    "                    \n",
    "        facts = facts | output\n",
    "\n",
    "          \n",
    "        # lengte set na triples toevoegen\n",
    "        lengte2 = len(facts)\n",
    "        \n",
    "    return facts\n",
    "\n",
    "\n",
    "RDF = {('henk','Eet', 'eend'), ('eend','Eet','henk')}\n",
    "\n",
    "RDFS= {'subPropertyOf': {('Houdt_van','Kent'), ('Eet','Vindt_lekker')},  \n",
    "       'subClassOf': {('Mens','Dier'),('Student','Mens'),('Dier','Organisme'),('Organisme','Leven')},\n",
    "       'domain': {('Houdt_van','Mens'),('Eet', 'Dier')},\n",
    "       'range':  {('Vindt_lekker','Eten')}}\n",
    "\n",
    "functienaam = complete_12851981\n",
    "complete_12851981(RDF,RDFS)"
   ]
  },
  {
   "cell_type": "code",
   "execution_count": 5,
   "metadata": {
    "deletable": false,
    "editable": false,
    "nbgrader": {
     "cell_type": "code",
     "checksum": "31bb7fb371f82329a691664a7fa3b08e",
     "grade": true,
     "grade_id": "s",
     "locked": true,
     "points": 0,
     "schema_version": 3,
     "solution": false
    }
   },
   "outputs": [],
   "source": [
    "assert studnr!= 1234567, 'Dit is niet jouw student nummer!'\n"
   ]
  },
  {
   "cell_type": "code",
   "execution_count": 6,
   "metadata": {
    "deletable": false,
    "editable": false,
    "nbgrader": {
     "cell_type": "code",
     "checksum": "b68d9775579a434d5891083c55365172",
     "grade": true,
     "grade_id": "ft",
     "locked": true,
     "points": 0,
     "schema_version": 3,
     "solution": false
    }
   },
   "outputs": [],
   "source": [
    "RDFS= {'subPropertyOf': {('Houdt_van','Kent'), ('Eet','Vindt_lekker')},\n",
    "      'subClassOf': {('Mens','Dier'),('Student','Mens')},\n",
    "      'domain': {('Houdt_van','Mens')},\n",
    "      'range': {('Vindt_lekker','Eten')}\n",
    "      }\n",
    "RDF= {('Henk','isa','Mens')}\n",
    "completion= functienaam(RDF,RDFS)\n",
    "assert isinstance(completion,set)\n",
    "for t in completion:\n",
    "    assert isinstance(t,tuple)\n",
    "    assert len(t)==3\n",
    "    assert isinstance(t[0], str)\n",
    "    assert isinstance(t[1], str)\n",
    "    assert isinstance(t[2], (str, int,float))\n",
    "    "
   ]
  },
  {
   "cell_type": "markdown",
   "metadata": {},
   "source": [
    "# Jouw lijst met testen"
   ]
  },
  {
   "cell_type": "code",
   "execution_count": 7,
   "metadata": {
    "deletable": false,
    "nbgrader": {
     "cell_type": "code",
     "checksum": "793a3e6331c6791cdd2420fd4518352e",
     "grade": false,
     "grade_id": "t",
     "locked": false,
     "schema_version": 3,
     "solution": true
    }
   },
   "outputs": [],
   "source": [
    "testnaam= 'test_'+str(studnr)\n",
    "\n",
    "# jouw test\n",
    "\n",
    "test_12851981=[\n",
    "        # test 1\n",
    "          ( \n",
    "            {('henk','Vindt_lekker','eend'), ('Eend','Eet','kroos')},           # RDF store\n",
    "            {'subPropertyOf': {('Houdt_van','Kent'), ('Eet','Vindt_lekker')},  \n",
    "             'subClassOf': {('Mens','Dier'),('Student','Mens'),('Dier','Organisme'),('Organisme','Leven')},\n",
    "             'domain': {('Houdt_van','Mens'),('Eet', 'Dier')},\n",
    "             'range':  {('Vindt_lekker','Eten')}},                              # RDFS store\n",
    "            {('Eend', 'Vindt_lekker', 'Kroos'),('Eend', 'isa', 'Organisme'),('Kroos', 'isa', 'Eten')},  # positieve voorbeelden\n",
    "            {('Dier', 'isa', 'Eten'),('henk', 'Vindt_lekker', 'Dier')}          # negatieve voorbeelden\n",
    "          ),   \n",
    "         # test 2\n",
    "         ( \n",
    "            {('henk','Vindt_lekker','eend'), ('eend','Eet','kroos')},           # RDF store\n",
    "            {'subPropertyOf': {('Houdt_van','Kent'), ('Eet','Vindt_lekker')},  \n",
    "             'subClassOf': {('Mens','Dier'),('Student','Mens'),('Dier','Organisme'),('Organisme','Leven')},\n",
    "             'domain': {('Houdt_van','Mens'),('Eet', 'Dier')},\n",
    "             'range':  {('Vindt_lekker','Eten')}},                              # RDFS store\n",
    "            {('eend', 'Vindt_lekker', 'kroos'),('henk', 'isa', 'Organisme')},  # positieve voorbeelden\n",
    "            {('eend', 'isa', 'Mens'),('henk', 'Kent', 'eend')}          # negatieve voorbeelden\n",
    "          ),\n",
    "        # test 3\n",
    "        ( \n",
    "            {('henk','Leeftijd','53'), ('ingrid','Houdt_van','henk')},           # RDF store\n",
    "            {'subPropertyOf': {('Houdt_van','Kent'), ('Eet','Vindt_lekker')},  \n",
    "             'subClassOf': {('Mens','Dier'),('Student','Mens'),('Dier','Organisme'),('Organisme','Leven')},\n",
    "             'domain': {('Houdt_van','Mens'),('Eet', 'Dier')},\n",
    "             'range':  {('Vindt_lekker','Eten')}},                              # RDFS store\n",
    "            {('ingrid', 'Kent', 'henk'),('ingrid', 'isa', 'Leven')},  # positieve voorbeelden\n",
    "            {('ingrid', 'Kent', '53'),('henk', 'isa', 'Mens')}          # negatieve voorbeelden\n",
    "          ),\n",
    "        #test 4\n",
    "        (\n",
    "            {('billy', 'isa', 'Kat'), ('jij', 'Eet', 'Kat')}, # RDF store\n",
    "            {'subPropertyOf': {('Eet', 'Vindt_lekker')},\n",
    "             'subClassOf': {('Kat','Katachtige'), ('Katachtige', 'Zoogdier'), ('Zoogdier', 'Dier'), ('Dier','Organisme'), ('Organisme', 'Sterfelijk')},\n",
    "             'domain': set(),\n",
    "             'range': set()}, # RDFS store\n",
    "            {('billy', 'isa', 'Dier'), ('billy', 'isa', 'Kat'), ('billy', 'isa', 'Sterfelijk'), ('jij', 'Vindt_lekker', 'Kat')},\n",
    "            {('jij', 'Eet', 'Katachtige'), ('jij', 'Vindt_lekker', 'billy')}\n",
    "          ),\n",
    "        # test 5\n",
    "        (\n",
    "            {('jij', 'Zit_op', 'boom')}, # RDF store\n",
    "            {'subPropertyOf': {('Zit_op', 'Rust_op')},\n",
    "             'subClassOf': {('Zitoppervlak', 'Object')},\n",
    "             'domain': {('Zit_op', 'Dier')},\n",
    "             'range': {('Zit_op', 'Zitoppervlak')}}, # RDFS store\n",
    "            {('boom', 'isa', 'Object'), ('boom', 'isa', 'Zitoppervlak'), ('jij', 'Rust_op', 'boom'), ('jij', 'Zit_op', 'boom'), ('jij', 'isa', 'Dier')},\n",
    "            {('jij', 'Zit_op', 'Object')}\n",
    "         ),\n",
    "        # test 6\n",
    "        (\n",
    "           {('henk','Eet', 'eend'), ('eend','Eet','henk')},  # RDF store\n",
    "           {'subPropertyOf': {('Houdt_van','Kent'), ('Eet','Vindt_lekker')},  \n",
    "           'subClassOf': {('Mens','Dier'),('Student','Mens'),('Dier','Organisme'),('Organisme','Leven')},\n",
    "           'domain': {('Houdt_van','Mens'),('Eet', 'Dier')},\n",
    "           'range':  {('Vindt_lekker','Eten')}}, # RDFS store\n",
    "           {('eend', 'Eet', 'henk'), ('eend', 'Vindt_lekker', 'henk'), ('eend', 'isa', 'Dier'),\n",
    "            ('eend', 'isa', 'Eten'), ('eend', 'isa', 'Leven'), ('eend', 'isa', 'Organisme'),\n",
    "            ('henk', 'Eet', 'eend'), ('henk', 'Vindt_lekker', 'eend'), ('henk', 'isa', 'Dier'),\n",
    "            ('henk', 'isa', 'Eten'), ('henk', 'isa', 'Leven'), ('henk', 'isa', 'Organisme')}, # positieve voorbeelden\n",
    "           {('henk', 'Eet', 'henk'), ('henk', 'Eet', 'Dier'), ('Dier', 'eet', 'henk')} # negatieve voorbeelden\n",
    "        ),\n",
    "        # test 7\n",
    "        (\n",
    "           {('henk','isa', 'henk'), ('henk', 'Eet', 'henk'), ('henk', 'Houdt_van', 'henk')},  # RDF store\n",
    "           {'subPropertyOf': {('Houdt_van','Kent'), ('Eet','Vindt_lekker')},  \n",
    "           'subClassOf': {('henk', 'Mens'), ('Mens','Dier'),('Student','Mens'),('Dier','Organisme'),('Organisme','Leven'), \n",
    "                          ('Leeuw', 'Dier'), ('Plant', 'Leven')},\n",
    "           'domain': {('Houdt_van','Mens'), ('Eet', 'Dier')},\n",
    "           'range':  {('Vindt_lekker','Eten')}}, # RDFS store\n",
    "           {('henk', 'Eet', 'henk'), ('henk', 'Houdt_van', 'henk'), ('henk', 'Kent', 'henk'), ('henk', 'Vindt_lekker', 'henk'),\n",
    "            ('henk', 'isa', 'Dier'), ('henk', 'isa', 'Eten'), ('henk', 'isa', 'Leven'), ('henk', 'isa', 'Mens'),\n",
    "            ('henk', 'isa', 'Organisme'), ('henk', 'isa', 'henk')}, # positieve voorbeelden\n",
    "           {('henk', 'isa', 'Leeuw'), ('henk', 'isa', 'Plant')} # negatieve voorbeelden\n",
    "        ),\n",
    "        # test 8\n",
    "       (\n",
    "           {('henk','Eet', 'brood'), ('henk', 'isa', 'Mens'), ('henk', 'Vindt_lekker', 'koek'), ('eten', 'isa', 'voedsel')},  # RDF store\n",
    "           {'subPropertyOf': {('Houdt_van','Kent'), ('Eet','Vindt_lekker')},  \n",
    "           'subClassOf': {('Mens','Dier'),('Student','Mens'),('Dier','Organisme'),('Organisme','Leven'), \n",
    "                  ('Leeuw', 'Dier'), ('Plant', 'Leven')},\n",
    "           'domain': {('Houdt_van','Mens'), ('Eet', 'Dier')},\n",
    "           'range':  {('Vindt_lekker','Eten')}}, # RDFS store\n",
    "           {('brood', 'isa', 'Eten'), ('eten', 'isa', 'voedsel'), ('henk', 'Eet', 'brood'),\n",
    "            ('henk', 'Vindt_lekker', 'brood'), ('henk', 'Vindt_lekker', 'koek'), ('henk', 'isa', 'Dier'),\n",
    "            ('henk', 'isa', 'Leven'), ('henk', 'isa', 'Mens'), ('henk', 'isa', 'Organisme'), ('koek', 'isa', 'Eten')}, # positieve voorbeelden\n",
    "           {('henk', 'Vindt_lekker', 'eten'), ('henk', 'Vindt_lekker', 'voedsel'), ('henk', 'Eet', 'voedsel')} # negatieve voorbeelden\n",
    "       )\n",
    "    \n",
    "    ]\n",
    "testnaam = test_12851981"
   ]
  },
  {
   "cell_type": "code",
   "execution_count": 8,
   "metadata": {
    "deletable": false,
    "editable": false,
    "nbgrader": {
     "cell_type": "code",
     "checksum": "eec1a8944bb8d0211b210689879b82fd",
     "grade": true,
     "grade_id": "tt",
     "locked": true,
     "points": 0,
     "schema_version": 3,
     "solution": false
    }
   },
   "outputs": [],
   "source": [
    "assert isinstance(testnaam,list)\n",
    "for test in testnaam:\n",
    "    assert isinstance(test,tuple)\n",
    "    assert len(test)==4\n",
    "    assert isinstance(test[0],set)\n",
    "    assert isinstance(test[1],dict)\n",
    "    assert isinstance(test[2],set)\n",
    "    assert isinstance(test[3],set)"
   ]
  },
  {
   "cell_type": "markdown",
   "metadata": {},
   "source": [
    "# Voor de echte diehards die gaan voor een 10\n",
    "\n",
    "Franconi beschrijft in zijn artikel dat je ook RDFS statements uit andere RDFS statements kunt afleiden. Hij geeft een leuk voorbeeld in het eerste plaatje.\n",
    "\n",
    "Dat kan jij natuurlijk ook!\n",
    "\n",
    "Maak een functie `complete(RDFS)` die precies alle RDFS statements afleidt die volgen uit de verzameling `RDFS`.\n",
    "\n",
    "Maak er ook weer een mooie testset bij, en beargumenteer dat jouw systeem geldig en volledig is.\n",
    "\n",
    "### Hoeveel RDFS statements zijn er eigenlijk die zouden kunnen volgen?\n",
    "\n",
    "* Gegeven de relaties en eigenschappen in de verzameling `RDFS` is dit eindig.\n",
    "* En er zijn maar 4 soorten RDFS statements. \n",
    "* Dus moet het wel eindig zijn, en kan je zelfs uitrekenen hoeveel.\n",
    "* Een manier is om ze allemaal te proberen....\n",
    "    * Voeg het antecedent toe als RDF-triple aan `RDFS` en kijk of het consequent dan volgt...\n",
    "* Reken het eens uit voor $r$ relaties en $p$ eigenschappen.\n",
    "    * Met $r$ relaties kan je $r\\cdot(r-1)$ veel `subPropertyOf` relaties maken toch...\n",
    "    * en dan nog ....\n",
    "    * en ....\n",
    "* Dit is niet eens zo gek, maar met een *chase* gaat het natuurlijk veel sneller omdat je dan resultaatgericht werkt in plaats van als een dolle alles gaat proberen.\n",
    "    * Bijv; Stel je hebt 100 relaties, maar in je RDFS komt er maar 1 voor in antecdent positie in `subPropertyOf` statements. Hoeveel `subPropertyOf` kan je dan afleiden? Ja, dat is dus sneller dan al die 100*99 te gaan proberen toch? Want dat is best veel."
   ]
  },
  {
   "cell_type": "code",
   "execution_count": null,
   "metadata": {},
   "outputs": [],
   "source": []
  }
 ],
 "metadata": {
  "kernelspec": {
   "display_name": "Python 3",
   "language": "python",
   "name": "python3"
  },
  "language_info": {
   "codemirror_mode": {
    "name": "ipython",
    "version": 3
   },
   "file_extension": ".py",
   "mimetype": "text/x-python",
   "name": "python",
   "nbconvert_exporter": "python",
   "pygments_lexer": "ipython3",
   "version": "3.7.4"
  },
  "toc": {
   "nav_menu": {},
   "number_sections": true,
   "sideBar": true,
   "skip_h1_title": false,
   "title_cell": "Table of Contents",
   "title_sidebar": "Contents",
   "toc_cell": true,
   "toc_position": {},
   "toc_section_display": true,
   "toc_window_display": false
  }
 },
 "nbformat": 4,
 "nbformat_minor": 2
}
