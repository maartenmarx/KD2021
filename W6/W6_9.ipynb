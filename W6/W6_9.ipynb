{
 "cells": [
  {
   "cell_type": "markdown",
   "metadata": {},
   "source": [
    "# Assignment Kennis en Data"
   ]
  },
  {
   "cell_type": "markdown",
   "metadata": {},
   "source": [
    "## Notebook made by\n",
    "\n",
    "\n",
    "|Naam|Studentnummer|\n",
    "|-|-|\n",
    "|Joris| secret |\n",
    "|Juriaan| secret|\n",
    "|Mijntje| secret|\n",
    "|Rik| secret|\n",
    "\n",
    "## Peerreview\n",
    "\n",
    "* Vul onderstaande dict/tabel in en run de cel. Klopt het? Zijn jullie het er allemaal mee eens?\n",
    "    * Verander `1,2,3,4` door jullie studentnummers\n",
    "    * `1: {1:.2,2:.3,3:.3,4:.2}` betekent dat student 1 zijn punt zo over de 4 studenten verdeelt\n",
    "    * Let op, per student moeten de punten optellen tot 1!\n",
    "    * De gegeven punten staan in de tabel op de rijen, de ontvangen punten in de kolommen.\n",
    "    * met `cijfer_per_student` kan je bepalen welk cijfer ieder krijgt bij een gegeven groepscijfer."
   ]
  },
  {
   "cell_type": "markdown",
   "metadata": {},
   "source": [
    "## Toelichting\n",
    "\n",
    "* De meeste opgaven worden automatisch nagekeken. Bij vrijwel alle opdrachten staan er een paar tests onder de opdracht, dit is voornamelijk om te zorgen dat je de juiste type output geeft. Dit zijn dus *NIET* alle tests, die komen er bij het graden nog bij.\n",
    "* Elke vraag is 1 punt waard, tenzij anders aangegeven. Soms is die punt onderverdeeld in deelpunten, maar niet altijd. \n",
    "\n",
    "## Voor het inleveren!\n",
    "\n",
    "* Pas niet de cellen aan, vooral niet die je niet kunt editen. Dit levert problemen op bij nakijken. Twijfel je of je per ongeluk iets hebt gewijzigd, kopieer dan bij inleveren je antwoorden naar een nieuw bestand, zodat het niet fout kan gaan.\n",
    "\n",
    "* Zorg dat de code goed runt van boven naar beneden, verifieer dat door boven in Kernel -> Restart & Run All uit te voeren\n",
    "\n",
    "## Na het inleveren!\n",
    "\n",
    "* Het gebeurt erg vaak dat mensen een \"leeg bestand\" inleveren. Vaak een andere versie van de opgave die nog ergens op je computer rondslingerde. Zonde van al je werk toch!\n",
    "* Dus, lever **minstens een half uur voor tijd in**. Download dan wat je hebt ingeleverd op Canvas. Geef het een andere naam om verwarring te voorkomen. En draai alle cellen, en bekijk het. Geen syntax fouten? Alle vragen gemaakt? Dan zit het vast wel goed, en hoef je niet in de zenuwen te zitten."
   ]
  },
  {
   "cell_type": "markdown",
   "metadata": {
    "toc": true
   },
   "source": [
    "<h1>Table of Contents<span class=\"tocSkip\"></span></h1>\n",
    "<div class=\"toc\"><ul class=\"toc-item\"><li><span><a href=\"#Assignment-Kennis-en-Data\" data-toc-modified-id=\"Assignment-Kennis-en-Data-1\"><span class=\"toc-item-num\">1&nbsp;&nbsp;</span>Assignment Kennis en Data</a></span><ul class=\"toc-item\"><li><span><a href=\"#Notebook-made-by\" data-toc-modified-id=\"Notebook-made-by-1.1\"><span class=\"toc-item-num\">1.1&nbsp;&nbsp;</span>Notebook made by</a></span></li><li><span><a href=\"#Peerreview\" data-toc-modified-id=\"Peerreview-1.2\"><span class=\"toc-item-num\">1.2&nbsp;&nbsp;</span>Peerreview</a></span></li><li><span><a href=\"#Toelichting\" data-toc-modified-id=\"Toelichting-1.3\"><span class=\"toc-item-num\">1.3&nbsp;&nbsp;</span>Toelichting</a></span></li><li><span><a href=\"#Voor-het-inleveren!\" data-toc-modified-id=\"Voor-het-inleveren!-1.4\"><span class=\"toc-item-num\">1.4&nbsp;&nbsp;</span>Voor het inleveren!</a></span></li><li><span><a href=\"#Na-het-inleveren!\" data-toc-modified-id=\"Na-het-inleveren!-1.5\"><span class=\"toc-item-num\">1.5&nbsp;&nbsp;</span>Na het inleveren!</a></span></li></ul></li><li><span><a href=\"#RDF-en-RDFS-completion\" data-toc-modified-id=\"RDF-en-RDFS-completion-2\"><span class=\"toc-item-num\">2&nbsp;&nbsp;</span>RDF en RDFS completion</a></span><ul class=\"toc-item\"><li><span><a href=\"#Jouw-taak\" data-toc-modified-id=\"Jouw-taak-2.1\"><span class=\"toc-item-num\">2.1&nbsp;&nbsp;</span>Jouw taak</a></span><ul class=\"toc-item\"><li><span><a href=\"#Je-cijfer-is-gebaseerd-op\" data-toc-modified-id=\"Je-cijfer-is-gebaseerd-op-2.1.1\"><span class=\"toc-item-num\">2.1.1&nbsp;&nbsp;</span>Je cijfer is gebaseerd op</a></span></li><li><span><a href=\"#Voorwaarden\" data-toc-modified-id=\"Voorwaarden-2.1.2\"><span class=\"toc-item-num\">2.1.2&nbsp;&nbsp;</span>Voorwaarden</a></span><ul class=\"toc-item\"><li><span><a href=\"#Database-en-regels\" data-toc-modified-id=\"Database-en-regels-2.1.2.1\"><span class=\"toc-item-num\">2.1.2.1&nbsp;&nbsp;</span>Database en regels</a></span></li><li><span><a href=\"#Test-voorbeelden\" data-toc-modified-id=\"Test-voorbeelden-2.1.2.2\"><span class=\"toc-item-num\">2.1.2.2&nbsp;&nbsp;</span>Test voorbeelden</a></span></li><li><span><a href=\"#Check-ajb\" data-toc-modified-id=\"Check-ajb-2.1.2.3\"><span class=\"toc-item-num\">2.1.2.3&nbsp;&nbsp;</span>Check ajb</a></span></li></ul></li></ul></li></ul></li><li><span><a href=\"#Jouw-completion-functie\" data-toc-modified-id=\"Jouw-completion-functie-3\"><span class=\"toc-item-num\">3&nbsp;&nbsp;</span>Jouw completion functie</a></span></li><li><span><a href=\"#Jouw-lijst-met-testen\" data-toc-modified-id=\"Jouw-lijst-met-testen-4\"><span class=\"toc-item-num\">4&nbsp;&nbsp;</span>Jouw lijst met testen</a></span></li><li><span><a href=\"#Voor-de-echte-diehards-die-gaan-voor-een-10\" data-toc-modified-id=\"Voor-de-echte-diehards-die-gaan-voor-een-10-5\"><span class=\"toc-item-num\">5&nbsp;&nbsp;</span>Voor de echte diehards die gaan voor een 10</a></span><ul class=\"toc-item\"><li><ul class=\"toc-item\"><li><span><a href=\"#Hoeveel-RDFS-statements-zijn-er-eigenlijk-die-zouden-kunnen-volgen?\" data-toc-modified-id=\"Hoeveel-RDFS-statements-zijn-er-eigenlijk-die-zouden-kunnen-volgen?-5.0.1\"><span class=\"toc-item-num\">5.0.1&nbsp;&nbsp;</span>Hoeveel RDFS statements zijn er eigenlijk die zouden kunnen volgen?</a></span></li></ul></li></ul></li></ul></div>"
   ]
  },
  {
   "cell_type": "markdown",
   "metadata": {},
   "source": [
    "# RDF en RDFS completion\n",
    "\n",
    "* We maken een programma dat gegeven een RDF triple store plus een set RDFS statements, alle mogelijke niet triviale logische consequenties hiervan afleidt, en die in een RDF en RDFS database zet.\n",
    "* Dit wordt ook wel *materialization* genoemd. Het idee is dat uit beide kennisbanken **exact dezelfde feiten volgen**, maar dat dat sneller kan vanuit de pure RDF versie (omdat je dan geen feiten hoeft af te leiden).\n",
    "* De technische term voor het algorithme dat deze \"completering\" doet is de *chase*.\n",
    "* Het [artikel van Enrico Franconi et al](https://link.springer.com/chapter/10.1007/978-3-642-41335-3_7) bevat een systeem.\n",
    "* Net als in Franconi werken we alleen met de 4 interresantste RDFS statements:\n",
    "    * **Hierarchie** \n",
    "        * $\\forall xy (Rxy \\rightarrow Sxy)$  (\" to love him is to know him\", als je van iemand houdt dan ken je diegene) \n",
    "        * $\\forall x (Horse(x) \\rightarrow Animal(x))$\n",
    "    * **Domain en range restrictions**\n",
    "        * $\\forall xy (Rxy \\rightarrow Dx)$ (domain) \"Als x een staart heeft is het een dier\"\n",
    "        * $\\forall xy (Rxy \\rightarrow Dy)$ (range)  \"Als je een  ouder bent van y, is y een mens.\"\n",
    "        \n",
    "## Jouw taak\n",
    "\n",
    "1. Maak de functie `complete(facts, rules)` die voldoet aan de volgende eigenschap:\n",
    "    * voor elke feit `(o,p,s)`, facts+rules $\\models$ (o,p,s) $\\Leftrightarrow$ `complete(facts, rules)` $\\models$ (o,p,s) \n",
    "        * Jouw functie is zowel volledig als geldig (*sound and complete*), dat is exact wat je wilt.\n",
    "    * `complete(facts, rules)` is een verzameling feiten.\n",
    "2. Maak een flinke collectie van tests waarmee je test dat jouw functie aan die eisen voldoet. \n",
    "    * Dus dat het niet te veel en niet te weinig, maar exact de juiste feiten impliceert.\n",
    "    * Je deelt die tests met alle anderen, en ook jouw functie, en we gaan dus elke functie tegen elke test draaien, en dus een matrix met scores maken.\n",
    "    \n",
    "### Je cijfer is gebaseerd op \n",
    "\n",
    "1. Hoe goed doorstaat jouw functie alle tests.\n",
    "2. Hoe goed zijn jouw tests.\n",
    "    * Strenge (doch rechtvaardige) tests zijn natuurlijk het best. Tests waar iedereen voor slaagt lijken leuk maar zijn meestal niet veel waard. \n",
    "    \n",
    "    \n",
    "### Voorwaarden\n",
    "\n",
    "#### Database en regels\n",
    "\n",
    "We werken niet direct met RDF en RDFS omdat dat zo'n enorme syntax overhead heeft. We doen de dingen gewoon lekker in Python.\n",
    "\n",
    "* Je RDF store is een verzameling triples, waarbij de 3 elementen strings of integers of floats zijn.\n",
    "    * Je schrijft eigenschappen van individuen als `('henk', 'isa', 'Man')`\n",
    "        * dus altijd met de vaste relatie `isa` in het midden.\n",
    "    * en relaties tussen individuen als `('henk', Houdt_van', 'ingrid')`\n",
    "    * en idem voor relaties tussen individuen en getallen `('henk', 'leeftijd', 53)`\n",
    "    * Begin namen van individuen (\"knopen\") meteen kleine letter, en eigenschappen en relaties met een grote.\n",
    "* Je RDFS store is een dict met sleutels `['subPropertyOf', 'subClassOf', 'domain', 'range']` en voor elke sleutel een verzameling met 2-tuples (paartjes in gewoon Nederlands) als waarde. \n",
    "\n",
    "#### Test voorbeelden\n",
    "\n",
    "Een testset is een lijst triples van de vorm `(D:RDF_store, R:RDFS_store, Pos:RDF_store, Neg:RDF_store)` waarvoor geldt dat \n",
    "* voor elk triple t in Pos: $D,R\\models t$\n",
    "* voor elk triple t in Neg: $D,R\\not\\models t$\n",
    "* Met $\\models$ wordt dus bedoeld volgens de Franconi semantiek, en dus ook volgens de RDF semantiek. Dat betekent dus niet per se dat dit hetzelfde is als volgens jouw completion functie (want die zou fouten kunnen maken).\n",
    "* Hieronder staat een flauw voorbeeld. Jounes is veel gaver en strenger en leuker  natuurlijk!\n",
    "\n",
    "#### Check ajb\n",
    "\n",
    "* Als de tests hieronder niet slagen kunnen we niks met je code, en kan je  dus niet meedoen. Zonde van al je werk toch?"
   ]
  },
  {
   "cell_type": "code",
   "execution_count": 46,
   "metadata": {
    "deletable": false,
    "editable": false,
    "nbgrader": {
     "cell_type": "code",
     "checksum": "2fa770e88b5b07eba6aab91f623677b0",
     "grade": false,
     "grade_id": "rfds",
     "locked": true,
     "schema_version": 3,
     "solution": false
    }
   },
   "outputs": [
    {
     "data": {
      "text/plain": [
       "{'subPropertyOf': {('Eet', 'Vindt_lekker'), ('Houdt_van', 'Kent')},\n",
       " 'subClassOf': {('Mens', 'Dier'), ('Student', 'Mens')},\n",
       " 'domain': {('Houdt_van', 'Mens')},\n",
       " 'range': ('Vindt_lekker', 'Eten')}"
      ]
     },
     "execution_count": 46,
     "metadata": {},
     "output_type": "execute_result"
    }
   ],
   "source": [
    "# voorbeeld\n",
    "RDFS= {'subPropertyOf': {('Houdt_van','Kent'), ('Eet','Vindt_lekker')},\n",
    "      'subClassOf': {('Mens','Dier'),('Student','Mens')},\n",
    "      'domain': {('Houdt_van','Mens')},\n",
    "      'range': ('Vindt_lekker','Eten')}\n",
    "RDFS"
   ]
  },
  {
   "cell_type": "code",
   "execution_count": 47,
   "metadata": {
    "deletable": false,
    "editable": false,
    "nbgrader": {
     "cell_type": "code",
     "checksum": "21954308ba447742faade218f1e5fb5b",
     "grade": false,
     "grade_id": "test",
     "locked": true,
     "schema_version": 3,
     "solution": false
    }
   },
   "outputs": [
    {
     "data": {
      "text/plain": [
       "[({('Henk', 'isa', 'Mens')},\n",
       "  {'subPropertyOf': set(),\n",
       "   'subClassOf': {('Mens', 'Sterfelijk')},\n",
       "   'domain': set(),\n",
       "   'range': set()},\n",
       "  {('Henk', 'isa', 'Sterfelijk')},\n",
       "  {('henk', 'Houdt_van', 'ingrid')})]"
      ]
     },
     "execution_count": 47,
     "metadata": {},
     "output_type": "execute_result"
    }
   ],
   "source": [
    "# voorbeeld\n",
    "\n",
    "test1= [\n",
    "    ({('Henk','isa','Mens')},  # RDF store\n",
    "       {'subPropertyOf': set(),  # RDFS store\n",
    "      'subClassOf': {('Mens','Sterfelijk')},\n",
    "      'domain': set(),\n",
    "      'range':  set()},\n",
    "       {('Henk','isa','Sterfelijk')}, # positieve voorbeelden\n",
    "       {('henk', 'Houdt_van', 'ingrid')} # negatieve voorbeelden\n",
    "       )\n",
    "       ]\n",
    "test1"
   ]
  },
  {
   "cell_type": "markdown",
   "metadata": {},
   "source": [
    "# Jouw completion functie"
   ]
  },
  {
   "cell_type": "code",
   "execution_count": 48,
   "metadata": {},
   "outputs": [],
   "source": [
    "# a color class used to clarify output\n",
    "class color:\n",
    "    CYAN = '\\033[96m'\n",
    "    GREEN = '\\033[92m'\n",
    "    BOLD = '\\033[1m'\n",
    "    END = '\\033[0m'"
   ]
  },
  {
   "cell_type": "code",
   "execution_count": 49,
   "metadata": {
    "deletable": false,
    "nbgrader": {
     "cell_type": "code",
     "checksum": "5e8ce0c7b6ee5f6007fd0e6280635536",
     "grade": false,
     "grade_id": "f",
     "locked": false,
     "schema_version": 3,
     "solution": true
    }
   },
   "outputs": [
    {
     "name": "stdout",
     "output_type": "stream",
     "text": [
      "complete_11309946\n"
     ]
    },
    {
     "data": {
      "text/plain": [
       "{('Henk', 'isa', 'Mens'), ('Henk', 'isa', 'Sterfelijk')}"
      ]
     },
     "execution_count": 49,
     "metadata": {},
     "output_type": "execute_result"
    }
   ],
   "source": [
    "studnr=11309946 # verander door het student id van jullie groepsleider\n",
    "functienaam= 'complete_'+str(studnr)\n",
    "print(functienaam)\n",
    "\n",
    "def subClassOf(RDF, RDFS):\n",
    "    # (A,sc,B) & (X,type,A) == (X,type,B)\n",
    "    return {(triple[0], 'isa', sc[1]) for sc in RDFS['subClassOf'] for triple in RDF if triple[2] == sc[0]}\n",
    "    \n",
    "def subPropertyOf(RDF, RDFS):\n",
    "    # (A,sp,B) & (X,A,Y) == (X,B,Y)\n",
    "    return {(triple[0], sp[1], triple[2]) for sp in RDFS['subPropertyOf'] for triple in RDF if triple[1] == sp[0]}\n",
    "\n",
    "def Domain(RDF, RDFS):\n",
    "    # (A,dom,B) & (X,A,Y) == (X,type,B)\n",
    "    return {(triple[0], 'isa', dom[1]) for dom in RDFS['domain'] for triple in RDF if triple[1] == dom[0]}\n",
    "\n",
    "def Range(RDF, RDFS):\n",
    "    # (A,range,B) & (X,A,Y) == (Y,type,B)\n",
    "    return {(triple[2], 'isa', ran[1]) for ran in RDFS['range'] for triple in RDF if triple[1] == ran[0]}\n",
    "    \n",
    "def complete_11309946(facts, rules):  \n",
    "    completion, previous = facts, set()\n",
    "    while completion != previous:\n",
    "        previous = completion\n",
    "        completion = completion | subClassOf(completion, rules) | subPropertyOf(completion, rules) | Domain(completion, rules) | Range(completion, rules)\n",
    "    return completion\n",
    "\n",
    "#test\n",
    "complete_11309946(test1[0][0],test1[0][1])"
   ]
  },
  {
   "cell_type": "code",
   "execution_count": 50,
   "metadata": {
    "deletable": false,
    "editable": false,
    "nbgrader": {
     "cell_type": "code",
     "checksum": "31bb7fb371f82329a691664a7fa3b08e",
     "grade": true,
     "grade_id": "s",
     "locked": true,
     "points": 0,
     "schema_version": 3,
     "solution": false
    }
   },
   "outputs": [],
   "source": [
    "assert studnr!= 1234567, 'Dit is niet jouw student nummer!'\n"
   ]
  },
  {
   "cell_type": "code",
   "execution_count": 51,
   "metadata": {
    "deletable": false,
    "editable": false,
    "nbgrader": {
     "cell_type": "code",
     "checksum": "557586561b1cd441bf2a4264688cd19f",
     "grade": true,
     "grade_id": "ft",
     "locked": true,
     "points": 0,
     "schema_version": 3,
     "solution": false
    }
   },
   "outputs": [
    {
     "ename": "TypeError",
     "evalue": "'str' object is not callable",
     "output_type": "error",
     "traceback": [
      "\u001b[0;31m---------------------------------------------------------------------------\u001b[0m",
      "\u001b[0;31mTypeError\u001b[0m                                 Traceback (most recent call last)",
      "\u001b[0;32m<ipython-input-51-f784c402e67c>\u001b[0m in \u001b[0;36m<module>\u001b[0;34m\u001b[0m\n\u001b[1;32m      4\u001b[0m       'range': ('Vindt_lekker','Eten')}\n\u001b[1;32m      5\u001b[0m \u001b[0mRDF\u001b[0m\u001b[0;34m=\u001b[0m \u001b[0;34m{\u001b[0m\u001b[0;34m(\u001b[0m\u001b[0;34m'Henk'\u001b[0m\u001b[0;34m,\u001b[0m\u001b[0;34m'isa'\u001b[0m\u001b[0;34m,\u001b[0m\u001b[0;34m'Mens'\u001b[0m\u001b[0;34m)\u001b[0m\u001b[0;34m}\u001b[0m\u001b[0;34m\u001b[0m\u001b[0;34m\u001b[0m\u001b[0m\n\u001b[0;32m----> 6\u001b[0;31m \u001b[0mcompletion\u001b[0m\u001b[0;34m=\u001b[0m \u001b[0mfunctienaam\u001b[0m\u001b[0;34m(\u001b[0m\u001b[0mRDF\u001b[0m\u001b[0;34m,\u001b[0m\u001b[0mRDFS\u001b[0m\u001b[0;34m)\u001b[0m\u001b[0;34m\u001b[0m\u001b[0;34m\u001b[0m\u001b[0m\n\u001b[0m\u001b[1;32m      7\u001b[0m \u001b[0;32massert\u001b[0m \u001b[0misinstance\u001b[0m\u001b[0;34m(\u001b[0m\u001b[0mcompletion\u001b[0m\u001b[0;34m,\u001b[0m\u001b[0mset\u001b[0m\u001b[0;34m)\u001b[0m\u001b[0;34m\u001b[0m\u001b[0;34m\u001b[0m\u001b[0m\n\u001b[1;32m      8\u001b[0m \u001b[0;32mfor\u001b[0m \u001b[0mt\u001b[0m \u001b[0;32min\u001b[0m \u001b[0mcompletion\u001b[0m\u001b[0;34m:\u001b[0m\u001b[0;34m\u001b[0m\u001b[0;34m\u001b[0m\u001b[0m\n",
      "\u001b[0;31mTypeError\u001b[0m: 'str' object is not callable"
     ]
    }
   ],
   "source": [
    "RDFS= {'subPropertyOf': {('Houdt_van','Kent'), ('Eet','Vindt_lekker')},\n",
    "      'subClassOf': {('Mens','Dier'),('Student','Mens')},\n",
    "      'domain': {('Houdt_van','Mens')},\n",
    "      'range': ('Vindt_lekker','Eten')}\n",
    "RDF= {('Henk','isa','Mens')}\n",
    "completion= functienaam(RDF,RDFS)\n",
    "assert isinstance(completion,set)\n",
    "for t in completion:\n",
    "    assert isinstance(t,tuple)\n",
    "    assert len(t)==3\n",
    "    assert isinstance(t[0], str)\n",
    "    assert isinstance(t[1], str)\n",
    "    assert isinstance(t[2], (str, int,float))\n",
    "    "
   ]
  },
  {
   "cell_type": "markdown",
   "metadata": {},
   "source": [
    "# Jouw lijst met testen"
   ]
  },
  {
   "cell_type": "code",
   "execution_count": 52,
   "metadata": {
    "deletable": false,
    "nbgrader": {
     "cell_type": "code",
     "checksum": "793a3e6331c6791cdd2420fd4518352e",
     "grade": false,
     "grade_id": "t",
     "locked": false,
     "schema_version": 3,
     "solution": true
    }
   },
   "outputs": [
    {
     "name": "stdout",
     "output_type": "stream",
     "text": [
      "\n",
      "---\u001b[1mTest 1\u001b[0m---\n",
      "Pos: True\n",
      "Neg: False\n",
      "Output: {('henk', 'isa', 'Student')}\n",
      "\n",
      "---\u001b[1mTest 2\u001b[0m---\n",
      "Pos: True\n",
      "Neg: False\n",
      "Output: {('henk', 'isa', 'Mens'), ('henk', 'isa', 'Student'), ('henk', 'isa', 'Sterfelijk')}\n",
      "\n",
      "---\u001b[1mTest 3\u001b[0m---\n",
      "Pos: True\n",
      "Neg: False\n",
      "Output: {('henk', 'isa', 'Mens'), ('henk', 'isa', 'Sterfelijk')}\n",
      "\n",
      "---\u001b[1mTest 4\u001b[0m---\n",
      "Pos: True\n",
      "Neg: False\n",
      "Output: {('henk', 'isa', 'Student'), ('marx', 'isa', 'Docent'), ('henk', 'HeeftLesVan', 'marx')}\n",
      "\n",
      "---\u001b[1mTest 5\u001b[0m---\n",
      "Pos: True\n",
      "Neg: False\n",
      "Output: {('henk', 'isa', 'Mens'), ('henk', 'isa', 'Sterfelijk'), ('henk', 'Leeftijd', 18)}\n",
      "\n",
      "---\u001b[1mTest 6\u001b[0m---\n",
      "Pos: True\n",
      "Neg: False\n",
      "Output: {('henk', 'isa', 'Mens'), ('henk', 'isa', 'Sterfelijk'), ('henk', 'isa', 'Wezen'), ('henk', 'Leeftijd', 18)}\n",
      "\n",
      "---\u001b[1mTest 7\u001b[0m---\n",
      "Pos: True\n",
      "Neg: False\n",
      "Output: {('marx', 'GeeftVak', 'knowledge_and_data'), ('marx', 'isa', 'personeelslid'), ('marx', 'isa', 'docent'), ('marx', 'isa', 'mens'), ('uva', 'isa', 'universiteit'), ('marx', 'HeeftKennisVan', 'knowledge_and_data'), ('knowledge_and_data', 'isa', 'vak'), ('uva', 'isa', 'onderwijsinstelling')}\n"
     ]
    }
   ],
   "source": [
    "testnaam= 'test_'+str(studnr)\n",
    "\n",
    "# jouw test\n",
    "test_11309946= [\n",
    "    \n",
    "        # TEST 1 - Empty RDF Store\n",
    "        ({('henk','isa','Student')},  # RDF store\n",
    "        {'subPropertyOf': set(),  # RDFS store\n",
    "        'subClassOf': set(),\n",
    "        'domain': set(),\n",
    "        'range':  set()}, # RDFS store\n",
    "        {('henk', 'isa', 'Student')}, # positief\n",
    "        {('henk', 'isa', 'Mens')} # negatief\n",
    "        ),\n",
    "    \n",
    "        # TEST 2\n",
    "        ({('henk','isa','Student')},  # RDF store\n",
    "        {'subPropertyOf': set(),  # RDFS store\n",
    "        'subClassOf': {('Mens','Sterfelijk'), ('Student','Mens')},\n",
    "        'domain': set(),\n",
    "        'range':  set()},\n",
    "        {('henk', 'isa', 'Student'), ('henk', 'isa', 'Mens'), ('henk', 'isa', 'Sterfelijk')}, # positief\n",
    "        {('henk', 'isa', 'Wezen')} # negatief\n",
    "        ),\n",
    "    \n",
    "        # TEST 3\n",
    "        ({('henk','isa','Mens')},  # RDF store\n",
    "        {'subPropertyOf': set(),  # RDFS store\n",
    "        'subClassOf': {('Mens','Sterfelijk')},\n",
    "        'domain': set(),\n",
    "        'range':  set()},\n",
    "        {('henk', 'isa', 'Mens'), ('henk', 'isa', 'Sterfelijk')}, # positief\n",
    "        {('henk', 'Houdt_van', 'ingrid')} # negatief\n",
    "        ),\n",
    "    \n",
    "        # TEST 4\n",
    "        ({('henk', 'HeeftLesVan', 'marx')},  # RDF store\n",
    "        {'subPropertyOf': set(),  # RDFS store\n",
    "        'subClassOf': set(),\n",
    "        'domain': {('HeeftLesVan', 'Student')},\n",
    "        'range':  {('HeeftLesVan', 'Docent')}},\n",
    "        {('henk', 'isa', 'Student'), ('marx', 'isa', 'Docent'), ('henk', 'HeeftLesVan', 'marx')}, # positief\n",
    "        set() # negatief\n",
    "        ),\n",
    "\n",
    "        # TEST 5\n",
    "        ({('henk','Leeftijd',18)},  # RDF store\n",
    "        {'subPropertyOf': set(),  # RDFS store\n",
    "        'subClassOf': {('Mens','Sterfelijk')},\n",
    "        'domain': {('Leeftijd','Mens')},\n",
    "        'range':  set()},\n",
    "        {('henk', 'Leeftijd', 18), ('henk', 'isa', 'Mens'), ('henk', 'isa', 'Sterfelijk')}, # positief\n",
    "        {('henk','Leeftijd',50)} # negatief\n",
    "        ),\n",
    "\n",
    "        # TEST 6\n",
    "        ({('henk','Leeftijd',18)},  # RDF store\n",
    "        {'subPropertyOf': set(),  # RDFS store\n",
    "        'subClassOf': {('Mens','Wezen'), ('Wezen','Sterfelijk')},\n",
    "        'domain': {('Leeftijd','Mens')},\n",
    "        'range':  set()},\n",
    "        {('henk','isa','Sterfelijk'), ('henk','isa','Mens'), ('henk','isa','Wezen'), ('henk','Leeftijd',18)}, # positief\n",
    "        {('henk','Leeftijd',50)} # negatief\n",
    "        ),\n",
    "\n",
    "        # TEST 7\n",
    "        ({('uva','isa','universiteit'), ('marx','GeeftVak','knowledge_and_data')},  # RDF store\n",
    "        {'subPropertyOf': {('GeeftVak','HeeftKennisVan')},  # RDFS store\n",
    "        'subClassOf': {('docent', 'mens'), ('universiteit','onderwijsinstelling'), ('hogeschool','onderwijsinstelling'), ('docent','personeelslid')},\n",
    "        'domain': {('GeeftVak', 'docent')},\n",
    "        'range':  {('GeeftVak','vak')}},\n",
    "        {('knowledge_and_data', 'isa', 'vak'), ('marx', 'isa', 'mens'), ('marx', 'isa', 'personeelslid'), \n",
    "         ('marx', 'HeeftKennisVan', 'knowledge_and_data'), ('uva', 'isa', 'universiteit'), \n",
    "         ('uva', 'isa', 'onderwijsinstelling'), ('marx', 'isa', 'docent'), ('marx', 'GeeftVak', 'knowledge_and_data')}, # positief\n",
    "        {('uva','isa','hogeschool'), ('knowledge_and_data','isa','docent'), ('marx','isa','vak')} # negatief\n",
    "        )\n",
    "]\n",
    "\n",
    "for i, test in enumerate(test_11309946, 1):\n",
    "    print('\\n---' + color.BOLD + 'Test ' + str(i) + color.END + '---')\n",
    "\n",
    "    output = complete_11309946(test[0], test[1])\n",
    "    print(f\"Pos: {output == test[2]}\") # True\n",
    "    print(f\"Neg: {output == test[3]}\") # False\n",
    "    print(f\"Output: {output}\")\n"
   ]
  },
  {
   "cell_type": "code",
   "execution_count": 53,
   "metadata": {
    "deletable": false,
    "editable": false,
    "nbgrader": {
     "cell_type": "code",
     "checksum": "eec1a8944bb8d0211b210689879b82fd",
     "grade": true,
     "grade_id": "tt",
     "locked": true,
     "points": 0,
     "schema_version": 3,
     "solution": false
    }
   },
   "outputs": [
    {
     "ename": "AssertionError",
     "evalue": "",
     "output_type": "error",
     "traceback": [
      "\u001b[0;31m---------------------------------------------------------------------------\u001b[0m",
      "\u001b[0;31mAssertionError\u001b[0m                            Traceback (most recent call last)",
      "\u001b[0;32m<ipython-input-53-500b0aa181b3>\u001b[0m in \u001b[0;36m<module>\u001b[0;34m\u001b[0m\n\u001b[0;32m----> 1\u001b[0;31m \u001b[0;32massert\u001b[0m \u001b[0misinstance\u001b[0m\u001b[0;34m(\u001b[0m\u001b[0mtestnaam\u001b[0m\u001b[0;34m,\u001b[0m\u001b[0mlist\u001b[0m\u001b[0;34m)\u001b[0m\u001b[0;34m\u001b[0m\u001b[0;34m\u001b[0m\u001b[0m\n\u001b[0m\u001b[1;32m      2\u001b[0m \u001b[0;32mfor\u001b[0m \u001b[0mtest\u001b[0m \u001b[0;32min\u001b[0m \u001b[0mtestnaam\u001b[0m\u001b[0;34m:\u001b[0m\u001b[0;34m\u001b[0m\u001b[0;34m\u001b[0m\u001b[0m\n\u001b[1;32m      3\u001b[0m     \u001b[0;32massert\u001b[0m \u001b[0misinstance\u001b[0m\u001b[0;34m(\u001b[0m\u001b[0mtest\u001b[0m\u001b[0;34m,\u001b[0m\u001b[0mtuple\u001b[0m\u001b[0;34m)\u001b[0m\u001b[0;34m\u001b[0m\u001b[0;34m\u001b[0m\u001b[0m\n\u001b[1;32m      4\u001b[0m     \u001b[0;32massert\u001b[0m \u001b[0mlen\u001b[0m\u001b[0;34m(\u001b[0m\u001b[0mtest\u001b[0m\u001b[0;34m)\u001b[0m\u001b[0;34m==\u001b[0m\u001b[0;36m4\u001b[0m\u001b[0;34m\u001b[0m\u001b[0;34m\u001b[0m\u001b[0m\n\u001b[1;32m      5\u001b[0m     \u001b[0;32massert\u001b[0m \u001b[0misinstance\u001b[0m\u001b[0;34m(\u001b[0m\u001b[0mtest\u001b[0m\u001b[0;34m[\u001b[0m\u001b[0;36m0\u001b[0m\u001b[0;34m]\u001b[0m\u001b[0;34m,\u001b[0m\u001b[0mset\u001b[0m\u001b[0;34m)\u001b[0m\u001b[0;34m\u001b[0m\u001b[0;34m\u001b[0m\u001b[0m\n",
      "\u001b[0;31mAssertionError\u001b[0m: "
     ]
    }
   ],
   "source": [
    "assert isinstance(testnaam,list)\n",
    "for test in testnaam:\n",
    "    assert isinstance(test,tuple)\n",
    "    assert len(test)==4\n",
    "    assert isinstance(test[0],set)\n",
    "    assert isinstance(test[1],dict)\n",
    "    assert isinstance(test[2],set)\n",
    "    assert isinstance(test[3],set)"
   ]
  },
  {
   "cell_type": "markdown",
   "metadata": {},
   "source": [
    "# Voor de echte diehards die gaan voor een 10\n",
    "\n",
    "Franconi beschrijft in zijn artikel dat je ook RDFS statements uit andere RDFS statements kunt afleiden. Hij geeft een leuk voorbeeld in het eerste plaatje.\n",
    "\n",
    "Dat kan jij natuurlijk ook!\n",
    "\n",
    "Maak een functie `complete(RDFS)` die precies alle RDFS statements afleidt die volgen uit de verzameling `RDFS`.\n",
    "\n",
    "Maak er ook weer een mooie testset bij, en beargumenteer dat jouw systeem geldig en volledig is.\n",
    "\n",
    "### Hoeveel RDFS statements zijn er eigenlijk die zouden kunnen volgen?\n",
    "\n",
    "* Gegeven de relaties en eigenschappen in de verzameling `RDFS` is dit eindig.\n",
    "* En er zijn maar 4 soorten RDFS statements. \n",
    "* Dus moet het wel eindig zijn, en kan je zelfs uitrekenen hoeveel.\n",
    "* Een manier is om ze allemaal te proberen....\n",
    "    * Voeg het antecedent toe als RDF-triple aan `RDFS` en kijk of het consequent dan volgt...\n",
    "* Reken het eens uit voor $r$ relaties en $p$ eigenschappen.\n",
    "    * Met $r$ relaties kan je $r\\cdot(r-1)$ veel `subPropertyOf` relaties maken toch...\n",
    "    * en dan nog ....\n",
    "    * en ....\n",
    "* Dit is niet eens zo gek, maar met een *chase* gaat het natuurlijk veel sneller omdat je dan resultaatgericht werkt in plaats van als een dolle alles gaat proberen.\n",
    "    * Bijv; Stel je hebt 100 relaties, maar in je RDFS komt er maar 1 voor in antecdent positie in `subPropertyOf` statements. Hoeveel `subPropertyOf` kan je dan afleiden? Ja, dat is dus sneller dan al die 100*99 te gaan proberen toch? Want dat is best veel."
   ]
  },
  {
   "cell_type": "code",
   "execution_count": 54,
   "metadata": {},
   "outputs": [],
   "source": [
    "def AllsubPropertyOf(RDFS):\n",
    "    return RDFS['subPropertyOf'] | {(sp[0], sp2[1]) \n",
    "                                    for sp in RDFS['subPropertyOf'] \n",
    "                                    for sp2 in RDFS['subPropertyOf'] \n",
    "                                    if sp[1] == sp2[0]}\n",
    "def AllsubClassesOf(RDFS):\n",
    "    return RDFS['subClassOf'] | {(sp[0], sp2[1]) \n",
    "                                 for sp in RDFS['subClassOf'] \n",
    "                                 for sp2 in RDFS['subClassOf'] \n",
    "                                 if sp[1] == sp2[0]}\n",
    "\n",
    "def AllDomains(RDFS):\n",
    "    return RDFS['domain'] | {(dom[0], dom2[1])\n",
    "                                if dom[1] == dom2[0]\n",
    "                                else (dom2[1], dom[1])\n",
    "                                for dom in RDFS['domain']\n",
    "                                for dom2 in (RDFS['subClassOf'] | RDFS['subPropertyOf'])\n",
    "                                if dom[0] == dom2[0]}\n",
    "\n",
    "def AllRanges(RDFS):\n",
    "    return RDFS['range'] | {(ran[0], ran2[1])\n",
    "                               if ran[1] == ran2[0]\n",
    "                               else (ran2[1], ran[1])\n",
    "                               for ran in RDFS['range']\n",
    "                               for ran2 in (RDFS['subClassOf'] | RDFS['subPropertyOf'])\n",
    "                               if ran[0] == ran2[0]}\n",
    "\n",
    "def complete(RDFS):  \n",
    "    completion, previous = RDFS, dict()\n",
    "    while completion != previous:\n",
    "        previous = completion\n",
    "        completion = {'subPropertyOf': AllsubPropertyOf(completion), \n",
    "                     'subClassOf': AllsubClassesOf(completion),\n",
    "                     'domain': AllDomains(completion), \n",
    "                     'range': AllRanges(completion)}\n",
    "    return {k:completion[k] - RDFS[k] for k,v in completion.items()}     \n"
   ]
  },
  {
   "cell_type": "markdown",
   "metadata": {},
   "source": [
    "## Toelichting op tests\n",
    "\n",
    "De functie `complete(RDFS)` geeft uit een als parameter meegegeven dict van RDFS relaties terug welke andere relaties er mogelijkerwijs uit deze relaties zouden kunnen volgen. De aan de functie meegegeven RDFS-dict heeft als keys de 4 verschillende typen RDFS relaties zoals beschreven door Franconi (subproperties, subclasses, domains en ranges), en als values de in de RDFS bestaande relaties die onder dat type vallen. \n",
    "\n",
    "In onderstaand codeblok wordt de toepassing van de functie getest met een testset die een politiek thema heeft. Hieruit blijkt dat de functie alle mogelijk geïmpliceerde RDFS relaties returnt. Net als de meegegeven RDFS wordt de output van de functie gereturned in de vorm van een dict met de 4 verschillende typen RDFS relaties als keys. Hieronder een toelichting van het uitgevoerde voorbeeld op de testset.  \n",
    "\n",
    "`Lijsttrekker` is een subproperty van `Kamerlid` en `Kamerlid` is een subproperty van `Vertegenwoordigt`. In ‘gewone mensentaal’ kan dit worden uitgesproken als “iedereen die een lijsttrekker is, is een kamerlid, en iedereen die een kamerlid is, vertegenwoordigt”. Aangezien `Lijsttrekker` een subproperty is van een subproperty van `Vertegenwoordigt`, is `Lijsttrekker` ook een subproperty van `Vertegenwoordigt`. Dit volgt ook uit de output. Voor subclasses geldt hetzelfde; `min_pres` is een subklasse van een subklasse van `kabinetslid`, waaruit volgt dat `min_pres` zelf ook een subklasse van `kabinetslid` is. \n",
    " \n",
    "Bij `domain` stelt de relatie `('Kamerlid', 'politicus')` dat alleen politici kamerleden kunnen zijn. Aangezien `politicus` een subklasse is van mens, volgt de domeinrelatie `(‘Kamerlid’, ‘mens’)` hieruit; hiermee wordt gesteld dat alleen mensen kamerleden kunnen zijn. `Kamerlid` is een subproperty van ‘Vertegenwoordigt’, derhalve volgt dat iedereen die `Vertegenwoordigt` een politicus moet zijn `(‘Vertegenwoordigt’, ‘politicus’)`. En, wederom vanuit de subklasse relatie `(‘politicus’, ‘mens’)` volgt hieruit ook `(‘Vertegenwoordigt’, ‘mens’)` als domeinrelatie. Tenslotte stelt de in de RDFS meegegeven range relatie `('Kamerlid', 'partij')` dat als iemand kamerlid is, die persoon dan kamerlid van een partij is. Aangezien `Kamerlid` een subproperty is van `Vertegenwoordigt` volgt hier ook uit dat hetgeen wat iemand vertegenwoordigt een partij is. \n"
   ]
  },
  {
   "cell_type": "code",
   "execution_count": 55,
   "metadata": {},
   "outputs": [
    {
     "name": "stdout",
     "output_type": "stream",
     "text": [
      "\u001b[1mTest-output\u001b[0m\n",
      "\n",
      "\u001b[1msubPropertyOf\u001b[0m\n",
      "\u001b[96mInput: {('Lijsttrekker', 'Kamerlid'), ('Kamerlid', 'Vertegenwoordigt')}\u001b[0m\n",
      "\u001b[92mOutput: {('Lijsttrekker', 'Vertegenwoordigt')}\u001b[0m\n",
      "\n",
      "\u001b[1msubClassOf\u001b[0m\n",
      "\u001b[96mInput: {('minister', 'kabinetslid'), ('min_pres', 'minister'), ('politicus', 'mens')}\u001b[0m\n",
      "\u001b[92mOutput: {('min_pres', 'kabinetslid')}\u001b[0m\n",
      "\n",
      "\u001b[1mdomain\u001b[0m\n",
      "\u001b[96mInput: {('Kamerlid', 'politicus')}\u001b[0m\n",
      "\u001b[92mOutput: {('Vertegenwoordigt', 'politicus')}\u001b[0m\n",
      "\n",
      "\u001b[1mrange\u001b[0m\n",
      "\u001b[96mInput: {('Kamerlid', 'partij')}\u001b[0m\n",
      "\u001b[92mOutput: {('Vertegenwoordigt', 'partij')}\u001b[0m\n",
      "\n"
     ]
    }
   ],
   "source": [
    "# Input\n",
    "RDFS = {'subPropertyOf': {('Lijsttrekker', 'Kamerlid'), ('Kamerlid', 'Vertegenwoordigt')},\n",
    "      'subClassOf': {('min_pres','minister'), ('minister', 'kabinetslid'), ('politicus', 'mens')},\n",
    "      'domain': {('Kamerlid', 'politicus')},\n",
    "      'range':  {('Kamerlid', 'partij')}}\n",
    "\n",
    "# Output\n",
    "print(color.BOLD + 'Test-output' + color.END + '\\n')\n",
    "for statement in RDFS:\n",
    "    print(color.BOLD + statement + color.END)\n",
    "    print(color.CYAN + 'Input: ' + str(RDFS[statement]) + color.END)\n",
    "    print(color.GREEN + 'Output: ' + str(complete(RDFS)[statement]) + color.END)\n",
    "    print()"
   ]
  }
 ],
 "metadata": {
  "kernelspec": {
   "display_name": "Python 3",
   "language": "python",
   "name": "python3"
  },
  "language_info": {
   "codemirror_mode": {
    "name": "ipython",
    "version": 3
   },
   "file_extension": ".py",
   "mimetype": "text/x-python",
   "name": "python",
   "nbconvert_exporter": "python",
   "pygments_lexer": "ipython3",
   "version": "3.8.5"
  },
  "toc": {
   "nav_menu": {},
   "number_sections": true,
   "sideBar": true,
   "skip_h1_title": false,
   "title_cell": "Table of Contents",
   "title_sidebar": "Contents",
   "toc_cell": true,
   "toc_position": {},
   "toc_section_display": true,
   "toc_window_display": false
  }
 },
 "nbformat": 4,
 "nbformat_minor": 2
}
