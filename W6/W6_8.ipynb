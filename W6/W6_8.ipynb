{
 "cells": [
  {
   "cell_type": "markdown",
   "metadata": {
    "id": "65yDacz0jhOe"
   },
   "source": [
    "# Assignment Kennis en Data"
   ]
  },
  {
   "cell_type": "markdown",
   "metadata": {
    "id": "jkBqCuezjhOl"
   },
   "source": [
    "## Notebook made by\n",
    "\n",
    "\n",
    "|Naam|Studentnummer|\n",
    "|-|-|\n",
    "|Bart|secret |\n",
    "|Iris|secret|\n",
    "|Hugo|secret |\n",
    "\n",
    "## Peerreview\n",
    "\n",
    "* Vul onderstaande dict/tabel in en run de cel. Klopt het? Zijn jullie het er allemaal mee eens?\n",
    "    * Verander `1,2,3,4` door jullie studentnummers\n",
    "    * `1: {1:.2,2:.3,3:.3,4:.2}` betekent dat student 1 zijn punt zo over de 4 studenten verdeelt\n",
    "    * Let op, per student moeten de punten optellen tot 1!\n",
    "    * De gegeven punten staan in de tabel op de rijen, de ontvangen punten in de kolommen.\n",
    "    * met `cijfer_per_student` kan je bepalen welk cijfer ieder krijgt bij een gegeven groepscijfer."
   ]
  },
  {
   "cell_type": "markdown",
   "metadata": {
    "id": "1EzML4jVjhOo"
   },
   "source": [
    "## Toelichting\n",
    "\n",
    "* De meeste opgaven worden automatisch nagekeken. Bij vrijwel alle opdrachten staan er een paar tests onder de opdracht, dit is voornamelijk om te zorgen dat je de juiste type output geeft. Dit zijn dus *NIET* alle tests, die komen er bij het graden nog bij.\n",
    "* Elke vraag is 1 punt waard, tenzij anders aangegeven. Soms is die punt onderverdeeld in deelpunten, maar niet altijd. \n",
    "\n",
    "## Voor het inleveren!\n",
    "\n",
    "* Pas niet de cellen aan, vooral niet die je niet kunt editen. Dit levert problemen op bij nakijken. Twijfel je of je per ongeluk iets hebt gewijzigd, kopieer dan bij inleveren je antwoorden naar een nieuw bestand, zodat het niet fout kan gaan.\n",
    "\n",
    "* Zorg dat de code goed runt van boven naar beneden, verifieer dat door boven in Kernel -> Restart & Run All uit te voeren\n",
    "\n",
    "## Na het inleveren!\n",
    "\n",
    "* Het gebeurt erg vaak dat mensen een \"leeg bestand\" inleveren. Vaak een andere versie van de opgave die nog ergens op je computer rondslingerde. Zonde van al je werk toch!\n",
    "* Dus, lever **minstens een half uur voor tijd in**. Download dan wat je hebt ingeleverd op Canvas. Geef het een andere naam om verwarring te voorkomen. En draai alle cellen, en bekijk het. Geen syntax fouten? Alle vragen gemaakt? Dan zit het vast wel goed, en hoef je niet in de zenuwen te zitten."
   ]
  },
  {
   "cell_type": "markdown",
   "metadata": {
    "id": "iMwSj4IEjhOq",
    "toc": true
   },
   "source": [
    "<h1>Table of Contents<span class=\"tocSkip\"></span></h1>\n",
    "<div class=\"toc\"><ul class=\"toc-item\"><li><span><a href=\"#Assignment-Kennis-en-Data\" data-toc-modified-id=\"Assignment-Kennis-en-Data-1\"><span class=\"toc-item-num\">1&nbsp;&nbsp;</span>Assignment Kennis en Data</a></span><ul class=\"toc-item\"><li><span><a href=\"#Notebook-made-by\" data-toc-modified-id=\"Notebook-made-by-1.1\"><span class=\"toc-item-num\">1.1&nbsp;&nbsp;</span>Notebook made by</a></span></li><li><span><a href=\"#Peerreview\" data-toc-modified-id=\"Peerreview-1.2\"><span class=\"toc-item-num\">1.2&nbsp;&nbsp;</span>Peerreview</a></span></li><li><span><a href=\"#Toelichting\" data-toc-modified-id=\"Toelichting-1.3\"><span class=\"toc-item-num\">1.3&nbsp;&nbsp;</span>Toelichting</a></span></li><li><span><a href=\"#Voor-het-inleveren!\" data-toc-modified-id=\"Voor-het-inleveren!-1.4\"><span class=\"toc-item-num\">1.4&nbsp;&nbsp;</span>Voor het inleveren!</a></span></li><li><span><a href=\"#Na-het-inleveren!\" data-toc-modified-id=\"Na-het-inleveren!-1.5\"><span class=\"toc-item-num\">1.5&nbsp;&nbsp;</span>Na het inleveren!</a></span></li></ul></li><li><span><a href=\"#RDF-en-RDFS-completion\" data-toc-modified-id=\"RDF-en-RDFS-completion-2\"><span class=\"toc-item-num\">2&nbsp;&nbsp;</span>RDF en RDFS completion</a></span><ul class=\"toc-item\"><li><span><a href=\"#Jouw-taak\" data-toc-modified-id=\"Jouw-taak-2.1\"><span class=\"toc-item-num\">2.1&nbsp;&nbsp;</span>Jouw taak</a></span><ul class=\"toc-item\"><li><span><a href=\"#Je-cijfer-is-gebaseerd-op\" data-toc-modified-id=\"Je-cijfer-is-gebaseerd-op-2.1.1\"><span class=\"toc-item-num\">2.1.1&nbsp;&nbsp;</span>Je cijfer is gebaseerd op</a></span></li><li><span><a href=\"#Voorwaarden\" data-toc-modified-id=\"Voorwaarden-2.1.2\"><span class=\"toc-item-num\">2.1.2&nbsp;&nbsp;</span>Voorwaarden</a></span><ul class=\"toc-item\"><li><span><a href=\"#Database-en-regels\" data-toc-modified-id=\"Database-en-regels-2.1.2.1\"><span class=\"toc-item-num\">2.1.2.1&nbsp;&nbsp;</span>Database en regels</a></span></li><li><span><a href=\"#Test-voorbeelden\" data-toc-modified-id=\"Test-voorbeelden-2.1.2.2\"><span class=\"toc-item-num\">2.1.2.2&nbsp;&nbsp;</span>Test voorbeelden</a></span></li><li><span><a href=\"#Check-ajb\" data-toc-modified-id=\"Check-ajb-2.1.2.3\"><span class=\"toc-item-num\">2.1.2.3&nbsp;&nbsp;</span>Check ajb</a></span></li></ul></li></ul></li></ul></li><li><span><a href=\"#Jouw-completion-functie\" data-toc-modified-id=\"Jouw-completion-functie-3\"><span class=\"toc-item-num\">3&nbsp;&nbsp;</span>Jouw completion functie</a></span></li><li><span><a href=\"#Jouw-lijst-met-testen\" data-toc-modified-id=\"Jouw-lijst-met-testen-4\"><span class=\"toc-item-num\">4&nbsp;&nbsp;</span>Jouw lijst met testen</a></span></li><li><span><a href=\"#Voor-de-echte-diehards-die-gaan-voor-een-10\" data-toc-modified-id=\"Voor-de-echte-diehards-die-gaan-voor-een-10-5\"><span class=\"toc-item-num\">5&nbsp;&nbsp;</span>Voor de echte diehards die gaan voor een 10</a></span><ul class=\"toc-item\"><li><ul class=\"toc-item\"><li><span><a href=\"#Hoeveel-RDFS-statements-zijn-er-eigenlijk-die-zouden-kunnen-volgen?\" data-toc-modified-id=\"Hoeveel-RDFS-statements-zijn-er-eigenlijk-die-zouden-kunnen-volgen?-5.0.1\"><span class=\"toc-item-num\">5.0.1&nbsp;&nbsp;</span>Hoeveel RDFS statements zijn er eigenlijk die zouden kunnen volgen?</a></span></li></ul></li></ul></li></ul></div>"
   ]
  },
  {
   "cell_type": "markdown",
   "metadata": {
    "id": "xfNlayntjhOs"
   },
   "source": [
    "# RDF en RDFS completion\n",
    "\n",
    "* We maken een programma dat gegeven een RDF triple store plus een set RDFS statements, alle mogelijke niet triviale logische consequenties hiervan afleidt, en die in een RDF en RDFS database zet.\n",
    "* Dit wordt ook wel *materialization* genoemd. Het idee is dat uit beide kennisbanken **exact dezelfde feiten volgen**, maar dat dat sneller kan vanuit de pure RDF versie (omdat je dan geen feiten hoeft af te leiden).\n",
    "* De technische term voor het algorithme dat deze \"completering\" doet is de *chase*.\n",
    "* Het [artikel van Enrico Franconi et al](https://link.springer.com/chapter/10.1007/978-3-642-41335-3_7) bevat een systeem.\n",
    "* Net als in Franconi werken we alleen met de 4 interresantste RDFS statements:\n",
    "    * **Hierarchie** \n",
    "        * $\\forall xy (Rxy \\rightarrow Sxy)$  (\" to love him is to know him\", als je van iemand houdt dan ken je diegene) \n",
    "        * $\\forall x (Horse(x) \\rightarrow Animal(x))$\n",
    "    * **Domain en range restrictions**\n",
    "        * $\\forall xy (Rxy \\rightarrow Dx)$ (domain) \"Als x een staart heeft is het een dier\"\n",
    "        * $\\forall xy (Rxy \\rightarrow Dy)$ (range)  \"Als je een  ouder bent van y, is y een mens.\"\n",
    "        \n",
    "## Jouw taak\n",
    "\n",
    "1. Maak de functie `complete(facts, rules)` die voldoet aan de volgende eigenschap:\n",
    "    * voor elke feit `(o,p,s)`, facts+rules $\\models$ (o,p,s) $\\Leftrightarrow$ `complete(facts, rules)` $\\models$ (o,p,s) \n",
    "        * Jouw functie is zowel volledig als geldig (*sound and complete*), dat is exact wat je wilt.\n",
    "    * `complete(facts, rules)` is een verzameling feiten.\n",
    "2. Maak een flinke collectie van tests waarmee je test dat jouw functie aan die eisen voldoet. \n",
    "    * Dus dat het niet te veel en niet te weinig, maar exact de juiste feiten impliceert.\n",
    "    * Je deelt die tests met alle anderen, en ook jouw functie, en we gaan dus elke functie tegen elke test draaien, en dus een matrix met scores maken.\n",
    "    \n",
    "### Je cijfer is gebaseerd op \n",
    "\n",
    "1. Hoe goed doorstaat jouw functie alle tests.\n",
    "2. Hoe goed zijn jouw tests.\n",
    "    * Strenge (doch rechtvaardige) tests zijn natuurlijk het best. Tests waar iedereen voor slaagt lijken leuk maar zijn meestal niet veel waard. \n",
    "    \n",
    "    \n",
    "### Voorwaarden\n",
    "\n",
    "#### Database en regels\n",
    "\n",
    "We werken niet direct met RDF en RDFS omdat dat zo'n enorme syntax overhead heeft. We doen de dingen gewoon lekker in Python.\n",
    "\n",
    "* Je RDF store is een verzameling triples, waarbij de 3 elementen strings of integers of floats zijn.\n",
    "    * Je schrijft eigenschappen van individuen als `('henk', 'isa', 'Man')`\n",
    "        * dus altijd met de vaste relatie `isa` in het midden.\n",
    "    * en relaties tussen individuen als `('henk', Houdt_van', 'ingrid')`\n",
    "    * en idem voor relaties tussen individuen en getallen `('henk', 'leeftijd', 53)`\n",
    "    * Begin namen van individuen (\"knopen\") meteen kleine letter, en eigenschappen en relaties met een grote.\n",
    "* Je RDFS store is een dict met sleutels `['subPropertyOf', 'subClassOf', 'domain', 'range']` en voor elke sleutel een verzameling met 2-tuples (paartjes in gewoon Nederlands) als waarde. \n",
    "\n",
    "#### Test voorbeelden\n",
    "\n",
    "Een testset is een lijst triples van de vorm `(D:RDF_store, R:RDFS_store, Pos:RDF_store, Neg:RDF_store)` waarvoor geldt dat \n",
    "* voor elk triple t in Pos: $D,R\\models t$\n",
    "* voor elk triple t in Neg: $D,R\\not\\models t$\n",
    "* Met $\\models$ wordt dus bedoeld volgens de Franconi semantiek, en dus ook volgens de RDF semantiek. Dat betekent dus niet per se dat dit hetzelfde is als volgens jouw completion functie (want die zou fouten kunnen maken).\n",
    "* Hieronder staat een flauw voorbeeld. Jounes is veel gaver en strenger en leuker  natuurlijk!\n",
    "\n",
    "#### Check ajb\n",
    "\n",
    "* Als de tests hieronder niet slagen kunnen we niks met je code, en kan je  dus niet meedoen. Zonde van al je werk toch?"
   ]
  },
  {
   "cell_type": "code",
   "execution_count": 70,
   "metadata": {
    "colab": {
     "base_uri": "https://localhost:8080/"
    },
    "deletable": false,
    "editable": false,
    "id": "u5ZyXWiGjhOt",
    "nbgrader": {
     "cell_type": "code",
     "checksum": "2fa770e88b5b07eba6aab91f623677b0",
     "grade": false,
     "grade_id": "rfds",
     "locked": true,
     "schema_version": 3,
     "solution": false
    },
    "outputId": "6b23720f-5cfd-4dc5-8571-7825bf3164f9"
   },
   "outputs": [
    {
     "data": {
      "text/plain": [
       "{'domain': {('Houdt_van', 'Mens')},\n",
       " 'range': ('Vindt_lekker', 'Eten'),\n",
       " 'subClassOf': {('Mens', 'Dier'), ('Student', 'Mens')},\n",
       " 'subPropertyOf': {('Eet', 'Vindt_lekker'), ('Houdt_van', 'Kent')}}"
      ]
     },
     "execution_count": 70,
     "metadata": {
      "tags": []
     },
     "output_type": "execute_result"
    }
   ],
   "source": [
    "# voorbeeld\n",
    "RDFS= {'subPropertyOf': {('Houdt_van','Kent'), ('Eet','Vindt_lekker')},\n",
    "      'subClassOf': {('Mens','Dier'),('Student','Mens')},\n",
    "       \n",
    "      # domain zegt iets over het object van de triple -> Erik houdt van Ingrid, dus Erik (OBJECT) is mens\n",
    "      'domain': {('Houdt_van','Mens')},\n",
    "      # range zegt iets over het subject van de triple -> Erik vindt patat lekker, dus patat (SUBEJCT) is eten\n",
    "      'range': ('Vindt_lekker','Eten')}\n",
    "RDFS"
   ]
  },
  {
   "cell_type": "code",
   "execution_count": 71,
   "metadata": {
    "colab": {
     "base_uri": "https://localhost:8080/"
    },
    "deletable": false,
    "editable": false,
    "id": "zg41pHi6jhOv",
    "nbgrader": {
     "cell_type": "code",
     "checksum": "21954308ba447742faade218f1e5fb5b",
     "grade": false,
     "grade_id": "test",
     "locked": true,
     "schema_version": 3,
     "solution": false
    },
    "outputId": "08c25895-dc8e-441a-bcf3-439dba186f09"
   },
   "outputs": [
    {
     "data": {
      "text/plain": [
       "[({('Henk', 'isa', 'Mens')},\n",
       "  {'domain': set(),\n",
       "   'range': set(),\n",
       "   'subClassOf': {('Mens', 'Sterfelijk')},\n",
       "   'subPropertyOf': set()},\n",
       "  {('Henk', 'isa', 'Sterfelijk')},\n",
       "  {('henk', 'Houdt_van', 'ingrid')})]"
      ]
     },
     "execution_count": 71,
     "metadata": {
      "tags": []
     },
     "output_type": "execute_result"
    }
   ],
   "source": [
    "# voorbeeld\n",
    "\n",
    "test1= [\n",
    "    ({('Henk','isa','Mens')},  # RDF store\n",
    "       {'subPropertyOf': set(),  # RDFS store\n",
    "      'subClassOf': {('Mens','Sterfelijk')},\n",
    "      'domain': set(),\n",
    "      'range':  set()},\n",
    "       {('Henk','isa','Sterfelijk')}, # positieve voorbeelden\n",
    "       {('henk', 'Houdt_van', 'ingrid')} # negatieve voorbeelden\n",
    "       )\n",
    "       ]\n",
    "test1"
   ]
  },
  {
   "cell_type": "markdown",
   "metadata": {
    "id": "pOwJCcDQjhOw"
   },
   "source": [
    "# Jouw completion functie"
   ]
  },
  {
   "cell_type": "code",
   "execution_count": 72,
   "metadata": {
    "colab": {
     "base_uri": "https://localhost:8080/"
    },
    "id": "wRztxp_1sQBi",
    "outputId": "398ada3c-1aa8-4a63-8360-b0b9fccb29e9"
   },
   "outputs": [
    {
     "name": "stdout",
     "output_type": "stream",
     "text": [
      "Requirement already satisfied: rdflib in /usr/local/lib/python3.7/dist-packages (5.0.0)\n",
      "Requirement already satisfied: isodate in /usr/local/lib/python3.7/dist-packages (from rdflib) (0.6.0)\n",
      "Requirement already satisfied: pyparsing in /usr/local/lib/python3.7/dist-packages (from rdflib) (2.4.7)\n",
      "Requirement already satisfied: six in /usr/local/lib/python3.7/dist-packages (from rdflib) (1.15.0)\n"
     ]
    }
   ],
   "source": [
    "!pip install rdflib\r\n",
    "from rdflib import Graph, RDF, Namespace, URIRef"
   ]
  },
  {
   "cell_type": "markdown",
   "metadata": {
    "id": "gGypBRa3viXG"
   },
   "source": [
    "#Een functie, sound and complete "
   ]
  },
  {
   "cell_type": "code",
   "execution_count": 77,
   "metadata": {
    "colab": {
     "base_uri": "https://localhost:8080/"
    },
    "deletable": false,
    "id": "oSpFx8h0jhOx",
    "nbgrader": {
     "cell_type": "code",
     "checksum": "5e8ce0c7b6ee5f6007fd0e6280635536",
     "grade": false,
     "grade_id": "f",
     "locked": false,
     "schema_version": 3,
     "solution": true
    },
    "outputId": "2ef13fd7-ae71-47e1-e15d-d96a38a14411"
   },
   "outputs": [
    {
     "data": {
      "text/plain": [
       "{('Bakerstreet', 'isa', 'street'),\n",
       " ('Bakerstreet', 'onnumber', 221),\n",
       " ('Bakerstreet', 'opponent', 'street'),\n",
       " ('Benedict', 'isa', 'actor'),\n",
       " ('Benedict', 'isa', 'opponent'),\n",
       " ('Benedict', 'opponent', 'Martin'),\n",
       " ('Benedict', 'opponent', 'actor'),\n",
       " ('Benedict', 'opponent', 'opponent'),\n",
       " ('Benedict', 'plays', 'Sherlock'),\n",
       " ('Sherlock', 'isa', 'actor'),\n",
       " ('Sherlock', 'isa', 'opponent'),\n",
       " ('Sherlock', 'isa', 'role'),\n",
       " ('Sherlock', 'liveson', 'Bakerstreet'),\n",
       " ('Sherlock', 'opponent', 'actor'),\n",
       " ('Sherlock', 'opponent', 'opponent'),\n",
       " ('Sherlock', 'opponent', 'role')}"
      ]
     },
     "execution_count": 77,
     "metadata": {
      "tags": []
     },
     "output_type": "execute_result"
    }
   ],
   "source": [
    "# jouw functie\n",
    "\n",
    "def complete_12675407(facts, rules):  \n",
    "\n",
    "    new_info = ()\n",
    "    while True:\n",
    "        #Find the object, predicate an|d subject\n",
    "        for (subject, predicaat, OBJECT) in facts:\n",
    "            for subClass in rules[\"subClassOf\"]:\n",
    "                if OBJECT == subClass[0]:\n",
    "                    if (subject, predicaat, subClass[1]) not in facts:\n",
    "                        if subject != subClass[1]:\n",
    "                            new_info = (subject, predicaat, subClass[1])\n",
    "                if subject == subClass[0]:\n",
    "                    if (subClass[1], predicaat, OBJECT) not in facts:\n",
    "                        if subClass[1] != OBJECT:\n",
    "                            new_info = (subClass[1], predicaat, OBJECT)\n",
    "\n",
    "            #Loop through the subPropertyOf set\n",
    "            for subProperty in rules[\"subPropertyOf\"]:\n",
    "                if predicaat == subProperty[0]:\n",
    "                    if (subject, subProperty[1], OBJECT) not in facts:\n",
    "                        if subject != OBJECT:\n",
    "                            new_info = (subject, subProperty[1], OBJECT)\n",
    "\n",
    "            #Loop through the domain set\n",
    "            for domain in rules[\"domain\"]: \n",
    "                if predicaat == domain[0]:\n",
    "                    if (subject, 'isa', domain[1]) not in facts:\n",
    "                        if subject != domain[1]:\n",
    "                            new_info = (subject, 'isa', domain[1])\n",
    "          \n",
    "            #Loop through the range set\n",
    "            for RANGE in rules[\"range\"]:\n",
    "                if predicaat == RANGE[0]:\n",
    "                    if (OBJECT, 'isa', RANGE[1]) not in facts:\n",
    "                        if OBJECT != RANGE[1]:\n",
    "                            new_info = (OBJECT, 'isa', RANGE[1])\n",
    "\n",
    "        if len(new_info) > 0:\n",
    "            facts.add(new_info)   \n",
    "            new_info = ()\n",
    "        else:\n",
    "            return facts\n",
    "\n",
    "    \n",
    "#test\n",
    "complete_12675407(testnaam_12675407[0][0], testnaam_12675407[0][1])\n",
    "\n"
   ]
  },
  {
   "cell_type": "code",
   "execution_count": 74,
   "metadata": {
    "deletable": false,
    "editable": false,
    "id": "4V5NMcwYjhOx",
    "nbgrader": {
     "cell_type": "code",
     "checksum": "31bb7fb371f82329a691664a7fa3b08e",
     "grade": true,
     "grade_id": "s",
     "locked": true,
     "points": 0,
     "schema_version": 3,
     "solution": false
    }
   },
   "outputs": [],
   "source": [
    "# passert studnr!= 1234567, 'Dit is niet jouw student nummer!'\n"
   ]
  },
  {
   "cell_type": "code",
   "execution_count": 75,
   "metadata": {
    "deletable": false,
    "editable": false,
    "id": "GesZ5rJnjhOx",
    "nbgrader": {
     "cell_type": "code",
     "checksum": "557586561b1cd441bf2a4264688cd19f",
     "grade": true,
     "grade_id": "ft",
     "locked": true,
     "points": 0,
     "schema_version": 3,
     "solution": false
    }
   },
   "outputs": [],
   "source": [
    "RDFS= {'subPropertyOf': {('Houdt_van','Kent'), ('Eet','Vindt_lekker')},\n",
    "      'subClassOf': {('Mens','Dier'),('Student','Mens')},\n",
    "      'domain': {('Houdt_van','Mens')},\n",
    "      'range': ('Vindt_lekker','Eten')}\n",
    "RDF= {('Henk','isa','Mens')}\n",
    "completion= complete_12675407(RDF,RDFS)\n",
    "assert isinstance(completion,set)\n",
    "for t in completion:\n",
    "    assert isinstance(t,tuple)\n",
    "    assert len(t)==3\n",
    "    assert isinstance(t[0], str)\n",
    "    assert isinstance(t[1], str)\n",
    "    assert isinstance(t[2], (str, int,float))\n",
    "    "
   ]
  },
  {
   "cell_type": "markdown",
   "metadata": {
    "id": "ZpFyAKj9jhOy"
   },
   "source": [
    "# Jouw lijst met testen"
   ]
  },
  {
   "cell_type": "code",
   "execution_count": 76,
   "metadata": {
    "deletable": false,
    "id": "Vmqo6ZeujhOy",
    "nbgrader": {
     "cell_type": "code",
     "checksum": "793a3e6331c6791cdd2420fd4518352e",
     "grade": false,
     "grade_id": "t",
     "locked": false,
     "schema_version": 3,
     "solution": true
    }
   },
   "outputs": [],
   "source": [
    "# jouw test\n",
    "\n",
    "testnaam_12675407 = [ \n",
    "                     # test about the Sherlock Holmes series\n",
    "        ({('Benedict','isa','actor'), ('Sherlock','isa','role'),\n",
    "        ('Benedict','opponent','Martin'),\n",
    "       ('Benedict','plays','Sherlock'), ('Sherlock','liveson','Bakerstreet'),\n",
    "       (('Bakerstreet','onnumber',221))},  # RDF store\n",
    "     {'subPropertyOf': {('isa','opponent')},  # RDFS store\n",
    "      'subClassOf': {('role','actor'), ('actor','opponent')},\n",
    "      'domain': {('neighbours','actor'), ('onnumber', 'street')},\n",
    "      'range': {('neighbours','actor'), ('actor','human')}}, \n",
    "       {('Bakerstreet','isa','street')}, # positieve voorbeelden    \n",
    "       {('Sherlock','opponent','Bakerstreet')} # negatieve voorbeelden\n",
    "       \n",
    "       ), \n",
    "\n",
    "        # test about Bart, Iris (both very much human) and pet Saartje \n",
    "        ({('Bart','isa','human'), ('Saartje','isa','pet'),\n",
    "       ('Iris','isa','human'), ('Bart','neighbours','Iris'),\n",
    "       ('Bart','haspet','Saartje'), ('Saartje','eatsmany','kluifjes'),\n",
    "       (('Saartje','yearsold',3))},  # RDF store\n",
    "     {'subPropertyOf': {('ispet','haspet')},  # RDFS store\n",
    "      \n",
    "      'subClassOf': {('pet','dier'), ('Bart','human')},\n",
    "      'domain': {('neighbours','human'), ('ispet','dier'), ('haspet','human'), ('eatsmany','dier')},\n",
    "      'range': {('neighbours','human'), ('ispet','human'), ('haspet','pet'), ('eatsmany','food')}},\n",
    "       {('Saartje','isa','dier'), ('Saartje','ispet','Bart')}, # positieve voorbeelden\n",
    "       {('Saartje','neighbours','human')} # negatieve voorbeelden\n",
    "       ) ,\n",
    "        \n",
    "        # test about eredivisie soccer club FCUtrecht and Heereveen\n",
    "        ({('Utrecht','isa','province'), ('FCUtrecht','isa','soccerclub'),\n",
    "       ('FCHeereveen','isa','soccerclub'),('FCUtrecht','rivals','FCHeereveen'),\n",
    "         ('Utrecht','provinceclub','FCUtrecht'), \n",
    "        ('FCUtrecht','clubkeeper','MaartenPaes'),\n",
    "       (('FCUtrecht','seatcount',23.750))},  # RDF store\n",
    "     {'subPropertyOf': {('isin','provinceclub')},  # RDFS store\n",
    "      'subClassOf': {('soccerclub','city'), ('Utrecht','province')},\n",
    "      'domain': { ('isin','city'), ('provinceclub','province'), ('clubkeeper','teamplayer'), ('rivals', 'soccerclub')},\n",
    "      'range': {('isin','province'), ('provinceclub','soccerclub'), ('clubkeeper','human'), ('rivals', 'soccerclub')}},\n",
    "       {('FCUtrecht','isa','eredivisieclub'), ('FCUtrecht','isin','Utrecht')}, # positieve voorbeelden\n",
    "       {('FCUtrecht','rivals','province')} # negatieve voorbeelden\n",
    "       ),\n",
    "        \n",
    "        # test about Harold and Josephine \n",
    "         ({('Harold','Houdt_van','Josephine')},  # RDF store\n",
    "       {'subPropertyOf': set(),  # RDFS store\n",
    "      'subClassOf': {('Mens','Sterfelijk')},\n",
    "      'domain': {('Houdt_van', 'Mens')},\n",
    "      'range':  {('Vindt_lekker', 'Eten')}},\n",
    "       {('Harold','isa','Sterfelijk'), ('Harold', 'isa', 'Mens')}, # positieve voorbeelden\n",
    "       {('Harold', 'Vindt_lekker', 'Josephine')} # negatieve voorbeelden\n",
    "       )\n",
    "       ]"
   ]
  },
  {
   "cell_type": "code",
   "execution_count": 59,
   "metadata": {
    "deletable": false,
    "editable": false,
    "id": "jz7nLFasjhOy",
    "nbgrader": {
     "cell_type": "code",
     "checksum": "eec1a8944bb8d0211b210689879b82fd",
     "grade": true,
     "grade_id": "tt",
     "locked": true,
     "points": 0,
     "schema_version": 3,
     "solution": false
    }
   },
   "outputs": [],
   "source": [
    "assert isinstance(testnaam_12675407,list)\n",
    "for test in testnaam_12675407:\n",
    "    assert isinstance(test,tuple)\n",
    "    assert len(test)==4\n",
    "    assert isinstance(test[0],set)\n",
    "    assert isinstance(test[1],dict)\n",
    "    assert isinstance(test[2],set)\n",
    "    assert isinstance(test[3],set)"
   ]
  },
  {
   "cell_type": "markdown",
   "metadata": {
    "id": "lCmein2DjhOy"
   },
   "source": [
    "# Voor de echte diehards die gaan voor een 10\n",
    "\n",
    "Franconi beschrijft in zijn artikel dat je ook RDFS statements uit andere RDFS statements kunt afleiden. Hij geeft een leuk voorbeeld in het eerste plaatje.\n",
    "\n",
    "Dat kan jij natuurlijk ook!\n",
    "\n",
    "Maak een functie `complete(RDFS)` die precies alle RDFS statements afleidt die volgen uit de verzameling `RDFS`.\n",
    "\n",
    "Maak er ook weer een mooie testset bij, en beargumenteer dat jouw systeem geldig en volledig is.\n",
    "\n",
    "### Hoeveel RDFS statements zijn er eigenlijk die zouden kunnen volgen?\n",
    "\n",
    "* Gegeven de relaties en eigenschappen in de verzameling `RDFS` is dit eindig.\n",
    "* En er zijn maar 4 soorten RDFS statements. \n",
    "* Dus moet het wel eindig zijn, en kan je zelfs uitrekenen hoeveel.\n",
    "* Een manier is om ze allemaal te proberen....\n",
    "    * Voeg het antecedent toe als RDF-triple aan `RDFS` en kijk of het consequent dan volgt...\n",
    "* Reken het eens uit voor $r$ relaties en $p$ eigenschappen.\n",
    "    * Met $r$ relaties kan je $r\\cdot(r-1)$ veel `subPropertyOf` relaties maken toch...\n",
    "    * en dan nog ....\n",
    "    * en ....\n",
    "* Dit is niet eens zo gek, maar met een *chase* gaat het natuurlijk veel sneller omdat je dan resultaatgericht werkt in plaats van als een dolle alles gaat proberen.\n",
    "    * Bijv; Stel je hebt 100 relaties, maar in je RDFS komt er maar 1 voor in antecdent positie in `subPropertyOf` statements. Hoeveel `subPropertyOf` kan je dan afleiden? Ja, dat is dus sneller dan al die 100*99 te gaan proberen toch? Want dat is best veel."
   ]
  },
  {
   "cell_type": "code",
   "execution_count": null,
   "metadata": {
    "id": "-q0nP-8Cv7ad"
   },
   "outputs": [],
   "source": []
  }
 ],
 "metadata": {
  "colab": {
   "collapsed_sections": [],
   "name": "AssignmentWeek6[DONE].ipynb",
   "provenance": []
  },
  "kernelspec": {
   "display_name": "Python 3",
   "language": "python",
   "name": "python3"
  },
  "language_info": {
   "codemirror_mode": {
    "name": "ipython",
    "version": 3
   },
   "file_extension": ".py",
   "mimetype": "text/x-python",
   "name": "python",
   "nbconvert_exporter": "python",
   "pygments_lexer": "ipython3",
   "version": "3.7.4"
  },
  "toc": {
   "nav_menu": {},
   "number_sections": true,
   "sideBar": true,
   "skip_h1_title": false,
   "title_cell": "Table of Contents",
   "title_sidebar": "Contents",
   "toc_cell": true,
   "toc_position": {},
   "toc_section_display": true,
   "toc_window_display": false
  }
 },
 "nbformat": 4,
 "nbformat_minor": 0
}
