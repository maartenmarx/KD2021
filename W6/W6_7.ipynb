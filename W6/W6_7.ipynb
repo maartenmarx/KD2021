{
 "cells": [
  {
   "cell_type": "markdown",
   "metadata": {
    "id": "qImYuKxX-Dt1"
   },
   "source": [
    "# Assignment Kennis en Data"
   ]
  },
  {
   "cell_type": "markdown",
   "metadata": {
    "id": "4uKO5kcN-Dt3"
   },
   "source": [
    "## Notebook made by\n",
    "\n",
    "\n",
    "|Naam|Studentnummer|\n",
    "|-|-|\n",
    "|Justin|secret|\n",
    "|Rowan|secret|\n",
    "|Martijn|secret|\n",
    "| | |\n",
    "\n",
    "## Peerreview\n",
    "\n",
    "* Vul onderstaande dict/tabel in en run de cel. Klopt het? Zijn jullie het er allemaal mee eens?\n",
    "    * Verander `1,2,3,4` door jullie studentnummers\n",
    "    * `1: {1:.2,2:.3,3:.3,4:.2}` betekent dat student 1 zijn punt zo over de 4 studenten verdeelt\n",
    "    * Let op, per student moeten de punten optellen tot 1!\n",
    "    * De gegeven punten staan in de tabel op de rijen, de ontvangen punten in de kolommen.\n",
    "    * met `cijfer_per_student` kan je bepalen welk cijfer ieder krijgt bij een gegeven groepscijfer."
   ]
  },
  {
   "cell_type": "markdown",
   "metadata": {
    "id": "NOQxJTfP-Dt4"
   },
   "source": [
    "## Toelichting\n",
    "\n",
    "* De meeste opgaven worden automatisch nagekeken. Bij vrijwel alle opdrachten staan er een paar tests onder de opdracht, dit is voornamelijk om te zorgen dat je de juiste type output geeft. Dit zijn dus *NIET* alle tests, die komen er bij het graden nog bij.\n",
    "* Elke vraag is 1 punt waard, tenzij anders aangegeven. Soms is die punt onderverdeeld in deelpunten, maar niet altijd. \n",
    "\n",
    "## Voor het inleveren!\n",
    "\n",
    "* Pas niet de cellen aan, vooral niet die je niet kunt editen. Dit levert problemen op bij nakijken. Twijfel je of je per ongeluk iets hebt gewijzigd, kopieer dan bij inleveren je antwoorden naar een nieuw bestand, zodat het niet fout kan gaan.\n",
    "\n",
    "* Zorg dat de code goed runt van boven naar beneden, verifieer dat door boven in Kernel -> Restart & Run All uit te voeren\n",
    "\n",
    "## Na het inleveren!\n",
    "\n",
    "* Het gebeurt erg vaak dat mensen een \"leeg bestand\" inleveren. Vaak een andere versie van de opgave die nog ergens op je computer rondslingerde. Zonde van al je werk toch!\n",
    "* Dus, lever **minstens een half uur voor tijd in**. Download dan wat je hebt ingeleverd op Canvas. Geef het een andere naam om verwarring te voorkomen. En draai alle cellen, en bekijk het. Geen syntax fouten? Alle vragen gemaakt? Dan zit het vast wel goed, en hoef je niet in de zenuwen te zitten."
   ]
  },
  {
   "cell_type": "markdown",
   "metadata": {
    "id": "ba-R3nRd-Dt5",
    "toc": true
   },
   "source": [
    "<h1>Table of Contents<span class=\"tocSkip\"></span></h1>\n",
    "<div class=\"toc\"><ul class=\"toc-item\"><li><span><a href=\"#RDF-en-RDFS-completion\" data-toc-modified-id=\"RDF-en-RDFS-completion-1\"><span class=\"toc-item-num\">1&nbsp;&nbsp;</span>RDF en RDFS completion</a></span><ul class=\"toc-item\"><li><span><a href=\"#Jouw-taak\" data-toc-modified-id=\"Jouw-taak-1.1\"><span class=\"toc-item-num\">1.1&nbsp;&nbsp;</span>Jouw taak</a></span><ul class=\"toc-item\"><li><span><a href=\"#Je-cijfer-is-gebaseerd-op\" data-toc-modified-id=\"Je-cijfer-is-gebaseerd-op-1.1.1\"><span class=\"toc-item-num\">1.1.1&nbsp;&nbsp;</span>Je cijfer is gebaseerd op</a></span></li><li><span><a href=\"#Voorwaarden\" data-toc-modified-id=\"Voorwaarden-1.1.2\"><span class=\"toc-item-num\">1.1.2&nbsp;&nbsp;</span>Voorwaarden</a></span><ul class=\"toc-item\"><li><span><a href=\"#Database-en-regels\" data-toc-modified-id=\"Database-en-regels-1.1.2.1\"><span class=\"toc-item-num\">1.1.2.1&nbsp;&nbsp;</span>Database en regels</a></span></li><li><span><a href=\"#Test-voorbeelden\" data-toc-modified-id=\"Test-voorbeelden-1.1.2.2\"><span class=\"toc-item-num\">1.1.2.2&nbsp;&nbsp;</span>Test voorbeelden</a></span></li><li><span><a href=\"#Check-ajb\" data-toc-modified-id=\"Check-ajb-1.1.2.3\"><span class=\"toc-item-num\">1.1.2.3&nbsp;&nbsp;</span>Check ajb</a></span></li></ul></li></ul></li></ul></li><li><span><a href=\"#Jouw-completion-functie\" data-toc-modified-id=\"Jouw-completion-functie-2\"><span class=\"toc-item-num\">2&nbsp;&nbsp;</span>Jouw completion functie</a></span></li><li><span><a href=\"#Jouw-lijst-met-testen\" data-toc-modified-id=\"Jouw-lijst-met-testen-3\"><span class=\"toc-item-num\">3&nbsp;&nbsp;</span>Jouw lijst met testen</a></span></li><li><span><a href=\"#Voor-de-echte-diehards-die-gaan-voor-een-10\" data-toc-modified-id=\"Voor-de-echte-diehards-die-gaan-voor-een-10-4\"><span class=\"toc-item-num\">4&nbsp;&nbsp;</span>Voor de echte diehards die gaan voor een 10</a></span><ul class=\"toc-item\"><li><ul class=\"toc-item\"><li><span><a href=\"#Hoeveel-RDFS-statements-zijn-er-eigenlijk-die-zouden-kunnen-volgen?\" data-toc-modified-id=\"Hoeveel-RDFS-statements-zijn-er-eigenlijk-die-zouden-kunnen-volgen?-4.0.1\"><span class=\"toc-item-num\">4.0.1&nbsp;&nbsp;</span>Hoeveel RDFS statements zijn er eigenlijk die zouden kunnen volgen?</a></span></li></ul></li></ul></li></ul></div>"
   ]
  },
  {
   "cell_type": "markdown",
   "metadata": {
    "id": "XFdcqBe2-Dt5"
   },
   "source": [
    "# RDF en RDFS completion\n",
    "\n",
    "* We maken een programma dat gegeven een RDF triple store plus een set RDFS statements, alle mogelijke niet triviale logische consequenties hiervan afleidt, en die in een RDF en RDFS database zet.\n",
    "* Dit wordt ook wel *materialization* genoemd. Het idee is dat uit beide kennisbanken **exact dezelfde feiten volgen**, maar dat dat sneller kan vanuit de pure RDF versie (omdat je dan geen feiten hoeft af te leiden).\n",
    "* De technische term voor het algorithme dat deze \"completering\" doet is de *chase*.\n",
    "* Het [artikel van Enrico Franconi et al](https://link.springer.com/chapter/10.1007/978-3-642-41335-3_7) bevat een systeem.\n",
    "* Net als in Franconi werken we alleen met de 4 interresantste RDFS statements:\n",
    "    * **Hierarchie** \n",
    "        * $\\forall xy (Rxy \\rightarrow Sxy)$  (\" to love him is to know him\", als je van iemand houdt dan ken je diegene) \n",
    "        * $\\forall x (Horse(x) \\rightarrow Animal(x))$\n",
    "    * **Domain en range restrictions**\n",
    "        * $\\forall xy (Rxy \\rightarrow Dx)$ (domain) \"Als x een staart heeft is het een dier\"\n",
    "        * $\\forall xy (Rxy \\rightarrow Dy)$ (range)  \"Als je een  ouder bent van y, is y een mens.\"\n",
    "        \n",
    "## Jouw taak\n",
    "\n",
    "1. Maak de functie `complete(facts, rules)` die voldoet aan de volgende eigenschap:\n",
    "    * voor elke feit `(o,p,s)`, facts+rules $\\models$ (o,p,s) $\\Leftrightarrow$ `complete(facts, rules)` $\\models$ (o,p,s) \n",
    "        * Jouw functie is zowel volledig als geldig (*sound and complete*), dat is exact wat je wilt.\n",
    "    * `complete(facts, rules)` is een verzameling feiten.\n",
    "2. Maak een flinke collectie van tests waarmee je test dat jouw functie aan die eisen voldoet. \n",
    "    * Dus dat het niet te veel en niet te weinig, maar exact de juiste feiten impliceert.\n",
    "    * Je deelt die tests met alle anderen, en ook jouw functie, en we gaan dus elke functie tegen elke test draaien, en dus een matrix met scores maken.\n",
    "    \n",
    "### Je cijfer is gebaseerd op \n",
    "\n",
    "1. Hoe goed doorstaat jouw functie alle tests.\n",
    "2. Hoe goed zijn jouw tests.\n",
    "    * Strenge (doch rechtvaardige) tests zijn natuurlijk het best. Tests waar iedereen voor slaagt lijken leuk maar zijn meestal niet veel waard. \n",
    "    \n",
    "    \n",
    "### Voorwaarden\n",
    "\n",
    "#### Database en regels\n",
    "\n",
    "We werken niet direct met RDF en RDFS omdat dat zo'n enorme syntax overhead heeft. We doen de dingen gewoon lekker in Python.\n",
    "\n",
    "* Je RDF store is een verzameling triples, waarbij de 3 elementen strings of integers of floats zijn.\n",
    "    * Je schrijft eigenschappen van individuen als `('henk', 'isa', 'Man')`\n",
    "        * dus altijd met de vaste relatie `isa` in het midden.\n",
    "    * en relaties tussen individuen als `('henk', Houdt_van', 'ingrid')`\n",
    "    * en idem voor relaties tussen individuen en getallen `('henk', 'leeftijd', 53)`\n",
    "    * Begin namen van individuen (\"knopen\") meteen kleine letter, en eigenschappen en relaties met een grote.\n",
    "* Je RDFS store is een dict met sleutels `['subPropertyOf', 'subClassOf', 'domain', 'range']` en voor elke sleutel een verzameling met 2-tuples (paartjes in gewoon Nederlands) als waarde. \n",
    "\n",
    "#### Test voorbeelden\n",
    "\n",
    "Een testset is een lijst triples van de vorm `(D:RDF_store, R:RDFS_store, Pos:RDF_store, Neg:RDF_store)` waarvoor geldt dat \n",
    "* voor elk triple t in Pos: $D,R\\models t$\n",
    "* voor elk triple t in Neg: $D,R\\not\\models t$\n",
    "* Met $\\models$ wordt dus bedoeld volgens de Franconi semantiek, en dus ook volgens de RDF semantiek. Dat betekent dus niet per se dat dit hetzelfde is als volgens jouw completion functie (want die zou fouten kunnen maken).\n",
    "* Hieronder staat een flauw voorbeeld. Jounes is veel gaver en strenger en leuker  natuurlijk!\n",
    "\n",
    "#### Check ajb\n",
    "\n",
    "* Als de tests hieronder niet slagen kunnen we niks met je code, en kan je  dus niet meedoen. Zonde van al je werk toch?"
   ]
  },
  {
   "cell_type": "code",
   "execution_count": 2,
   "metadata": {
    "deletable": false,
    "editable": false,
    "id": "1Cp33982-Dt8",
    "nbgrader": {
     "cell_type": "code",
     "checksum": "5525b69dbaddf2961e19837fa28e7f54",
     "grade": false,
     "grade_id": "rfds",
     "locked": true,
     "schema_version": 3,
     "solution": false
    }
   },
   "outputs": [],
   "source": [
    "# voorbeeld\n",
    "RDFS= {'subPropertyOf': {('Houdt_van','Kent'), ('Eet','Vindt_lekker')},\n",
    "      'subClassOf': {('Mens','Dier'),('Student','Mens')},\n",
    "      'domain': {('Houdt_van','Mens')},\n",
    "      'range': ('Vindt_lekker,Eten')}"
   ]
  },
  {
   "cell_type": "code",
   "execution_count": 3,
   "metadata": {
    "deletable": false,
    "editable": false,
    "id": "w8Nuy1QX-Dt_",
    "nbgrader": {
     "cell_type": "code",
     "checksum": "d17bdfe9cf10019567a8326c579778d9",
     "grade": false,
     "grade_id": "test",
     "locked": true,
     "schema_version": 3,
     "solution": false
    }
   },
   "outputs": [],
   "source": [
    "# voorbeeld\n",
    "\n",
    "test1= [\n",
    "    ({('Henk','isa','Mens')},  # RDF store\n",
    "       {'subPropertyOf': set(),  # RDFS store\n",
    "      'subClassOf': set(),\n",
    "      'domain': set(),\n",
    "      'range':  set()},\n",
    "       {('Henk','isa','Sterfelijk')}, # positieve voorbeelden\n",
    "       {('henk', 'Houdt_van', 'ingrid')} # negatieve voorbeelden\n",
    "       )\n",
    "       ]"
   ]
  },
  {
   "cell_type": "markdown",
   "metadata": {
    "id": "o7qksccH-DuA"
   },
   "source": [
    "# Jouw completion functie"
   ]
  },
  {
   "cell_type": "code",
   "execution_count": 4,
   "metadata": {
    "colab": {
     "base_uri": "https://localhost:8080/"
    },
    "id": "-5SUu8YxkjV-",
    "outputId": "04eceb6c-7133-4f86-d10b-14e1dd83c3c4"
   },
   "outputs": [
    {
     "name": "stdout",
     "output_type": "stream",
     "text": [
      "{('Mens', 'isa', 'Dier'), ('Henk', 'isa', 'Dier'), ('Henk', 'isa', 'Mens')}\n",
      "{('Henk', 'isa', 'Mens')}\n"
     ]
    }
   ],
   "source": [
    "def complete_12522503(facts, rules):\n",
    "    new_facts = list(facts.copy())\n",
    "\n",
    "    subClassOf = list(rules['subClassOf'])\n",
    "    subPropertyOf = list(rules['subPropertyOf'])\n",
    "    Domain = list(rules['domain'])\n",
    "    Range = list(rules['range'])\n",
    "\n",
    "    # extend subclasses\n",
    "    # (A, sc, B) & (B, sc, C) -> (A, sc, C)\n",
    "    for sCO_1 in subClassOf:\n",
    "      for sCO_2 in subClassOf:\n",
    "        if sCO_1[1] == sCO_2[0]:\n",
    "          subClassOf.append((sCO_1[0], sCO_2[1]))\n",
    "\n",
    "    # extend subproperties\n",
    "    # (A, sp, B) & (B, sp, C) -> (A, sp, C)\n",
    "    for sPO_1 in subPropertyOf:\n",
    "      for sPO_2 in subPropertyOf:\n",
    "        if sPO_1[1] == sPO_2[0]:\n",
    "          subPropertyOf.append((sPO_1[0], sPO_2[1]))\n",
    "\n",
    "    # extend Domain & Range by implied Subproperties\n",
    "    for sPO in subPropertyOf:\n",
    "      for D in Domain:\n",
    "        if D[0] == sPO[1]:\n",
    "          Domain.append((sPO[0], D[1]))\n",
    "      for R in Range:\n",
    "        if R[0] == sPO[1]:\n",
    "          Range.append((sPO[0], R[1]))\n",
    "\n",
    "    # extend Domain & Range by implied subClasses\n",
    "    for sCO in subClassOf:\n",
    "      for D in Domain:\n",
    "        if D[1] == sCO[0]:\n",
    "          Domain.append((D[0], sCO[1]))\n",
    "      for R in Range:\n",
    "        if R[1] == sCO[0]:\n",
    "          Range.append((R[0], sCO[1]))\n",
    "\n",
    "    # iterate over all new facts\n",
    "    for fact in new_facts:\n",
    "        s = fact[0]\n",
    "        p = fact[1]\n",
    "        o = fact[2]\n",
    "\n",
    "        # add all SubClasses\n",
    "        for item in subClassOf:\n",
    "            if p == 'isa' and o == item[0]:\n",
    "              new_fact = (s, p, item[1])\n",
    "              if new_fact not in new_facts:\n",
    "                new_facts.append(new_fact)\n",
    "\n",
    "        # add all SubProperties\n",
    "        # for all a,b (subProperty, a, b) -> for all x,y (x,a,y) -> (x,b,y)\n",
    "        for item in subPropertyOf:\n",
    "            if item[0] == p:\n",
    "                # new_facts.append((s, item[1], o))\n",
    "                new_fact = (s, item[1], o)\n",
    "                if new_fact not in new_facts:\n",
    "                  new_facts.append(new_fact)\n",
    "\n",
    "\n",
    "        # for all a,d (domain, a, d) -> for all x,y (x,a,y) -> (x, type, c)\n",
    "        for D in Domain:\n",
    "            if D[0] == fact[1]:\n",
    "                # new_facts.append((s, 'isa', D[1]))\n",
    "                new_fact = (s, 'isa', D[1])\n",
    "                if new_fact not in new_facts and s != D[1]:\n",
    "                  new_facts.append(new_fact)\n",
    "\n",
    "        # for all a,c (range, a, c) -> for all x,y (x,a,y) -> (y, type, d)\n",
    "        for R in Range:\n",
    "            if R[0] == fact[1]:\n",
    "                # new_facts.append((o, 'isa', R[1]))\n",
    "                new_fact = (o, 'isa', R[1])\n",
    "                if new_fact not in new_facts and o != R[1]:\n",
    "                  new_facts.append(new_fact)\n",
    "\n",
    "    return set(new_facts)\n",
    "\n",
    "RDFS= {'subPropertyOf': {('Houdt_van','Kent'), ('Eet','Vindt_lekker')},\n",
    "      'subClassOf': {('Mens','Dier'),('Henk','Dier')},\n",
    "      'domain': {('isa','Mens')},\n",
    "      'range': {('isa', 'Dier')}}\n",
    "RDF= {('Henk','isa','Mens')}\n",
    "completion= complete_12522503(RDF,RDFS)\n",
    "print(completion)\n",
    "# geeft Henk isa Dier, maar niet Henk isa Student\n",
    "\n",
    "print(complete_12522503(test1[0][0],test1[0][1]))"
   ]
  },
  {
   "cell_type": "code",
   "execution_count": 5,
   "metadata": {
    "deletable": false,
    "editable": false,
    "id": "scCaahtv-DuB",
    "nbgrader": {
     "cell_type": "code",
     "checksum": "763a0fe78ece35645cc77e19ca989241",
     "grade": true,
     "grade_id": "s",
     "locked": true,
     "points": 0,
     "schema_version": 3,
     "solution": false
    }
   },
   "outputs": [],
   "source": [
    "# assert studnr!= 1234567, 'Dit is niet jouw student nummer!'"
   ]
  },
  {
   "cell_type": "code",
   "execution_count": 6,
   "metadata": {
    "deletable": false,
    "editable": false,
    "id": "oAi-Wqdw-DuB",
    "nbgrader": {
     "cell_type": "code",
     "checksum": "070400ba5a15227bdaf501045f73b487",
     "grade": true,
     "grade_id": "ft",
     "locked": true,
     "points": 0,
     "schema_version": 3,
     "solution": false
    }
   },
   "outputs": [],
   "source": [
    "RDFS= {'subPropertyOf': {('Houdt_van','Kent'), ('Eet','Vindt_lekker')},\n",
    "      'subClassOf': {('Mens','Dier'),('Student','Mens')},\n",
    "      'domain': {('Houdt_van','Mens')},\n",
    "      'range': {('Vindt_lekker','Eten')}}\n",
    "RDF= {('Henk','isa','Mens')}\n",
    "completion= complete_12522503(RDF,RDFS)\n",
    "assert isinstance(completion,set)\n",
    "for t in completion:\n",
    "    assert isinstance(t,tuple)\n",
    "    assert len(t)==3\n",
    "    assert isinstance(t[0], str)\n",
    "    assert isinstance(t[1], str)\n",
    "    assert isinstance(t[2], (str,int,float))\n",
    "    "
   ]
  },
  {
   "cell_type": "markdown",
   "metadata": {
    "id": "aWqnoAux-DuC"
   },
   "source": [
    "# Jouw lijst met testen"
   ]
  },
  {
   "cell_type": "code",
   "execution_count": 7,
   "metadata": {
    "colab": {
     "base_uri": "https://localhost:8080/"
    },
    "deletable": false,
    "id": "lGlbZLZy-DuC",
    "nbgrader": {
     "cell_type": "code",
     "checksum": "9898432852b07b6bf187a855316e8686",
     "grade": false,
     "grade_id": "t",
     "locked": false,
     "schema_version": 3,
     "solution": true
    },
    "outputId": "3501b8e5-15fc-4b43-a505-7a404bacffed"
   },
   "outputs": [
    {
     "name": "stdout",
     "output_type": "stream",
     "text": [
      "{('FemkeHalsema', 'isa', 'mens'), ('Amsterdam', 'haspopulation', 872.922), ('Amsterdam', 'isa', 'city'), ('Amsterdam', 'hasmayor', 'FemkeHalsema'), ('Netherlands', 'neighbours', 'Belgium'), ('Netherlands', 'isa', 'country'), ('Netherlands', 'hascapital', 'Amsterdam'), ('Belgium', 'isa', 'country'), ('Amsterdam', 'isa', 'capital')}\n",
      "{('dirk', 'isa', 'Man'), ('clara', 'isa', 'Mens'), ('dirk', 'isa', 'Mens'), ('dirk', 'Kent', 'clara'), ('dirk', 'Houdt_van', 'clara'), ('clara', 'isa', 'Vrouw')}\n",
      "{('Person', 'isa', 'Mens'), ('Mens', 'isa', 'Someone'), ('clara', 'isa', 'Person'), ('Vrouw', 'isa', 'Person'), ('Mens', 'isa', 'Mens'), ('Vrouw', 'isa', 'Mens'), ('clara', 'isa', 'Mens'), ('dirk', 'Kent', 'clara'), ('dirk', 'Houdt_van', 'clara'), ('Mens', 'isa', 'Person'), ('Person', 'isa', 'Someone'), ('Man', 'isa', 'Mens'), ('clara', 'isa', 'Vrouw'), ('dirk', 'isa', 'Person'), ('Vrouw', 'isa', 'Someone'), ('Man', 'isa', 'Someone'), ('dirk', 'isa', 'Man'), ('dirk', 'isa', 'Mens'), ('Man', 'isa', 'Person')}\n",
      "{('Man', 'isa', 'Naam'), ('dirk', 'isa', 'Man'), ('Vrouw', 'isa', 'Mens'), ('clara', 'isa', 'Mens'), ('dirk', 'isa', 'Mens'), ('dirk', 'Kent', 'clara'), ('dirk', 'Houdt_van', 'clara'), ('Man', 'isa', 'Mens'), ('Vrouw', 'isa', 'Naam'), ('clara', 'isa', 'Vrouw'), ('Naam', 'isa', 'Mens'), ('clara', 'isa', 'Naam'), ('dirk', 'isa', 'Naam')}\n",
      "{('henk', 'isa', 'Human'), ('henk', 'isa', 'Driver'), ('audi', 'isa', 'Car'), ('henk', 'isa', 'Adult'), ('henk', 'DrivesA', 'Car'), ('Car', 'isa', 'Object'), ('henk', 'OwnsA', 'Car'), ('henk', 'HasBoughtA', 'Car'), ('audi', 'isa', 'Vehicle')}\n"
     ]
    }
   ],
   "source": [
    "#testnaam= 'test_'+str(studnr)\n",
    "\n",
    "# jouw test\n",
    "\n",
    "test_12522503=[\n",
    "    ({('Netherlands','isa','country'), ('Amsterdam','isa','capital'),\n",
    "       ('Belgium','isa','country'), ('Netherlands','neighbours','Belgium'),\n",
    "       ('Netherlands','hascapital','Amsterdam'), ('Amsterdam','hasmayor','FemkeHalsema'),\n",
    "       (('Amsterdam','haspopulation',872.922))},  # RDF store\n",
    "     {'subPropertyOf': {('isin','hascapital')},  # RDFS store\n",
    "      'subClassOf': {('capital','city'), ('Netherlands','country')},\n",
    "      'domain': {('neighbours','country'), ('isin','city'), ('hascapital','country'), ('hasmayor','city')},\n",
    "      'range': {('neighbours','country'), ('isin','country'), ('hascapital','capital'), ('hasmayor','mens')}},\n",
    "       {('Amsterdam','isa','city'), ('Amsterdam', 'haspopulation', 872.922)}, # positieve voorbeelden\n",
    "       {('Amsterdam','neighbours','country')} # negatieve voorbeelden\n",
    "       ),\n",
    "\n",
    "       ({('dirk', 'isa', 'Man'), ('clara', 'isa', 'Vrouw'), ('dirk', 'Houdt_van', 'clara')},  # RDF store\n",
    "     {'subPropertyOf': {('Houdt_van', 'Kent')},  # RDFS store\n",
    "      'subClassOf': {('Man', 'Mens'), ('Vrouw', 'Mens')},\n",
    "      'domain': {},\n",
    "      'range': {}},\n",
    "       {('dirk', 'Kent', 'clara'), ('clara', 'isa', 'Mens'), ('dirk', 'isa', 'Mens'), \n",
    "        ('dirk', 'Houdt_van', 'clara')}, # positieve voorbeelden\n",
    "       {('clara', 'Houdt_van', 'dirk'), ('clara', 'Kent', 'dirk')} # negatieve voorbeelden\n",
    "       ),\n",
    "    \n",
    "    ({('dirk', 'isa', 'Man'), ('clara', 'isa', 'Vrouw'), ('dirk', 'Houdt_van', 'clara')},  # RDF store\n",
    "     {'subPropertyOf': {('Houdt_van', 'Kent')},  # RDFS store\n",
    "      'subClassOf': {('Man', 'Mens'), ('Vrouw', 'Mens'), ('Person', 'Mens')},\n",
    "      'domain': {('isa', 'Person')},\n",
    "      'range': {('isa', 'Someone')}},\n",
    "       {('Man', 'isa', 'Person'), ('clara', 'isa', 'Mens'), ('Person', 'isa', 'Someone')}, # positieve voorbeelden\n",
    "       {('clara', 'isa', 'Mens'), ('clara', 'Kent', 'dirk')} # negatieve voorbeelden\n",
    "        ),\n",
    "    \n",
    "    ({('dirk', 'isa', 'Man'), ('clara', 'isa', 'Vrouw'), ('dirk', 'Houdt_van', 'clara')},  # RDF store\n",
    "     {'subPropertyOf': {('Houdt_van', 'Kent')},  # RDFS store\n",
    "      'subClassOf': {('Man', 'Mens'), ('Vrouw', 'Mens'), ('dirk', 'Naam'), ('clara', 'Naam')},\n",
    "      'domain': {('isa', 'Naam')},\n",
    "      'range': {('isa', 'Mens')}},\n",
    "       {('Vrouw', 'isa', 'Mens'), ('clara', 'isa', 'Naam'), ('dirk', 'isa', 'Man')}, # positieve voorbeelden\n",
    "       {('Naam', 'isa', 'dirk'), ('Naam', 'Kent', 'clara')} # negatieve voorbeelden\n",
    "        ),\n",
    "\n",
    "    ({('henk', 'isa', 'Driver'), ('audi', 'isa', 'Car'), ('henk', 'DrivesA', 'Car'), ('henk', 'isa', 'Adult')},  # RDF store\n",
    "     {'subPropertyOf': {('DrivesA', 'OwnsA'), ('OwnsA', 'HasBoughtA')},  # RDFS store\n",
    "      'subClassOf': {('henk', 'Person'), ('Car', 'Vehicle'), ('Adult', 'Human')},\n",
    "      'domain': {('DrivesA', 'Human'), ('DrivesA', 'Adult')},\n",
    "      'range': {('HasBoughtA', 'Object')}},\n",
    "       {('henk', 'HasBoughtA', 'Car'), ('henk', 'isa', 'Driver'), ('henk', 'DrivesA', 'Car'), ('henk', 'isa', 'Adult'), \n",
    "        ('henk', 'OwnsA', 'Car'), ('audi', 'isa', 'Vehicle'), ('Car', 'isa', 'Object')}, # positieve voorbeelden\n",
    "       {('henk', 'isa', 'Object'), ('henk', 'HasBoughtA', 'Adult')} # negatieve voorbeelden\n",
    "    )\n",
    "       ]\n",
    "\n",
    "\n",
    "for test in test_12522503:\n",
    "  print(complete_12522503(test[0], test[1]))\n",
    "  # print(len(complete_12522503(test[0], test[1])))"
   ]
  },
  {
   "cell_type": "code",
   "execution_count": 8,
   "metadata": {
    "deletable": false,
    "editable": false,
    "id": "YehHN_AE-DuC",
    "nbgrader": {
     "cell_type": "code",
     "checksum": "eec1a8944bb8d0211b210689879b82fd",
     "grade": true,
     "grade_id": "tt",
     "locked": true,
     "points": 0,
     "schema_version": 3,
     "solution": false
    }
   },
   "outputs": [],
   "source": [
    "assert isinstance(test_12522503,list)\n",
    "for test in test_12522503:\n",
    "    assert isinstance(test,tuple)\n",
    "    assert len(test)==4\n",
    "    assert isinstance(test[0],set)\n",
    "    assert isinstance(test[1],dict)\n",
    "    assert isinstance(test[2],set)\n",
    "    assert isinstance(test[3],set)"
   ]
  },
  {
   "cell_type": "markdown",
   "metadata": {
    "id": "z-sRJESW-DuC"
   },
   "source": [
    "# Voor de echte diehards die gaan voor een 10\n",
    "\n",
    "Franconi beschrijft in zijn artikel dat je ook RDFS statements uit andere RDFS statements kunt afleiden. Hij geeft een leuk voorbeeld in het eerste plaatje.\n",
    "\n",
    "Dat kan jij natuurlijk ook!\n",
    "\n",
    "Maak een functie `complete(RDFS)` die precies alle RDFS statements afleidt die volgen uit de verzameling `RDFS`.\n",
    "\n",
    "Maak er ook weer een mooie testset bij, en beargumenteer dat jouw systeem geldig en volledig is."
   ]
  },
  {
   "cell_type": "code",
   "execution_count": 9,
   "metadata": {
    "id": "OTY7Zsd2Kg5_"
   },
   "outputs": [],
   "source": [
    "RDFS = {'subPropertyOf': {('hascapital','isin'), ('isin','isa')}, # RDFS store\n",
    "      'subClassOf': {('capital','city')},\n",
    "      'domain': {('neighbours','country'), ('isin','city'), ('hascapital','country')},\n",
    "      'range': {('neighbours','country'), ('isin','country'), ('hascapital','capital')}}"
   ]
  },
  {
   "cell_type": "code",
   "execution_count": 10,
   "metadata": {
    "colab": {
     "base_uri": "https://localhost:8080/",
     "height": 356
    },
    "id": "O3c-SaU8KIQl",
    "outputId": "74f60c7c-7bd2-4cad-a257-9db4c8f3c123"
   },
   "outputs": [
    {
     "name": "stdout",
     "output_type": "stream",
     "text": [
      "{'subPropertyOf': {('B', 'D'), ('A', 'B'), ('A', 'D'), ('B', 'C'), ('C', 'D'), ('A', 'C')}, 'subClassOf': {('D', 'E'), ('D', 'F'), ('E', 'F')}, 'domain': {('Letter', 'D'), ('Letter', 'C'), ('Letter', 'B')}, 'range': set()}\n"
     ]
    },
    {
     "data": {
      "image/png": "[encoded data removed]",
      "text/plain": [
       "<Figure size 432x288 with 1 Axes>"
      ]
     },
     "metadata": {},
     "output_type": "display_data"
    }
   ],
   "source": [
    "RDFS = {'subPropertyOf': { (\"B\", \"C\"), ('C', 'D'), ('A', 'B')},  # RDFS store\n",
    "      'subClassOf': {('D', 'E'), (\"E\", \"F\")},\n",
    "      'domain': {('Letter','B')},\n",
    "      'range': {}}\n",
    "\n",
    "\n",
    "def complete(RDFS):\n",
    "    import networkx as nx\n",
    "\n",
    "    subClasses = nx.DiGraph()\n",
    "    subProperties = nx.DiGraph()\n",
    " \n",
    "    for D in RDFS['domain']:\n",
    "        subClasses.add_edge(D[0], D[1], soort='Domain')\n",
    "        subProperties.add_edge(D[0], D[1], soort='Domain')\n",
    "        \n",
    "    for R in RDFS['range']:\n",
    "        subProperties.add_edge(R[0], R[1], soort='Range')\n",
    "        subClasses.add_edge(R[0], R[1], soort='Range')\n",
    "    \n",
    "    for sC in RDFS['subClassOf']:\n",
    "        subClasses.add_edge(sC[0], sC[1], soort='SC')\n",
    "        \n",
    "    for sP in RDFS['subPropertyOf']:\n",
    "        subProperties.add_edge(sP[0], sP[1], soort='SP')\n",
    "        \n",
    "\n",
    "\n",
    "    i = True\n",
    "    while i:\n",
    "        count = len(list(subClasses.edges()))+len(list(subProperties.edges()))\n",
    "\n",
    "        for rule in RDFS['subPropertyOf']:\n",
    "            A = rule[0]\n",
    "            B = rule[1]\n",
    "            for node in list(subProperties.nodes()):\n",
    "                if subProperties.has_edge(B, node) and nx.get_edge_attributes(subProperties, 'soort')[B, node] == 'SP':\n",
    "                    subProperties.add_edge(A, node, soort='SP')\n",
    "\n",
    "        for rule in RDFS['subClassOf']:\n",
    "            A = rule[0]\n",
    "            B = rule[1]\n",
    "            for node in list(subClasses.nodes()):\n",
    "                if subClasses.has_edge(B, node) and nx.get_edge_attributes(subClasses, 'soort')[B, node] == 'SC':\n",
    "                    subClasses.add_edge(A, node, soort='SC')\n",
    "\n",
    "        # Domain    \n",
    "        # A sp B, B dom C -> A dom C || A dom B, B sc C -> A dom C\n",
    "        for rule in RDFS['domain']:\n",
    "            B = rule[0]\n",
    "            C = rule[1]\n",
    "            for node in list(subProperties.nodes()):\n",
    "                if subProperties.has_edge(C, node) and nx.get_edge_attributes(subProperties, 'soort')[C, node] == 'SP':\n",
    "                    subProperties.add_edge(B, node, soort='Domain')\n",
    "            \n",
    "            for node in list(subClasses.nodes()):\n",
    "                if subClasses.has_edge(C, node) and nx.get_edge_attributes(subClasses, 'soort')[C, node] == 'SC':\n",
    "                    subClasses.add_edge(B, node, soort='Domain')\n",
    "        \n",
    "        \n",
    "        # Range\n",
    "        # A sp B, B ran C -> A ran C || A ran B, B sc C -> A ran C\n",
    "        for rule in RDFS['range']:\n",
    "            B = rule[0]\n",
    "            C = rule[1]\n",
    "            for node in list(subProperties.nodes()):\n",
    "                if subProperties.has_edge(C, node) and nx.get_edge_attributes(subProperties, 'soort')[C, node] == 'SP':\n",
    "                    subProperties.add_edge(B, node, soort='Range')\n",
    "            \n",
    "            for node in list(subClasses.nodes()):\n",
    "                if subClasses.has_edge(C, node) and nx.get_edge_attributes(subClasses, 'soort')[C, node] == 'SC':\n",
    "                    subClasses.add_edge(B, node, soort='Range')\n",
    "\n",
    "        if (len(list(subProperties.edges())) + len(list(subClasses.edges())) ) == count:\n",
    "            i = False\n",
    "    \n",
    "    SP, SC, Domain, Range = [[],[],[],[]]\n",
    "    for edge in list(subClasses.edges(data=True)):\n",
    "        if edge[2]['soort'] == 'SC':\n",
    "            SC.append((edge[0], edge[1]))\n",
    "        elif edge[2]['soort'] == 'Domain':\n",
    "            Domain.append((edge[0], edge[1]))\n",
    "        elif edge[2]['soort'] == 'Range':\n",
    "            Range.append((edge[0], edge[1]))\n",
    "            \n",
    "    for edge in list(subProperties.edges(data=True)):\n",
    "        if edge[2]['soort'] == 'SP':\n",
    "            SP.append((edge[0], edge[1]))\n",
    "        elif edge[2]['soort'] == 'Domain':\n",
    "            Domain.append((edge[0], edge[1]))\n",
    "        elif edge[2]['soort'] == 'Range':\n",
    "            Range.append((edge[0], edge[1]))\n",
    "   \n",
    "    result = {'subPropertyOf':set(SP),\n",
    "      'subClassOf': set(SC),\n",
    "      'domain': set(Domain),\n",
    "      'range': set(Range)}\n",
    "    \n",
    "    nx.draw(subProperties, with_labels=True)\n",
    "   \n",
    "    return result\n",
    "     \n",
    "completion= complete(RDFS)\n",
    "print(completion)"
   ]
  },
  {
   "cell_type": "markdown",
   "metadata": {
    "id": "Kpb5u-yNROqO"
   },
   "source": [
    "### Hoeveel RDFS statements zijn er eigenlijk die zouden kunnen volgen?\n",
    "\n",
    "* Gegeven de relaties en eigenschappen in de verzameling `RDFS` is dit eindig.\n",
    "* En er zijn maar 4 soorten RDFS statements. \n",
    "* Dus moet het wel eindig zijn, en kan je zelfs uitrekenen hoeveel.\n",
    "* Een manier is om ze allemaal te proberen....\n",
    "    * Voeg het antecedent toe als RDF-triple aan `RDFS` en kijk of het consequent dan volgt...\n",
    "* Reken het eens uit voor $r$ relaties en $p$ eigenschappen.\n",
    "    * Met $r$ relaties kan je $r\\cdot(r-1)$ veel `subPropertyOf` relaties maken toch...\n",
    "    * en dan nog ....\n",
    "    * en ....\n",
    "* Dit is niet eens zo gek, maar met een *chase* gaat het natuurlijk veel sneller omdat je dan resultaatgericht werkt in plaats van als een dolle alles gaat proberen.\n",
    "    * Bijv; Stel je hebt 100 relaties, maar in je RDFS komt er maar 1 voor in antecdent positie in `subPropertyOf` statements. Hoeveel `subPropertyOf` kan je dan afleiden? Ja, dat is dus sneller dan al die 100*99 te gaan proberen toch? Want dat is best veel.\n"
   ]
  },
  {
   "cell_type": "code",
   "execution_count": 11,
   "metadata": {
    "colab": {
     "base_uri": "https://localhost:8080/"
    },
    "id": "jHwurp8IKmTP",
    "outputId": "d462e19b-c6fd-4a98-e5bd-dea970248718"
   },
   "outputs": [
    {
     "data": {
      "text/plain": [
       "8"
      ]
     },
     "execution_count": 11,
     "metadata": {},
     "output_type": "execute_result"
    }
   ],
   "source": [
    "# Als het mogelijk is dat subProperty relaties een cirkel vormen\n",
    "r= len(RDFS['subPropertyOf'])\n",
    "Aantal_mogelijke_RDFS_van_subPropertyOf = r*(r-1)\n",
    "\n",
    "# Als het mogelijk is dat subClass relaties een cirkel vormen\n",
    "p= len(RDFS['subClassOf'])\n",
    "Aantal_mogelijke_RDFS_van_subClassOf = p*(p-1)\n",
    "\n",
    "Aantal_mogelijke_RDFS = Aantal_mogelijke_RDFS_van_subPropertyOf + Aantal_mogelijke_RDFS_van_subClassOf\n",
    "\n",
    "# Dit is wat maximaal mogelijk zou zijn als de domain en range er verder geen restricties op leggen\n",
    "Aantal_mogelijke_RDFS"
   ]
  },
  {
   "cell_type": "code",
   "execution_count": null,
   "metadata": {
    "id": "xG1Kp8u5DOkR"
   },
   "outputs": [],
   "source": []
  }
 ],
 "metadata": {
  "colab": {
   "collapsed_sections": [],
   "name": "AssignmentWeek6 (1).ipynb",
   "provenance": []
  },
  "kernelspec": {
   "display_name": "Python 3",
   "language": "python",
   "name": "python3"
  },
  "language_info": {
   "codemirror_mode": {
    "name": "ipython",
    "version": 3
   },
   "file_extension": ".py",
   "mimetype": "text/x-python",
   "name": "python",
   "nbconvert_exporter": "python",
   "pygments_lexer": "ipython3",
   "version": "3.7.6"
  },
  "toc": {
   "nav_menu": {},
   "number_sections": true,
   "sideBar": true,
   "skip_h1_title": false,
   "title_cell": "Table of Contents",
   "title_sidebar": "Contents",
   "toc_cell": true,
   "toc_position": {},
   "toc_section_display": true,
   "toc_window_display": false
  }
 },
 "nbformat": 4,
 "nbformat_minor": 1
}
