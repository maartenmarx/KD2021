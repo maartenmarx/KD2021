{
 "cells": [
  {
   "cell_type": "markdown",
   "metadata": {
    "id": "BA5ZYcWNd7L3"
   },
   "source": [
    "# Assignment Kennis en Data"
   ]
  },
  {
   "cell_type": "markdown",
   "metadata": {
    "id": "ksV-rFJ3d7L7"
   },
   "source": [
    "## Notebook made by\n",
    "\n",
    "\n",
    "|Naam|Studentnummer|\n",
    "|-|-|\n",
    "|Chaim| secret |\n",
    "|Maarten| secret |\n",
    "|Naomi|secret|\n",
    "|Martijn|secret |\n",
    "\n",
    "## Peerreview\n",
    "\n",
    "* Vul onderstaande dict/tabel in en run de cel. Klopt het? Zijn jullie het er allemaal mee eens?\n",
    "    * Verander `1,2,3,4` door jullie studentnummers\n",
    "    * `1: {1:.2,2:.3,3:.3,4:.2}` betekent dat student 1 zijn punt zo over de 4 studenten verdeelt\n",
    "    * Let op, per student moeten de punten optellen tot 1!\n",
    "    * De gegeven punten staan in de tabel op de rijen, de ontvangen punten in de kolommen.\n",
    "    * met `cijfer_per_student` kan je bepalen welk cijfer ieder krijgt bij een gegeven groepscijfer."
   ]
  },
  {
   "cell_type": "markdown",
   "metadata": {
    "id": "9XtOnYlKd7L8"
   },
   "source": [
    "## Toelichting\n",
    "\n",
    "* De meeste opgaven worden automatisch nagekeken. Bij vrijwel alle opdrachten staan er een paar tests onder de opdracht, dit is voornamelijk om te zorgen dat je de juiste type output geeft. Dit zijn dus *NIET* alle tests, die komen er bij het graden nog bij.\n",
    "* Elke vraag is 1 punt waard, tenzij anders aangegeven. Soms is die punt onderverdeeld in deelpunten, maar niet altijd. \n",
    "\n",
    "## Voor het inleveren!\n",
    "\n",
    "* Pas niet de cellen aan, vooral niet die je niet kunt editen. Dit levert problemen op bij nakijken. Twijfel je of je per ongeluk iets hebt gewijzigd, kopieer dan bij inleveren je antwoorden naar een nieuw bestand, zodat het niet fout kan gaan.\n",
    "\n",
    "* Zorg dat de code goed runt van boven naar beneden, verifieer dat door boven in Kernel -> Restart & Run All uit te voeren\n",
    "\n",
    "## Na het inleveren!\n",
    "\n",
    "* Het gebeurt erg vaak dat mensen een \"leeg bestand\" inleveren. Vaak een andere versie van de opgave die nog ergens op je computer rondslingerde. Zonde van al je werk toch!\n",
    "* Dus, lever **minstens een half uur voor tijd in**. Download dan wat je hebt ingeleverd op Canvas. Geef het een andere naam om verwarring te voorkomen. En draai alle cellen, en bekijk het. Geen syntax fouten? Alle vragen gemaakt? Dan zit het vast wel goed, en hoef je niet in de zenuwen te zitten."
   ]
  },
  {
   "cell_type": "markdown",
   "metadata": {
    "id": "tFR0vr0gd7L8",
    "toc": true
   },
   "source": [
    "<h1>Table of Contents<span class=\"tocSkip\"></span></h1>\n",
    "<div class=\"toc\"><ul class=\"toc-item\"><li><span><a href=\"#RDF-en-RDFS-completion\" data-toc-modified-id=\"RDF-en-RDFS-completion-1\"><span class=\"toc-item-num\">1&nbsp;&nbsp;</span>RDF en RDFS completion</a></span><ul class=\"toc-item\"><li><span><a href=\"#Jouw-taak\" data-toc-modified-id=\"Jouw-taak-1.1\"><span class=\"toc-item-num\">1.1&nbsp;&nbsp;</span>Jouw taak</a></span><ul class=\"toc-item\"><li><span><a href=\"#Je-cijfer-is-gebaseerd-op\" data-toc-modified-id=\"Je-cijfer-is-gebaseerd-op-1.1.1\"><span class=\"toc-item-num\">1.1.1&nbsp;&nbsp;</span>Je cijfer is gebaseerd op</a></span></li><li><span><a href=\"#Voorwaarden\" data-toc-modified-id=\"Voorwaarden-1.1.2\"><span class=\"toc-item-num\">1.1.2&nbsp;&nbsp;</span>Voorwaarden</a></span><ul class=\"toc-item\"><li><span><a href=\"#Database-en-regels\" data-toc-modified-id=\"Database-en-regels-1.1.2.1\"><span class=\"toc-item-num\">1.1.2.1&nbsp;&nbsp;</span>Database en regels</a></span></li><li><span><a href=\"#Test-voorbeelden\" data-toc-modified-id=\"Test-voorbeelden-1.1.2.2\"><span class=\"toc-item-num\">1.1.2.2&nbsp;&nbsp;</span>Test voorbeelden</a></span></li><li><span><a href=\"#Check-ajb\" data-toc-modified-id=\"Check-ajb-1.1.2.3\"><span class=\"toc-item-num\">1.1.2.3&nbsp;&nbsp;</span>Check ajb</a></span></li></ul></li></ul></li></ul></li><li><span><a href=\"#Jouw-completion-functie\" data-toc-modified-id=\"Jouw-completion-functie-2\"><span class=\"toc-item-num\">2&nbsp;&nbsp;</span>Jouw completion functie</a></span></li><li><span><a href=\"#Jouw-lijst-met-testen\" data-toc-modified-id=\"Jouw-lijst-met-testen-3\"><span class=\"toc-item-num\">3&nbsp;&nbsp;</span>Jouw lijst met testen</a></span></li><li><span><a href=\"#Voor-de-echte-diehards-die-gaan-voor-een-10\" data-toc-modified-id=\"Voor-de-echte-diehards-die-gaan-voor-een-10-4\"><span class=\"toc-item-num\">4&nbsp;&nbsp;</span>Voor de echte diehards die gaan voor een 10</a></span><ul class=\"toc-item\"><li><ul class=\"toc-item\"><li><span><a href=\"#Hoeveel-RDFS-statements-zijn-er-eigenlijk-die-zouden-kunnen-volgen?\" data-toc-modified-id=\"Hoeveel-RDFS-statements-zijn-er-eigenlijk-die-zouden-kunnen-volgen?-4.0.1\"><span class=\"toc-item-num\">4.0.1&nbsp;&nbsp;</span>Hoeveel RDFS statements zijn er eigenlijk die zouden kunnen volgen?</a></span></li></ul></li></ul></li></ul></div>"
   ]
  },
  {
   "cell_type": "markdown",
   "metadata": {
    "id": "KAiGrH8hd7L8"
   },
   "source": [
    "# RDF en RDFS completion\n",
    "\n",
    "* We maken een programma dat gegeven een RDF triple store plus een set RDFS statements, alle mogelijke niet triviale logische consequenties hiervan afleidt, en die in een RDF en RDFS database zet.\n",
    "* Dit wordt ook wel *materialization* genoemd. Het idee is dat uit beide kennisbanken **exact dezelfde feiten volgen**, maar dat dat sneller kan vanuit de pure RDF versie (omdat je dan geen feiten hoeft af te leiden).\n",
    "* De technische term voor het algorithme dat deze \"completering\" doet is de *chase*.\n",
    "* Het [artikel van Enrico Franconi et al](https://link.springer.com/chapter/10.1007/978-3-642-41335-3_7) bevat een systeem.\n",
    "* Net als in Franconi werken we alleen met de 4 interresantste RDFS statements:\n",
    "    * **Hierarchie** \n",
    "        * $\\forall xy (Rxy \\rightarrow Sxy)$  (\" to love him is to know him\", als je van iemand houdt dan ken je diegene) \n",
    "        * $\\forall x (Horse(x) \\rightarrow Animal(x))$\n",
    "    * **Domain en range restrictions**\n",
    "        * $\\forall xy (Rxy \\rightarrow Dx)$ (domain) \"Als x een staart heeft is het een dier\"\n",
    "        * $\\forall xy (Rxy \\rightarrow Dy)$ (range)  \"Als je een  ouder bent van y, is y een mens.\"\n",
    "        \n",
    "## Jouw taak\n",
    "\n",
    "1. Maak de functie `complete(facts, rules)` die voldoet aan de volgende eigenschap:\n",
    "    * voor elke feit `(o,p,s)`, facts+rules $\\models$ (o,p,s) $\\Leftrightarrow$ `complete(facts, rules)` $\\models$ (o,p,s) \n",
    "        * Jouw functie is zowel volledig als geldig (*sound and complete*), dat is exact wat je wilt.\n",
    "    * `complete(facts, rules)` is een verzameling feiten.\n",
    "2. Maak een flinke collectie van tests waarmee je test dat jouw functie aan die eisen voldoet. \n",
    "    * Dus dat het niet te veel en niet te weinig, maar exact de juiste feiten impliceert.\n",
    "    * Je deelt die tests met alle anderen, en ook jouw functie, en we gaan dus elke functie tegen elke test draaien, en dus een matrix met scores maken.\n",
    "    \n",
    "### Je cijfer is gebaseerd op \n",
    "\n",
    "1. Hoe goed doorstaat jouw functie alle tests.\n",
    "2. Hoe goed zijn jouw tests.\n",
    "    * Strenge (doch rechtvaardige) tests zijn natuurlijk het best. Tests waar iedereen voor slaagt lijken leuk maar zijn meestal niet veel waard. \n",
    "    \n",
    "    \n",
    "### Voorwaarden\n",
    "\n",
    "#### Database en regels\n",
    "\n",
    "We werken niet direct met RDF en RDFS omdat dat zo'n enorme syntax overhead heeft. We doen de dingen gewoon lekker in Python.\n",
    "\n",
    "* Je RDF store is een verzameling triples, waarbij de 3 elementen strings of integers of floats zijn.\n",
    "    * Je schrijft eigenschappen van individuen als `('henk', 'isa', 'Man')`\n",
    "        * dus altijd met de vaste relatie `isa` in het midden.\n",
    "    * en relaties tussen individuen als `('henk', Houdt_van', 'ingrid')`\n",
    "    * en idem voor relaties tussen individuen en getallen `('henk', 'leeftijd', 53)`\n",
    "    * Begin namen van individuen (\"knopen\") meteen kleine letter, en eigenschappen en relaties met een grote.\n",
    "* Je RDFS store is een dict met sleutels `['subPropertyOf', 'subClassOf', 'domain', 'range']` en voor elke sleutel een verzameling met 2-tuples (paartjes in gewoon Nederlands) als waarde. \n",
    "\n",
    "#### Test voorbeelden\n",
    "\n",
    "Een testset is een lijst triples van de vorm `(D:RDF_store, R:RDFS_store, Pos:RDF_store, Neg:RDF_store)` waarvoor geldt dat \n",
    "* voor elk triple t in Pos: $D,R\\models t$\n",
    "* voor elk triple t in Neg: $D,R\\not\\models t$\n",
    "* Met $\\models$ wordt dus bedoeld volgens de Franconi semantiek, en dus ook volgens de RDF semantiek. Dat betekent dus niet per se dat dit hetzelfde is als volgens jouw completion functie (want die zou fouten kunnen maken).\n",
    "* Hieronder staat een flauw voorbeeld. Jounes is veel gaver en strenger en leuker  natuurlijk!\n",
    "\n",
    "#### Check ajb\n",
    "\n",
    "* Als de tests hieronder niet slagen kunnen we niks met je code, en kan je  dus niet meedoen. Zonde van al je werk toch?"
   ]
  },
  {
   "cell_type": "code",
   "execution_count": null,
   "metadata": {
    "colab": {
     "base_uri": "https://localhost:8080/"
    },
    "deletable": false,
    "editable": false,
    "id": "kkRUCVkAd7L-",
    "nbgrader": {
     "cell_type": "code",
     "checksum": "2fa770e88b5b07eba6aab91f623677b0",
     "grade": false,
     "grade_id": "rfds",
     "locked": true,
     "schema_version": 3,
     "solution": false
    },
    "outputId": "e81cf9a7-d5b9-4e11-fb64-df7e2b7efc94"
   },
   "outputs": [
    {
     "data": {
      "text/plain": [
       "{'domain': {('Houdt_van', 'Mens')},\n",
       " 'range': ('Vindt_lekker', 'Eten'),\n",
       " 'subClassOf': {('Mens', 'Dier'), ('Student', 'Mens')},\n",
       " 'subPropertyOf': {('Eet', 'Vindt_lekker'), ('Houdt_van', 'Kent')}}"
      ]
     },
     "execution_count": 2,
     "metadata": {
      "tags": []
     },
     "output_type": "execute_result"
    }
   ],
   "source": [
    "# voorbeeld\n",
    "RDFS= {'subPropertyOf': {('Houdt_van','Kent'), ('Eet','Vindt_lekker')},\n",
    "      'subClassOf': {('Mens','Dier'),('Student','Mens')},\n",
    "      'domain': {('Houdt_van','Mens')},\n",
    "      'range': ('Vindt_lekker','Eten')}\n",
    "RDFS"
   ]
  },
  {
   "cell_type": "code",
   "execution_count": null,
   "metadata": {
    "colab": {
     "base_uri": "https://localhost:8080/"
    },
    "deletable": false,
    "editable": false,
    "id": "9_S4QOUid7MA",
    "nbgrader": {
     "cell_type": "code",
     "checksum": "21954308ba447742faade218f1e5fb5b",
     "grade": false,
     "grade_id": "test",
     "locked": true,
     "schema_version": 3,
     "solution": false
    },
    "outputId": "b1eaa212-c78c-4380-afb4-2c2fc5a7045e"
   },
   "outputs": [
    {
     "data": {
      "text/plain": [
       "[({('Henk', 'isa', 'Mens')},\n",
       "  {'domain': set(),\n",
       "   'range': set(),\n",
       "   'subClassOf': {('Mens', 'Sterfelijk')},\n",
       "   'subPropertyOf': set()},\n",
       "  {('Henk', 'isa', 'Sterfelijk')},\n",
       "  {('henk', 'Houdt_van', 'ingrid')})]"
      ]
     },
     "execution_count": 3,
     "metadata": {
      "tags": []
     },
     "output_type": "execute_result"
    }
   ],
   "source": [
    "# voorbeeld\n",
    "\n",
    "test1= [\n",
    "    ({('Henk','isa','Mens')},  # RDF store\n",
    "       {'subPropertyOf': set(),  # RDFS store\n",
    "      'subClassOf': {('Mens','Sterfelijk')},\n",
    "      'domain': set(),\n",
    "      'range':  set()},\n",
    "       {('Henk','isa','Sterfelijk')}, # positieve voorbeelden\n",
    "       {('henk', 'Houdt_van', 'ingrid')} # negatieve voorbeelden\n",
    "       )\n",
    "       ]\n",
    "test1"
   ]
  },
  {
   "cell_type": "markdown",
   "metadata": {
    "id": "P8bjv9fad7MA"
   },
   "source": [
    "# Jouw completion functie"
   ]
  },
  {
   "cell_type": "code",
   "execution_count": 4,
   "metadata": {
    "colab": {
     "base_uri": "https://localhost:8080/"
    },
    "deletable": false,
    "id": "lcLAnaNTd7MA",
    "nbgrader": {
     "cell_type": "code",
     "checksum": "e5a511d86305f5c585c5f0450a976d96",
     "grade": false,
     "grade_id": "f",
     "locked": false,
     "schema_version": 3,
     "solution": true
    },
    "outputId": "78bc6ecb-c0de-40be-a679-45fa0f084369"
   },
   "outputs": [],
   "source": [
    "studnr=12314188 # verander door het student id van jullie groepsleider\n",
    "functienaam= 'complete_'+str(studnr)\n",
    "# print(functienaam)\n",
    " \n",
    "RDFS2= {'subPropertyOf': {('Houdt_van','Kent'), ('Eet','Vindt_lekker')},\n",
    "      'subClassOf': {('Mens','Dier'),('Student','Mens'),('Hond','Dier')},\n",
    "      'domain': {('Houdt_van','Mens')},\n",
    "      'range': {('Vindt_lekker','Eten')}\n",
    "}\n",
    " \n",
    "RDF2 = {('Jan','Houdt_van','Lola'),('Jan','Vindt_lekker','Pizza'),('Blaf','isa','Hond'),('Rob','isa','Student'),('sjaak', 'proeft', 'komkommer')}\n",
    " \n",
    "def complete_12314188(facts, rules):  \n",
    "  conclusion = ()\n",
    "  \n",
    "  while True:\n",
    "    for x in facts:\n",
    "      #check alle subklasses\n",
    "      for y in rules['subClassOf']:\n",
    "        \n",
    "        #checkt of het subject van de triple een subclasse is\n",
    "        if x[2] == y[0]:\n",
    "          if (x[0], x[1], y[1]) not in facts:\n",
    "            conclusion = (x[0], x[1], y[1])\n",
    " \n",
    "        #checkt of het object van de triple een subklasse is\n",
    "        if x[0] == y[0] and not len(conclusion) > 0:\n",
    "          if (y[1], x[1], x[2]) not in facts:\n",
    "            conclusion = (y[1], x[1], x[2])\n",
    " \n",
    "        #controlleert de subpropertys\n",
    "        if not len(conclusion) > 0:\n",
    "          for y in rules['subPropertyOf']:\n",
    "            if x[1] == y[0]:\n",
    "              if (x[0], y[1], x[2]) not in facts:\n",
    "                conclusion = (x[0], y[1], x[2])\n",
    " \n",
    "        #controlleert het domein\n",
    "        if not len(conclusion) > 0:\n",
    "          for y in rules['domain']:\n",
    "            if x[1] == y[0]:\n",
    "              if (x[0], \"isa\" ,y[1]) not in facts:\n",
    "                conclusion = (x[0], \"isa\" ,y[1])\n",
    " \n",
    "        #controlleert de range\n",
    "        if not len(conclusion) > 0:\n",
    "          for y in rules['range']:\n",
    "            if x[1] == y[0]:\n",
    "              if (x[2], \"isa\" ,y[1]) not in facts:\n",
    "                conclusion = (x[2], \"isa\" ,y[1])\n",
    "          \n",
    "    if len(conclusion) > 0:\n",
    "      facts.add(conclusion)\n",
    "      conclusion = ()\n",
    "    else:\n",
    "      return facts\n",
    "      \n",
    "# print(complete_12314188(RDF2, RDFS2))\n",
    " \n",
    " \n",
    " \n",
    "#test\n",
    "#facts= test1[0][0]\n",
    "#rules= test1[0][1]\n",
    "#print(facts)\n",
    "#print(rules)\n",
    "# functienaam(facts,rules)"
   ]
  },
  {
   "cell_type": "code",
   "execution_count": null,
   "metadata": {
    "deletable": false,
    "editable": false,
    "id": "MsQ9YfNBd7MA",
    "nbgrader": {
     "cell_type": "code",
     "checksum": "31bb7fb371f82329a691664a7fa3b08e",
     "grade": true,
     "grade_id": "s",
     "locked": true,
     "points": 0,
     "schema_version": 3,
     "solution": false
    }
   },
   "outputs": [],
   "source": [
    "assert studnr!= 1234567, 'Dit is niet jouw student nummer!'\n"
   ]
  },
  {
   "cell_type": "code",
   "execution_count": 2,
   "metadata": {
    "deletable": false,
    "editable": false,
    "id": "EcozNFpRd7MB",
    "nbgrader": {
     "cell_type": "code",
     "checksum": "b68d9775579a434d5891083c55365172",
     "grade": true,
     "grade_id": "ft",
     "locked": true,
     "points": 0,
     "schema_version": 3,
     "solution": false
    }
   },
   "outputs": [],
   "source": [
    "RDFS= {'subPropertyOf': {('Houdt_van','Kent'), ('Eet','Vindt_lekker')},\n",
    "      'subClassOf': {('Mens','Dier'),('Student','Mens')},\n",
    "      'domain': {('Houdt_van','Mens')},\n",
    "      'range': {('Vindt_lekker','Eten')}\n",
    "      }\n",
    "RDF= {('Henk','isa','Mens')}\n",
    "completion= complete_12314188(RDF,RDFS)\n",
    "assert isinstance(completion,set)\n",
    "for t in completion:\n",
    "    assert isinstance(t,tuple)\n",
    "    assert len(t)==3\n",
    "    assert isinstance(t[0], str)\n",
    "    assert isinstance(t[1], str)\n",
    "    assert isinstance(t[2], (str, int,float))\n",
    "    "
   ]
  },
  {
   "cell_type": "markdown",
   "metadata": {
    "id": "GDY9sLOUd7MB"
   },
   "source": [
    "# Jouw lijst met testen"
   ]
  },
  {
   "cell_type": "code",
   "execution_count": 19,
   "metadata": {
    "deletable": false,
    "id": "kkLsslEFd7MB",
    "nbgrader": {
     "cell_type": "code",
     "checksum": "793a3e6331c6791cdd2420fd4518352e",
     "grade": false,
     "grade_id": "t",
     "locked": false,
     "schema_version": 3,
     "solution": true
    }
   },
   "outputs": [],
   "source": [
    "testnaam= 'test_'+str(12314188)\n",
    "\n",
    "# test of de supPropertyOf niet de tegengestelde richting op werkt. \n",
    "test1 = ({('sophie', 'Kookt', 'Spaghetti'), ('sophie', 'Vindt_lekker', 'Pizza')},\n",
    "        {'subPropertyOf': {('Kookt', 'Vindt_lekker'), ('Vindt_lekker', 'Eet' )},  \n",
    "      'subClassOf': set(),\n",
    "      'domain': set(),\n",
    "      'range':  {'Kookt', 'Eten'}}, {('sophie', 'Kookt', 'Spaghetti'), ('sophie', 'Vindt_lekker', 'Spaghetti'), ('sophie', 'Eet', 'Spaghetti'), ('sophie', 'Kookt', 'Eten')}, \n",
    "      {('sophie', 'Kookt', 'Pizza')}\n",
    "      )\n",
    "\n",
    "# test of de facts ook terugkomen in de output\n",
    "test2 = ({('piet', 'isa', 'Cool')},  {'subPropertyOf': set(),  \n",
    "      'subClassOf': set(),\n",
    "      'domain': set(),\n",
    "      'range': set()}, {('piet', 'isa', 'Cool')}, {('piet','isa','Man')}\n",
    "      )\n",
    "\n",
    "# test of domain niet de tegengestelde richting op werkt\n",
    "test3 = ({('henk','Houdt_van','lola')},  # RDF store\n",
    "       {'subPropertyOf':{('Houdt_van','Kent')},  # RDFS store\n",
    "      'subClassOf': {('Mens','Dier'),('Student','Mens'),('Dier','Sterfelijk')},\n",
    "      'domain': {('Houdt_van','Mens')},\n",
    "      'range':  set()},\n",
    "       {('henk','isa','Sterfelijk'),('henk','isa','Mens'),('henk','Houdt_van','lola'),('henk','isa','Dier'),('henk', 'Kent', 'lola')}, # positieve voorbeelden\n",
    "       {('henk', 'Houdt_van', 'ingrid'),('lola','isa','Mens'),('lola','isa','Dier'),('lola','isa','Sterfelijk'),('lola','Houdt_van','henk')} # negatieve voorbeelden\n",
    "       )\n",
    "    \n",
    "# test of subclassof goed werkt met een lange lijst\n",
    "test4 = ({('henk','isa','Eerst_Jaars_Student')},  # RDF store\n",
    "       {'subPropertyOf':set(),  # RDFS store\n",
    "      'subClassOf': {('Mens','Dier'),('Student','Mens'),('Dier','Sterfelijk'),('Eerst_Jaars_Student','Bachelor_Student'),('Bachelor_Student','Student')},\n",
    "      'domain': {('Houdt_van','Mens')},\n",
    "      'range':  set()},\n",
    "       {('henk','isa','Eerst_Jaars_Student'),('henk','isa','Bachelor_Student'),('henk','isa','Student'),('henk','isa','Mens'),\n",
    "        ('henk','isa','Dier'),('henk','isa','Sterfelijk')}, # positieve voorbeelden\n",
    "       {('henk','Houdt_van','Iris')} # negatieve voorbeelden\n",
    "       )\n",
    "\n",
    "# test of subclassof niet in de verkeerde richting werkt\n",
    "test5 = ({('henk','isa','Bachelor_Student')},  # RDF store\n",
    "       {'subPropertyOf':set(),  # RDFS store\n",
    "      'subClassOf': {('Mens','Dier'),('Student','Mens'),('Dier','Sterfelijk'),('Eerst_Jaars_Student','Bachelor_Student'),('Bachelor_Student','Student')},\n",
    "      'domain': {('Houdt_van','Mens')},\n",
    "      'range':  set()},\n",
    "       {('henk','isa','Bachelor_Student'),('henk','isa','Student'),('henk','isa','Mens'),\n",
    "        ('henk','isa','Dier'),('henk','isa','Sterfelijk')}, # positieve voorbeelden\n",
    "       {('henk','isa','Eerst_Jaars_Student')} # negatieve voorbeelden\n",
    "       )\n",
    "\n",
    "# test of range niet in de verkeerde richting werkt\n",
    "test6 = ({('henk','Eet','Pizza')},  # RDF store\n",
    "       {'subPropertyOf':set(),  # RDFS store\n",
    "      'subClassOf': {('Mens','Dier'),('Student','Mens'),('Dier','Sterfelijk')},\n",
    "      'domain': {('Houdt_van','Mens')},\n",
    "      'range':  {('Eet','Eten')}},\n",
    "       {('Pizza','isa','Eten')}, # positieve voorbeelden\n",
    "       {('henk','isa','Eten'),('henk','isa','Pizza')} # negatieve voorbeelden\n",
    "       )\n",
    "\n",
    "# test of dezelfde facts 3 verschillende soorten rules kan \n",
    "test7 = ({('piet', 'Speelt', 'In_de_tuin')}, \n",
    "         {'subPropertyOf': {('Speelt', 'Zont')},  \n",
    "      'subClassOf': {('Heeft_kleurtje','Bruin' )},\n",
    "      'domain': {('Zont', 'Heeft_kleurtje')},\n",
    "      'range': set()}, \n",
    "       {('piet', 'Speelt', 'In_de_tuin'), ('piet', 'Zont', 'In_de_tuin'), ('piet', 'isa', 'Heeft_kleurtje'), ('piet', 'isa', 'Bruin')}, \n",
    "        {('piet','isa','In_de_tuin')} \n",
    "       )\n",
    "\n",
    "# test of 3x subclasse goed werkt\n",
    "test8 = ({('piet', 'Kookt', 'Wortelen')},  {'subPropertyOf': set(),  \n",
    "      'subClassOf': {('Wortelen', 'Groente'), ('Groente', 'Gezond'), ('Gezond', 'Eten')},\n",
    "      'domain': set(),\n",
    "      'range': set()}, {('piet', 'Kookt', 'Wortelen'), ('piet', 'Kookt', 'Groente'), ('piet', 'Kookt', 'Gezond'), ('piet', 'Kookt', 'Eten')}, \n",
    "          {('piet','isa','Wortelen')} \n",
    "         )\n",
    "\n",
    "#test of een predicaat 3 verschillende rules aankan\n",
    "test9 = ({('henk', 'Houdt_van', 'sophie')},  {'subPropertyOf': set(),  \n",
    "      'subClassOf': set(),\n",
    "      'domain': {('Houdt_van', 'Mens')},\n",
    "      'range': {('Houdt_van', 'Mens')}}, {('henk', 'isa', 'mens'), ('sophie', 'isa', 'mens')}, \n",
    "          {('henk','isa','sophie')} )\n",
    "\n",
    "#2 facts moeten dezelfde rule gebruiken\n",
    "test10 = ({('paprika', 'isa', 'Groente'), ('tomaat', 'isa', 'Groente')},  {'subPropertyOf': set(),  \n",
    "      'subClassOf': {('Groente', 'Eten')},\n",
    "      'domain': set(),\n",
    "      'range': set()}, {('paprika', 'isa', 'Eten'), ('paprika', 'isa', 'Eten')}, \n",
    "         {('paprika','isa','tomaat')} )\n",
    "\n",
    "# Test of de functie integers accepteert\n",
    "test11 = ({('henk','Komt_uit',1971)},  # RDF store\n",
    "       {'subPropertyOf':set(),  # RDFS store\n",
    "      'subClassOf': {('Mens','Dier'),('Student','Mens'),('Dier','Sterfelijk')},\n",
    "      'domain': {('Houdt_van','Mens')},\n",
    "      'range':  {('Komt_uit','Jaartal')}},  {('henk','Komt_uit',1971)},  {('henk','isa',1971)})\n",
    "\n",
    "# Test of de functie floats accepteert\n",
    "test12 = ({('harry','Heeft_lengte', 1.90)},  # RDF store\n",
    "       {'subPropertyOf':set(),  # RDFS store\n",
    "      'subClassOf': {('Mens','Dier'),('Student','Mens'),('Dier','Sterfelijk')},\n",
    "      'domain': {('Houdt_van','Mens')},\n",
    "      'range':  {('Heeft_lengte','lengte_in_meter')}},  {('harry','Heeft_lengte',1.90)}, {('harry','isa',1.90)})\n",
    "\n",
    "# print(complete_12314188(test11[0], test11[1]))\n",
    "      \n",
    "test_12314188 = [test1, test2, test3, test4, test5, test6, test7, test8 ,test9 ,test10, test11, test12] # zet hier je tests in"
   ]
  },
  {
   "cell_type": "code",
   "execution_count": 20,
   "metadata": {
    "deletable": false,
    "editable": false,
    "id": "SH78ZbmHd7MB",
    "nbgrader": {
     "cell_type": "code",
     "checksum": "eec1a8944bb8d0211b210689879b82fd",
     "grade": true,
     "grade_id": "tt",
     "locked": true,
     "points": 0,
     "schema_version": 3,
     "solution": false
    }
   },
   "outputs": [],
   "source": [
    "assert isinstance(test_12314188,list)\n",
    "for test in test_12314188:\n",
    "    assert isinstance(test,tuple)\n",
    "    assert len(test)==4\n",
    "    assert isinstance(test[0],set)\n",
    "    assert isinstance(test[1],dict)\n",
    "    assert isinstance(test[2],set)\n",
    "    assert isinstance(test[3],set)"
   ]
  },
  {
   "cell_type": "markdown",
   "metadata": {
    "id": "_LyHgsiLd7MB"
   },
   "source": [
    "# Voor de echte diehards die gaan voor een 10\n",
    "\n",
    "Franconi beschrijft in zijn artikel dat je ook RDFS statements uit andere RDFS statements kunt afleiden. Hij geeft een leuk voorbeeld in het eerste plaatje.\n",
    "\n",
    "Dat kan jij natuurlijk ook!\n",
    "\n",
    "Maak een functie `complete(RDFS)` die precies alle RDFS statements afleidt die volgen uit de verzameling `RDFS`.\n",
    "\n",
    "Maak er ook weer een mooie testset bij, en beargumenteer dat jouw systeem geldig en volledig is.\n",
    "\n",
    "### Hoeveel RDFS statements zijn er eigenlijk die zouden kunnen volgen?\n",
    "\n",
    "* Gegeven de relaties en eigenschappen in de verzameling `RDFS` is dit eindig.\n",
    "* En er zijn maar 4 soorten RDFS statements. \n",
    "* Dus moet het wel eindig zijn, en kan je zelfs uitrekenen hoeveel.\n",
    "* Een manier is om ze allemaal te proberen....\n",
    "    * Voeg het antecedent toe als RDF-triple aan `RDFS` en kijk of het consequent dan volgt...\n",
    "* Reken het eens uit voor $r$ relaties en $p$ eigenschappen.\n",
    "    * Met $r$ relaties kan je $r\\cdot(r-1)$ veel `subPropertyOf` relaties maken toch...\n",
    "    * en dan nog ....\n",
    "    * en ....\n",
    "* Dit is niet eens zo gek, maar met een *chase* gaat het natuurlijk veel sneller omdat je dan resultaatgericht werkt in plaats van als een dolle alles gaat proberen.\n",
    "    * Bijv; Stel je hebt 100 relaties, maar in je RDFS komt er maar 1 voor in antecdent positie in `subPropertyOf` statements. Hoeveel `subPropertyOf` kan je dan afleiden? Ja, dat is dus sneller dan al die 100*99 te gaan proberen toch? Want dat is best veel."
   ]
  },
  {
   "cell_type": "code",
   "execution_count": 11,
   "metadata": {
    "id": "EojQBXktY060"
   },
   "outputs": [
    {
     "data": {
      "text/plain": [
       "{'subPropertyOf': {('Heeft_Relatie', 'Houdt_van'),\n",
       "  ('Heeft_Relatie', 'Kent'),\n",
       "  ('Houdt_van', 'Kent')},\n",
       " 'subClassOf': {('Hond', 'Dier'),\n",
       "  ('Mens', 'Dier'),\n",
       "  ('Student', 'Dier'),\n",
       "  ('Student', 'Mens')},\n",
       " 'domain': {('Houdt_van', 'Dier'),\n",
       "  ('Houdt_van', 'Mens'),\n",
       "  ('Kent', 'Dier'),\n",
       "  ('Kent', 'Mens')},\n",
       " 'range': {('Vindt_lekker', 'Eten')}}"
      ]
     },
     "execution_count": 11,
     "metadata": {},
     "output_type": "execute_result"
    }
   ],
   "source": [
    "RDFS_test = {'subPropertyOf': {('Houdt_van','Kent'), ('Heeft_Relatie','Houdt_van')},\n",
    "      'subClassOf': {('Mens','Dier'),('Student','Mens'),('Hond','Dier')},\n",
    "      'domain': {('Houdt_van','Mens')},\n",
    "      'range': {('Vindt_lekker','Eten')}\n",
    "}\n",
    "\n",
    "def complete(RDFS):\n",
    "  conclusion = set()\n",
    "  while True:\n",
    "    #met subPopertyOf uitbereiden\n",
    "    if not len(conclusion) > 0:\n",
    "      for x in RDFS['subPropertyOf']:\n",
    "        for y in RDFS['subPropertyOf']:\n",
    "          if x[1] == y[0]:\n",
    "            if (x[0], y[1]) not in RDFS['subPropertyOf']:\n",
    "              conclusion = ['subPropertyOf',(x[0], y[1])]\n",
    "\n",
    "    #met subClassOf uitbereiden\n",
    "    if not len(conclusion) > 0:\n",
    "      for x in RDFS['subClassOf']:\n",
    "        for y in RDFS['subClassOf']:\n",
    "          if x[1] == y[0]:\n",
    "            if (x[0], y[1]) not in RDFS['subClassOf']:\n",
    "              conclusion = ['subClassOf',(x[0], y[1])]\n",
    "\n",
    "    #met domain en subPopertyOf uitebereiden\n",
    "    if not len(conclusion) > 0:\n",
    "      for x in RDFS['domain']:\n",
    "        for y in RDFS['subPropertyOf']:\n",
    "          if x[0] == y[0]:\n",
    "            if (y[1], x[1]) not in RDFS['domain']:\n",
    "              conclusion = ['domain',(y[1], x[1])]\n",
    "\n",
    "    #met domain en subClassOf uitebereiden\n",
    "    if not len(conclusion) > 0:\n",
    "      for x in RDFS['domain']:\n",
    "        for y in RDFS['subClassOf']:\n",
    "          if x[1] == y[0]:\n",
    "            if (x[0], y[1]) not in RDFS['domain']:\n",
    "              conclusion = ['domain',(x[0], y[1])]\n",
    "\n",
    "    #met range en subPopertyOf uitebereiden\n",
    "    if not len(conclusion) > 0:\n",
    "      for x in RDFS['range']:\n",
    "        for y in RDFS['subPropertyOf']:\n",
    "          if x[0] == y[0]:\n",
    "            if (x[1], y[1]) not in RDFS['range']:\n",
    "              conclusion = ['range',(y[1], x[1])]\n",
    "\n",
    "    #met range en subClassOf uitebereiden\n",
    "    if not len(conclusion) > 0:\n",
    "      for x in RDFS['range']:\n",
    "        for y in RDFS['subClassOf']:\n",
    "          if x[1] == y[0]:\n",
    "            if (y[0], x[1]) not in RDFS['range']:\n",
    "              conclusion = ['range',(x[0], y[1])]\n",
    "\n",
    "\n",
    "    if len(conclusion) > 0:\n",
    "      RDFS[conclusion[0]].add(conclusion[1])\n",
    "      conclusion = ()\n",
    "    else:\n",
    "      return RDFS\n",
    "\n",
    "complete(RDFS_test)"
   ]
  },
  {
   "cell_type": "code",
   "execution_count": null,
   "metadata": {
    "id": "wnESyjo8fYdK"
   },
   "outputs": [],
   "source": []
  }
 ],
 "metadata": {
  "colab": {
   "collapsed_sections": [],
   "name": "AssignmentWeek6 (5).ipynb",
   "provenance": []
  },
  "kernelspec": {
   "display_name": "Python 3",
   "language": "python",
   "name": "python3"
  },
  "language_info": {
   "codemirror_mode": {
    "name": "ipython",
    "version": 3
   },
   "file_extension": ".py",
   "mimetype": "text/x-python",
   "name": "python",
   "nbconvert_exporter": "python",
   "pygments_lexer": "ipython3",
   "version": "3.7.4"
  },
  "toc": {
   "nav_menu": {},
   "number_sections": true,
   "sideBar": true,
   "skip_h1_title": false,
   "title_cell": "Table of Contents",
   "title_sidebar": "Contents",
   "toc_cell": true,
   "toc_position": {},
   "toc_section_display": true,
   "toc_window_display": false
  }
 },
 "nbformat": 4,
 "nbformat_minor": 1
}
