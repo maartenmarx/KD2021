{
 "cells": [
  {
   "cell_type": "markdown",
   "metadata": {
    "collapsed": false
   },
   "source": [
    "# Assignment Kennis en Data"
   ]
  },
  {
   "cell_type": "markdown",
   "metadata": {
    "collapsed": false
   },
   "source": [
    "## Notebook made by\n",
    "\n",
    "\n",
    "|Naam|Studentnummer|\n",
    "|-|-|\n",
    "|Thomas|secret|\n",
    "|Agaath|secret|\n",
    "|Jesse|secret|\n",
    "|Sam|secret|\n",
    "\n",
    "## Peerreview\n",
    "\n",
    "* Vul onderstaande dict/tabel in en run de cel. Klopt het? Zijn jullie het er allemaal mee eens?\n",
    "    * Verander `1,2,3,4` door jullie studentnummers\n",
    "    * `1: {1:.2,2:.3,3:.3,4:.2}` betekent dat student 1 zijn punt zo over de 4 studenten verdeelt\n",
    "    * Let op, per student moeten de punten optellen tot 1!\n",
    "    * De gegeven punten staan in de tabel op de rijen, de ontvangen punten in de kolommen.\n",
    "    * met `cijfer_per_student` kan je bepalen welk cijfer ieder krijgt bij een gegeven groepscijfer."
   ]
  },
  {
   "cell_type": "markdown",
   "metadata": {
    "collapsed": false
   },
   "source": [
    "## Toelichting\n",
    "\n",
    "* De meeste opgaven worden automatisch nagekeken. Bij vrijwel alle opdrachten staan er een paar tests onder de opdracht, dit is voornamelijk om te zorgen dat je de juiste type output geeft. Dit zijn dus *NIET* alle tests, die komen er bij het graden nog bij.\n",
    "* Elke vraag is 1 punt waard, tenzij anders aangegeven. Soms is die punt onderverdeeld in deelpunten, maar niet altijd. \n",
    "\n",
    "## Voor het inleveren!\n",
    "\n",
    "* Pas niet de cellen aan, vooral niet die je niet kunt editen. Dit levert problemen op bij nakijken. Twijfel je of je per ongeluk iets hebt gewijzigd, kopieer dan bij inleveren je antwoorden naar een nieuw bestand, zodat het niet fout kan gaan.\n",
    "\n",
    "* Zorg dat de code goed runt van boven naar beneden, verifieer dat door boven in Kernel -> Restart & Run All uit te voeren\n",
    "\n",
    "## Na het inleveren!\n",
    "\n",
    "* Het gebeurt erg vaak dat mensen een \"leeg bestand\" inleveren. Vaak een andere versie van de opgave die nog ergens op je computer rondslingerde. Zonde van al je werk toch!\n",
    "* Dus, lever **minstens een half uur voor tijd in**. Download dan wat je hebt ingeleverd op Canvas. Geef het een andere naam om verwarring te voorkomen. En draai alle cellen, en bekijk het. Geen syntax fouten? Alle vragen gemaakt? Dan zit het vast wel goed, en hoef je niet in de zenuwen te zitten."
   ]
  },
  {
   "cell_type": "markdown",
   "metadata": {
    "collapsed": false,
    "toc": true
   },
   "source": [
    "<h1>Table of Contents<span class=\"tocSkip\"></span></h1>\n",
    "<div class=\"toc\"><ul class=\"toc-item\"><li><span><a href=\"#Assignment-Kennis-en-Data\" data-toc-modified-id=\"Assignment-Kennis-en-Data-1\"><span class=\"toc-item-num\">1&nbsp;&nbsp;</span>Assignment Kennis en Data</a></span><ul class=\"toc-item\"><li><span><a href=\"#Notebook-made-by\" data-toc-modified-id=\"Notebook-made-by-1.1\"><span class=\"toc-item-num\">1.1&nbsp;&nbsp;</span>Notebook made by</a></span></li><li><span><a href=\"#Peerreview\" data-toc-modified-id=\"Peerreview-1.2\"><span class=\"toc-item-num\">1.2&nbsp;&nbsp;</span>Peerreview</a></span></li><li><span><a href=\"#Toelichting\" data-toc-modified-id=\"Toelichting-1.3\"><span class=\"toc-item-num\">1.3&nbsp;&nbsp;</span>Toelichting</a></span></li><li><span><a href=\"#Voor-het-inleveren!\" data-toc-modified-id=\"Voor-het-inleveren!-1.4\"><span class=\"toc-item-num\">1.4&nbsp;&nbsp;</span>Voor het inleveren!</a></span></li><li><span><a href=\"#Na-het-inleveren!\" data-toc-modified-id=\"Na-het-inleveren!-1.5\"><span class=\"toc-item-num\">1.5&nbsp;&nbsp;</span>Na het inleveren!</a></span></li></ul></li><li><span><a href=\"#RDF-en-RDFS-completion\" data-toc-modified-id=\"RDF-en-RDFS-completion-2\"><span class=\"toc-item-num\">2&nbsp;&nbsp;</span>RDF en RDFS completion</a></span><ul class=\"toc-item\"><li><span><a href=\"#Jouw-taak\" data-toc-modified-id=\"Jouw-taak-2.1\"><span class=\"toc-item-num\">2.1&nbsp;&nbsp;</span>Jouw taak</a></span><ul class=\"toc-item\"><li><span><a href=\"#Je-cijfer-is-gebaseerd-op\" data-toc-modified-id=\"Je-cijfer-is-gebaseerd-op-2.1.1\"><span class=\"toc-item-num\">2.1.1&nbsp;&nbsp;</span>Je cijfer is gebaseerd op</a></span></li><li><span><a href=\"#Voorwaarden\" data-toc-modified-id=\"Voorwaarden-2.1.2\"><span class=\"toc-item-num\">2.1.2&nbsp;&nbsp;</span>Voorwaarden</a></span><ul class=\"toc-item\"><li><span><a href=\"#Database-en-regels\" data-toc-modified-id=\"Database-en-regels-2.1.2.1\"><span class=\"toc-item-num\">2.1.2.1&nbsp;&nbsp;</span>Database en regels</a></span></li><li><span><a href=\"#Test-voorbeelden\" data-toc-modified-id=\"Test-voorbeelden-2.1.2.2\"><span class=\"toc-item-num\">2.1.2.2&nbsp;&nbsp;</span>Test voorbeelden</a></span></li><li><span><a href=\"#Check-ajb\" data-toc-modified-id=\"Check-ajb-2.1.2.3\"><span class=\"toc-item-num\">2.1.2.3&nbsp;&nbsp;</span>Check ajb</a></span></li></ul></li></ul></li></ul></li><li><span><a href=\"#Jouw-completion-functie\" data-toc-modified-id=\"Jouw-completion-functie-3\"><span class=\"toc-item-num\">3&nbsp;&nbsp;</span>Jouw completion functie</a></span></li><li><span><a href=\"#Jouw-lijst-met-testen\" data-toc-modified-id=\"Jouw-lijst-met-testen-4\"><span class=\"toc-item-num\">4&nbsp;&nbsp;</span>Jouw lijst met testen</a></span></li><li><span><a href=\"#Voor-de-echte-diehards-die-gaan-voor-een-10\" data-toc-modified-id=\"Voor-de-echte-diehards-die-gaan-voor-een-10-5\"><span class=\"toc-item-num\">5&nbsp;&nbsp;</span>Voor de echte diehards die gaan voor een 10</a></span><ul class=\"toc-item\"><li><ul class=\"toc-item\"><li><span><a href=\"#Hoeveel-RDFS-statements-zijn-er-eigenlijk-die-zouden-kunnen-volgen?\" data-toc-modified-id=\"Hoeveel-RDFS-statements-zijn-er-eigenlijk-die-zouden-kunnen-volgen?-5.0.1\"><span class=\"toc-item-num\">5.0.1&nbsp;&nbsp;</span>Hoeveel RDFS statements zijn er eigenlijk die zouden kunnen volgen?</a></span></li></ul></li></ul></li></ul></div>"
   ]
  },
  {
   "cell_type": "markdown",
   "metadata": {
    "collapsed": false
   },
   "source": [
    "# RDF en RDFS completion\n",
    "\n",
    "* We maken een programma dat gegeven een RDF triple store plus een set RDFS statements, alle mogelijke niet triviale logische consequenties hiervan afleidt, en die in een RDF en RDFS database zet.\n",
    "* Dit wordt ook wel *materialization* genoemd. Het idee is dat uit beide kennisbanken **exact dezelfde feiten volgen**, maar dat dat sneller kan vanuit de pure RDF versie (omdat je dan geen feiten hoeft af te leiden).\n",
    "* De technische term voor het algorithme dat deze \"completering\" doet is de *chase*.\n",
    "* Het [artikel van Enrico Franconi et al](https://link.springer.com/chapter/10.1007/978-3-642-41335-3_7) bevat een systeem.\n",
    "* Net als in Franconi werken we alleen met de 4 interresantste RDFS statements:\n",
    "    * **Hierarchie** \n",
    "        * $\\forall xy (Rxy \\rightarrow Sxy)$  (\" to love him is to know him\", als je van iemand houdt dan ken je diegene) \n",
    "        * $\\forall x (Horse(x) \\rightarrow Animal(x))$\n",
    "    * **Domain en range restrictions**\n",
    "        * $\\forall xy (Rxy \\rightarrow Dx)$ (domain) \"Als x een staart heeft is het een dier\"\n",
    "        * $\\forall xy (Rxy \\rightarrow Dy)$ (range)  \"Als je een  ouder bent van y, is y een mens.\"\n",
    "        \n",
    "## Jouw taak\n",
    "\n",
    "1. Maak de functie `complete(facts, rules)` die voldoet aan de volgende eigenschap:\n",
    "    * voor elke feit `(o,p,s)`, facts+rules $\\models$ (o,p,s) $\\Leftrightarrow$ `complete(facts, rules)` $\\models$ (o,p,s) \n",
    "        * Jouw functie is zowel volledig als geldig (*sound and complete*), dat is exact wat je wilt.\n",
    "    * `complete(facts, rules)` is een verzameling feiten.\n",
    "2. Maak een flinke collectie van tests waarmee je test dat jouw functie aan die eisen voldoet. \n",
    "    * Dus dat het niet te veel en niet te weinig, maar exact de juiste feiten impliceert.\n",
    "    * Je deelt die tests met alle anderen, en ook jouw functie, en we gaan dus elke functie tegen elke test draaien, en dus een matrix met scores maken.\n",
    "    \n",
    "### Je cijfer is gebaseerd op \n",
    "\n",
    "1. Hoe goed doorstaat jouw functie alle tests.\n",
    "2. Hoe goed zijn jouw tests.\n",
    "    * Strenge (doch rechtvaardige) tests zijn natuurlijk het best. Tests waar iedereen voor slaagt lijken leuk maar zijn meestal niet veel waard. \n",
    "    \n",
    "    \n",
    "### Voorwaarden\n",
    "\n",
    "#### Database en regels\n",
    "\n",
    "We werken niet direct met RDF en RDFS omdat dat zo'n enorme syntax overhead heeft. We doen de dingen gewoon lekker in Python.\n",
    "\n",
    "* Je RDF store is een verzameling triples, waarbij de 3 elementen strings of integers of floats zijn.\n",
    "    * Je schrijft eigenschappen van individuen als `('henk', 'isa', 'Man')`\n",
    "        * dus altijd met de vaste relatie `isa` in het midden.\n",
    "    * en relaties tussen individuen als `('henk', Houdt_van', 'ingrid')`\n",
    "    * en idem voor relaties tussen individuen en getallen `('henk', 'leeftijd', 53)`\n",
    "    * Begin namen van individuen (\"knopen\") meteen kleine letter, en eigenschappen en relaties met een grote.\n",
    "* Je RDFS store is een dict met sleutels `['subPropertyOf', 'subClassOf', 'domain', 'range']` en voor elke sleutel een verzameling met 2-tuples (paartjes in gewoon Nederlands) als waarde. \n",
    "\n",
    "#### Test voorbeelden\n",
    "\n",
    "Een testset is een lijst triples van de vorm `(D:RDF_store, R:RDFS_store, Pos:RDF_store, Neg:RDF_store)` waarvoor geldt dat \n",
    "* voor elk triple t in Pos: $D,R\\models t$\n",
    "* voor elk triple t in Neg: $D,R\\not\\models t$\n",
    "* Met $\\models$ wordt dus bedoeld volgens de Franconi semantiek, en dus ook volgens de RDF semantiek. Dat betekent dus niet per se dat dit hetzelfde is als volgens jouw completion functie (want die zou fouten kunnen maken).\n",
    "* Hieronder staat een flauw voorbeeld. Jounes is veel gaver en strenger en leuker  natuurlijk!\n",
    "\n",
    "#### Check ajb\n",
    "\n",
    "* Als de tests hieronder niet slagen kunnen we niks met je code, en kan je  dus niet meedoen. Zonde van al je werk toch?"
   ]
  },
  {
   "cell_type": "code",
   "execution_count": 30,
   "metadata": {
    "collapsed": false,
    "deletable": false,
    "editable": false,
    "nbgrader": {
     "cell_type": "code",
     "checksum": "2fa770e88b5b07eba6aab91f623677b0",
     "grade": false,
     "grade_id": "rfds",
     "locked": true,
     "schema_version": 3,
     "solution": false
    }
   },
   "outputs": [
    {
     "data": {
      "text/plain": [
       "{'subPropertyOf': {('Eet', 'Vindt_lekker'), ('Houdt_van', 'Kent')},\n",
       " 'subClassOf': {('Mens', 'Dier'), ('Student', 'Mens')},\n",
       " 'domain': {('Houdt_van', 'Mens')},\n",
       " 'range': ('Vindt_lekker', 'Eten')}"
      ]
     },
     "execution_count": 30,
     "metadata": {},
     "output_type": "execute_result"
    }
   ],
   "source": [
    "# voorbeeld\n",
    "RDFS= {'subPropertyOf': {('Houdt_van','Kent'), ('Eet','Vindt_lekker')},\n",
    "      'subClassOf': {('Mens','Dier'),('Student','Mens')},\n",
    "      'domain': {('Houdt_van','Mens')},\n",
    "      'range': ('Vindt_lekker','Eten')}\n",
    "RDFS"
   ]
  },
  {
   "cell_type": "code",
   "execution_count": 31,
   "metadata": {
    "collapsed": false,
    "deletable": false,
    "editable": false,
    "nbgrader": {
     "cell_type": "code",
     "checksum": "21954308ba447742faade218f1e5fb5b",
     "grade": false,
     "grade_id": "test",
     "locked": true,
     "schema_version": 3,
     "solution": false
    }
   },
   "outputs": [
    {
     "data": {
      "text/plain": [
       "[({('Henk', 'isa', 'Mens')},\n",
       "  {'subPropertyOf': set(),\n",
       "   'subClassOf': {('Mens', 'Sterfelijk')},\n",
       "   'domain': set(),\n",
       "   'range': set()},\n",
       "  {('Henk', 'isa', 'Sterfelijk')},\n",
       "  {('henk', 'Houdt_van', 'ingrid')})]"
      ]
     },
     "execution_count": 31,
     "metadata": {},
     "output_type": "execute_result"
    }
   ],
   "source": [
    "# voorbeeld\n",
    "\n",
    "test1= [\n",
    "    ({('Henk','isa','Mens')},  # RDF store\n",
    "       {'subPropertyOf': set(),  # RDFS store\n",
    "      'subClassOf': {('Mens','Sterfelijk')},\n",
    "      'domain': set(),\n",
    "      'range':  set()},\n",
    "       {('Henk','isa','Sterfelijk')}, # positieve voorbeelden\n",
    "       {('henk', 'Houdt_van', 'ingrid')} # negatieve voorbeelden\n",
    "       )\n",
    "       ]\n",
    "test1"
   ]
  },
  {
   "cell_type": "markdown",
   "metadata": {
    "collapsed": false
   },
   "source": [
    "# Jouw completion functie"
   ]
  },
  {
   "cell_type": "code",
   "execution_count": 32,
   "metadata": {
    "collapsed": false,
    "deletable": false,
    "nbgrader": {
     "cell_type": "code",
     "checksum": "5e8ce0c7b6ee5f6007fd0e6280635536",
     "grade": false,
     "grade_id": "f",
     "locked": false,
     "schema_version": 3,
     "solution": true
    }
   },
   "outputs": [
    {
     "name": "stdout",
     "output_type": "stream",
     "text": [
      "complete_11873736 \n",
      "\n",
      "{('Henk', 'isa', 'Mens')}\n",
      "{'subPropertyOf': set(), 'subClassOf': {('Mens', 'Sterfelijk')}, 'domain': set(), 'range': set()}\n"
     ]
    },
    {
     "data": {
      "text/plain": [
       "{('Henk', 'isa', 'Mens'), ('Henk', 'isa', 'Sterfelijk')}"
      ]
     },
     "execution_count": 32,
     "metadata": {},
     "output_type": "execute_result"
    }
   ],
   "source": [
    "import copy\n",
    "studnr=11873736 # verander door het student id van jullie groepsleider\n",
    "complete= 'complete_'+str(studnr)\n",
    "print(complete,\"\\n\")\n",
    "\n",
    "def complete_11873736(facts, rules):\n",
    "    \"\"\"Returnt een lijst met triples van waarheden die zijn geconcludeerd uit de facts en rules.\"\"\"\n",
    "    extra_store = facts.copy()\n",
    "    completion = facts.copy()\n",
    "\n",
    "    # Loop over de sets in completion\n",
    "    for triple in completion:\n",
    "        # Loop over de sets met key subPropertyOf\n",
    "        for tuples in rules['subPropertyOf']:\n",
    "            if triple[1] == tuples[0]:\n",
    "                extra_store.add((triple[0], tuples[1], triple[2]))\n",
    "        # Loop over de sets met key subClassOf\n",
    "        for tuples in rules['subClassOf']:\n",
    "            if triple[2] == tuples[0]:\n",
    "                extra_store.add((triple[0], triple[1], tuples[1]))\n",
    "\n",
    "        # Loop over de sets met key domain\n",
    "        for tuples in rules['domain']:\n",
    "            if triple[1] == tuples[0]:\n",
    "                extra_store.add((triple[0], 'isa', tuples[1]))\n",
    "        # Loop over de sets met key range\n",
    "        for tuples in rules['range']:\n",
    "            if triple[1] == tuples[0]:\n",
    "                extra_store.add((triple[2], 'isa', tuples[1]))\n",
    "\n",
    "    # Als true dan zijn er geen extra toevoegingen\n",
    "    if extra_store == completion:\n",
    "        return completion\n",
    "    # Voegt nieuwe triples toe aan completion en runt de functie opnieuw uit\n",
    "    else:\n",
    "        completion.update(extra_store)\n",
    "        complete_11873736(completion, rules)\n",
    "    #return completion\n",
    "    return completion\n",
    "\n",
    "#test\n",
    "facts= test1[0][0]\n",
    "rules= test1[0][1]\n",
    "print(facts)\n",
    "print(rules)\n",
    "complete_11873736(facts,rules)"
   ]
  },
  {
   "cell_type": "code",
   "execution_count": 33,
   "metadata": {
    "collapsed": false,
    "deletable": false,
    "editable": false,
    "nbgrader": {
     "cell_type": "code",
     "checksum": "31bb7fb371f82329a691664a7fa3b08e",
     "grade": true,
     "grade_id": "s",
     "locked": true,
     "points": 0,
     "schema_version": 3,
     "solution": false
    }
   },
   "outputs": [],
   "source": [
    "assert studnr!= 1234567, 'Dit is niet jouw student nummer!'\n"
   ]
  },
  {
   "cell_type": "code",
   "execution_count": 5,
   "metadata": {
    "collapsed": false,
    "deletable": false,
    "editable": false,
    "nbgrader": {
     "cell_type": "code",
     "checksum": "557586561b1cd441bf2a4264688cd19f",
     "grade": true,
     "grade_id": "ft",
     "locked": true,
     "points": 0,
     "schema_version": 3,
     "solution": false
    }
   },
   "outputs": [
    {
     "ename": "NameError",
     "evalue": "name 'functienaam' is not defined",
     "output_type": "error",
     "traceback": [
      "\u001b[0;31m---------------------------------------------------------------------------\u001b[0m",
      "\u001b[0;31mNameError\u001b[0m                                 Traceback (most recent call last)",
      "\u001b[0;32m<ipython-input-5-919be6bc59f7>\u001b[0m in \u001b[0;36m<module>\u001b[0;34m\u001b[0m\n\u001b[1;32m      4\u001b[0m       'range': ('Vindt_lekker','Eten')}\n\u001b[1;32m      5\u001b[0m \u001b[0mRDF\u001b[0m\u001b[0;34m=\u001b[0m \u001b[0;34m{\u001b[0m\u001b[0;34m(\u001b[0m\u001b[0;34m'Henk'\u001b[0m\u001b[0;34m,\u001b[0m\u001b[0;34m'isa'\u001b[0m\u001b[0;34m,\u001b[0m\u001b[0;34m'Mens'\u001b[0m\u001b[0;34m)\u001b[0m\u001b[0;34m}\u001b[0m\u001b[0;34m\u001b[0m\u001b[0;34m\u001b[0m\u001b[0m\n\u001b[0;32m----> 6\u001b[0;31m \u001b[0mcompletion\u001b[0m\u001b[0;34m=\u001b[0m \u001b[0mfunctienaam\u001b[0m\u001b[0;34m(\u001b[0m\u001b[0mRDF\u001b[0m\u001b[0;34m,\u001b[0m\u001b[0mRDFS\u001b[0m\u001b[0;34m)\u001b[0m\u001b[0;34m\u001b[0m\u001b[0;34m\u001b[0m\u001b[0m\n\u001b[0m\u001b[1;32m      7\u001b[0m \u001b[0;32massert\u001b[0m \u001b[0misinstance\u001b[0m\u001b[0;34m(\u001b[0m\u001b[0mcompletion\u001b[0m\u001b[0;34m,\u001b[0m\u001b[0mset\u001b[0m\u001b[0;34m)\u001b[0m\u001b[0;34m\u001b[0m\u001b[0;34m\u001b[0m\u001b[0m\n\u001b[1;32m      8\u001b[0m \u001b[0;32mfor\u001b[0m \u001b[0mt\u001b[0m \u001b[0;32min\u001b[0m \u001b[0mcompletion\u001b[0m\u001b[0;34m:\u001b[0m\u001b[0;34m\u001b[0m\u001b[0;34m\u001b[0m\u001b[0m\n",
      "\u001b[0;31mNameError\u001b[0m: name 'functienaam' is not defined"
     ]
    }
   ],
   "source": [
    "RDFS= {'subPropertyOf': {('Houdt_van','Kent'), ('Eet','Vindt_lekker')},\n",
    "      'subClassOf': {('Mens','Dier'),('Student','Mens')},\n",
    "      'domain': {('Houdt_van','Mens')},\n",
    "      'range': ('Vindt_lekker','Eten')}\n",
    "RDF= {('Henk','isa','Mens')}\n",
    "completion= functienaam(RDF,RDFS)\n",
    "assert isinstance(completion,set)\n",
    "for t in completion:\n",
    "    assert isinstance(t,tuple)\n",
    "    assert len(t)==3\n",
    "    assert isinstance(t[0], str)\n",
    "    assert isinstance(t[1], str)\n",
    "    assert isinstance(t[2], (str, int,float))\n",
    "    "
   ]
  },
  {
   "cell_type": "markdown",
   "metadata": {
    "collapsed": false
   },
   "source": [
    "# Jouw lijst met testen"
   ]
  },
  {
   "cell_type": "code",
   "execution_count": 34,
   "metadata": {
    "collapsed": false
   },
   "outputs": [],
   "source": [
    "# Checker functie maakt alle mogelijke triples en checkt of de negatieve en positieve voorbeelden kloppen\n",
    "def checker(test):\n",
    "    completion = test[0]\n",
    "    completed = complete_11873736(test[0],test[1])\n",
    "    positives=test[2]\n",
    "    negatives=test[3]\n",
    "    \"\"\"Print alle mogelijke triples voor de test\"\"\"\n",
    "    print(\"Alle mogelijke triples voor deze test\")\n",
    "    print(completion)\n",
    "    \"\"\"Print true als alle positieve voorbeelden en geen enkele van de negatieve voorbeelden in completion zitten.\"\"\"\n",
    "    print(\"----------------------------------------------------\")\n",
    "    print(\"Zitten alle positieve voorbeelden in de completion?\")\n",
    "    print(all([True for triple in positives if triple in completed])==True)\n",
    "    print(\"----------------------------------------------------\")\n",
    "    print(\"Zitten er geen negatieve voorbeelden in de completion?\")\n",
    "    print(all([True for triple in negatives if triple not in completed])==True)\n",
    "    print(\"----------------------------------------------------\")"
   ]
  },
  {
   "cell_type": "code",
   "execution_count": 60,
   "metadata": {
    "collapsed": false,
    "deletable": false,
    "nbgrader": {
     "cell_type": "code",
     "checksum": "793a3e6331c6791cdd2420fd4518352e",
     "grade": false,
     "grade_id": "t",
     "locked": false,
     "schema_version": 3,
     "solution": true
    },
    "scrolled": true
   },
   "outputs": [
    {
     "name": "stdout",
     "output_type": "stream",
     "text": [
      "Alle mogelijke triples voor deze test\n",
      "{('henk', 'isa', 'Mens'), ('henk', 'isa', 'Mensachtige'), ('henk', 'isa', 'Homo Sapiens'), ('henk', 'isa', 'Primaat'), ('henk', 'isa', 'Aap')}\n",
      "----------------------------------------------------\n",
      "Zitten alle positieve voorbeelden in de completion?\n",
      "True\n",
      "----------------------------------------------------\n",
      "Zitten er geen negatieve voorbeelden in de completion?\n",
      "True\n",
      "----------------------------------------------------\n",
      "Alle mogelijke triples voor deze test\n",
      "{('henk', 'isa', 'Mens'), ('henk', 'isa', 'Zoogdier'), ('henk', 'isa', 'Mensachtige'), ('henk', 'isa', 'Homo Sapiens'), ('henk', 'isa', 'Primaat'), ('henk', 'isa', 'Dier'), ('henk', 'isa', 'Choradier'), ('henk', 'isa', 'Aap')}\n",
      "----------------------------------------------------\n",
      "Zitten alle positieve voorbeelden in de completion?\n",
      "True\n",
      "----------------------------------------------------\n",
      "Zitten er geen negatieve voorbeelden in de completion?\n",
      "True\n",
      "----------------------------------------------------\n",
      "Alle mogelijke triples voor deze test\n",
      "{('switzerland', 'Neighbours', 'france'), ('switzerland', 'Contains', 'Mountains'), ('Mountains', 'Possesses', 'Caves'), ('france', 'Owns', 'Seashores'), ('switzerland', 'isa', 'Country'), ('france', 'isa', 'Country')}\n",
      "----------------------------------------------------\n",
      "Zitten alle positieve voorbeelden in de completion?\n",
      "True\n",
      "----------------------------------------------------\n",
      "Zitten er geen negatieve voorbeelden in de completion?\n",
      "True\n",
      "----------------------------------------------------\n",
      "Alle mogelijke triples voor deze test\n",
      "set()\n",
      "----------------------------------------------------\n",
      "Zitten alle positieve voorbeelden in de completion?\n",
      "True\n",
      "----------------------------------------------------\n",
      "Zitten er geen negatieve voorbeelden in de completion?\n",
      "True\n",
      "----------------------------------------------------\n",
      "Alle mogelijke triples voor deze test\n",
      "{('Pizza', 'Has', 'toppings'), ('Ham', 'isa', 'Topping'), ('pieter', 'Vindt_lekker', 'Eten'), ('Pizza', 'isa', 'Eten'), ('pieter', 'isa', 'Eten'), ('pieter', 'Vindt_lekker', 'Pizza')}\n",
      "----------------------------------------------------\n",
      "Zitten alle positieve voorbeelden in de completion?\n",
      "True\n",
      "----------------------------------------------------\n",
      "Zitten er geen negatieve voorbeelden in de completion?\n",
      "True\n",
      "----------------------------------------------------\n",
      "Alle mogelijke triples voor deze test\n",
      "{('Indonesie', 'isa', 'Country'), ('australia', 'Neighbours', 'indonesia'), ('Jakarta', 'isa', 'Capital'), ('Australia', 'isa', 'Country'), ('australia', 'isa', 'Country'), ('indonesie', 'HasCapital', 'jakarta'), ('Jakarta', 'isa', 'City'), ('indonesia', 'isa', 'Country'), ('jakarta', 'isa', 'Capital'), ('jakarta', 'isa', 'City'), ('indonesie', 'isa', 'Country'), ('jakarta', 'HasPopulation', 9769000), ('joko widodo', 'isa', 'Mens'), ('indonesie', 'HasPresident', 'joko widodo')}\n",
      "----------------------------------------------------\n",
      "Zitten alle positieve voorbeelden in de completion?\n",
      "True\n",
      "----------------------------------------------------\n",
      "Zitten er geen negatieve voorbeelden in de completion?\n",
      "True\n",
      "----------------------------------------------------\n",
      "Alle mogelijke triples voor deze test\n",
      "{('Falcon', 'isa', 'Bird'), ('Bird', 'Lay', 'Eggs'), ('Owl', 'isa', 'Bird'), ('Wolf', 'isa', 'Mammal'), ('Falcon', 'isa', 'Animal'), ('Wolf', 'isa', 'Animal'), ('Owl', 'isa', 'Animal')}\n",
      "----------------------------------------------------\n",
      "Zitten alle positieve voorbeelden in de completion?\n",
      "True\n",
      "----------------------------------------------------\n",
      "Zitten er geen negatieve voorbeelden in de completion?\n",
      "True\n",
      "----------------------------------------------------\n",
      "Alle mogelijke triples voor deze test\n",
      "{('jan', 'leeftijd', '105'), ('jan', 'Knows', 'lotte'), ('bram', 'isa', 'Animal'), ('bram', 'Loves', 'lotte'), ('bram', 'Married', 'lotte'), ('lotte', 'isa', 'Animal'), ('bram', 'isa', 'Human'), ('bram', 'Knows', 'jan'), ('lotte', 'isa', 'Human'), ('jan', 'Loves', 'lotte'), ('bram', 'Knows', 'lotte')}\n",
      "----------------------------------------------------\n",
      "Zitten alle positieve voorbeelden in de completion?\n",
      "True\n",
      "----------------------------------------------------\n",
      "Zitten er geen negatieve voorbeelden in de completion?\n",
      "True\n",
      "----------------------------------------------------\n"
     ]
    }
   ],
   "source": [
    "testnaam= 'test_'+str(studnr)\n",
    "\n",
    "\n",
    "# Als Henk een mens is dan is hij ook een homo, mensachtige, aap, primaat, zoogdier, choradier en dier.\n",
    "test2= ({('henk','isa','Mens')},  # RDF store\n",
    "       {'subPropertyOf': set(),  # RDFS store\n",
    "        'subClassOf': {('Mens','Homo Sapiens'), ('Homo Sapiens','Mensachtige'), ('Mensachtige','Aap'), ('Aap','Primaat'), ('Primaten','Zoogdier'), ('Zoogdier','Choradier'), ('Choradier','Dier')},\n",
    "        'domain': set(),\n",
    "        'range':  set()},\n",
    "       {('henk','isa','Homo Sapiens'),('henk','isa','Mensachtige'),('henk','isa','Aap'),('henk','isa','Primaat'),('henk','isa','Zoogdier'),('henk','isa','Choradier'),('henk','isa','Dier')},\n",
    "       {('henk', 'Houdt_van', 'ingrid')} # negatieve voorbeelden\n",
    "       )\n",
    "\n",
    "# Als Henk een mens is dan is hij ook een homo, mensachtige, aap, primaat, zoogdier, choradier en dier (maar deze keer de subclasses achterstevoren).\n",
    "test3= ({('henk','isa','Mens')},  # RDF store\n",
    "       {'subPropertyOf': set(),  # RDFS store\n",
    "        'subClassOf': {('Choradier','Dier'), ('Zoogdier','Choradier'), ('Primaat','Zoogdier'), ('Aap','Primaat'), ('Mensachtige','Aap'), ('Homo Sapiens','Mensachtige'), ('Mens','Homo Sapiens')},\n",
    "        'domain': set(),\n",
    "        'range':  set()},\n",
    "       {('henk','isa','Homo Sapiens'),('henk','isa','Mensachtige'),('henk','isa','Aap'),('henk','isa','Primaat'),('henk','isa','Zoogdier'),('henk','isa','Choradier'),('henk','isa','Dier')},\n",
    "       {('henk', 'Houdt_van', 'ingrid')} # negatieve voorbeelden\n",
    "       )\n",
    "\n",
    "# Zwitserland is een land met bergen en grotten en het grenst aan Frankrijk. Frankrijk heeft een kust maar Zwitserland niet.\n",
    "test4= ({('switzerland', 'isa', 'Country'), ('switzerland', 'Contains', 'Mountains'), ('Mountains', 'Possesses', 'Caves'), ('switzerland', 'Neighbours', 'france'), ('france', 'Owns', 'Seashores')},  # RDF store\n",
    "       {'subPropertyOf': {},  # RDFS store\n",
    "        'subClassOf': {},\n",
    "        'domain': {('Neighbours', 'Country')},\n",
    "        'range':  {('Neighbours', 'Country')}},\n",
    "       {('switzerland', 'isa', 'Country'), ('switzerland', 'Possesses', 'Caves')}, # positieve voorbeelden\n",
    "       {('switzerland', 'Owns', 'Seashores'), ('switzerland', 'Neighbours', 'Seashores'), ('france', 'Neighbours', 'Caves')} # negatieve voorbeelden\n",
    "       )\n",
    "\n",
    "# Lege sets\n",
    "test5= (set(),  # RDF store\n",
    "       {'subPropertyOf': set(),  # RDFS store\n",
    "        'subClassOf': set(),\n",
    "        'domain': set(),\n",
    "        'range':  set()},\n",
    "       set(), # positieve voorbeelden\n",
    "       set() # negatieve voorbeelden\n",
    "       )\n",
    "\n",
    "# Pieter vind pizza lekker, maar is geen Eten\n",
    "test6= ({('pieter', 'Vindt_lekker', 'Pizza'), ('Pizza','isa','Eten'), ('Pizza', 'Has', 'toppings'),('Ham', 'isa', 'Topping')},  # RDF store\n",
    "       {'subPropertyOf':{('Eet','Vindt_lekker')},  # RDFS store\n",
    "        'subClassOf': {('Pizza','Eten'),('Mens', 'Dier'), ('Ham', 'Topping'),('Ham', 'Eten')},\n",
    "        'domain': {('Vindt_lekker','Eten')},\n",
    "        'range':  set()},\n",
    "       {('Pizza', 'isa', 'Eten'), ('Pieter', 'isa', 'Mens') }, # positieve voorbeelden\n",
    "       {('pieter', 'isa', 'Eten')} # negatieve voorbeelden\n",
    "       )\n",
    "\n",
    "# Jakarta is de hoofdstad van Indonesie, maar Jakarta grenst niet aan een land\n",
    "test7= ({('Indonesie','isa','Country'), ('Jakarta','isa','Capital'),\n",
    "       ('Australia','isa','Country'), ('australia','Neighbours','indonesia'),\n",
    "       ('indonesie','HasCapital','jakarta'), ('indonesie','HasPresident','joko widodo'),\n",
    "       (('jakarta','HasPopulation',9769000))},  # RDF store\n",
    "     {'subPropertyOf': {('Isin','HasCapital')},  # RDFS store\n",
    "      'subClassOf': {('Capital','City'), ('indonesie','Country')},\n",
    "      'domain': {('Neighbours','Country'), ('Isin','City'), ('HasCapital','Country'), ('HasPresident','Country')},\n",
    "      'range': {('Neighbours','Country'), ('Isin','Country'), ('HasCapital','Capital'), ('HasPresident','Mens')}},\n",
    "       {('jakarta','isa','City'), ('jakarta','isin','indonesie')}, # positieve voorbeelden\n",
    "       {('jakarta','Neighbours','Country')} # negatieve voorbeelden\n",
    "       )\n",
    "\n",
    "# Vogels leggen eieren maar Wolven doen dat niet\n",
    "test8= ({('Owl', 'isa', 'Bird'), ('Bird', 'Lay', 'Eggs'), ('Wolf', 'isa', 'Mammal'), ('Falcon', 'isa', 'Bird')},  # RDF store\n",
    "       {'subPropertyOf': set(),  # RDFS store\n",
    "        'subClassOf': {('Bird', 'Animal'), ('Mammal', 'Animal')},\n",
    "        'domain': set(),\n",
    "        'range':  set()},\n",
    "       {('Owl', 'Lay', 'Eggs'), ('Falcon', 'Lay', 'Eggs')}, # positieve voorbeelden\n",
    "       {('Wolf', 'Lay', 'Eggs')} # negatieve voorbeelden\n",
    "       )\n",
    "\n",
    "# Jan houdt van Lotte, maar Bram is getrouwd met Lotte. Als je getrouwd bent ben je een mens, Bram is een mens maar het is niet zeker of Jan ook een mens is.\n",
    "test9= ({('jan', 'Loves', 'lotte'), ('bram', 'Knows', 'jan'), ('bram', 'Married', 'lotte'), ('bram', 'isa', 'Human'), ('jan', 'leeftijd', '105')},  # RDF store\n",
    "       {'subPropertyOf': {('Married', 'Loves'), ('Loves', 'Knows')},  # RDFS store\n",
    "        'subClassOf': {('Human', 'Animal')},\n",
    "        'domain': {('Married', 'Human')},\n",
    "        'range':  {('Married', 'Human'), ('Loves', 'Human')}},\n",
    "       {('bram', 'Knows', 'lotte'), ('lotte', 'isa', 'Human')}, # positieve voorbeelden\n",
    "       {('jan', 'Married', 'lotte'), ('jan', 'isa', 'Human'), ('jan', 'isa', 'Animal')} # negatieve voorbeelden\n",
    "       )\n",
    "\n",
    "# zet hier je tests in\n",
    "test_11873736 = [test2, test3, test4, test5, test6, test7, test8, test9]\n",
    "\n",
    "# Vul hier de te checken test in\n",
    "for t in test_11873736:\n",
    "    checker(t)\n"
   ]
  },
  {
   "cell_type": "code",
   "execution_count": 53,
   "metadata": {
    "collapsed": false,
    "deletable": false,
    "editable": false,
    "nbgrader": {
     "cell_type": "code",
     "checksum": "eec1a8944bb8d0211b210689879b82fd",
     "grade": true,
     "grade_id": "tt",
     "locked": true,
     "points": 0,
     "schema_version": 3,
     "solution": false
    }
   },
   "outputs": [],
   "source": [
    "assert isinstance(testnaam,list)\n",
    "for test in testnaam:\n",
    "    assert isinstance(test,tuple)\n",
    "    assert len(test)==4\n",
    "    assert isinstance(test[0],set)\n",
    "    assert isinstance(test[1],dict)\n",
    "    assert isinstance(test[2],set)\n",
    "    assert isinstance(test[3],set)"
   ]
  },
  {
   "cell_type": "markdown",
   "metadata": {
    "collapsed": false
   },
   "source": [
    "# Voor de echte diehards die gaan voor een 10\n",
    "\n",
    "Franconi beschrijft in zijn artikel dat je ook RDFS statements uit andere RDFS statements kunt afleiden. Hij geeft een leuk voorbeeld in het eerste plaatje.\n",
    "\n",
    "Dat kan jij natuurlijk ook!\n",
    "\n",
    "Maak een functie `complete(RDFS)` die precies alle RDFS statements afleidt die volgen uit de verzameling `RDFS`.\n",
    "\n",
    "Maak er ook weer een mooie testset bij, en beargumenteer dat jouw systeem geldig en volledig is.\n",
    "\n",
    "### Hoeveel RDFS statements zijn er eigenlijk die zouden kunnen volgen?\n",
    "\n",
    "* Gegeven de relaties en eigenschappen in de verzameling `RDFS` is dit eindig.\n",
    "* En er zijn maar 4 soorten RDFS statements. \n",
    "* Dus moet het wel eindig zijn, en kan je zelfs uitrekenen hoeveel.\n",
    "* Een manier is om ze allemaal te proberen....\n",
    "    * Voeg het antecedent toe als RDF-triple aan `RDFS` en kijk of het consequent dan volgt...\n",
    "* Reken het eens uit voor $r$ relaties en $p$ eigenschappen.\n",
    "    * Met $r$ relaties kan je $r\\cdot(r-1)$ veel `subPropertyOf` relaties maken toch...\n",
    "    * en dan nog ....\n",
    "    * en ....\n",
    "* Dit is niet eens zo gek, maar met een *chase* gaat het natuurlijk veel sneller omdat je dan resultaatgericht werkt in plaats van als een dolle alles gaat proberen.\n",
    "    * Bijv; Stel je hebt 100 relaties, maar in je RDFS komt er maar 1 voor in antecdent positie in `subPropertyOf` statements. Hoeveel `subPropertyOf` kan je dan afleiden? Ja, dat is dus sneller dan al die 100*99 te gaan proberen toch? Want dat is best veel."
   ]
  }
 ],
 "metadata": {
  "celltoolbar": "Edit Metadata",
  "kernelspec": {
   "display_name": "Python 3 (system-wide)",
   "language": "python",
   "metadata": {
    "cocalc": {
     "description": "Python 3 programming language",
     "priority": 100,
     "url": "https://www.python.org/"
    }
   },
   "name": "python3",
   "resource_dir": "/ext/jupyter/kernels/python3"
  },
  "language_info": {
   "codemirror_mode": {
    "name": "ipython",
    "version": 3
   },
   "file_extension": ".py",
   "mimetype": "text/x-python",
   "name": "python",
   "nbconvert_exporter": "python",
   "pygments_lexer": "ipython3",
   "version": "3.8.5"
  },
  "toc": {
   "nav_menu": {},
   "number_sections": true,
   "sideBar": true,
   "skip_h1_title": false,
   "title_cell": "Table of Contents",
   "title_sidebar": "Contents",
   "toc_cell": true,
   "toc_position": {},
   "toc_section_display": true,
   "toc_window_display": false
  }
 },
 "nbformat": 4,
 "nbformat_minor": 4
}
