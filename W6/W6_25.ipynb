{
 "cells": [
  {
   "cell_type": "markdown",
   "metadata": {},
   "source": [
    "# Assignment Kennis en Data"
   ]
  },
  {
   "cell_type": "markdown",
   "metadata": {},
   "source": [
    "## Notebook made by\n",
    "\n",
    "\n",
    "|Naam|Studentnummer|\n",
    "-----------------------|-------------|\n",
    "|Tijn|secret     |\n",
    "|Merijn| secret    |\n",
    "|Cesar|secret     |\n",
    "\n",
    "\n",
    "## Peerreview\n",
    "\n",
    "* Vul onderstaande dict/tabel in en run de cel. Klopt het? Zijn jullie het er allemaal mee eens?\n",
    "    * Verander `1,2,3,4` door jullie studentnummers\n",
    "    * `1: {1:.2,2:.3,3:.3,4:.2}` betekent dat student 1 zijn punt zo over de 4 studenten verdeelt\n",
    "    * Let op, per student moeten de punten optellen tot 1!\n",
    "    * De gegeven punten staan in de tabel op de rijen, de ontvangen punten in de kolommen.\n",
    "    * met `cijfer_per_student` kan je bepalen welk cijfer ieder krijgt bij een gegeven groepscijfer."
   ]
  },
  {
   "cell_type": "markdown",
   "metadata": {},
   "source": [
    "## Toelichting\n",
    "\n",
    "* De meeste opgaven worden automatisch nagekeken. Bij vrijwel alle opdrachten staan er een paar tests onder de opdracht, dit is voornamelijk om te zorgen dat je de juiste type output geeft. Dit zijn dus *NIET* alle tests, die komen er bij het graden nog bij.\n",
    "* Elke vraag is 1 punt waard, tenzij anders aangegeven. Soms is die punt onderverdeeld in deelpunten, maar niet altijd. \n",
    "\n",
    "## Voor het inleveren!\n",
    "\n",
    "* Pas niet de cellen aan, vooral niet die je niet kunt editen. Dit levert problemen op bij nakijken. Twijfel je of je per ongeluk iets hebt gewijzigd, kopieer dan bij inleveren je antwoorden naar een nieuw bestand, zodat het niet fout kan gaan.\n",
    "\n",
    "* Zorg dat de code goed runt van boven naar beneden, verifieer dat door boven in Kernel -> Restart & Run All uit te voeren\n",
    "\n",
    "## Na het inleveren!\n",
    "\n",
    "* Het gebeurt erg vaak dat mensen een \"leeg bestand\" inleveren. Vaak een andere versie van de opgave die nog ergens op je computer rondslingerde. Zonde van al je werk toch!\n",
    "* Dus, lever **minstens een half uur voor tijd in**. Download dan wat je hebt ingeleverd op Canvas. Geef het een andere naam om verwarring te voorkomen. En draai alle cellen, en bekijk het. Geen syntax fouten? Alle vragen gemaakt? Dan zit het vast wel goed, en hoef je niet in de zenuwen te zitten."
   ]
  },
  {
   "cell_type": "markdown",
   "metadata": {
    "toc": true
   },
   "source": [
    "<h1>Table of Contents<span class=\"tocSkip\"></span></h1>\n",
    "<div class=\"toc\"><ul class=\"toc-item\"><li><span><a href=\"#Assignment-Kennis-en-Data\" data-toc-modified-id=\"Assignment-Kennis-en-Data-1\"><span class=\"toc-item-num\">1&nbsp;&nbsp;</span>Assignment Kennis en Data</a></span><ul class=\"toc-item\"><li><span><a href=\"#Notebook-made-by\" data-toc-modified-id=\"Notebook-made-by-1.1\"><span class=\"toc-item-num\">1.1&nbsp;&nbsp;</span>Notebook made by</a></span></li><li><span><a href=\"#Peerreview\" data-toc-modified-id=\"Peerreview-1.2\"><span class=\"toc-item-num\">1.2&nbsp;&nbsp;</span>Peerreview</a></span></li><li><span><a href=\"#Toelichting\" data-toc-modified-id=\"Toelichting-1.3\"><span class=\"toc-item-num\">1.3&nbsp;&nbsp;</span>Toelichting</a></span></li><li><span><a href=\"#Voor-het-inleveren!\" data-toc-modified-id=\"Voor-het-inleveren!-1.4\"><span class=\"toc-item-num\">1.4&nbsp;&nbsp;</span>Voor het inleveren!</a></span></li><li><span><a href=\"#Na-het-inleveren!\" data-toc-modified-id=\"Na-het-inleveren!-1.5\"><span class=\"toc-item-num\">1.5&nbsp;&nbsp;</span>Na het inleveren!</a></span></li></ul></li><li><span><a href=\"#RDF-en-RDFS-completion\" data-toc-modified-id=\"RDF-en-RDFS-completion-2\"><span class=\"toc-item-num\">2&nbsp;&nbsp;</span>RDF en RDFS completion</a></span><ul class=\"toc-item\"><li><span><a href=\"#Jouw-taak\" data-toc-modified-id=\"Jouw-taak-2.1\"><span class=\"toc-item-num\">2.1&nbsp;&nbsp;</span>Jouw taak</a></span><ul class=\"toc-item\"><li><span><a href=\"#Je-cijfer-is-gebaseerd-op\" data-toc-modified-id=\"Je-cijfer-is-gebaseerd-op-2.1.1\"><span class=\"toc-item-num\">2.1.1&nbsp;&nbsp;</span>Je cijfer is gebaseerd op</a></span></li><li><span><a href=\"#Voorwaarden\" data-toc-modified-id=\"Voorwaarden-2.1.2\"><span class=\"toc-item-num\">2.1.2&nbsp;&nbsp;</span>Voorwaarden</a></span><ul class=\"toc-item\"><li><span><a href=\"#Database-en-regels\" data-toc-modified-id=\"Database-en-regels-2.1.2.1\"><span class=\"toc-item-num\">2.1.2.1&nbsp;&nbsp;</span>Database en regels</a></span></li><li><span><a href=\"#Test-voorbeelden\" data-toc-modified-id=\"Test-voorbeelden-2.1.2.2\"><span class=\"toc-item-num\">2.1.2.2&nbsp;&nbsp;</span>Test voorbeelden</a></span></li><li><span><a href=\"#Check-ajb\" data-toc-modified-id=\"Check-ajb-2.1.2.3\"><span class=\"toc-item-num\">2.1.2.3&nbsp;&nbsp;</span>Check ajb</a></span></li></ul></li></ul></li></ul></li><li><span><a href=\"#Jouw-completion-functie\" data-toc-modified-id=\"Jouw-completion-functie-3\"><span class=\"toc-item-num\">3&nbsp;&nbsp;</span>Jouw completion functie</a></span></li><li><span><a href=\"#Jouw-lijst-met-testen\" data-toc-modified-id=\"Jouw-lijst-met-testen-4\"><span class=\"toc-item-num\">4&nbsp;&nbsp;</span>Jouw lijst met testen</a></span></li><li><span><a href=\"#Voor-de-echte-diehards-die-gaan-voor-een-10\" data-toc-modified-id=\"Voor-de-echte-diehards-die-gaan-voor-een-10-5\"><span class=\"toc-item-num\">5&nbsp;&nbsp;</span>Voor de echte diehards die gaan voor een 10</a></span><ul class=\"toc-item\"><li><ul class=\"toc-item\"><li><span><a href=\"#Hoeveel-RDFS-statements-zijn-er-eigenlijk-die-zouden-kunnen-volgen?\" data-toc-modified-id=\"Hoeveel-RDFS-statements-zijn-er-eigenlijk-die-zouden-kunnen-volgen?-5.0.1\"><span class=\"toc-item-num\">5.0.1&nbsp;&nbsp;</span>Hoeveel RDFS statements zijn er eigenlijk die zouden kunnen volgen?</a></span></li></ul></li></ul></li></ul></div>"
   ]
  },
  {
   "cell_type": "markdown",
   "metadata": {},
   "source": [
    "# RDF en RDFS completion\n",
    "\n",
    "* We maken een programma dat gegeven een RDF triple store plus een set RDFS statements, alle mogelijke niet triviale logische consequenties hiervan afleidt, en die in een RDF en RDFS database zet.\n",
    "* Dit wordt ook wel *materialization* genoemd. Het idee is dat uit beide kennisbanken **exact dezelfde feiten volgen**, maar dat dat sneller kan vanuit de pure RDF versie (omdat je dan geen feiten hoeft af te leiden).\n",
    "* De technische term voor het algorithme dat deze \"completering\" doet is de *chase*.\n",
    "* Het [artikel van Enrico Franconi et al](https://link.springer.com/chapter/10.1007/978-3-642-41335-3_7) bevat een systeem.\n",
    "* Net als in Franconi werken we alleen met de 4 interresantste RDFS statements:\n",
    "    * **Hierarchie** \n",
    "        * $\\forall xy (Rxy \\rightarrow Sxy)$  (\" to love him is to know him\", als je van iemand houdt dan ken je diegene) \n",
    "        * $\\forall x (Horse(x) \\rightarrow Animal(x))$\n",
    "    * **Domain en range restrictions**\n",
    "        * $\\forall xy (Rxy \\rightarrow Dx)$ (domain) \"Als x een staart heeft is het een dier\"\n",
    "        * $\\forall xy (Rxy \\rightarrow Dy)$ (range)  \"Als je een  ouder bent van y, is y een mens.\"\n",
    "        \n",
    "## Jouw taak\n",
    "\n",
    "1. Maak de functie `complete(facts, rules)` die voldoet aan de volgende eigenschap:\n",
    "    * voor elke feit `(o,p,s)`, facts+rules $\\models$ (o,p,s) $\\Leftrightarrow$ `complete(facts, rules)` $\\models$ (o,p,s) \n",
    "        * Jouw functie is zowel volledig als geldig (*sound and complete*), dat is exact wat je wilt.\n",
    "    * `complete(facts, rules)` is een verzameling feiten.\n",
    "2. Maak een flinke collectie van tests waarmee je test dat jouw functie aan die eisen voldoet. \n",
    "    * Dus dat het niet te veel en niet te weinig, maar exact de juiste feiten impliceert.\n",
    "    * Je deelt die tests met alle anderen, en ook jouw functie, en we gaan dus elke functie tegen elke test draaien, en dus een matrix met scores maken.\n",
    "    \n",
    "### Je cijfer is gebaseerd op \n",
    "\n",
    "1. Hoe goed doorstaat jouw functie alle tests.\n",
    "2. Hoe goed zijn jouw tests.\n",
    "    * Strenge (doch rechtvaardige) tests zijn natuurlijk het best. Tests waar iedereen voor slaagt lijken leuk maar zijn meestal niet veel waard. \n",
    "    \n",
    "    \n",
    "### Voorwaarden\n",
    "\n",
    "#### Database en regels\n",
    "\n",
    "We werken niet direct met RDF en RDFS omdat dat zo'n enorme syntax overhead heeft. We doen de dingen gewoon lekker in Python.\n",
    "\n",
    "* Je RDF store is een verzameling triples, waarbij de 3 elementen strings of integers of floats zijn.\n",
    "    * Je schrijft eigenschappen van individuen als `('henk', 'isa', 'Man')`\n",
    "        * dus altijd met de vaste relatie `isa` in het midden.\n",
    "    * en relaties tussen individuen als `('henk', Houdt_van', 'ingrid')`\n",
    "    * en idem voor relaties tussen individuen en getallen `('henk', 'leeftijd', 53)`\n",
    "    * Begin namen van individuen (\"knopen\") meteen kleine letter, en eigenschappen en relaties met een grote.\n",
    "* Je RDFS store is een dict met sleutels `['subPropertyOf', 'subClassOf', 'domain', 'range']` en voor elke sleutel een verzameling met 2-tuples (paartjes in gewoon Nederlands) als waarde. \n",
    "\n",
    "#### Test voorbeelden\n",
    "\n",
    "Een testset is een lijst triples van de vorm `(D:RDF_store, R:RDFS_store, Pos:RDF_store, Neg:RDF_store)` waarvoor geldt dat \n",
    "* voor elk triple t in Pos: $D,R\\models t$\n",
    "* voor elk triple t in Neg: $D,R\\not\\models t$\n",
    "* Met $\\models$ wordt dus bedoeld volgens de Franconi semantiek, en dus ook volgens de RDF semantiek. Dat betekent dus niet per se dat dit hetzelfde is als volgens jouw completion functie (want die zou fouten kunnen maken).\n",
    "* Hieronder staat een flauw voorbeeld. Jounes is veel gaver en strenger en leuker  natuurlijk!\n",
    "\n",
    "#### Check ajb\n",
    "\n",
    "* Als de tests hieronder niet slagen kunnen we niks met je code, en kan je  dus niet meedoen. Zonde van al je werk toch?"
   ]
  },
  {
   "cell_type": "code",
   "execution_count": 2,
   "metadata": {
    "deletable": false,
    "editable": false,
    "nbgrader": {
     "cell_type": "code",
     "checksum": "2fa770e88b5b07eba6aab91f623677b0",
     "grade": false,
     "grade_id": "rfds",
     "locked": true,
     "schema_version": 3,
     "solution": false
    }
   },
   "outputs": [
    {
     "data": {
      "text/plain": [
       "{'subPropertyOf': {('Eet', 'Vindt_lekker'), ('Houdt_van', 'Kent')},\n",
       " 'subClassOf': {('Mens', 'Dier'), ('Student', 'Mens')},\n",
       " 'domain': {('Houdt_van', 'Mens')},\n",
       " 'range': ('Vindt_lekker', 'Eten')}"
      ]
     },
     "execution_count": 2,
     "metadata": {},
     "output_type": "execute_result"
    }
   ],
   "source": [
    "# voorbeeld\n",
    "RDFS= {'subPropertyOf': {('Houdt_van','Kent'), ('Eet','Vindt_lekker')},\n",
    "      'subClassOf': {('Mens','Dier'),('Student','Mens')},\n",
    "      'domain': {('Houdt_van','Mens')},\n",
    "      'range': ('Vindt_lekker','Eten')}\n",
    "RDFS"
   ]
  },
  {
   "cell_type": "code",
   "execution_count": 3,
   "metadata": {
    "deletable": false,
    "editable": false,
    "nbgrader": {
     "cell_type": "code",
     "checksum": "21954308ba447742faade218f1e5fb5b",
     "grade": false,
     "grade_id": "test",
     "locked": true,
     "schema_version": 3,
     "solution": false
    }
   },
   "outputs": [
    {
     "data": {
      "text/plain": [
       "[({('Henk', 'isa', 'Mens')},\n",
       "  {'subPropertyOf': set(),\n",
       "   'subClassOf': {('Mens', 'Sterfelijk')},\n",
       "   'domain': set(),\n",
       "   'range': set()},\n",
       "  {('Henk', 'isa', 'Sterfelijk')},\n",
       "  {('henk', 'Houdt_van', 'ingrid')})]"
      ]
     },
     "execution_count": 3,
     "metadata": {},
     "output_type": "execute_result"
    }
   ],
   "source": [
    "# voorbeeld\n",
    "\n",
    "test1= [\n",
    "    ({('Henk','isa','Mens')},  # RDF store\n",
    "       {'subPropertyOf': set(),  # RDFS store\n",
    "      'subClassOf': {('Mens','Sterfelijk')},\n",
    "      'domain': set(),\n",
    "      'range':  set()},\n",
    "       {('Henk','isa','Sterfelijk')}, # positieve voorbeelden\n",
    "       {('henk', 'Houdt_van', 'ingrid')} # negatieve voorbeelden\n",
    "       )\n",
    "       ]\n",
    "test1"
   ]
  },
  {
   "cell_type": "markdown",
   "metadata": {},
   "source": [
    "# Jouw completion functie"
   ]
  },
  {
   "cell_type": "code",
   "execution_count": 4,
   "metadata": {
    "deletable": false,
    "nbgrader": {
     "cell_type": "code",
     "checksum": "5e8ce0c7b6ee5f6007fd0e6280635536",
     "grade": false,
     "grade_id": "f",
     "locked": false,
     "schema_version": 3,
     "solution": true
    }
   },
   "outputs": [
    {
     "name": "stdout",
     "output_type": "stream",
     "text": [
      "complete_12495441\n"
     ]
    },
    {
     "data": {
      "text/plain": [
       "{('Henk', 'isa', 'Sterfelijk')}"
      ]
     },
     "execution_count": 4,
     "metadata": {},
     "output_type": "execute_result"
    }
   ],
   "source": [
    "studnr=12495441 # verander door het student id van jullie groepsleider\n",
    "functienaam= 'complete_'+str(12495441)\n",
    "print(functienaam)\n",
    "# jouw functie\n",
    "def complete_12495441(facts, rules):\n",
    "    def triples(facts, rules):\n",
    "        output = []\n",
    "\n",
    "        output.extend(tuple(((f[0], f[1], r[1]) for r in rules['subClassOf'] for f in facts if r[0] == f[2] )))\n",
    "        output.extend(tuple(((f[0], r[1],f[2]) for r in rules['subPropertyOf'] for f in facts if r[0] == f[1] )))\n",
    "        output.extend(tuple(((f[0], 'isa', r[1]) for r in rules['domain'] for f in facts if r[0] == f[1] )))\n",
    "        output.extend(tuple(((f[2], 'isa', r[1]) for r in rules['range'] for f in facts if r[0] == f[1] )))\n",
    "        return output\n",
    "    \n",
    "    output = triples(facts, rules)\n",
    "    output2 = facts\n",
    "    while output2:\n",
    "        for triple in triples(output2, rules):  \n",
    "            output.append(triple)\n",
    "        output2 = triples(output2, rules)\n",
    "    \n",
    "    return (set(output))"
   ]
  },
  {
   "cell_type": "code",
   "execution_count": 5,
   "metadata": {
    "deletable": false,
    "editable": false,
    "nbgrader": {
     "cell_type": "code",
     "checksum": "31bb7fb371f82329a691664a7fa3b08e",
     "grade": true,
     "grade_id": "s",
     "locked": true,
     "points": 0,
     "schema_version": 3,
     "solution": false
    }
   },
   "outputs": [],
   "source": [
    "assert studnr!= 1234567, 'Dit is niet jouw student nummer!'\n"
   ]
  },
  {
   "cell_type": "code",
   "execution_count": 6,
   "metadata": {
    "deletable": false,
    "editable": false,
    "nbgrader": {
     "cell_type": "code",
     "checksum": "557586561b1cd441bf2a4264688cd19f",
     "grade": true,
     "grade_id": "ft",
     "locked": true,
     "points": 0,
     "schema_version": 3,
     "solution": false
    }
   },
   "outputs": [
    {
     "ename": "TypeError",
     "evalue": "'str' object is not callable",
     "output_type": "error",
     "traceback": [
      "\u001b[1;31m---------------------------------------------------------------------------\u001b[0m",
      "\u001b[1;31mTypeError\u001b[0m                                 Traceback (most recent call last)",
      "\u001b[1;32m<ipython-input-6-f784c402e67c>\u001b[0m in \u001b[0;36m<module>\u001b[1;34m\u001b[0m\n\u001b[0;32m      4\u001b[0m       'range': ('Vindt_lekker','Eten')}\n\u001b[0;32m      5\u001b[0m \u001b[0mRDF\u001b[0m\u001b[1;33m=\u001b[0m \u001b[1;33m{\u001b[0m\u001b[1;33m(\u001b[0m\u001b[1;34m'Henk'\u001b[0m\u001b[1;33m,\u001b[0m\u001b[1;34m'isa'\u001b[0m\u001b[1;33m,\u001b[0m\u001b[1;34m'Mens'\u001b[0m\u001b[1;33m)\u001b[0m\u001b[1;33m}\u001b[0m\u001b[1;33m\u001b[0m\u001b[1;33m\u001b[0m\u001b[0m\n\u001b[1;32m----> 6\u001b[1;33m \u001b[0mcompletion\u001b[0m\u001b[1;33m=\u001b[0m \u001b[0mfunctienaam\u001b[0m\u001b[1;33m(\u001b[0m\u001b[0mRDF\u001b[0m\u001b[1;33m,\u001b[0m\u001b[0mRDFS\u001b[0m\u001b[1;33m)\u001b[0m\u001b[1;33m\u001b[0m\u001b[1;33m\u001b[0m\u001b[0m\n\u001b[0m\u001b[0;32m      7\u001b[0m \u001b[1;32massert\u001b[0m \u001b[0misinstance\u001b[0m\u001b[1;33m(\u001b[0m\u001b[0mcompletion\u001b[0m\u001b[1;33m,\u001b[0m\u001b[0mset\u001b[0m\u001b[1;33m)\u001b[0m\u001b[1;33m\u001b[0m\u001b[1;33m\u001b[0m\u001b[0m\n\u001b[0;32m      8\u001b[0m \u001b[1;32mfor\u001b[0m \u001b[0mt\u001b[0m \u001b[1;32min\u001b[0m \u001b[0mcompletion\u001b[0m\u001b[1;33m:\u001b[0m\u001b[1;33m\u001b[0m\u001b[1;33m\u001b[0m\u001b[0m\n",
      "\u001b[1;31mTypeError\u001b[0m: 'str' object is not callable"
     ]
    }
   ],
   "source": [
    "RDFS= {'subPropertyOf': {('Houdt_van','Kent'), ('Eet','Vindt_lekker')},\n",
    "      'subClassOf': {('Mens','Dier'),('Student','Mens')},\n",
    "      'domain': {('Houdt_van','Mens')},\n",
    "      'range': ('Vindt_lekker','Eten')}\n",
    "RDF= {('Henk','isa','Mens')}\n",
    "completion= functienaam(RDF,RDFS)\n",
    "assert isinstance(completion,set)\n",
    "for t in completion:\n",
    "    assert isinstance(t,tuple)\n",
    "    assert len(t)==3\n",
    "    assert isinstance(t[0], str)\n",
    "    assert isinstance(t[1], str)\n",
    "    assert isinstance(t[2], (str, int,float))\n",
    "    "
   ]
  },
  {
   "cell_type": "code",
   "execution_count": null,
   "metadata": {},
   "outputs": [],
   "source": [
    "def check(triple, data):\n",
    "    if triple in functienaam(data[0][0], data[0][1]):\n",
    "        return 'Positief!'\n",
    "    else:\n",
    "        return 'Negatief!'\n"
   ]
  },
  {
   "cell_type": "markdown",
   "metadata": {},
   "source": [
    "# Jouw lijst met testen"
   ]
  },
  {
   "cell_type": "code",
   "execution_count": 7,
   "metadata": {
    "deletable": false,
    "nbgrader": {
     "cell_type": "code",
     "checksum": "793a3e6331c6791cdd2420fd4518352e",
     "grade": false,
     "grade_id": "t",
     "locked": false,
     "schema_version": 3,
     "solution": true
    }
   },
   "outputs": [],
   "source": [
    "testnaam= 'test_'+str(12495441)\n",
    "\n",
    "# jouw test\n",
    "\n",
    "test_12495441=[ \n",
    "    \n",
    "      # test if function finds subClasses\n",
    "      ({('Pietje','isa','Kind')},\n",
    "       {'subPropertyOf': set(),  # RDFS store\n",
    "      'subClassOf': {('Kind','Mens'), ('Mens', 'Zoogdier')},\n",
    "      'domain': set(),\n",
    "      'range': set()},\n",
    "       {('Pietje','isa','Zoogdier')}, # positieve voorbeelden\n",
    "       {('Pietje', 'isa', 'Man')} # negatieve voorbeelden\n",
    "       ),\n",
    "       \n",
    "    # test if function finds Subproperties\n",
    "    ({('Tijn','isa','Mens'), ('Tijn', 'Vriend_van', 'Merijn'), ('Merijn', 'Getrouwd_met', 'Cesar')},  # RDF store\n",
    "       {'subPropertyOf': {('Vriend_van', 'Kent'), ('Getrouwd_met', 'Vriend_van')},  # RDFS store\n",
    "      'subClassOf': set(),\n",
    "      'domain': set(),\n",
    "      'range':  set()},\n",
    "       {('Merijn','Kent','Cesar')}, # positieve voorbeelden\n",
    "       {('Tijn', 'Vriend_van', 'Cesar')} # negatieve voorbeelden\n",
    "       ),\n",
    "       \n",
    "\n",
    "    # test if function deduces all domains\n",
    "    ({('Tijn', 'Houdt_van', 'Merijn'), ('Merijn', 'Vriend_van', 'Cesar'), ('Cesar', 'Vriend_van', 'Tijn'), \n",
    "      ('Cesar', 'Houdt_van', 'Tijn')},  # RDF store\n",
    "       {'subPropertyOf': set(),  # RDFS store\n",
    "      'subClassOf': set(),\n",
    "      'domain': {('Houdt_van', 'Mens'), ('Vriend_van', 'Mens'), ('Vriend_van', 'Sociaal')},\n",
    "      'range':  set()},\n",
    "       {('Cesar','isa','Sociaal')}, # positieve voorbeelden\n",
    "       {('Tijn', 'isa', 'Sociaal')} # negatieve voorbeelden\n",
    "       ),\n",
    "       \n",
    "\n",
    "      # test if function deduces all ranges\n",
    "      ({('Pietje','Gaat_naar','school')},\n",
    "       {'subPropertyOf': set(),  # RDFS store\n",
    "      'subClassOf': set(),\n",
    "      'domain': set(),\n",
    "      'range': {('Gaat_naar', 'Geopend')}},\n",
    "       {('School','isa','Geopend')}, # positieve voorbeelden\n",
    "       {('School', 'isa', 'Huis')} # negatieve voorbeelden\n",
    "       ),\n",
    "       \n",
    "    \n",
    "    # test if function is able to loop through RDFS statements several times\n",
    "    ({('Henk','isa','Man'), ('Karel', 'isa', 'Zoogdier')},  # RDF store\n",
    "       {'subPropertyOf': set(),  # RDFS store\n",
    "      'subClassOf': {('Man','Persoon'), ('Persoon','Mens'), ('Mens','Zoogdier'), ('Zoogdier','Dier'), ('Dier','Wezen'), \n",
    "                     ('Wezen','Levend')},\n",
    "      'domain': set(),\n",
    "      'range':  set()},\n",
    "       {('Henk','isa','Levend'), ('Karel','isa','Wezen')}, # positieve voorbeelden\n",
    "       {('Karel', 'isa', 'Mens')} # negatieve voorbeelden\n",
    "       ),\n",
    "    \n",
    "    # Can the functionKan de code van nieuwe triples uit domain en range nieuwe triples maken met de subClassOf regels?\n",
    "    ({('Cesar','Ouder_van','Jan'), ('Cesar','Houdt_van','Jan')},  # RDF store\n",
    "       {'subPropertyOf': {},  # RDFS store\n",
    "      'subClassOf': {('Persoon','Mens'),('Mens','Sterfelijk'), ('Mens','Dier'), ('Dier','Wezen')},\n",
    "      'domain': {('Houdt_van','Persoon')},\n",
    "      'range':  {('Ouder_van','Mens')}},\n",
    "       {('Jan','isa','Sterfelijk')}, # positieve voorbeelden\n",
    "       {('Jan', 'isa', 'Persoon')} # negatieve voorbeelden\n",
    "       ),\n",
    "    \n",
    "    # test if function can make new triples with domain and range rules when new triples from subPropertyOf are added\n",
    "    ({('Cesar','Is getrouwd met','Karel')},  # RDF store\n",
    "       {'subPropertyOf': {('Is getrouwd met','Houdt_van'),('Houdt_van','Kent')},  # RDFS store\n",
    "      'subClassOf': {('Mens','Sterfelijk'), ('Mens','Dier'), ('Dier','Wezen')},\n",
    "      'domain': {('Houdt_van','Mens')},\n",
    "      'range':  {('Kent','Kennis')}},\n",
    "       {('Cesar','isa','Wezen')}, # positieve voorbeelden\n",
    "       {('Kare', 'isa', 'Wezen')} # negatieve voorbeelden\n",
    "       ),\n",
    "       \n",
    "\n",
    "    # test if function can handle all types of input; strings,integers and floats\n",
    "    ({(12,'isa','Integer'), (12.5,'isa','Float')},  # RDF store\n",
    "       {'subPropertyOf': set(),  # RDFS store\n",
    "      'subClassOf': {('Integer','Getal'),('Float','Getal')},\n",
    "      'domain': set(),\n",
    "      'range':  set()},\n",
    "       {(12,'isa','Getal'), (12.5,'isa','Getal')}, # positieve voorbeelden\n",
    "       {(13, 'isa', 'Getal')} # negatieve voorbeelden\n",
    "       ),\n",
    "\n",
    "    # Small test with all 4 types of RDFS statements\n",
    "    ({('Henk','isa','Mens'), ('Jan','Houdt_van','Henk'), ('Henk', 'Vindt_lekker', 'Pizza'), ('Tijn', 'Ouder_van', 'Merijn'),\n",
    "     ('Cesar', 'Houdt_van', 'Henk'), ('Frits', 'Vriend_van', 'Destiny')},  # RDF store\n",
    "       {'subPropertyOf': {('Houdt_van','Kent')},  # RDFS store\n",
    "      'subClassOf': {('Mens','Sterfelijk'), ('Mens','Dier'), ('Dier','Wezen')},\n",
    "      'domain': {('Houdt_van','Mens'), ('Vriend_van', 'Mens')},\n",
    "      'range':  {('Vindt_lekker','Eten'), ('Ouder_van','Mens'), ('Vriend_van','Persoon')}},\n",
    "       {('Henk','isa','Sterfelijk'), ('Jan', 'Kent', 'Henk'), ('Destiny', 'isa', 'Persoon')}, # positieve voorbeelden\n",
    "       {('Henk', 'Houdt_van', 'Ingrid')} # negatieve voorbeelden\n",
    "       ),\n",
    "    \n",
    "    # Big test with all 4 types of RDFS statements\n",
    "    ({('Pietje','Houdt_van','School'), ('Pietje', 'Leert', 'Engels'), ('Pino', 'Vliegt', 'Dagelijks'),('Rutte', 'Vertegenwoordigd', 'VVD'),('Pietje', 'isa', 'Man'), ('Nemo', 'isa', 'Vis'), ('Nelly', 'Rijdt', 'Auto'),('Laurens', 'isa', 'Man'),('Laurens', 'Print', 'Huiswerk'), ('Laurens', 'Allergisch_voor', 'Kaas')},\n",
    "       {'subPropertyOf': {('Allergisch_voor','Eet_geen'), ('Leert', 'Volgt'), ('Houdt_van','Gaat_naar'), ('Vertegenwoordigd', 'Werkt_voor')},  # RDFS store\n",
    "      'subClassOf': {('Mens','Zoogdier'),('Man','Mens'), ('Engels', 'Talen'),('Vis', 'Dier'), ('Vogel', 'Dier'), ('Bestuurder', 'Mens'), ('Politicus', 'Mens')},\n",
    "      'domain': {('Houdt_van','Mens'), ('Leert', 'Leerling'),('Vertegenwoordigd', 'Politicus'), ('Rijdt','Bestuurder'), ('Vliegt', 'Vogel') },\n",
    "      'range': {('Gaat_naar', 'Geopend'), ('Houdt_van', 'Leuk'), ('Leert', 'Vak') ,('Print', 'Papier'), ('Vertegenwoordigd', 'Partij'), ('Rijdt', 'Voertuig')}},\n",
    "       { ('Nemo', 'isa', 'Dier'),('Rutte', 'isa', 'Zoogdier'),('Engels', 'isa', 'Vak')}, # positieve voorbeelden\n",
    "       {('Engels', 'isa', 'partij'), ('Pietje', 'isa', 'Dier'), ('Pietje', 'isa', 'Leuk')} # negatieve voorbeelden\n",
    "       )\n",
    "    \n",
    "       ] "
   ]
  },
  {
   "cell_type": "code",
   "execution_count": 8,
   "metadata": {
    "deletable": false,
    "editable": false,
    "nbgrader": {
     "cell_type": "code",
     "checksum": "eec1a8944bb8d0211b210689879b82fd",
     "grade": true,
     "grade_id": "tt",
     "locked": true,
     "points": 0,
     "schema_version": 3,
     "solution": false
    }
   },
   "outputs": [
    {
     "ename": "AssertionError",
     "evalue": "",
     "output_type": "error",
     "traceback": [
      "\u001b[1;31m---------------------------------------------------------------------------\u001b[0m",
      "\u001b[1;31mAssertionError\u001b[0m                            Traceback (most recent call last)",
      "\u001b[1;32m<ipython-input-8-500b0aa181b3>\u001b[0m in \u001b[0;36m<module>\u001b[1;34m\u001b[0m\n\u001b[1;32m----> 1\u001b[1;33m \u001b[1;32massert\u001b[0m \u001b[0misinstance\u001b[0m\u001b[1;33m(\u001b[0m\u001b[0mtestnaam\u001b[0m\u001b[1;33m,\u001b[0m\u001b[0mlist\u001b[0m\u001b[1;33m)\u001b[0m\u001b[1;33m\u001b[0m\u001b[1;33m\u001b[0m\u001b[0m\n\u001b[0m\u001b[0;32m      2\u001b[0m \u001b[1;32mfor\u001b[0m \u001b[0mtest\u001b[0m \u001b[1;32min\u001b[0m \u001b[0mtestnaam\u001b[0m\u001b[1;33m:\u001b[0m\u001b[1;33m\u001b[0m\u001b[1;33m\u001b[0m\u001b[0m\n\u001b[0;32m      3\u001b[0m     \u001b[1;32massert\u001b[0m \u001b[0misinstance\u001b[0m\u001b[1;33m(\u001b[0m\u001b[0mtest\u001b[0m\u001b[1;33m,\u001b[0m\u001b[0mtuple\u001b[0m\u001b[1;33m)\u001b[0m\u001b[1;33m\u001b[0m\u001b[1;33m\u001b[0m\u001b[0m\n\u001b[0;32m      4\u001b[0m     \u001b[1;32massert\u001b[0m \u001b[0mlen\u001b[0m\u001b[1;33m(\u001b[0m\u001b[0mtest\u001b[0m\u001b[1;33m)\u001b[0m\u001b[1;33m==\u001b[0m\u001b[1;36m4\u001b[0m\u001b[1;33m\u001b[0m\u001b[1;33m\u001b[0m\u001b[0m\n\u001b[0;32m      5\u001b[0m     \u001b[1;32massert\u001b[0m \u001b[0misinstance\u001b[0m\u001b[1;33m(\u001b[0m\u001b[0mtest\u001b[0m\u001b[1;33m[\u001b[0m\u001b[1;36m0\u001b[0m\u001b[1;33m]\u001b[0m\u001b[1;33m,\u001b[0m\u001b[0mset\u001b[0m\u001b[1;33m)\u001b[0m\u001b[1;33m\u001b[0m\u001b[1;33m\u001b[0m\u001b[0m\n",
      "\u001b[1;31mAssertionError\u001b[0m: "
     ]
    }
   ],
   "source": [
    "assert isinstance(testnaam,list)\n",
    "for test in testnaam:\n",
    "    assert isinstance(test,tuple)\n",
    "    assert len(test)==4\n",
    "    assert isinstance(test[0],set)\n",
    "    assert isinstance(test[1],dict)\n",
    "    assert isinstance(test[2],set)\n",
    "    assert isinstance(test[3],set)"
   ]
  },
  {
   "cell_type": "markdown",
   "metadata": {},
   "source": [
    "# Voor de echte diehards die gaan voor een 10\n",
    "\n",
    "Franconi beschrijft in zijn artikel dat je ook RDFS statements uit andere RDFS statements kunt afleiden. Hij geeft een leuk voorbeeld in het eerste plaatje.\n",
    "\n",
    "Dat kan jij natuurlijk ook!\n",
    "\n",
    "Maak een functie `complete(RDFS)` die precies alle RDFS statements afleidt die volgen uit de verzameling `RDFS`.\n",
    "\n",
    "Maak er ook weer een mooie testset bij, en beargumenteer dat jouw systeem geldig en volledig is.\n",
    "\n",
    "### Hoeveel RDFS statements zijn er eigenlijk die zouden kunnen volgen?\n",
    "\n",
    "* Gegeven de relaties en eigenschappen in de verzameling `RDFS` is dit eindig.\n",
    "* En er zijn maar 4 soorten RDFS statements. \n",
    "* Dus moet het wel eindig zijn, en kan je zelfs uitrekenen hoeveel.\n",
    "* Een manier is om ze allemaal te proberen....\n",
    "    * Voeg het antecedent toe als RDF-triple aan `RDFS` en kijk of het consequent dan volgt...\n",
    "* Reken het eens uit voor $r$ relaties en $p$ eigenschappen.\n",
    "    * Met $r$ relaties kan je $r\\cdot(r-1)$ veel `subPropertyOf` relaties maken toch...\n",
    "    * en dan nog ....\n",
    "    * en ....\n",
    "* Dit is niet eens zo gek, maar met een *chase* gaat het natuurlijk veel sneller omdat je dan resultaatgericht werkt in plaats van als een dolle alles gaat proberen.\n",
    "    * Bijv; Stel je hebt 100 relaties, maar in je RDFS komt er maar 1 voor in antecdent positie in `subPropertyOf` statements. Hoeveel `subPropertyOf` kan je dan afleiden? Ja, dat is dus sneller dan al die 100*99 te gaan proberen toch? Want dat is best veel."
   ]
  },
  {
   "cell_type": "code",
   "execution_count": 9,
   "metadata": {},
   "outputs": [],
   "source": [
    "def complete(RDFS):\n",
    "    subproperty = list(RDFS['subPropertyOf'])\n",
    "    subclass = list(RDFS['subClassOf'])\n",
    "    domain = list(RDFS['domain'])\n",
    "    range = list(RDFS['range'])\n",
    "    subproperty_oud, subclass_oud, domain_oud, range_oud = set(subproperty), set(subclass), set(domain), set(range)\n",
    "    \n",
    "    subproperty.extend((rule[0], rule2[1]) for rule in subproperty for rule2 in subproperty if rule[1] == rule2[0])           \n",
    "    subclass.extend((rule[0], rule2[1]) for rule in subclass for rule2 in subclass if rule[1] == rule2[0])                \n",
    "    domain.extend((rule[0], rule2[1]) for rule in domain for rule2 in subclass if rule[1] == rule2[0])                \n",
    "    domain.extend((rule2[0], rule[1]) for rule in domain for rule2 in subproperty if rule2[1] == rule[0])                \n",
    "    range.extend((rule[0], rule2[1]) for rule in range for rule2 in subclass if rule[1] == rule2[0])                \n",
    "    range.extend((rule2[0], rule[1]) for rule in range for rule2 in subproperty if rule2[1] == rule[0])\n",
    "    \n",
    "    return {'subPropertyOf': set(subproperty) - subproperty_oud, 'subClassOf':set(subclass) - subclass_oud, \n",
    "            'Domain':set(domain) - domain_oud, 'Range':set(range) - range_oud}\n",
    "    "
   ]
  },
  {
   "cell_type": "markdown",
   "metadata": {},
   "source": [
    "Volgens ons zijn er 6 manieren waarop er nieuwe regels afgeleid kunnen worden uit andere regels. Nieuwe subclass regels maken kan doordat er een nieuwe wordt gevormd uit twee andere regels in subclass. Dit kan als x een subclass is van y, y een subclass is van z dan kun je hieruit de nieuwe regel x is een subclass van z halen. \n",
    "Nieuwe subproperty regels kunnen gevormd worden uit andere subroperty regels. Deze manier lijkt erg op de manier zoals bij subclass, namelijk als x een relatie is tussen twee waarden en y daardoor ook, y een relatie is en daardoor z ook dan is z ook een relatie door x. Dus je krijgt dan de regel (x,z). \n",
    "Er zijn twee manieren om nieuwe domeinregels af te leiden. Eén manier is door te kijken naar waar de class waar je toe behoort volgens de regel allemaal subclass van is. Dus als je doordat je van iemand houdt een persoon bent en volgens subclass ben je omdat je een persoon bent ook een dier, is een nieuwe regel in domein dat je omdat je van iemand houdt een dier bent. De andere manier is door naar subproperties te kijken. Als je bijvoorbeeld hebt in subproperty als je studeert dan leer je en in domain als je leert ben je student, dan kun je dus in domein de regel maken dat als je studeert je student bent. \n",
    "Voor nieuwe range regels zijn ook twee manieren. Eén manier is door te kijken waar de class in de regel weer subclass van is in de subclass regels. Dus als de regel is: als je ouder_van iets bent, ben je een persoon en in de subclass regels staat: persoon is subclass van mens, dan zou een nieuwe regel in range dus zijn: als je ouder bent van iets, dan ben je mens, oftwel ('ouder_van', 'mens'). De ander manier is als er in een subproperty een regel staat zoals als je moeder bent van iets ben je ook ouder van dat iets ('moeder van','ouder_van') en vervolgens de relatie 'moeder van' de regels van 'ouder van' overneemt. Dus als in range staat als je ouder bent van iets dan bent je persoon ('ouder_van', 'mens') betekent dat dat er een nieuwe regel is die zegt dan is het ook zo dat: als je moeder bent van iets ben je een mens ('moeder van','mens') \n",
    "Aangezien dit volgens ons de manieren zijn waarop nieuwe regels gevonden kunnen worden, zou de code volledig zijn als deze manieren gebruikt worden. Alle zes manieren van nieuwe regels maken voert onze code uit, dus daarom is onze code volledig."
   ]
  },
  {
   "cell_type": "markdown",
   "metadata": {},
   "source": [
    "### Onze Tests\n"
   ]
  },
  {
   "cell_type": "code",
   "execution_count": 10,
   "metadata": {},
   "outputs": [],
   "source": [
    "testset_12495441 = [\n",
    "    \n",
    "({'subPropertyOf': {('Opa_van','Grootouder_van'), ('Grootouder_van','Voorouder_van')},  \n",
    "              'subClassOf': set(),\n",
    "              'domain': set(),\n",
    "              'range':  set()}),\n",
    "           \n",
    "({'subPropertyOf': set(),\n",
    "      'subClassOf': {('Kaas','Eten'),('Eten','Voedsel')},\n",
    "      'domain': set(),\n",
    "      'range': set()}),\n",
    "\n",
    "({'subPropertyOf': {('Lijsttrekker_van','Vertegenwoordigt_partij')},\n",
    "      'subClassOf': set(),\n",
    "      'domain': {('Vertegenwoordigt_partij', 'Politicus')} ,\n",
    "      'range': set()}),\n",
    "\n",
    "({'subPropertyOf': set(),\n",
    "      'subClassOf': {('Man','Persoon')},\n",
    "      'domain': {('Homo_met', 'Man')} ,\n",
    "      'range': set()}),\n",
    "\n",
    "({'subPropertyOf': {('Bestuurt', 'Rijdt')},\n",
    "      'subClassOf': set(),\n",
    "      'domain': set(),\n",
    "      'range': {('Rijdt', 'Voertuig')}}),\n",
    "\n",
    "({'subPropertyOf': set(),\n",
    "      'subClassOf': {('Eten', 'Voeding')},\n",
    "      'domain': set(),\n",
    "      'range': {('Eet_graag', 'Eten')}}),\n",
    "\n",
    "({'subPropertyOf': {('Moeder van','Ouder_van'), ('Studeert','Leert'), ('Houdt_van','Kent naam'), ('Kent naam','Kent'),\n",
    "                              ('Kent','Heb gezien')},  \n",
    "              'subClassOf': {('Persoon','Mens'), ('Mens','Zoogdier'), ('Zoogdier','Dier'), ('Dier','Wezen'), \n",
    "                             ('Wezen','Levend')},\n",
    "              'domain': {('Houdt_van','Persoon'), ('Leert','Student')},\n",
    "              'range':  {('Ouder_van', 'Persoon')}})\n",
    "]"
   ]
  }
 ],
 "metadata": {
  "kernelspec": {
   "display_name": "Python 3",
   "language": "python",
   "name": "python3"
  },
  "language_info": {
   "codemirror_mode": {
    "name": "ipython",
    "version": 3
   },
   "file_extension": ".py",
   "mimetype": "text/x-python",
   "name": "python",
   "nbconvert_exporter": "python",
   "pygments_lexer": "ipython3",
   "version": "3.7.7"
  },
  "toc": {
   "nav_menu": {},
   "number_sections": true,
   "sideBar": true,
   "skip_h1_title": false,
   "title_cell": "Table of Contents",
   "title_sidebar": "Contents",
   "toc_cell": true,
   "toc_position": {},
   "toc_section_display": true,
   "toc_window_display": false
  }
 },
 "nbformat": 4,
 "nbformat_minor": 2
}
