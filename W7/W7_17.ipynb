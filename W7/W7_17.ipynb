{
 "cells": [
  {
   "cell_type": "markdown",
   "metadata": {},
   "source": [
    "# Assignment Kennis en Data"
   ]
  },
  {
   "cell_type": "markdown",
   "metadata": {},
   "source": [
    "## Notebook made by\n",
    "\n",
    "\n",
    "|Naam|Studentnummer|\n",
    "|-|-|\n",
    "|Jesse|secret |\n",
    "|Wouter|secret |\n",
    "|Rama|secret |\n",
    "|Koen|secret |\n",
    "\n",
    "## Peerreview\n",
    "\n",
    "* Vul onderstaande dict/tabel in en run de cel. Klopt het? Zijn jullie het er allemaal mee eens?\n",
    "    * Verander `1,2,3,4` door jullie studentnummers\n",
    "    * `1: {1:.2,2:.3,3:.3,4:.2}` betekent dat student 1 zijn punt zo over de 4 studenten verdeelt\n",
    "    * Let op, per student moeten de punten optellen tot 1!\n",
    "    * De gegeven punten staan in de tabel op de rijen, de ontvangen punten in de kolommen.\n",
    "    * met `cijfer_per_student` kan je bepalen welk cijfer ieder krijgt bij een gegeven groepscijfer."
   ]
  },
  {
   "cell_type": "markdown",
   "metadata": {},
   "source": [
    "## Toelichting\n",
    "\n",
    "* De meeste opgaven worden automatisch nagekeken. Bij vrijwel alle opdrachten staan er een paar tests onder de opdracht, dit is voornamelijk om te zorgen dat je de juiste type output geeft. Dit zijn dus *NIET* alle tests, die komen er bij het graden nog bij.\n",
    "* Elke vraag is 1 punt waard, tenzij anders aangegeven. Soms is die punt onderverdeeld in deelpunten, maar niet altijd. \n",
    "\n",
    "## Voor het inleveren!\n",
    "\n",
    "* Pas niet de cellen aan, vooral niet die je niet kunt editen. Dit levert problemen op bij nakijken. Twijfel je of je per ongeluk iets hebt gewijzigd, kopieer dan bij inleveren je antwoorden naar een nieuw bestand, zodat het niet fout kan gaan.\n",
    "\n",
    "* Zorg dat de code goed runt van boven naar beneden, verifieer dat door boven in Kernel -> Restart & Run All uit te voeren\n",
    "\n",
    "## Na het inleveren!\n",
    "\n",
    "* Het gebeurt erg vaak dat mensen een \"leeg bestand\" inleveren. Vaak een andere versie van de opgave die nog ergens op je computer rondslingerde. Zonde van al je werk toch!\n",
    "* Dus, lever **minstens een half uur voor tijd in**. Download dan wat je hebt ingeleverd op Canvas. Geef het een andere naam om verwarring te voorkomen. En draai alle cellen, en bekijk het. Geen syntax fouten? Alle vragen gemaakt? Dan zit het vast wel goed, en hoef je niet in de zenuwen te zitten."
   ]
  },
  {
   "cell_type": "markdown",
   "metadata": {},
   "source": [
    "# Linked Data project\n",
    "\n",
    "Maak een notebook met een end-to-end project gebaseerd op wikidata, en neem bijvoorbeeld deze als inspiratie:\n",
    "* Mooie tutorial van begin tot eind met goede video: <https://media.ed.ac.uk/media/Wikidata+Sparql+Query+Tutorial/1_7v9v6s04> (Vrouwen educated in university of edinburg)\n",
    "* Leuke tutorial met notebooks beschikbaar: <https://towardsdatascience.com/where-do-mayors-come-from-querying-wikidata-with-python-and-sparql-91f3c0af22e2>\n",
    "* [Deze pagina](https://www.wikidata.org/wiki/Wikidata:WikiProject_every_politician/Netherlands/data/House/All_Members) over Nederlandse politici bevat een mooi begin, waar je nog heel wat moois van kan maken. \n",
    "* Of [deze](https://www.wikidata.org/wiki/Wikidata:WikiProject_Netherlands_Public_Libraries/Branches/By_Organisation) over bibliotheken. Ook hier kan je zowel het spreadsheet veel rijker maken, als natuurlijk op basis daarvan een geweldige interface maken.\n",
    "    * Maar er is al een hoop mee gedaan hoor: zie bijvoorbeeld <https://www.wikidata.org/wiki/Wikidata:WikiProject_Netherlands_Public_Libraries/Maps#Country>\n",
    "* <https://www.wikidata.org/wiki/Wikidata:WikiProject_COVID-19>\n",
    "\n",
    "\n",
    "## Vereisten\n",
    "\n",
    "1. Leuk probleem, goed uitgewerkt en gemotiveerd. Origineel, maar kan natuurlijk gebaseerd zijn op eerder werk.\n",
    "    * Wees heel eerlijk met je inspiratiebronnen, en noem ze, en benoem exact waar jij verder bent gegaan (wat zijn jullie toevoegingen?)\n",
    "2. Het moet gaan over **Nederlandse** data, of data over Nederland. \n",
    "    * Natuurlijk mag er ook een verband met het buitenland zijn.\n",
    "2. Een dataset die je met SPARQL uit wikidata haalt, en die je netjes beschrijft, en aangeeft dat de data \"klopt\" met jouw probleem.\n",
    "    * je dataset moet wel echt wat body hebben: dus flink wat rijen (items), en kolommen (eigenschappen)\n",
    "    * je kan je data in spreadsheet formaat of SQL formaat of zelfs JSON formaat opslaan, en er dan later mee verder werken in Python-Pandas, SQL, of direct met python dicts.\n",
    "3. Je laat nu op een aansprekende manier zien hoe jouw data jouw probleem oplost.\n",
    "    * Dit kan prima in een jupyter notebook. Het is een **functioneel prototype** voor een mogelijke webapplicatie. \n",
    "    * Je kan [python widgets](https://ipywidgets.readthedocs.io/en/stable/examples/Widget%20Basics.html) gebruiken voor interactie met gebruiker\n",
    "    * of plotly en dash voor gave interactieve plots en visuals (of seaborn als je het saai statisch wilt houden)\n",
    "4. Schrijf een reflectie.\n",
    "5. Jouw hele \"blogpost/tutorial\" is een Jupyter notebook die standalone perfect draait. (mits verbonden met het web).\n",
    "6. Je plaatst je notebook op een publiek github adres, of ergens op Google colab. Met gedraaide output. Het is belangrijk dat anderen jouw notebook \n",
    "    * heel makkelijk kunen lezen\n",
    "    * heel makkelijk kunnen downloaden, en runnen.\n",
    "        * dus als je niet standaard modules gebruikt zet je in een aparte uitgecommentarieerde cel de `pip install commands`\n",
    "7. En levert hem natuurlijk ook weer in via Canvas.\n",
    "\n",
    "### Grading\n",
    "\n",
    "* Ook hier weer via peer review binnen je groep.\n",
    "* Plus een expert review van je tutor.\n",
    "* Maak er wat moois, leerzaams, gaafs, en verrassends van! "
   ]
  },
  {
   "cell_type": "code",
   "execution_count": 1,
   "metadata": {},
   "outputs": [
    {
     "name": "stderr",
     "output_type": "stream",
     "text": [
      "Error importing optional module geopandas\n",
      "Traceback (most recent call last):\n",
      "  File \"/Users/admin/anaconda/envs/python3.6/lib/python3.6/site-packages/_plotly_utils/optional_imports.py\", line 28, in get_module\n",
      "    return import_module(name)\n",
      "  File \"/Users/admin/anaconda/envs/python3.6/lib/python3.6/importlib/__init__.py\", line 126, in import_module\n",
      "    return _bootstrap._gcd_import(name[level:], package, level)\n",
      "  File \"<frozen importlib._bootstrap>\", line 994, in _gcd_import\n",
      "  File \"<frozen importlib._bootstrap>\", line 971, in _find_and_load\n",
      "  File \"<frozen importlib._bootstrap>\", line 955, in _find_and_load_unlocked\n",
      "  File \"<frozen importlib._bootstrap>\", line 665, in _load_unlocked\n",
      "  File \"<frozen importlib._bootstrap_external>\", line 678, in exec_module\n",
      "  File \"<frozen importlib._bootstrap>\", line 219, in _call_with_frames_removed\n",
      "  File \"/Users/admin/anaconda/envs/python3.6/lib/python3.6/site-packages/geopandas/__init__.py\", line 1, in <module>\n",
      "    from geopandas.geoseries import GeoSeries  # noqa\n",
      "  File \"/Users/admin/anaconda/envs/python3.6/lib/python3.6/site-packages/geopandas/geoseries.py\", line 12, in <module>\n",
      "    from shapely.geometry.base import BaseGeometry\n",
      "  File \"/Users/admin/anaconda/envs/python3.6/lib/python3.6/site-packages/shapely/geometry/__init__.py\", line 4, in <module>\n",
      "    from .base import CAP_STYLE, JOIN_STYLE\n",
      "  File \"/Users/admin/anaconda/envs/python3.6/lib/python3.6/site-packages/shapely/geometry/base.py\", line 17, in <module>\n",
      "    from shapely.coords import CoordinateSequence\n",
      "  File \"/Users/admin/anaconda/envs/python3.6/lib/python3.6/site-packages/shapely/coords.py\", line 8, in <module>\n",
      "    from shapely.geos import lgeos\n",
      "  File \"/Users/admin/anaconda/envs/python3.6/lib/python3.6/site-packages/shapely/geos.py\", line 112, in <module>\n",
      "    _lgeos = load_dll('geos_c', fallbacks=alt_paths)\n",
      "  File \"/Users/admin/anaconda/envs/python3.6/lib/python3.6/site-packages/shapely/geos.py\", line 56, in load_dll\n",
      "    libname, fallbacks or []))\n",
      "OSError: Could not find lib geos_c or load any of its variants ['/Library/Frameworks/GEOS.framework/Versions/Current/GEOS', '/opt/local/lib/libgeos_c.dylib'].\n"
     ]
    }
   ],
   "source": [
    "from plotly.subplots import make_subplots\n",
    "import plotly.express as px\n",
    "import pandas as pd \n",
    "import seaborn as sn\n",
    "import matplotlib.pyplot as plt\n",
    "import plotly.graph_objs as go\n",
    "import plotly.figure_factory as ff\n",
    "import numpy as np\n",
    "from SPARQLWrapper import SPARQLWrapper, JSON\n",
    "from pandas.io.json import json_normalize\n",
    "import pandas as pd\n",
    "import requests\n",
    "import networkx as nx\n",
    "import warnings\n",
    "warnings.filterwarnings('ignore')"
   ]
  },
  {
   "cell_type": "markdown",
   "metadata": {},
   "source": [
    "# Een objectief beeld van het politieke klimaat 🗞️\n",
    "#### een linked data project door Jesse Kommandeur Wouter Knibbe, Rama Pamudji en Koen Berenschot "
   ]
  },
  {
   "cell_type": "markdown",
   "metadata": {},
   "source": [
    "## Probleemstelling\n",
    "Er is weinig kennis over de relatie tussen persoonlijke informatie van politici (zoals demografische gegevens) en de doelen die hun politieke partijen nastreven. De hypothese van dit Linked data project is dat een groot verband zou kunnen zijn tussen de persoonlijke kenmerken van politici en de kenmerken van hun partijen. Deze hypothese is gebaseerd op wetenschappelijk onderzoek, waaruit blijkt dat de context waarin het individu leeft invloed heeft op de ontwikkeling van gedrag en wereldbeeld. *“Confirmation bias is the tendency to search for, interpret, favor, and recall information in a way that confirms or supports one's prior beliefs or values”*. \n",
    "\n",
    "#### Geloven 💭, principes 🙌 en perceptie 👁️ \n",
    "De geloven, principes en perceptie die politici hebben vormen de basis voor hun beslissingen. Deze beslissingen leiden tot bepaalde uitkomsten en keuzes in hun leven. Een deel van deze uitkomsten en keuzes is publieke informatie opgeslagen in wikidata. Uitkomsten zoals de hoeveelheid kinderen die je heb en bij wat voor organisaties je hebt gewerkt. Maar ook keuzes over hoe je hebt gestemt over politieke onderwerpen. Dus we kunnen vanaf de uitkomsten en keuzes terugredeneren (tot op bepaald niveau!) naar wat ongeveer hun geloven, principes en perceptie zijn zijn.\n",
    "\n",
    "#### Maar wat onderzoek je dan? 🔍\n",
    "Het is dus interessant om te onderzoeken of dit ook geldt voor politici: Hebben politici van D66 gemiddeld gezien bijvoorbeeld meer kinderen dan politieke leiders van andere partijen? En zou je daaruit kunnen afleiden dat Sigrid Kaag (lijsttrekker D66) zich daarom meer inzet voor onderwijs? En heeft dit bijvoorbeeld te maken met het feit dat zij twee kinderen heeft die naar school gaan, en daardoor zelf meer in aanraking komt met onderwijs (en het belang ervan) dan Geert Wilder (lijsttrekker PVV) die geen kinderen heeft en wiens partij onderwijs een lager op het partijprogramma heeft staan? \n",
    "\n",
    "Dus, verwacht je dat een politici keuze A zou doen, maar in hun verkiezingsprogramma pleiten zij voor keuze B, hoe is dat dan te verklaren? Verwacht je van een politici keuze A en zei pleiten ook voor A, wat zegt dat dan over hen? Neemt de hoeveelheid vertrouwen in een politici toe wanneer deze te voorspellen is of juist af? Wat voor informatie heb je nog meer nodig om dat te zeggen? Dat laten we over aan het Nederlandse volk. Het in ieder geval interessante informatie die de beslissing om op iemand te stemmen flink kan beïnvloeden. **Ons doel is om deze data helder en inzichtelijk te maken, om zo objectieve informatie over het politieke klimaat te geven.** Zo herinneren wij Nederlanders er weer aan dat ook politici, net als zijzelf, voorspelbare mensen zijn."
   ]
  },
  {
   "cell_type": "markdown",
   "metadata": {},
   "source": [
    "## Aard van de data 📊\n",
    "\n",
    "### SPARQL - Wikidata 🌐\n",
    "Voordat politieke data-analyses uitgevoerd kunnen worden, zal er eerst data verzameld moeten worden. Als startpunt is er gekozen voor de bestaande dataset van wikidata: https://www.wikidata.org/wiki/Wikidata:WikiProject_every_politician/Netherlands/data/House/All_Members. Deze pagina met wikidata over alle politici inclusief hun start- en einddatum in de politiek is erg *sparse*. De pagina’s van de politici waarnaar gerefereerd wordt in deze lijst bevat echter veel interessante informatie. Van deze volksvertegenwoordigers is de onderstaande data verzameld. Op basis van deze deze data kan de ‘context’ van een politicus geschetst worden.\n",
    "\n",
    "- Geslacht\n",
    "- Land van burgerschap\n",
    "- Geboortedatum\n",
    "- Geboorteplek (stad)\n",
    "- Moedertaal\n",
    "- Gesproken/geschreven talen\n",
    "- Beroep (incl. verleden beroepen)\n",
    "- Werkgever (incl. verleden werkgevers)\n",
    "- Positie in de politiek (incl. verleden posities)\n",
    "- Opleiding (specifiek welke school)\n",
    "- Woonplek\n",
    "- Lid politieke partij (incl. verleden partijen)\n",
    "- Religie\n",
    "- Social media aanhang\n",
    "- Instrument (muziek)\n",
    "- Aantal kinderen\n",
    "- Begin periode tweede kamer\n",
    "- Eind periode tweede kamer\n",
    "\n",
    "\n",
    "### Politici 👩‍💼👨‍💼\n",
    "Omdat politici als [Abraham Boxman (1796-1856)](https://nl.wikipedia.org/wiki/Abraham_Boxman) voor het toekomstige politieke klimaat een  stuk minder relevant zijn dan volksvertegenwoordigers als [Sigrid Kaag](https://nl.wikipedia.org/wiki/Sigrid_Kaag), wordt er alleen data te verzameld van politici die mee doen aan de **Tweede Kamer verkiezingen van 2021**. Na het uitvoeren van een  SPARQL query blijkt dat 508 mensen zich verkiesbaar hebben gesteld voor de verkiezingen op 17 maart 2021. "
   ]
  },
  {
   "cell_type": "code",
   "execution_count": 2,
   "metadata": {},
   "outputs": [
    {
     "name": "stdout",
     "output_type": "stream",
     "text": [
      "Er doen 639 volksvertegenwoordigers mee met de Tweede Kamerverkiezingen\n",
      "Hier een aantal voorbeelden ['Norbert Klein', 'Pieter Heerma', 'Geert Wilders', 'Roelof Bisschop', 'Ank Bijleveld']\n"
     ]
    }
   ],
   "source": [
    "## sparql query for al politicians\n",
    "sparql = SPARQLWrapper('https://query.wikidata.org/sparql')\n",
    "\n",
    "sparql.setQuery('''\n",
    "SELECT DISTINCT ?personLabel ?genderLabel ?partyLabel\n",
    "WHERE {\n",
    "    ?person wdt:P3602 wd:Q42733725.\n",
    "    SERVICE wikibase:label { bd:serviceParam wikibase:language \"en\" }\n",
    "}\n",
    "''')\n",
    "\n",
    "sparql.setReturnFormat(JSON)\n",
    "results = sparql.query().convert()\n",
    "results_df = json_normalize(results['results']['bindings'])\n",
    "\n",
    "verkiesbaar = list()\n",
    "\n",
    "for x in range(len(results_df['personLabel.value'])):\n",
    "    verkiesbaar.append(results_df['personLabel.value'][x])\n",
    "\n",
    "print(\"Er doen\", len(verkiesbaar), \"volksvertegenwoordigers mee met de Tweede Kamerverkiezingen\")\n",
    "print(\"Hier een aantal voorbeelden\", verkiesbaar[0:5])"
   ]
  },
  {
   "cell_type": "markdown",
   "metadata": {},
   "source": [
    "### Partijen 🗣️\n",
    "Naast historische politici zijn historische partijen ook minder interessant. Na het uitvoeren van weer een SPARQL query blijkt dat er  in totaal 43 partijen meedoen aan de Tweede Kamerverkiezingen van 2021. In de realiteit is dit anders, en zijn de namen van politieke partijen natuurlijk ook niet in het Engels. Daarom 'hardcoden' we politieke partijen in dit geval. In de reflectie komen we hier op terug."
   ]
  },
  {
   "cell_type": "code",
   "execution_count": 3,
   "metadata": {},
   "outputs": [
    {
     "name": "stdout",
     "output_type": "stream",
     "text": [
      "Er doen 45 partijen mee met de Tweede Kamerverkiezingen\n",
      "Hier een aantal voorbeelden [\"Catholic People's Party\", 'Lokaal in de Kamer']\n"
     ]
    }
   ],
   "source": [
    "## sparql query for al political parties\n",
    "sparql = SPARQLWrapper('https://query.wikidata.org/sparql')\n",
    "\n",
    "sparql.setQuery('''\n",
    "SELECT DISTINCT ?personLabel ?genderLabel ?partyLabel\n",
    "WHERE {\n",
    "    ?person wdt:P3602 wd:Q42733725.\n",
    "    ?person wdt:P21 ?gender.\n",
    "    ?person wdt:P102 ?party. \n",
    "    SERVICE wikibase:label { bd:serviceParam wikibase:language \"en\" }\n",
    "}\n",
    "''')\n",
    "\n",
    "sparql.setReturnFormat(JSON)\n",
    "results = sparql.query().convert()\n",
    "results_df = json_normalize(results['results']['bindings'])\n",
    "\n",
    "partijen = list()\n",
    "\n",
    "for x in range(len(results_df['personLabel.value'])):\n",
    "    partijen.append(results_df['partyLabel.value'][x])\n",
    "\n",
    "results_df[['personLabel.value', 'genderLabel.value', 'partyLabel.value']]\n",
    "\n",
    "partijen = set(partijen)\n",
    "\n",
    "print(\"Er doen\", len(set(partijen)), \"partijen mee met de Tweede Kamerverkiezingen\")\n",
    "print(\"Hier een aantal voorbeelden\", list(partijen)[:2])"
   ]
  },
  {
   "cell_type": "markdown",
   "metadata": {},
   "source": [
    "### Kandidaten en partijen 👩‍💼👨‍💼 ∩ 🗣️\n",
    "\n",
    "Nu we weten welke partijen en kandidaten er mee doen aan de tweede kamer verkiezingen van 2021, is het voor een analyse interessant deze data te combineren. Welke politicus vertegenwoordigd welke partij? Ook hier wordt een dictionary teruggeven. Deze keer met als key de naam van de politicus en als value een string met de naam van de partij."
   ]
  },
  {
   "cell_type": "code",
   "execution_count": 4,
   "metadata": {},
   "outputs": [
    {
     "name": "stdout",
     "output_type": "stream",
     "text": [
      "Een paar politici en tot welke partij zij behoren: \n"
     ]
    },
    {
     "data": {
      "text/plain": [
       "[('Caroline van der Plas', 'Farmer-Citizen Movement'),\n",
       " ('Anna Zeven', 'Lijst30'),\n",
       " ('Christian Kromme', 'Lijst30'),\n",
       " ('Koen Verhagen', 'Lijst30'),\n",
       " ('Mordechai Krispijn', 'Lijst30')]"
      ]
     },
     "execution_count": 4,
     "metadata": {},
     "output_type": "execute_result"
    }
   ],
   "source": [
    "sparql = SPARQLWrapper('https://query.wikidata.org/sparql')\n",
    "\n",
    "sparql.setQuery('''\n",
    "SELECT DISTINCT ?personLabel ?partyLabel\n",
    "WHERE {\n",
    "    ?person wdt:P3602 wd:Q42733725.\n",
    "    ?person wdt:P102 ?party.\n",
    "    SERVICE wikibase:label { bd:serviceParam wikibase:language \"en\" }\n",
    "}\n",
    "''')\n",
    "\n",
    "sparql.setReturnFormat(JSON)\n",
    "results = sparql.query().convert()\n",
    "results_df = json_normalize(results['results']['bindings'])\n",
    "\n",
    "party= {}\n",
    "\n",
    "for x in range(len(results_df['personLabel.value'])):\n",
    "    party[results_df['personLabel.value'][x]] = results_df['partyLabel.value'][x]\n",
    "    \n",
    "print('Een paar politici en tot welke partij zij behoren: ')\n",
    "list(party.items())[:5]"
   ]
  },
  {
   "cell_type": "markdown",
   "metadata": {},
   "source": [
    "### Gemiddelde leeftijd per partij 👴🏻\n",
    "\n",
    "Nu duidelijk is welke partijen mee doen aan de kamerverkiezingen van 2021, is het interessant om naar bepaalde eigenschappen van deze partijen te kijken. Eerst nemen we een kijkje in de gemiddelde leeftijd per partij. Deze zijn weergegeven in een dictionary, waarbij de key de partijen zijn en de value de gemiddelde leeftijd."
   ]
  },
  {
   "cell_type": "code",
   "execution_count": 5,
   "metadata": {},
   "outputs": [
    {
     "name": "stdout",
     "output_type": "stream",
     "text": [
      "de gemiddelde leeftijd van de partijen: \n"
     ]
    },
    {
     "data": {
      "text/plain": [
       "[(\"Catholic People's Party\", 93),\n",
       " ('United Democrats', 56),\n",
       " ('BIJ1', 57),\n",
       " ('Labour Party', 44),\n",
       " ('Partij van de Eenheid', 50)]"
      ]
     },
     "execution_count": 5,
     "metadata": {},
     "output_type": "execute_result"
    }
   ],
   "source": [
    "sparql = SPARQLWrapper('https://query.wikidata.org/sparql')\n",
    "\n",
    "sparql.setQuery('''\n",
    "SELECT DISTINCT ?personLabel ?age ?partyLabel\n",
    "WHERE {\n",
    "    ?person wdt:P3602 wd:Q42733725.\n",
    "    ?person wdt:P569 ?born.\n",
    "    ?person wdt:P102 ?party.\n",
    "    BIND(now()- ?born AS ?ageInDays).\n",
    "    BIND(?ageInDays/365.2425 AS ?ageInYears).\n",
    "    BIND(FLOOR(?ageInYears) AS ?age).\n",
    "    SERVICE wikibase:label { bd:serviceParam wikibase:language \"en\" }\n",
    "}\n",
    "''')\n",
    "\n",
    "sparql.setReturnFormat(JSON)\n",
    "results = sparql.query().convert()\n",
    "\n",
    "results_df = json_normalize(results['results']['bindings'])\n",
    "\n",
    "kandidaat= {}\n",
    "partij= {}\n",
    "\n",
    "for x in range(len(results_df['personLabel.value'])):\n",
    "    partij[results_df['personLabel.value'][x]] = results_df['partyLabel.value'][x]\n",
    "\n",
    "for x in range(len(results_df['personLabel.value'])):\n",
    "    kandidaat[results_df['personLabel.value'][x]] = results_df['age.value'][x]\n",
    "\n",
    "partijenLeeftijd = {}    \n",
    "    \n",
    "for x in set(results_df['partyLabel.value']):\n",
    "    count=0\n",
    "    leeftijd=0\n",
    "    \n",
    "    for y in kandidaat:\n",
    "        if partij[y] == x:\n",
    "            count+=1\n",
    "            leeftijd+=int(float(kandidaat[y]))\n",
    "    \n",
    "    if count != 0:\n",
    "        partijenLeeftijd[x] = round(leeftijd/count)\n",
    "  \n",
    "print('de gemiddelde leeftijd van de partijen: ')\n",
    "list(partijenLeeftijd.items())[:5]"
   ]
  },
  {
   "cell_type": "markdown",
   "metadata": {},
   "source": [
    "### Partijen en hun kinderen 👨‍👩‍👦\n",
    "\n",
    "Queries kunnen verder ook gebruikt worden om erachter te komen hoeveel kinderen de kandidaten van een bepaalde partij in totaal hebben. De verkregen informatie kan gebruikt worden om correlaties te vinden tussen de partijen en de moties waar zij mee ingestemd hebben. \n",
    "\n",
    "Een voorbeeld hiervan is de motie van D66 van 18 april 2020 met als titel `Kinderopvang als basisvoorziening`, dit werd verder gesteund door de SP en afgekeurd door de VVD. In de onderstaande dict is te zien dat D66 11 totaal aantal kinderen heeft en de SP 15 kinderen en wellicht daarom allebei de motie steunden. In tegenstelling tot de D66 en de SP was VVD (People's Party for Freedom and Democracy) er niet mee eens en is er te zien dat de VVD maar 4 kinderen in totaal heeft. Hieruit zou uit geconcludeerd kunnen worden dat politici die zelf ouders zijn ook meer medeleven hebben voor de ouders van Nederland."
   ]
  },
  {
   "cell_type": "code",
   "execution_count": 6,
   "metadata": {},
   "outputs": [
    {
     "name": "stdout",
     "output_type": "stream",
     "text": [
      "Hoeveel kinderen de politici van iedere partij bij elkaar hebben:\n"
     ]
    },
    {
     "data": {
      "text/plain": [
       "[('Reformed Political Party', 2),\n",
       " ('Forum for Democracy', 4),\n",
       " ('Democrats 66', 11),\n",
       " ('Christian Union', 4),\n",
       " ('GroenLinks', 3)]"
      ]
     },
     "execution_count": 6,
     "metadata": {},
     "output_type": "execute_result"
    }
   ],
   "source": [
    "sparql = SPARQLWrapper('https://query.wikidata.org/sparql')\n",
    "\n",
    "sparql.setQuery('''\n",
    "SELECT DISTINCT ?personLabel ?nocLabel ?partyLabel\n",
    "WHERE {\n",
    "    ?person wdt:P3602 wd:Q42733725.\n",
    "    ?person wdt:P1971 ?noc. # Number of Children\n",
    "    ?person wdt:P102 ?party.\n",
    "    SERVICE wikibase:label { bd:serviceParam wikibase:language \"en\" }\n",
    "}\n",
    "''')\n",
    "\n",
    "sparql.setReturnFormat(JSON)\n",
    "results = sparql.query().convert()\n",
    "results_df = json_normalize(results['results']['bindings'])\n",
    "\n",
    "kinderen= {}\n",
    "partij= {}\n",
    "partij_kind={}\n",
    "\n",
    "for x in range(len(results_df['personLabel.value'])):\n",
    "    partij[results_df['personLabel.value'][x]] = results_df['partyLabel.value'][x]\n",
    "    \n",
    "for x in range(len(results_df['personLabel.value'])):\n",
    "    kinderen[results_df['personLabel.value'][x]] = results_df['nocLabel.value'][x]    \n",
    "    \n",
    "for x in set(results_df['partyLabel.value']):\n",
    "    count = 0\n",
    "    for y in partij:\n",
    "        if partij[y] == x:\n",
    "            count+=int(kinderen[y])\n",
    "    partij_kind[x] = count\n",
    "\n",
    "print('Hoeveel kinderen de politici van iedere partij bij elkaar hebben:')\n",
    "list(partij_kind.items())[:5]"
   ]
  },
  {
   "cell_type": "markdown",
   "metadata": {},
   "source": [
    "### Religie in de verkiezingen 🙏\n",
    "\n",
    "Met behulp van queries kan ook achterhaald worden waar politici bijvoorbeeld in geloven. Er komt hier echter een probleem bij omdat pagina's op Wikidata soms niet compleet ingevuld zijn waardoor te weinig data beschikbaar is over  de religie kandidaten. Zo hangen volgens Wikidata maar `29 van de 503` kandidaten een religie aan. "
   ]
  },
  {
   "cell_type": "code",
   "execution_count": 7,
   "metadata": {},
   "outputs": [
    {
     "data": {
      "text/plain": [
       "<AxesSubplot:ylabel='religionLabel.value'>"
      ]
     },
     "execution_count": 7,
     "metadata": {},
     "output_type": "execute_result"
    },
    {
     "data": {
      "image/png": "[encoded data removed]",
      "text/plain": [
       "<Figure size 432x288 with 1 Axes>"
      ]
     },
     "metadata": {
      "needs_background": "light"
     },
     "output_type": "display_data"
    }
   ],
   "source": [
    "sparql = SPARQLWrapper('https://query.wikidata.org/sparql')\n",
    "\n",
    "sparql.setQuery('''\n",
    "SELECT DISTINCT ?personLabel ?religionLabel\n",
    "WHERE {\n",
    "    ?person wdt:P3602 wd:Q42733725.\n",
    "    ?person wdt:P140 ?religion\n",
    "    SERVICE wikibase:label { bd:serviceParam wikibase:language \"en\" }\n",
    "}\n",
    "''')\n",
    "\n",
    "sparql.setReturnFormat(JSON)\n",
    "results = sparql.query().convert()\n",
    "results_df = json_normalize(results['results']['bindings'])\n",
    "\n",
    "religie= list()\n",
    "\n",
    "for x in range(len(results_df['personLabel.value'])):\n",
    "    religie.append(results_df['religionLabel.value'][x])\n",
    "\n",
    "results_df[['personLabel.value', 'religionLabel.value']].rename(columns={'personLabel.value':'Person'\n",
    "                                                                        }).groupby(['religionLabel.value']).count().plot.barh()"
   ]
  },
  {
   "cell_type": "markdown",
   "metadata": {},
   "source": [
    "### PANDAS - Moties Rutte II 🐼\n",
    "Naast de verzamelende SPARQL data is er ook een andere dataset gedownload waarin [alle moties van kabinet Rutte II](https://watstemthetparlement.nl) zijn opgeslagen. Deze dataset hebben we online beschikbaar gemaakt via github, zodat de data van een online source geraadpleegd kan worden. Voordeel: geen dowloadtijd, geen extra schrijfruimte op je computer en geen ingewikkelde mapjes. Voor de analyse gebruiken we panda's."
   ]
  },
  {
   "cell_type": "code",
   "execution_count": 8,
   "metadata": {},
   "outputs": [
    {
     "data": {
      "text/html": [
       "<div>\n",
       "<style scoped>\n",
       "    .dataframe tbody tr th:only-of-type {\n",
       "        vertical-align: middle;\n",
       "    }\n",
       "\n",
       "    .dataframe tbody tr th {\n",
       "        vertical-align: top;\n",
       "    }\n",
       "\n",
       "    .dataframe thead th {\n",
       "        text-align: right;\n",
       "    }\n",
       "</style>\n",
       "<table border=\"1\" class=\"dataframe\">\n",
       "  <thead>\n",
       "    <tr style=\"text-align: right;\">\n",
       "      <th></th>\n",
       "      <th>id</th>\n",
       "      <th>file</th>\n",
       "      <th>document</th>\n",
       "      <th>title</th>\n",
       "      <th>date</th>\n",
       "      <th>proposaltype</th>\n",
       "      <th>votetype</th>\n",
       "      <th>result</th>\n",
       "      <th>voteURL</th>\n",
       "      <th>proposalURL</th>\n",
       "      <th>source</th>\n",
       "      <th>50PLUS</th>\n",
       "      <th>AOV</th>\n",
       "      <th>Bontes</th>\n",
       "      <th>Bontes/Van Klaveren</th>\n",
       "      <th>Brinkman</th>\n",
       "      <th>CD</th>\n",
       "      <th>CDA</th>\n",
       "      <th>ChristenUnie</th>\n",
       "      <th>D66</th>\n",
       "      <th>De Jong</th>\n",
       "      <th>Eerdmans/Van Schijndel</th>\n",
       "      <th>GPV</th>\n",
       "      <th>GroenLinks</th>\n",
       "      <th>Hendriks</th>\n",
       "      <th>Houwers</th>\n",
       "      <th>Klein</th>\n",
       "      <th>Kortenoeven/Hernandez</th>\n",
       "      <th>Kuzu/",
       "ztrk</th>\n",
       "      <th>Lazrak</th>\n",
       "      <th>LN</th>\n",
       "      <th>LPF</th>\n",
       "      <th>Nawijn</th>\n",
       "      <th>Nijpels</th>\n",
       "      <th>PvdA</th>\n",
       "      <th>PvdD</th>\n",
       "      <th>PVV</th>\n",
       "      <th>RPF</th>\n",
       "      <th>SGP</th>\n",
       "      <th>SP</th>\n",
       "      <th>Unie 55+</th>\n",
       "      <th>Van Klaveren</th>\n",
       "      <th>Van Oudenallen</th>\n",
       "      <th>Van Vliet</th>\n",
       "      <th>Verdonk</th>\n",
       "      <th>Verkerk</th>\n",
       "      <th>VVD</th>\n",
       "      <th>Wijnschenk</th>\n",
       "      <th>Wilders</th>\n",
       "      <th>reign</th>\n",
       "      <th>author</th>\n",
       "      <th>authorparty</th>\n",
       "      <th>supporter</th>\n",
       "      <th>supporterparties</th>\n",
       "      <th>category</th>\n",
       "      <th>subcategory</th>\n",
       "      <th>categories</th>\n",
       "      <th>pro</th>\n",
       "      <th>contra</th>\n",
       "    </tr>\n",
       "  </thead>\n",
       "  <tbody>\n",
       "    <tr>\n",
       "      <th>0</th>\n",
       "      <td>20121114-h-tk-20122013-22-10-100267125</td>\n",
       "      <td>33410</td>\n",
       "      <td>47</td>\n",
       "      <td>Kabinetsformatie 2012 ; Motie; Motie van het l...</td>\n",
       "      <td>14/11/2012</td>\n",
       "      <td>Motion</td>\n",
       "      <td>Normal</td>\n",
       "      <td>adopted</td>\n",
       "      <td>https://zoek.officielebekendmakingen.nl/h-tk-2...</td>\n",
       "      <td>https://zoek.officielebekendmakingen.nl/kst-33...</td>\n",
       "      <td>OB</td>\n",
       "      <td>1.0</td>\n",
       "      <td>NaN</td>\n",
       "      <td>NaN</td>\n",
       "      <td>NaN</td>\n",
       "      <td>NaN</td>\n",
       "      <td>NaN</td>\n",
       "      <td>1</td>\n",
       "      <td>1</td>\n",
       "      <td>1</td>\n",
       "      <td>NaN</td>\n",
       "      <td>NaN</td>\n",
       "      <td>NaN</td>\n",
       "      <td>1</td>\n",
       "      <td>NaN</td>\n",
       "      <td>NaN</td>\n",
       "      <td>NaN</td>\n",
       "      <td>NaN</td>\n",
       "      <td>NaN</td>\n",
       "      <td>NaN</td>\n",
       "      <td>NaN</td>\n",
       "      <td>NaN</td>\n",
       "      <td>NaN</td>\n",
       "      <td>NaN</td>\n",
       "      <td>1</td>\n",
       "      <td>1.0</td>\n",
       "      <td>1.0</td>\n",
       "      <td>NaN</td>\n",
       "      <td>1.0</td>\n",
       "      <td>1</td>\n",
       "      <td>NaN</td>\n",
       "      <td>NaN</td>\n",
       "      <td>NaN</td>\n",
       "      <td>NaN</td>\n",
       "      <td>NaN</td>\n",
       "      <td>NaN</td>\n",
       "      <td>1</td>\n",
       "      <td>NaN</td>\n",
       "      <td>NaN</td>\n",
       "      <td>Kabinet-Rutte II</td>\n",
       "      <td>[Arie Slob]</td>\n",
       "      <td>[ChristenUnie]</td>\n",
       "      <td>[Sybrand van Haersma Buma, Alexander Pechtold,...</td>\n",
       "      <td>[CDA, D66, SGP]</td>\n",
       "      <td>[Bestuur]</td>\n",
       "      <td>[Organisatie en beleid]</td>\n",
       "      <td>Bestuur, Organisatie en beleid</td>\n",
       "      <td>[50PLUS, CDA, ChristenUnie, D66, GroenLinks, P...</td>\n",
       "      <td>[]</td>\n",
       "    </tr>\n",
       "    <tr>\n",
       "      <th>1</th>\n",
       "      <td>20121114-h-tk-20122013-22-10-117924796</td>\n",
       "      <td>33410</td>\n",
       "      <td>49</td>\n",
       "      <td>Kabinetsformatie 2012 ; Motie; Motie van het l...</td>\n",
       "      <td>14/11/2012</td>\n",
       "      <td>Motion</td>\n",
       "      <td>Normal</td>\n",
       "      <td>rejected</td>\n",
       "      <td>https://zoek.officielebekendmakingen.nl/h-tk-2...</td>\n",
       "      <td>https://zoek.officielebekendmakingen.nl/kst-33...</td>\n",
       "      <td>OB</td>\n",
       "      <td>1.0</td>\n",
       "      <td>NaN</td>\n",
       "      <td>NaN</td>\n",
       "      <td>NaN</td>\n",
       "      <td>NaN</td>\n",
       "      <td>NaN</td>\n",
       "      <td>1</td>\n",
       "      <td>1</td>\n",
       "      <td>1</td>\n",
       "      <td>NaN</td>\n",
       "      <td>NaN</td>\n",
       "      <td>NaN</td>\n",
       "      <td>1</td>\n",
       "      <td>NaN</td>\n",
       "      <td>NaN</td>\n",
       "      <td>NaN</td>\n",
       "      <td>NaN</td>\n",
       "      <td>NaN</td>\n",
       "      <td>NaN</td>\n",
       "      <td>NaN</td>\n",
       "      <td>NaN</td>\n",
       "      <td>NaN</td>\n",
       "      <td>NaN</td>\n",
       "      <td>0</td>\n",
       "      <td>1.0</td>\n",
       "      <td>1.0</td>\n",
       "      <td>NaN</td>\n",
       "      <td>1.0</td>\n",
       "      <td>1</td>\n",
       "      <td>NaN</td>\n",
       "      <td>NaN</td>\n",
       "      <td>NaN</td>\n",
       "      <td>NaN</td>\n",
       "      <td>NaN</td>\n",
       "      <td>NaN</td>\n",
       "      <td>0</td>\n",
       "      <td>NaN</td>\n",
       "      <td>NaN</td>\n",
       "      <td>Kabinet-Rutte II</td>\n",
       "      <td>[Arie Slob]</td>\n",
       "      <td>[ChristenUnie]</td>\n",
       "      <td>[Sybrand van Haersma Buma, Alexander Pechtold,...</td>\n",
       "      <td>[CDA, D66, GroenLinks, 50PLUS, SGP, PVV, PvdD,...</td>\n",
       "      <td>[Bestuur]</td>\n",
       "      <td>[Organisatie en beleid]</td>\n",
       "      <td>Bestuur, Organisatie en beleid</td>\n",
       "      <td>[50PLUS, CDA, ChristenUnie, D66, GroenLinks, P...</td>\n",
       "      <td>[PvdA, VVD]</td>\n",
       "    </tr>\n",
       "  </tbody>\n",
       "</table>\n",
       "</div>"
      ],
      "text/plain": [
       "                                       id   file document  \\\n",
       "0  20121114-h-tk-20122013-22-10-100267125  33410       47   \n",
       "1  20121114-h-tk-20122013-22-10-117924796  33410       49   \n",
       "\n",
       "                                               title        date proposaltype  \\\n",
       "0  Kabinetsformatie 2012 ; Motie; Motie van het l...  14/11/2012       Motion   \n",
       "1  Kabinetsformatie 2012 ; Motie; Motie van het l...  14/11/2012       Motion   \n",
       "\n",
       "  votetype    result                                            voteURL  \\\n",
       "0   Normal   adopted  https://zoek.officielebekendmakingen.nl/h-tk-2...   \n",
       "1   Normal  rejected  https://zoek.officielebekendmakingen.nl/h-tk-2...   \n",
       "\n",
       "                                         proposalURL source  50PLUS  AOV  \\\n",
       "0  https://zoek.officielebekendmakingen.nl/kst-33...     OB     1.0  NaN   \n",
       "1  https://zoek.officielebekendmakingen.nl/kst-33...     OB     1.0  NaN   \n",
       "\n",
       "   Bontes  Bontes/Van Klaveren  Brinkman  CD  CDA  ChristenUnie  D66  De Jong  \\\n",
       "0     NaN                  NaN       NaN NaN    1             1    1      NaN   \n",
       "1     NaN                  NaN       NaN NaN    1             1    1      NaN   \n",
       "\n",
       "   Eerdmans/Van Schijndel  GPV  GroenLinks  Hendriks  Houwers  Klein  \\\n",
       "0                     NaN  NaN           1       NaN      NaN    NaN   \n",
       "1                     NaN  NaN           1       NaN      NaN    NaN   \n",
       "\n",
       "   Kortenoeven/Hernandez  Kuzu/\n",
       "ztrk  Lazrak  LN  LPF  Nawijn  Nijpels  PvdA  \\\n",
       "0                    NaN          NaN     NaN NaN  NaN     NaN      NaN     1   \n",
       "1                    NaN          NaN     NaN NaN  NaN     NaN      NaN     0   \n",
       "\n",
       "   PvdD  PVV  RPF  SGP  SP  Unie 55+  Van Klaveren  Van Oudenallen  Van Vliet  \\\n",
       "0   1.0  1.0  NaN  1.0   1       NaN           NaN             NaN        NaN   \n",
       "1   1.0  1.0  NaN  1.0   1       NaN           NaN             NaN        NaN   \n",
       "\n",
       "   Verdonk  Verkerk  VVD  Wijnschenk  Wilders             reign       author  \\\n",
       "0      NaN      NaN    1         NaN      NaN  Kabinet-Rutte II  [Arie Slob]   \n",
       "1      NaN      NaN    0         NaN      NaN  Kabinet-Rutte II  [Arie Slob]   \n",
       "\n",
       "      authorparty                                          supporter  \\\n",
       "0  [ChristenUnie]  [Sybrand van Haersma Buma, Alexander Pechtold,...   \n",
       "1  [ChristenUnie]  [Sybrand van Haersma Buma, Alexander Pechtold,...   \n",
       "\n",
       "                                    supporterparties   category  \\\n",
       "0                                    [CDA, D66, SGP]  [Bestuur]   \n",
       "1  [CDA, D66, GroenLinks, 50PLUS, SGP, PVV, PvdD,...  [Bestuur]   \n",
       "\n",
       "               subcategory                      categories  \\\n",
       "0  [Organisatie en beleid]  Bestuur, Organisatie en beleid   \n",
       "1  [Organisatie en beleid]  Bestuur, Organisatie en beleid   \n",
       "\n",
       "                                                 pro       contra  \n",
       "0  [50PLUS, CDA, ChristenUnie, D66, GroenLinks, P...           []  \n",
       "1  [50PLUS, CDA, ChristenUnie, D66, GroenLinks, P...  [PvdA, VVD]  "
      ]
     },
     "execution_count": 8,
     "metadata": {},
     "output_type": "execute_result"
    }
   ],
   "source": [
    "pd.set_option('display.max_columns', None)\n",
    "df = pd.read_csv(\"https://raw.githubusercontent.com/dieanderegast/datasets/main/StemmingenRutte2.csv\",\n",
    "                  sep=\";\", encoding='latin1')\n",
    "df.head(2)"
   ]
  },
  {
   "cell_type": "markdown",
   "metadata": {},
   "source": [
    "### Filteren 📌\n",
    "Vervolgens is deze dataset is gefilterd op partijen en volksvertegenwoordigers die zich verkiesbaar hebben gesteld tijdens de Tweede Kamerverkieaingen van 2021, dus op de variabele `verkiesbaar` die voort komt uit de SPARQL query hiervoen. Daarnaast is ook andere, voor dit onderzoek minder relevante data, uit het dataframe verwijderd. Zo zijn we bijvoorbeeld niet geïntresseerd in de `voteURL` of `proposalURL`. Na het filteren ziet het dataframe er als volgt uit."
   ]
  },
  {
   "cell_type": "code",
   "execution_count": 9,
   "metadata": {
    "scrolled": false
   },
   "outputs": [],
   "source": [
    "df1 = df[['title','date','proposaltype', 'result','author', 'authorparty', 'supporter', 'supporterparties', 'category', 'subcategory', \n",
    "           'categories', 'pro', 'contra']]\n",
    "strip = ['author', 'authorparty', 'supporter', 'supporterparties', 'category', 'subcategory', 'categories', 'pro', 'contra']\n",
    "split = ['supporter', 'supporterparties', 'category', 'subcategory', 'categories']\n",
    "nospace = ['pro', 'contra']\n",
    "for i in strip:\n",
    "    if i in split:\n",
    "        df1[i] = df1[i].str.strip('[]').str.split(\",\")\n",
    "    elif i in nospace:\n",
    "        df1[i] = df1[i].str.strip('[]').str.strip().str.split(\",\")\n",
    "    else:\n",
    "        df1[i] = df1[i].str.strip('[]')\n",
    "\n",
    "\n",
    "for i, lijst in enumerate(df1['supporter']):\n",
    "    l = []\n",
    "    for j, persoon in enumerate(lijst):\n",
    "        if persoon:\n",
    "            if persoon[0] == ' ':\n",
    "                df1['supporter'][i][j] = persoon[1:]\n",
    "            if persoon in verkiesbaar:\n",
    "                l.append(persoon)\n",
    "    df1['supporter'][i] = l\n",
    "    if df1['author'][i] not in verkiesbaar:\n",
    "        df1['author'][i] = []\n",
    "\n",
    "for index, row in df1.iterrows():\n",
    "    if row['author'] == []:\n",
    "        if row['supporter'] == []:\n",
    "            df1.drop(index, inplace=True)"
   ]
  },
  {
   "cell_type": "code",
   "execution_count": 10,
   "metadata": {},
   "outputs": [
    {
     "data": {
      "text/html": [
       "<div>\n",
       "<style scoped>\n",
       "    .dataframe tbody tr th:only-of-type {\n",
       "        vertical-align: middle;\n",
       "    }\n",
       "\n",
       "    .dataframe tbody tr th {\n",
       "        vertical-align: top;\n",
       "    }\n",
       "\n",
       "    .dataframe thead th {\n",
       "        text-align: right;\n",
       "    }\n",
       "</style>\n",
       "<table border=\"1\" class=\"dataframe\">\n",
       "  <thead>\n",
       "    <tr style=\"text-align: right;\">\n",
       "      <th></th>\n",
       "      <th>title</th>\n",
       "      <th>date</th>\n",
       "      <th>proposaltype</th>\n",
       "      <th>result</th>\n",
       "      <th>author</th>\n",
       "      <th>authorparty</th>\n",
       "      <th>supporter</th>\n",
       "      <th>supporterparties</th>\n",
       "      <th>category</th>\n",
       "      <th>subcategory</th>\n",
       "      <th>categories</th>\n",
       "      <th>pro</th>\n",
       "      <th>contra</th>\n",
       "    </tr>\n",
       "  </thead>\n",
       "  <tbody>\n",
       "    <tr>\n",
       "      <th>2</th>\n",
       "      <td>Kabinetsformatie 2012 ; Motie; Motie van de le...</td>\n",
       "      <td>14/11/2012</td>\n",
       "      <td>Motion</td>\n",
       "      <td>rejected</td>\n",
       "      <td>Bram van Ojik</td>\n",
       "      <td>GroenLinks</td>\n",
       "      <td>[Emile Roemer]</td>\n",
       "      <td>[SP]</td>\n",
       "      <td>[Bestuur]</td>\n",
       "      <td>[Organisatie en beleid]</td>\n",
       "      <td>[Bestuur,  Organisatie en beleid]</td>\n",
       "      <td>[50PLUS,  GroenLinks,  PvdD,  SP]</td>\n",
       "      <td>[CDA,  ChristenUnie,  D66,  PvdA,  PVV,  SGP, ...</td>\n",
       "    </tr>\n",
       "    <tr>\n",
       "      <th>4</th>\n",
       "      <td>Kabinetsformatie 2012 ; Motie; Motie van de le...</td>\n",
       "      <td>14/11/2012</td>\n",
       "      <td>Motion</td>\n",
       "      <td>rejected</td>\n",
       "      <td>Emile Roemer</td>\n",
       "      <td>SP</td>\n",
       "      <td>[Marianne Thieme]</td>\n",
       "      <td>[PvdD]</td>\n",
       "      <td>[Bestuur]</td>\n",
       "      <td>[Organisatie en beleid]</td>\n",
       "      <td>[Bestuur,  Organisatie en beleid]</td>\n",
       "      <td>[ChristenUnie,  GroenLinks,  PvdD,  SP]</td>\n",
       "      <td>[50PLUS,  CDA,  D66,  PvdA,  PVV,  SGP,  VVD]</td>\n",
       "    </tr>\n",
       "  </tbody>\n",
       "</table>\n",
       "</div>"
      ],
      "text/plain": [
       "                                               title        date proposaltype  \\\n",
       "2  Kabinetsformatie 2012 ; Motie; Motie van de le...  14/11/2012       Motion   \n",
       "4  Kabinetsformatie 2012 ; Motie; Motie van de le...  14/11/2012       Motion   \n",
       "\n",
       "     result         author authorparty          supporter supporterparties  \\\n",
       "2  rejected  Bram van Ojik  GroenLinks     [Emile Roemer]             [SP]   \n",
       "4  rejected   Emile Roemer          SP  [Marianne Thieme]           [PvdD]   \n",
       "\n",
       "    category              subcategory                         categories  \\\n",
       "2  [Bestuur]  [Organisatie en beleid]  [Bestuur,  Organisatie en beleid]   \n",
       "4  [Bestuur]  [Organisatie en beleid]  [Bestuur,  Organisatie en beleid]   \n",
       "\n",
       "                                       pro  \\\n",
       "2        [50PLUS,  GroenLinks,  PvdD,  SP]   \n",
       "4  [ChristenUnie,  GroenLinks,  PvdD,  SP]   \n",
       "\n",
       "                                              contra  \n",
       "2  [CDA,  ChristenUnie,  D66,  PvdA,  PVV,  SGP, ...  \n",
       "4      [50PLUS,  CDA,  D66,  PvdA,  PVV,  SGP,  VVD]  "
      ]
     },
     "execution_count": 10,
     "metadata": {},
     "output_type": "execute_result"
    }
   ],
   "source": [
    "df1.head(2)"
   ]
  },
  {
   "cell_type": "markdown",
   "metadata": {},
   "source": [
    "### Dataframe analyse 🎛️\n",
    "Na het filteren van de moties is de dataset erg rijk. Zo bestaat het dataframe uit `5943` rijen en `24` kolommen. Dit komt neer op een totaal aantal datapunten van `77.233`. Genoeg materiaal op een aantal analyses op uit te voeren dus!\n",
    "Eerst een paar analyses om achter de aard van de data te komen. Zo blijkt uit onderstaande code dat van alle moties meer dan `65%` wordt afgewezen."
   ]
  },
  {
   "cell_type": "code",
   "execution_count": 11,
   "metadata": {},
   "outputs": [
    {
     "name": "stdout",
     "output_type": "stream",
     "text": [
      "Het dataframe telt 5941 rijen, 13 kolommen en dus 77233 datapunten\n",
      "0.6586433260393874 % van de moties werd afgewezen\n"
     ]
    }
   ],
   "source": [
    "print('Het dataframe telt',len(df1),'rijen,',len(df1.columns),'kolommen en dus', len(df1)*len(df1.columns),'datapunten')\n",
    "\n",
    "## rejection rate\n",
    "adopted = len(df1.loc[df1['result'] == 'adopted'] )\n",
    "rejected = len(df1.loc[df1['result'] == 'rejected'])\n",
    "average_rejection = rejected / len(df1['result'])\n",
    "\n",
    "print(average_rejection,'% van de moties werd afgewezen')"
   ]
  },
  {
   "cell_type": "markdown",
   "metadata": {},
   "source": [
    "### Het afwijzen van moties ❌\n",
    "Leuk en aardig dat er zoveel moties werden afgewezen. Maar wie wees al die moties eigenlijk af? Uit de code hieronder blijkt dat de `VVD` het vaakst tegen een motie stemt, gevolgd door de `PvdA` en `SGP`. Ook blijkt uit de data-analyse dat deze partijen het met meer dan  `50%` van de moties oneens is. De VVD stemt zelfs maar bij 1 op de 4 moties voor. Kun je hieruit afleiden dat partijen als de VVD conservatief zijn? Aangezien ze zoveel moties willen afwijzen? Nee, die uitspraak is te voorbarig. Dat heeft immers met de **context** van de motie te maken."
   ]
  },
  {
   "cell_type": "code",
   "execution_count": 12,
   "metadata": {},
   "outputs": [
    {
     "name": "stdout",
     "output_type": "stream",
     "text": [
      "Wezen het vaakst een motie af \n",
      "\n",
      "  VVD          4504\n",
      " PvdA         3790\n",
      " SGP          2993\n",
      " Van Vliet    2767\n",
      " D66          2586\n",
      "Name: contra, dtype: int64 \n",
      "\n",
      "Wezen het vaakst een motie af(%) \n",
      "\n",
      "   VVD          75.812153\n",
      " PvdA         63.793974\n",
      " SGP          50.378724\n",
      " Van Vliet    46.574651\n",
      " D66          43.528026\n",
      "Name: contra, dtype: float64 \n",
      "\n"
     ]
    },
    {
     "data": {
      "image/png": "[encoded data removed]",
      "text/plain": [
       "<Figure size 432x432 with 1 Axes>"
      ]
     },
     "metadata": {},
     "output_type": "display_data"
    }
   ],
   "source": [
    "dfContra = df1[['contra']].explode('contra')\n",
    "contra = dfContra['contra'].value_counts().head(5)\n",
    "contra2 = dfContra['contra'].value_counts().head(10)\n",
    "\n",
    "dfPie = contra2.plot.pie(figsize=(6, 6), title='Top 10 afwijzers van moties')\n",
    "\n",
    "print('Wezen het vaakst een motie af \\n\\n', contra, '\\n')\n",
    "print('Wezen het vaakst een motie af(%) \\n\\n ', contra/len(df1) * 100, '\\n')"
   ]
  },
  {
   "cell_type": "markdown",
   "metadata": {},
   "source": [
    "### Het aannemen van moties ✅\n",
    "Nu we weten wie het het vaakst moties afwezen, is het ook interessant om te weten welke partijen er het vaakst voor een bepaalde motie stemden. uit de data-analyse blijkt dat de `SP` het vaakst een motie aanneemt, gevolgd door de `PvdD` en `50PLUS`. Ook stemmen deze partijen (afgerond) in met `70%` van de moties of meer. Kun je hieruit afleiden dat partijen als de SP progressief zijn? Aangezien ze zoveel moties willen aannemen? Ook hier is die conclusie te kort door de bocht. De **context** van de motie is hier ook weer het belangrijkst."
   ]
  },
  {
   "cell_type": "code",
   "execution_count": 13,
   "metadata": {},
   "outputs": [
    {
     "name": "stdout",
     "output_type": "stream",
     "text": [
      "Keurden het vaakst een motie goed \n",
      "\n",
      "  SP              4346\n",
      " PvdD            4288\n",
      "50PLUS           4144\n",
      " GroenLinks      3764\n",
      " ChristenUnie    3214\n",
      "Name: pro, dtype: int64 \n",
      "\n",
      "Keurden het vaakst een motie goed(%) \n",
      "\n",
      "   SP              73.152668\n",
      " PvdD            72.176401\n",
      "50PLUS           69.752567\n",
      " GroenLinks      63.356337\n",
      " ChristenUnie    54.098637\n",
      "Name: pro, dtype: float64 \n",
      "\n"
     ]
    },
    {
     "data": {
      "image/png": "[encoded data removed]",
      "text/plain": [
       "<Figure size 432x432 with 1 Axes>"
      ]
     },
     "metadata": {},
     "output_type": "display_data"
    }
   ],
   "source": [
    "dfPro = df1[['pro']].explode('pro')\n",
    "pro = dfPro['pro'].value_counts().head(5)\n",
    "pro2 = dfPro['pro'].value_counts().head(10)\n",
    "\n",
    "dfPie2 = pro2.plot.pie(figsize=(6, 6), title='Top 10 aannemers van moties')\n",
    "\n",
    "print('Keurden het vaakst een motie goed \\n\\n', pro, '\\n')\n",
    "print('Keurden het vaakst een motie goed(%) \\n\\n ', pro/len(df1) * 100, '\\n')"
   ]
  },
  {
   "cell_type": "markdown",
   "metadata": {},
   "source": [
    "### Indienen van moties 📩\n",
    "Nu we weten welke politieke partijen het vaakst moties afwijzen of aannemen, is hieronder aangegeven welke partijen het vaakst een motie hebben ingediend. Hieruit blijkt dat de `SP` en de `PVV` het vaakst een motie indienen."
   ]
  },
  {
   "cell_type": "code",
   "execution_count": 14,
   "metadata": {},
   "outputs": [
    {
     "name": "stdout",
     "output_type": "stream",
     "text": [
      "Dienden het vaakst een motie in \n",
      "\n",
      " SP      1041\n",
      "PVV      986\n",
      "CDA      982\n",
      "D66      599\n",
      "PvdD     495\n",
      "Name: authorparty, dtype: int64 \n",
      "\n",
      "Dienden het vaakst een motie in (%) \n",
      "\n",
      " SP      17.522303\n",
      "PVV     16.596533\n",
      "CDA     16.529204\n",
      "D66     10.082478\n",
      "PvdD     8.331931\n",
      "Name: authorparty, dtype: float64 \n",
      "\n"
     ]
    },
    {
     "data": {
      "image/png": "[encoded data removed]",
      "text/plain": [
       "<Figure size 432x432 with 1 Axes>"
      ]
     },
     "metadata": {},
     "output_type": "display_data"
    }
   ],
   "source": [
    "dfDien = df1[['authorparty']]\n",
    "indieners = dfDien['authorparty'].value_counts().head(5)\n",
    "indieners2 = dfDien['authorparty'].value_counts().head(10)\n",
    "\n",
    "dfPie3 = indieners2.plot.pie(figsize=(6, 6), title='Top 10 indieners van moties')\n",
    "\n",
    "print('Dienden het vaakst een motie in \\n\\n', indieners, '\\n')\n",
    "print('Dienden het vaakst een motie in (%) \\n\\n', indieners/len(df1) * 100, '\\n')"
   ]
  },
  {
   "cell_type": "markdown",
   "metadata": {},
   "source": [
    "### Het netwerk 🕸️\n",
    "Dit is het netwerk van partijen die motie indienen en partijen die hen steunen in die moties. Iedere pijl gaat van een ondersteuner naar de indiener. Onder het netwerk is gevisualiseerd hoeveel moties iedere partij heeft ingediend die aanvaard of geweigerd zijn."
   ]
  },
  {
   "cell_type": "code",
   "execution_count": 15,
   "metadata": {},
   "outputs": [
    {
     "ename": "NetworkXError",
     "evalue": "Invalid edge_attr argument: No columns found with name: []",
     "output_type": "error",
     "traceback": [
      "\u001b[0;31m---------------------------------------------------------------------------\u001b[0m",
      "\u001b[0;31mNetworkXError\u001b[0m                             Traceback (most recent call last)",
      "\u001b[0;32m<ipython-input-15-a5bd92ccdd9e>\u001b[0m in \u001b[0;36m<module>\u001b[0;34m()\u001b[0m\n\u001b[1;32m      2\u001b[0m \u001b[0mdfTeam\u001b[0m\u001b[0;34m[\u001b[0m\u001b[0;34m'supporterparties'\u001b[0m\u001b[0;34m]\u001b[0m \u001b[0;34m=\u001b[0m \u001b[0mdfTeam\u001b[0m\u001b[0;34m[\u001b[0m\u001b[0;34m'supporterparties'\u001b[0m\u001b[0;34m]\u001b[0m\u001b[0;34m.\u001b[0m\u001b[0mstr\u001b[0m\u001b[0;34m.\u001b[0m\u001b[0mstrip\u001b[0m\u001b[0;34m(\u001b[0m\u001b[0;34m)\u001b[0m\u001b[0;34m\u001b[0m\u001b[0m\n\u001b[1;32m      3\u001b[0m \u001b[0mdfTeam\u001b[0m\u001b[0;34m.\u001b[0m\u001b[0mhead\u001b[0m\u001b[0;34m(\u001b[0m\u001b[0;36m10\u001b[0m\u001b[0;34m)\u001b[0m\u001b[0;34m\u001b[0m\u001b[0m\n\u001b[0;32m----> 4\u001b[0;31m \u001b[0mG\u001b[0m \u001b[0;34m=\u001b[0m \u001b[0mnx\u001b[0m\u001b[0;34m.\u001b[0m\u001b[0mfrom_pandas_edgelist\u001b[0m\u001b[0;34m(\u001b[0m\u001b[0mdfTeam\u001b[0m\u001b[0;34m,\u001b[0m \u001b[0msource\u001b[0m\u001b[0;34m=\u001b[0m\u001b[0;34m'supporterparties'\u001b[0m\u001b[0;34m,\u001b[0m \u001b[0mtarget\u001b[0m\u001b[0;34m=\u001b[0m\u001b[0;34m'authorparty'\u001b[0m\u001b[0;34m,\u001b[0m \u001b[0medge_attr\u001b[0m\u001b[0;34m=\u001b[0m\u001b[0;32mTrue\u001b[0m\u001b[0;34m,\u001b[0m \u001b[0mcreate_using\u001b[0m\u001b[0;34m=\u001b[0m\u001b[0mnx\u001b[0m\u001b[0;34m.\u001b[0m\u001b[0mDiGraph\u001b[0m\u001b[0;34m(\u001b[0m\u001b[0;34m)\u001b[0m\u001b[0;34m)\u001b[0m\u001b[0;34m\u001b[0m\u001b[0m\n\u001b[0m\u001b[1;32m      5\u001b[0m \u001b[0mG\u001b[0m\u001b[0;34m.\u001b[0m\u001b[0mremove_node\u001b[0m\u001b[0;34m(\u001b[0m\u001b[0;34m''\u001b[0m\u001b[0;34m)\u001b[0m\u001b[0;34m\u001b[0m\u001b[0m\n\u001b[1;32m      6\u001b[0m \u001b[0mpos\u001b[0m\u001b[0;34m=\u001b[0m\u001b[0mnx\u001b[0m\u001b[0;34m.\u001b[0m\u001b[0mcircular_layout\u001b[0m\u001b[0;34m(\u001b[0m\u001b[0mG\u001b[0m\u001b[0;34m)\u001b[0m\u001b[0;34m\u001b[0m\u001b[0m\n",
      "\u001b[0;32m~/anaconda/envs/python3.6/lib/python3.6/site-packages/networkx/convert_matrix.py\u001b[0m in \u001b[0;36mfrom_pandas_edgelist\u001b[0;34m(df, source, target, edge_attr, create_using, edge_key)\u001b[0m\n\u001b[1;32m    405\u001b[0m     \u001b[0;32mif\u001b[0m \u001b[0mlen\u001b[0m\u001b[0;34m(\u001b[0m\u001b[0mattr_col_headings\u001b[0m\u001b[0;34m)\u001b[0m \u001b[0;34m==\u001b[0m \u001b[0;36m0\u001b[0m\u001b[0;34m:\u001b[0m\u001b[0;34m\u001b[0m\u001b[0m\n\u001b[1;32m    406\u001b[0m         raise nx.NetworkXError(\n\u001b[0;32m--> 407\u001b[0;31m             \u001b[0;34mf\"Invalid edge_attr argument: No columns found with name: {attr_col_headings}\"\u001b[0m\u001b[0;34m\u001b[0m\u001b[0m\n\u001b[0m\u001b[1;32m    408\u001b[0m         )\n\u001b[1;32m    409\u001b[0m \u001b[0;34m\u001b[0m\u001b[0m\n",
      "\u001b[0;31mNetworkXError\u001b[0m: Invalid edge_attr argument: No columns found with name: []"
     ]
    }
   ],
   "source": [
    "dfTeam = df1[['authorparty', 'supporterparties']].explode('supporterparties')\n",
    "dfTeam['supporterparties'] = dfTeam['supporterparties'].str.strip()\n",
    "dfTeam.head(10)\n",
    "G = nx.from_pandas_edgelist(dfTeam, source='supporterparties', target='authorparty', edge_attr=True, create_using=nx.DiGraph())\n",
    "G.remove_node('')\n",
    "pos=nx.circular_layout(G)\n",
    "nx.draw(G, pos, with_labels=True)\n",
    "plt.show()\n",
    "\n",
    "dfResult = df1[['result', 'authorparty', 'supporterparties', 'categories']]\n",
    "dfResult[['authorparty', 'result', 'categories']].groupby(['authorparty', 'result']).count().head(10).plot.barh()"
   ]
  },
  {
   "cell_type": "markdown",
   "metadata": {},
   "source": [
    "### Motie categorie 📥\n",
    "Dan hebben we hier de hoeveelheid moties die iedere partij heeft ingediend per categorie en dan per subcategorie. Het zou interessant zijn om in vervolg onderzoek te kijken naar hoe dit correleert met bijvoorbeeld leeftijd of hoeveelheid kinderen. Dienen partijen met meer kinderen meer moties in ten behoeve van het onderwijs? \n",
    "\n",
    "Natuurlijk moeten we dan wel een dataset gebruiken waarbij de intentie van de motie duidelijk is. De PVV dient bijvoorbeeld veel moties in over de begroting, maar wordt de begroting daar dikker of dunner van?"
   ]
  },
  {
   "cell_type": "code",
   "execution_count": 16,
   "metadata": {},
   "outputs": [
    {
     "data": {
      "text/plain": [
       "<AxesSubplot:ylabel='authorparty,subcategory'>"
      ]
     },
     "execution_count": 16,
     "metadata": {},
     "output_type": "execute_result"
    },
    {
     "data": {
      "image/png": "[encoded data removed]",
      "text/plain": [
       "<Figure size 432x288 with 1 Axes>"
      ]
     },
     "metadata": {
      "needs_background": "light"
     },
     "output_type": "display_data"
    },
    {
     "data": {
      "image/png": "[encoded data removed]",
      "text/plain": [
       "<Figure size 432x288 with 1 Axes>"
      ]
     },
     "metadata": {
      "needs_background": "light"
     },
     "output_type": "display_data"
    }
   ],
   "source": [
    "dfCata = df1[['authorparty', 'category', 'pro']].explode('category')\n",
    "dfCata['category'] = dfCata['category'].str.strip()\n",
    "dfCata = dfCata[['authorparty', 'category', 'pro']].groupby(['authorparty', 'category']).count().sort_values(['pro'], ascending=False).head(10)\n",
    "dfCata.plot.barh()\n",
    "\n",
    "dfCata2 = df1[['authorparty', 'subcategory', 'pro']].explode('subcategory')\n",
    "dfCata2['subcategory'] = dfCata2['subcategory'].str.strip()\n",
    "dfCata2 = dfCata2[['authorparty', 'subcategory', 'pro']].groupby(['authorparty', 'subcategory']).count().sort_values(['pro'], ascending=False).head(10)\n",
    "dfCata2.plot.barh()"
   ]
  },
  {
   "cell_type": "markdown",
   "metadata": {},
   "source": [
    "## Conclusie 🤔\n",
    "Voorafgaand aan het end-to-end linked data project 'een objectief beeld van het politieke klimaat🗞️' was de doelstelling om de data helder en inzichtelijk te maken, om zo objectieve informatie over het politieke klimaat te geven. Deze doelstelling is in zekere zin gehaald. Er is een objectieve weergave gegeven van bepaalde onderdelen binnen de politiek. Zo is weergegeven hoeveel volksvertegenwoordigers en partijen er met de verkiezingen meedoen, hoe de context van deze groep mensen eruit ziet (zoals bijvoorbeeld geloofsovertuiging en aantal kinderen) of wat bijvoorbeeld het stemgedrag van partijen bij moties is.\n",
    "\n",
    "Vervolgens is deze informatie met elkaar gecombineerd door bepaalde Wikidata (SPARQL) te combineren met moties uit kabinet rutte II. Hieruit is voortgekomen dat...\n",
    "\n",
    "Er kan geconcludeerd worden dat dit soort analyses een eerste, oriënterende stap zijn naar het objectief inzichtelijk maken van politieke data en informatie. Het is daarnaast voor ons ook een eerste stap om vanuit een informatiekundige, objectieve manier  naar de politiek te te kijken. Iets wat tot op de dag van vandaag nog te weinig gebeurd. Natuurlijk Politiek blijft in zekere zin altijd subjectief, aangezien het over standpunten en overtuigingen gaat, maar wij zijn ervan overtuigd dat feitelijke informatie een prominentere plek binnen het politieke klimaat kan hebben. Met deze opdracht is een eerste stap in die richting gezet. \n",
    "\n",
    "Er kan echter ook geconcludeerd worden dat er nog zoveel meer mogelijk is. Zo kunnen er niet alleen complexere analyses uitgevoerd worden, maar is het ook een kunst en uitdaging om deze informatie op een juiste manier bij de kiezer te krijgen. Hierbij is het van groot belang om dit op een objectieve manier te doen zonder de data te manipuleren, zodat het gedrag de kiezer niet beïnvloed wordt data-analisten. Ook dit kan gezien worden als een informatiekundige uitdaging met een politicologisch randje.\n",
    "\n",
    "## Aanbeveling ✋\n",
    "Voor de mensen die het interessant en leuk vinden om hier verder mee aan de slag te gaan: We hebben verschillende queries gemaakt waarmee je nog meer objectieve informatie over de politiek kan achterhalen. Deze analyses kun je zelf uitvoeren op basis van de bestaande wikidata (gebruik hiervoor SPARQL) en het CSV bestand (Gebruik hiervoor panda's). De mogelijke vragen zijn hieronder weergegeven op basis van drie niveaus.\n",
    "\n",
    "1. Tweede kamer - Analyses op basis van de gehele tweede kamer\n",
    "2. Partijen - Analyses op partijniveau\n",
    "3. Individueel - Maakt analyses van individuele politici\n",
    "\n",
    "#### Tweede kamer 🥇\n",
    "- Hoeveel procent van de kamer is gelovig?\n",
    "- Hoeveel verschillende religies komen er voor in de kamer? Hoe zijn deze verhoudingen (%)?\n",
    "- Dict met politici en aantal kinderen als value\n",
    "- Welke stad wordt het meest vertegenwoordigd in de verkiezingen\n",
    "- Hoeveel verschillende talen worden er in de verkiezingen gesproken?\n",
    "- Welk percentage van de kamer heeft politicologie gestudeerd?\n",
    "- Wat is de gemiddelde leeftijd in de kamer? En wat is de jongste en oudste politicus in de kamer?\n",
    "- Welk percentage van de kamer is een witte man van hogere middelbare leeftijd (50 plus)?\n",
    "\n",
    "#### Partijen 🥈\n",
    "- Zijn er verschillen qua opleidingsniveau per partij?\n",
    "- Welke partijen hebben het grootste bereik via sociale media?\n",
    "- Heeft de man/vrouw verdeling invloed op het goed- of afkeuren van moties binnen een partij?\n",
    "- Stemmen partijen met gemiddeld meer kinderen per politici anders dan partijen waar relatief weinig kinderen voorkomen?\n",
    "\n",
    "#### Individueel 🥉\n",
    "- In hoeverre heeft het hebben van kinderen  invloed op het stemgedrag bij moties die over onderwijs gaan?\n",
    "- In hoeverre heeft het volgen van een studie invloed op het stemgedrag bij moties die over onderwijs gaan?\n",
    "- Heeft de geboorteplaats invloed op de partijkeuze van politici?\n",
    "- Heeft het arbeidsverleden invloed op de partijkeuze van politici?\n",
    "- Heeft de studie van een politici invloed op de functie binnen de kamer?\n",
    "- Welke politici heeft het grootste bereik via sociale media?\n",
    "- Dienen atheïsten vaker moeten in?\n",
    "- Heeft de religie van een politici invloed op de partijkeuze?\n",
    "- Dienen man- of vrouwelijke politici vaker een motie in? En bij wie wordt het vaker afgewezen?\n",
    "- Heeft leeftijd invloed op het accepteren of afwijzen van moties?\n"
   ]
  },
  {
   "cell_type": "markdown",
   "metadata": {},
   "source": [
    "## Reflectie 👀\n",
    "Tijdens het maken van dit end-to-end linked data project zijn er meerdere obstakels en uitdagingen geweest. Zo was het in eerste instantie lastig om een (afgebakend) onderwerp te vinden. Aangezien de verkiezingen vorige week plaatsvonden, leek dit ons een interessant onderwerp om mee aan de slag te gaan. Het 'probleem' dat wij in eerste instantie wilden oplossen was als volgt: *Ons doel is om deze informatie helder en inzichtelijk te maken om de kwaliteit van het stemmen in Nederland te verbeteren*. Uiteindelijk is dit *Ons doel is om deze data helder en inzichtelijk te maken, om zo objectieve informatie over het politieke klimaat weer te geven.* Het onderwerp is aangepast, aangezien 'de kwaliteit van het stemmen in Nederland te verbeteren' een nobele taak is, maar qua scope  geschikter is voor een afstudeerproject in plaats van een weekopdacht. \n",
    "\n",
    "### Meevallers 😁\n",
    "- Aangezien er tegenwoordig zoveel data online beschikbaar is, is er snel een database in de vorm van een csv gevonden waar mee gewerkt kon worden. \n",
    "2. \n",
    "\n",
    "\n",
    "### Tegenvallers 😩\n",
    "-  De partijen verschillen in namen en roepnaam. Door de inconsistentie in Wikidata hebben sommige partijen een verkorte naam en anderen niet. Dit zorgt er bijvoorbeeld voor dat `VVD` gelijk is aan `VVD`, maar `GroenLinks` ineens als `GL` geschreven wordt. Het is dus lastig om code te schrijven die ervoor zorgt dat de juiste naam van de partij wordt teruggegeven.\n",
    "-  In wikidata is er ook inconsistentie als het aankomt op de namen van religies. Zo hebben sommige politici `Muslim` als religie en andere `Islam`. Hierdoor kunnen die soort waardes niet automatisch samengevoegd worden, terwijl het hier om dezelfde religie gaat. Door deze inconsistentie in de data moet het handmatig aangepast worden, wat erg tijdrovend is.\n",
    "- In wikidata is niet over elke polit pagina aangepast volledig ingevuld, waardoor . Zo hebben maar 22 van 503 verkiesbare kandidaten een religie erbij staan wat dus niet klopt.\n",
    "- Daarnaast hebben we in onze analyse de context van de data ook voor een groot deel achterwegen gelaten. Zo hebben we laten zien hoe bepaalde partijen statistisch en op basis over moties stemmen, maar was het erg lastig om in te gaan op de inhoud van deze moties. Zo kan een motie bijvoorbeeld het onderwerp `onderwijs en wetenschap` hebben waarbij `D66` voor gestemd heeft, maar kan hieruit niet opgemaakt worden of `D66` positief tegenover onderwijs staat."
   ]
  }
 ],
 "metadata": {
  "kernelspec": {
   "display_name": "Python 3",
   "language": "python",
   "name": "python3"
  },
  "language_info": {
   "codemirror_mode": {
    "name": "ipython",
    "version": 3
   },
   "file_extension": ".py",
   "mimetype": "text/x-python",
   "name": "python",
   "nbconvert_exporter": "python",
   "pygments_lexer": "ipython3",
   "version": "3.6.3"
  },
  "toc": {
   "nav_menu": {},
   "number_sections": true,
   "sideBar": true,
   "skip_h1_title": false,
   "title_cell": "Table of Contents",
   "title_sidebar": "Contents",
   "toc_cell": false,
   "toc_position": {},
   "toc_section_display": true,
   "toc_window_display": false
  }
 },
 "nbformat": 4,
 "nbformat_minor": 2
}
