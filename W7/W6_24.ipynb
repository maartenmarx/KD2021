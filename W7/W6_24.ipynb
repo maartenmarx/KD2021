{
 "cells": [
  {
   "cell_type": "markdown",
   "metadata": {},
   "source": [
    "# Assignment Kennis en Data"
   ]
  },
  {
   "cell_type": "markdown",
   "metadata": {},
   "source": [
    "## Notebook made by\n",
    "\n",
    "\n",
    "|Naam|Studentnummer|\n",
    "|-|-|\n",
    "|Steijn| secret |\n",
    "|Rogier| secret |\n",
    "|Joana| secret |\n",
    "|Cesar| secret |\n",
    "\n",
    "## Peerreview\n",
    "\n",
    "* Vul onderstaande dict/tabel in en run de cel. Klopt het? Zijn jullie het er allemaal mee eens?\n",
    "    * Verander `1,2,3,4` door jullie studentnummers\n",
    "    * `1: {1:.2,2:.3,3:.3,4:.2}` betekent dat student 1 zijn punt zo over de 4 studenten verdeelt\n",
    "    * Let op, per student moeten de punten optellen tot 1!\n",
    "    * De gegeven punten staan in de tabel op de rijen, de ontvangen punten in de kolommen.\n",
    "    * met `cijfer_per_student` kan je bepalen welk cijfer ieder krijgt bij een gegeven groepscijfer."
   ]
  },
  {
   "cell_type": "markdown",
   "metadata": {},
   "source": [
    "## Toelichting\n",
    "\n",
    "* De meeste opgaven worden automatisch nagekeken. Bij vrijwel alle opdrachten staan er een paar tests onder de opdracht, dit is voornamelijk om te zorgen dat je de juiste type output geeft. Dit zijn dus *NIET* alle tests, die komen er bij het graden nog bij.\n",
    "* Elke vraag is 1 punt waard, tenzij anders aangegeven. Soms is die punt onderverdeeld in deelpunten, maar niet altijd. \n",
    "\n",
    "## Voor het inleveren!\n",
    "\n",
    "* Pas niet de cellen aan, vooral niet die je niet kunt editen. Dit levert problemen op bij nakijken. Twijfel je of je per ongeluk iets hebt gewijzigd, kopieer dan bij inleveren je antwoorden naar een nieuw bestand, zodat het niet fout kan gaan.\n",
    "\n",
    "* Zorg dat de code goed runt van boven naar beneden, verifieer dat door boven in Kernel -> Restart & Run All uit te voeren\n",
    "\n",
    "## Na het inleveren!\n",
    "\n",
    "* Het gebeurt erg vaak dat mensen een \"leeg bestand\" inleveren. Vaak een andere versie van de opgave die nog ergens op je computer rondslingerde. Zonde van al je werk toch!\n",
    "* Dus, lever **minstens een half uur voor tijd in**. Download dan wat je hebt ingeleverd op Canvas. Geef het een andere naam om verwarring te voorkomen. En draai alle cellen, en bekijk het. Geen syntax fouten? Alle vragen gemaakt? Dan zit het vast wel goed, en hoef je niet in de zenuwen te zitten."
   ]
  },
  {
   "cell_type": "markdown",
   "metadata": {},
   "source": [
    "# Linked Data project\n",
    "\n",
    "Maak een notebook met een end-to-end project gebaseerd op wikidata, en neem bijvoorbeeld deze als inspiratie:\n",
    "* Mooie tutorial van begin tot eind met goede video: <https://media.ed.ac.uk/media/Wikidata+Sparql+Query+Tutorial/1_7v9v6s04> (Vrouwen educated in university of edinburg)\n",
    "* Leuke tutorial met notebooks beschikbaar: <https://towardsdatascience.com/where-do-mayors-come-from-querying-wikidata-with-python-and-sparql-91f3c0af22e2>\n",
    "* [Deze pagina](https://www.wikidata.org/wiki/Wikidata:WikiProject_every_politician/Netherlands/data/House/All_Members) over Nederlandse politici bevat een mooi begin, waar je nog heel wat moois van kan maken. \n",
    "* Of [deze](https://www.wikidata.org/wiki/Wikidata:WikiProject_Netherlands_Public_Libraries/Branches/By_Organisation) over bibliotheken. Ook hier kan je zowel het spreadsheet veel rijker maken, als natuurlijk op basis daarvan een geweldige interface maken.\n",
    "    * Maar er is al een hoop mee gedaan hoor: zie bijvoorbeeld <https://www.wikidata.org/wiki/Wikidata:WikiProject_Netherlands_Public_Libraries/Maps#Country>\n",
    "* <https://www.wikidata.org/wiki/Wikidata:WikiProject_COVID-19>\n",
    "\n",
    "\n",
    "## Vereisten\n",
    "\n",
    "1. Leuk probleem, goed uitgewerkt en gemotiveerd. Origineel, maar kan natuurlijk gebaseerd zijn op eerder werk.\n",
    "    * Wees heel eerlijk met je inspiratiebronnen, en noem ze, en benoem exact waar jij verder bent gegaan (wat zijn jullie toevoegingen?)\n",
    "2. Het moet gaan over **Nederlandse** data, of data over Nederland. \n",
    "    * Natuurlijk mag er ook een verband met het buitenland zijn.\n",
    "2. Een dataset die je met SPARQL uit wikidata haalt, en die je netjes beschrijft, en aangeeft dat de data \"klopt\" met jouw probleem.\n",
    "    * je dataset moet wel echt wat body hebben: dus flink wat rijen (items), en kolommen (eigenschappen)\n",
    "    * je kan je data in spreadsheet formaat of SQL formaat of zelfs JSON formaat opslaan, en er dan later mee verder werken in Python-Pandas, SQL, of direct met python dicts.\n",
    "3. Je laat nu op een aansprekende manier zien hoe jouw data jouw probleem oplost.\n",
    "    * Dit kan prima in een jupyter notebook. Het is een **functioneel prototype** voor een mogelijke webapplicatie. \n",
    "    * Je kan [python widgets](https://ipywidgets.readthedocs.io/en/stable/examples/Widget%20Basics.html) gebruiken voor interactie met gebruiker\n",
    "    * of plotly en dash voor gave interactieve plots en visuals (of seaborn als je het saai statisch wilt houden)\n",
    "4. Schrijf een reflectie.\n",
    "5. Jouw hele \"blogpost/tutorial\" is een Jupyter notebook die standalone perfect draait. (mits verbonden met het web).\n",
    "6. Je plaatst je notebook op een publiek github adres, of ergens op Google colab. Met gedraaide output. Het is belangrijk dat anderen jouw notebook \n",
    "    * heel makkelijk kunen lezen\n",
    "    * heel makkelijk kunnen downloaden, en runnen.\n",
    "        * dus als je niet standaard modules gebruikt zet je in een aparte uitgecommentarieerde cel de `pip install commands`\n",
    "7. En levert hem natuurlijk ook weer in via Canvas.\n",
    "\n",
    "### Grading\n",
    "\n",
    "* Ook hier weer via peer review binnen je groep.\n",
    "* Plus een expert review van je tutor.\n",
    "* Maak er wat moois, leerzaams, gaafs, en verrassends van! "
   ]
  },
  {
   "cell_type": "markdown",
   "metadata": {},
   "source": [
    "1. Ons probleem (Steijn)\n",
    "2. De query (Rogier)\n",
    "3. Bewijzen dat wat in onze query staat, een oplossing is voor ons probleem (Cesar)\n",
    "4. Converten naar pandas dataframe (Rogier)\n",
    "5. Produceer informatieve plotjes (Cesar)\n",
    "6. Zoek de oplossing voor ons probleem (Komt later wel)\n",
    "7. Bier (Cesar)"
   ]
  },
  {
   "cell_type": "markdown",
   "metadata": {},
   "source": [
    "# Het probleem\n",
    "\n",
    "<img src=https://upload.wikimedia.org/wikipedia/commons/thumb/a/a7/Olympic_flag.svg/266px-Olympic_flag.svg.png>\n",
    "\n",
    "De eerste (moderdne) olympische spelen werden gehouden in het jaar 1896. In deze tijd werden alleen nog maar de zomerspelen gehouden om de 4 jaar. Vanaf het jaar 1924 kwamen daar ook de olymipische winterspelen bij. Elk evenement wordt elke 4 jaar gehouden en duizenden sporters laten hun kunsten zien op deze spelen. Een medaille winnen op de olympische spelen is een droom voor elke sporter. \n",
    "\n",
    "\n",
    "<img src=https://upload.wikimedia.org/wikipedia/commons/thumb/2/20/Flag_of_the_Netherlands.svg/266px-Flag_of_the_Netherlands.svg.png>\n",
    "\n",
    "\n",
    "Nu, wij als Nederlanders zijn erg trots op onze atleten en willen ons graag in deze tutorial bezig houden met de sporters. Dus hebben wij een doel gezet. Wij willen aan de hand van data het ultieme olympische team uitkiezen. Een Nederlands Dreamteam zo te zeggen. Sporters uit elke jaargang mogen meedoen, de wedstrijden mogen in elk jaar gehouden worden en op elke locatie en in welke sporten Nederland het beste is.\n",
    "\n",
    "Door deze uit te spitten hopen wij het ultieme Nederlands team te vormen, en daarmee de olympische spelen te winnen. Om supermachten als Amerika uit te kunnen dagen."
   ]
  },
  {
   "cell_type": "markdown",
   "metadata": {},
   "source": [
    "### 2. De query\n",
    "\n",
    "Om de query te maken gebruiken we de sparql query service van wikidata. Met deze service kunnen we alle data van wikidata gebruiken, en kunnen we precies de data die we nodig hebben uit de enorme database.\n",
    "\n",
    "In sparql werk je met queries. Een query is een zoekopdracht die met behulp van bepaalde restricties die je meegeeft een resultaat geeft.\n",
    "\n",
    "Deze restricties geeft je in de vorm van triples. Elke triple bestaat uit een object, een predicaat en een subject, die altijd in dezelfde volgorde worden genoteerd. Je hebt dus altijd ```object, predicaat, subject```\n",
    "\n",
    "Een simpel voorbeeld van een triple kan zijn: ```Mark Rutte, geslacht, Man```\n",
    "\n",
    "Op diezelfde manier kan je met sparql je zoekopdracht verkleinen. Alleen zijn de object, subject en predicaat in wikidata anders genoteerd. Deze bestaan uit nummers. Mark rutte is op wikidata Q57792.\n",
    "\n",
    "Zo kunnen we heel doelgericht aan de slag om de topsporters te vinden.\n",
    "\n",
    "In de ```SELECT``` van onze query zetten we alles neer dat we willen zien in de query. \n",
    "Nu komen we bij de triples. we zijn hier op zoek naar een Nederlands mens.\n",
    "Vervolgens kijken we ook welk geslacht de persoon is.\n",
    "\n",
    "Daarna moeten we kijken of de personen mee hebben gedaan aan de Olympische Spelen. Dit doen we door te kijken of diegene aan een evenement heeft deelgenomen wat onderdeel is van de Olympische Spelen.\n",
    "\n",
    "Als de persoon mee heeft gedaan aan de Olympische Spelen kunnen we kijken in welk jaar hij/zij heeft meegedaan, en, als de data beschikbaar is, ook in welk land en met welke sport.\n",
    "\n",
    "Vervolgens kijken we of diegene een medaille heeft gewonnen op het evenement waar ze aan mee hebben gedaan.\n",
    "\n",
    "We moeten als laatste nog meegeven dat we de data in het Engels willen, en dan is onze query compleet.\n",
    "\n",
    "Als we deze query hebben, dan hebben we daarna nog een query nodig. Dit komt omdat de goude medaile wordt gezien als een 'Olympic award' en zilveren en bronzen medailles als 'Olympic medal'. De twee queries kunnen we samenvoegen met de ```UNION``` functie.\n",
    "\n"
   ]
  },
  {
   "cell_type": "code",
   "execution_count": 13,
   "metadata": {},
   "outputs": [],
   "source": [
    "import requests\n",
    "import pandas as pd\n",
    "from collections import OrderedDict\n",
    "\n",
    "\n",
    "url = 'https://query.wikidata.org/sparql'\n",
    "query = \"\"\"\n",
    "SELECT * WHERE {\n",
    "{\n",
    "    SELECT ?persoonLabel ?geslachtLabel ?evenementLabel ?medailleLabel ?tijd ?landLabel  ?sportLabel\n",
    "    WHERE\n",
    "    {\n",
    "      ?persoon wdt:P31 wd:Q5.\n",
    "      ?persoon wdt:P27 wd:Q29999.\n",
    "      ?persoon p:P1344 ?statement.\n",
    "      ?persoon wdt:P21 ?geslacht.\n",
    "\n",
    "      ?statement ps:P1344 ?evenement.\n",
    "      ?evenement wdt:P585 ?tijd.\n",
    "      OPTIONAL {?evenement wdt:P17 ?land}\n",
    "      OPTIONAL {?evenement wdt:P641 ?sport}\n",
    "      ?statement pq:P166 ?medaille.\n",
    "      ?medaille wdt:P31 wd:Q12042581 #Gouden medailles\n",
    "\n",
    "\n",
    "         SERVICE wikibase:label { bd:serviceParam wikibase:language \"en\". }\n",
    "    }\n",
    "}\n",
    "    UNION {\n",
    "    SELECT ?persoonLabel ?geslachtLabel ?evenementLabel ?medailleLabel ?tijd ?landLabel ?sportLabel\n",
    "    WHERE\n",
    "    {\n",
    "      ?persoon wdt:P31 wd:Q5.\n",
    "      ?persoon wdt:P27 wd:Q29999.\n",
    "      ?persoon p:P1344 ?statement.\n",
    "      ?persoon wdt:P21 ?geslacht.\n",
    "\n",
    "      ?statement ps:P1344 ?evenement.\n",
    "      ?evenement wdt:P585 ?tijd.\n",
    "      OPTIONAL {?evenement wdt:P17 ?land}\n",
    "      OPTIONAL {?evenement wdt:P641 ?sport}\n",
    "      ?statement pq:P166 ?medaille.\n",
    "      ?medaille wdt:P31 wd:Q636830 #Bronse en zilveren medailles\n",
    "\n",
    "\n",
    "         SERVICE wikibase:label { bd:serviceParam wikibase:language \"en\". }\n",
    "    }\n",
    "    }\n",
    "}\n",
    "\"\"\"\n",
    "r = requests.get(url, params = {'format': 'json', 'query': query})\n",
    "data = r.json()\n",
    "\n",
    "sporters = []\n",
    "for item in data['results']['bindings']:\n",
    "    sporters.append(OrderedDict({\n",
    "        'persoon': item['persoonLabel']['value'],\n",
    "        'evenement': item['evenementLabel']['value'],\n",
    "        'geslacht': item['geslachtLabel']['value'],\n",
    "        'sport': item['sportLabel']['value'] \n",
    "        if 'sportLabel' in item else None,\n",
    "        'medaille': item['medailleLabel']['value'] \n",
    "        if 'medailleLabel' in item else None,\n",
    "        'tijd': item['tijd']['value'][:4] \n",
    "        if 'tijd' in item else None,\n",
    "        'land': item['landLabel']['value'] \n",
    "        if 'landLabel' in item else None}))\n",
    "    \n",
    "df = pd.DataFrame(sporters)\n",
    "df = df.drop_duplicates()\n",
    "medailles = []\n",
    "for medaille in df['medaille']:\n",
    "    if medaille == 'Olympic gold medal':\n",
    "        medailles.append(3)\n",
    "    elif medaille == 'Olympic silver medal':\n",
    "        medailles.append(2)\n",
    "    else:\n",
    "        medailles.append(1)\n",
    "        \n",
    "df['waarde'] = medailles\n",
    "df = df.sort_values(by=['tijd'])\n",
    "# display(len(df))"
   ]
  },
  {
   "cell_type": "markdown",
   "metadata": {},
   "source": [
    "## Van een sparql query naar een pandas dataframe"
   ]
  },
  {
   "cell_type": "markdown",
   "metadata": {},
   "source": [
    "Om te kunnen plotten met de query, moeten we de query eerst converten naar een pandas dataframe. <br>\n",
    "Zorg ervoor dat de url van wikidata achter url = ... staat <br>\n",
    "Je kopieert dan de query achter query = ... <br>\n",
    "Vervolgens 'request' je via de url de query die je hebt gekopieerd, dit wordt gelezen en geparsed door json() en ingevoegd in lijst items om de data te kunnen tonen. <br>\n",
    "Nu maken we een lijst aan, deze hebben wij 'sporters' genoemd. In deze lijst zetten we alle namen van de kolommen. Aan die kolommon wijzen we data van de query, door de labels te gebruiken die we in de query hebben gebruikt. <br>\n",
    "Met de lijst van kolomnamen maken we nu een dataframe aan, nu heb je een pandas dataframe uit de query!"
   ]
  },
  {
   "cell_type": "markdown",
   "metadata": {},
   "source": [
    "## Zelf proberen? \n",
    "\n",
    "Probeer nu zelf een query die je hebt gemaakt van alle Tolstoj boeken te converteren naar een pandas dataframe."
   ]
  },
  {
   "cell_type": "markdown",
   "metadata": {},
   "source": [
    "[Klik hier voor de query met een lijst van Tolstoj boeken](https://query.wikidata.org/#SELECT%20%3Fitem%20%3FitemLabel%20WHERE%20%7B%0A%20%20%20%20%3Fitem%20wdt%3AP50%20wd%3AQ7243%3B%0A%20%20%20%20SERVICE%20wikibase%3Alabel%20%7B%20bd%3AserviceParam%20wikibase%3Alanguage%20%22%5BAUTO_LANGUAGE%5D%2Cen%22.%20%7D%0A%7D)"
   ]
  },
  {
   "cell_type": "markdown",
   "metadata": {},
   "source": [
    "Nu hebben we deze query en de resulterende data hebben kunnen we het probleem gaan oplossen. Waarom en hoe kan deze data nou ons probleem oplossen? Wat we willen weten is wat de ultieme setting is voor Nederland om het zo goed mogelijk te doen op een olympische spelen. Laten we eens gaan kijken naar de data. Hieronder zijn 2 rijen te zien van onze data.\n"
   ]
  },
  {
   "cell_type": "code",
   "execution_count": 14,
   "metadata": {},
   "outputs": [
    {
     "data": {
      "text/html": [
       "<div>\n",
       "<style scoped>\n",
       "    .dataframe tbody tr th:only-of-type {\n",
       "        vertical-align: middle;\n",
       "    }\n",
       "\n",
       "    .dataframe tbody tr th {\n",
       "        vertical-align: top;\n",
       "    }\n",
       "\n",
       "    .dataframe thead th {\n",
       "        text-align: right;\n",
       "    }\n",
       "</style>\n",
       "<table border=\"1\" class=\"dataframe\">\n",
       "  <thead>\n",
       "    <tr style=\"text-align: right;\">\n",
       "      <th></th>\n",
       "      <th>persoon</th>\n",
       "      <th>evenement</th>\n",
       "      <th>geslacht</th>\n",
       "      <th>sport</th>\n",
       "      <th>medaille</th>\n",
       "      <th>tijd</th>\n",
       "      <th>land</th>\n",
       "      <th>waarde</th>\n",
       "    </tr>\n",
       "  </thead>\n",
       "  <tbody>\n",
       "    <tr>\n",
       "      <th>170</th>\n",
       "      <td>Sven Kramer</td>\n",
       "      <td>speed skating at the 2006 Winter Olympics – me...</td>\n",
       "      <td>male</td>\n",
       "      <td>speed skating</td>\n",
       "      <td>Olympic bronze medal</td>\n",
       "      <td>2006</td>\n",
       "      <td>None</td>\n",
       "      <td>1</td>\n",
       "    </tr>\n",
       "    <tr>\n",
       "      <th>132</th>\n",
       "      <td>Carl Verheijen</td>\n",
       "      <td>speed skating at the 2006 Winter Olympics – me...</td>\n",
       "      <td>male</td>\n",
       "      <td>long track speed skating</td>\n",
       "      <td>Olympic bronze medal</td>\n",
       "      <td>2006</td>\n",
       "      <td>Italy</td>\n",
       "      <td>1</td>\n",
       "    </tr>\n",
       "  </tbody>\n",
       "</table>\n",
       "</div>"
      ],
      "text/plain": [
       "            persoon                                          evenement  \\\n",
       "170     Sven Kramer  speed skating at the 2006 Winter Olympics – me...   \n",
       "132  Carl Verheijen  speed skating at the 2006 Winter Olympics – me...   \n",
       "\n",
       "    geslacht                     sport              medaille  tijd   land  \\\n",
       "170     male             speed skating  Olympic bronze medal  2006   None   \n",
       "132     male  long track speed skating  Olympic bronze medal  2006  Italy   \n",
       "\n",
       "     waarde  \n",
       "170       1  \n",
       "132       1  "
      ]
     },
     "metadata": {},
     "output_type": "display_data"
    }
   ],
   "source": [
    "display(df[270:272])"
   ]
  },
  {
   "cell_type": "markdown",
   "metadata": {},
   "source": [
    "Er zijn 8 variabelen te zien per rij. Iedere rij bestaat uit een olympische medaille aangezien het winnen van een medaille staat voor succes op de olympische spelen. Als we dus willen weten onder welke omstandigheden Nederland het meeste medailles zou winnen, moeten we kijken onder welke omstandigheden Nederland het vaakst al medailles heeft gewonnen en dit zullen dus de beste omstandigheden zijn. Met deze data kunnen we dit doen. </p>  \n",
    "Met deze data zijn namelijk de belangrijke omstandigheden te vinden. Zo kunnen we allereerst zien welke sporters nou de meeste medailles hebben gewonnen en dus opgenomen moeten worden in het Nederlandse team die naar onze beste olympische spelen ooit zal gaan. Het winnen van een gouden medaille moet zwaarder meewegen dan tweemaal een bronzen medaille omdat je bij een gouden medaille echt de beste bent geweest. Daarom levert een een bronzen medaille 1 punt op, een zilveren 2 punten en een gouden 3 punten.\n",
    "### Nederlands' beste sporters\n",
    "\n",
    "Laten we eens beginnen met wie Nederlands' beste sporters nou eigenlijk zijn. Wie hebben de meeste medailles gewonnen voor Nederland? In het team zal natuurlijk voor iedere sport vrouwen en mannen uitkomen dus kun je in de plot voor zowel mannen als vrouwen zien wie de beste Nederlandse sporters op de olympische spelen zijn. \n"
   ]
  },
  {
   "cell_type": "code",
   "execution_count": 15,
   "metadata": {
    "scrolled": true
   },
   "outputs": [
    {
     "data": {
      "application/vnd.plotly.v1+json": {
       "config": {
        "plotlyServerURL": "https://plot.ly"
       },
       "data": [
        {
         "alignmentgroup": "True",
         "hovertemplate": "persoon=%{x}<br>waarde=%{y}<extra></extra>",
         "legendgroup": "",
         "marker": {
          "color": "#636efa"
         },
         "name": "",
         "offsetgroup": "",
         "orientation": "v",
         "showlegend": false,
         "textposition": "auto",
         "type": "bar",
         "x": [
          "Adolph van der Voort van Zijp",
          "Adrianus de Jong",
          "Albert Voorn",
          "Anthony Sweijs",
          "Anton Geesink",
          "Antonius Bouwens",
          "Antonius Colenbrander",
          "Ard Schenk",
          "Arie van Vliet",
          "Arjen Teeuwissen",
          "Bart Veldkamp",
          "Bart Zoet",
          "Bep van Klaveren",
          "Bob de Jong",
          "Carl Verheijen",
          "Charles Pahud de Mortanges",
          "Daan van Dijk",
          "Dennis van der Geest",
          "Dirk Boest Gips",
          "Dorian van Rijsselberghe",
          "Driekske van Bussel",
          "Edward Gal",
          "Epke Zonderland",
          "Erben Wennemars",
          "Eric Swinkels",
          "Erik Dekker",
          "Evert Dolman",
          "Falko Zandstra",
          "Fedor den Hertog",
          "Franke Sloothaak",
          "Frans de Vreng",
          "Gerard Bosch van Drakestein",
          "Gerard Kemkers",
          "Gerard de Kruijff",
          "Gerard le Heux",
          "Gerard van Velde",
          "Gerben Karstens",
          "Gerrit Voorting",
          "Gianni Romme",
          "Hans Peter Minderhoud",
          "Hans van Helden",
          "Hendrik Ooms",
          "Hendrik Timmer",
          "Hennie Kuiper",
          "Henrik Sillem",
          "Herman Ponsteen",
          "Ids Postma",
          "Jaap Kraaier",
          "Jacobus van Egmond",
          "Jan Blokhuijsen",
          "Jan Bos",
          "Jan Krekels",
          "Jan Pesman",
          "Jan Pieterse",
          "Jan Smeekens",
          "Jan Ykema",
          "Jan van Reede",
          "Janus Theeuwes",
          "Janus van Merrienboer",
          "Jeroen Dubbeldam",
          "Jetze Doorman",
          "Jo van Gastel",
          "Jochem Uytdehaage",
          "Joep Packbiers",
          "Johan Kenkhuis",
          "Johannes Drost",
          "Joop Zoetemelk",
          "Jorrit Bergsma",
          "Jur Vrieling",
          "Karel Miljon",
          "Kees Broekman",
          "Kees Verkerk",
          "Klaas-Erik Zwering",
          "Ko Willems",
          "Koen Verweij",
          "Leijn Loevesijn",
          "Leo Peelen",
          "Leo Visser",
          "Lieuwe de Boer",
          "Léon van Bon",
          "Maarten van der Weijden",
          "Maikel van der Vleuten",
          "Marc Houtzager",
          "Marcel Wouda",
          "Mark Huizinga",
          "Mark Tuitert",
          "Mark Veens",
          "Mark van der Zijden",
          "Martijn Zuijdweg",
          "Maurice Peeters",
          "Mitja Zastrow",
          "Nicolaas Tates",
          "Peter Nottet",
          "Pierre Versteegh",
          "Piet Ikelaar",
          "Piet Kleine",
          "Piet de Brouwer",
          "Pieter van den Hoogenband",
          "René Pijnen",
          "Rintje Ritsma",
          "Salomon Zeldenrust",
          "Simon Kuipers",
          "Sjinkie Knegt",
          "Solko van den Bergh",
          "Stefan Groothuis",
          "Sven Kramer",
          "Sven Rothenberger",
          "Teun Mulder",
          "Theo Willems",
          "Tiest van Gestel",
          "Wieger Mensonides",
          "Wietse van Alten",
          "Wim Ruska",
          "Wim van der Kroft",
          "Wim van der Voort"
         ],
         "xaxis": "x",
         "y": [
          9,
          1,
          2,
          1,
          3,
          1,
          3,
          9,
          3,
          2,
          5,
          3,
          3,
          7,
          2,
          9,
          3,
          1,
          1,
          3,
          3,
          1,
          3,
          2,
          2,
          2,
          3,
          3,
          3,
          3,
          1,
          3,
          1,
          8,
          1,
          3,
          3,
          2,
          8,
          2,
          3,
          2,
          1,
          3,
          1,
          2,
          5,
          1,
          2,
          6,
          4,
          3,
          1,
          3,
          3,
          3,
          1,
          3,
          3,
          3,
          2,
          3,
          8,
          3,
          3,
          1,
          3,
          4,
          2,
          1,
          4,
          9,
          2,
          3,
          5,
          2,
          2,
          5,
          3,
          2,
          3,
          2,
          2,
          1,
          4,
          5,
          2,
          1,
          1,
          1,
          2,
          1,
          1,
          1,
          2,
          7,
          3,
          15,
          3,
          8,
          1,
          1,
          1,
          1,
          3,
          15,
          3,
          1,
          3,
          3,
          1,
          1,
          6,
          1,
          2
         ],
         "yaxis": "y"
        }
       ],
       "layout": {
        "barmode": "stack",
        "legend": {
         "tracegroupgap": 0
        },
        "margin": {
         "t": 60
        },
        "template": {
         "data": {
          "bar": [
           {
            "error_x": {
             "color": "#2a3f5f"
            },
            "error_y": {
             "color": "#2a3f5f"
            },
            "marker": {
             "line": {
              "color": "#E5ECF6",
              "width": 0.5
             }
            },
            "type": "bar"
           }
          ],
          "barpolar": [
           {
            "marker": {
             "line": {
              "color": "#E5ECF6",
              "width": 0.5
             }
            },
            "type": "barpolar"
           }
          ],
          "carpet": [
           {
            "aaxis": {
             "endlinecolor": "#2a3f5f",
             "gridcolor": "white",
             "linecolor": "white",
             "minorgridcolor": "white",
             "startlinecolor": "#2a3f5f"
            },
            "baxis": {
             "endlinecolor": "#2a3f5f",
             "gridcolor": "white",
             "linecolor": "white",
             "minorgridcolor": "white",
             "startlinecolor": "#2a3f5f"
            },
            "type": "carpet"
           }
          ],
          "choropleth": [
           {
            "colorbar": {
             "outlinewidth": 0,
             "ticks": ""
            },
            "type": "choropleth"
           }
          ],
          "contour": [
           {
            "colorbar": {
             "outlinewidth": 0,
             "ticks": ""
            },
            "colorscale": [
             [
              0,
              "#0d0887"
             ],
             [
              0.1111111111111111,
              "#46039f"
             ],
             [
              0.2222222222222222,
              "#7201a8"
             ],
             [
              0.3333333333333333,
              "#9c179e"
             ],
             [
              0.4444444444444444,
              "#bd3786"
             ],
             [
              0.5555555555555556,
              "#d8576b"
             ],
             [
              0.6666666666666666,
              "#ed7953"
             ],
             [
              0.7777777777777778,
              "#fb9f3a"
             ],
             [
              0.8888888888888888,
              "#fdca26"
             ],
             [
              1,
              "#f0f921"
             ]
            ],
            "type": "contour"
           }
          ],
          "contourcarpet": [
           {
            "colorbar": {
             "outlinewidth": 0,
             "ticks": ""
            },
            "type": "contourcarpet"
           }
          ],
          "heatmap": [
           {
            "colorbar": {
             "outlinewidth": 0,
             "ticks": ""
            },
            "colorscale": [
             [
              0,
              "#0d0887"
             ],
             [
              0.1111111111111111,
              "#46039f"
             ],
             [
              0.2222222222222222,
              "#7201a8"
             ],
             [
              0.3333333333333333,
              "#9c179e"
             ],
             [
              0.4444444444444444,
              "#bd3786"
             ],
             [
              0.5555555555555556,
              "#d8576b"
             ],
             [
              0.6666666666666666,
              "#ed7953"
             ],
             [
              0.7777777777777778,
              "#fb9f3a"
             ],
             [
              0.8888888888888888,
              "#fdca26"
             ],
             [
              1,
              "#f0f921"
             ]
            ],
            "type": "heatmap"
           }
          ],
          "heatmapgl": [
           {
            "colorbar": {
             "outlinewidth": 0,
             "ticks": ""
            },
            "colorscale": [
             [
              0,
              "#0d0887"
             ],
             [
              0.1111111111111111,
              "#46039f"
             ],
             [
              0.2222222222222222,
              "#7201a8"
             ],
             [
              0.3333333333333333,
              "#9c179e"
             ],
             [
              0.4444444444444444,
              "#bd3786"
             ],
             [
              0.5555555555555556,
              "#d8576b"
             ],
             [
              0.6666666666666666,
              "#ed7953"
             ],
             [
              0.7777777777777778,
              "#fb9f3a"
             ],
             [
              0.8888888888888888,
              "#fdca26"
             ],
             [
              1,
              "#f0f921"
             ]
            ],
            "type": "heatmapgl"
           }
          ],
          "histogram": [
           {
            "marker": {
             "colorbar": {
              "outlinewidth": 0,
              "ticks": ""
             }
            },
            "type": "histogram"
           }
          ],
          "histogram2d": [
           {
            "colorbar": {
             "outlinewidth": 0,
             "ticks": ""
            },
            "colorscale": [
             [
              0,
              "#0d0887"
             ],
             [
              0.1111111111111111,
              "#46039f"
             ],
             [
              0.2222222222222222,
              "#7201a8"
             ],
             [
              0.3333333333333333,
              "#9c179e"
             ],
             [
              0.4444444444444444,
              "#bd3786"
             ],
             [
              0.5555555555555556,
              "#d8576b"
             ],
             [
              0.6666666666666666,
              "#ed7953"
             ],
             [
              0.7777777777777778,
              "#fb9f3a"
             ],
             [
              0.8888888888888888,
              "#fdca26"
             ],
             [
              1,
              "#f0f921"
             ]
            ],
            "type": "histogram2d"
           }
          ],
          "histogram2dcontour": [
           {
            "colorbar": {
             "outlinewidth": 0,
             "ticks": ""
            },
            "colorscale": [
             [
              0,
              "#0d0887"
             ],
             [
              0.1111111111111111,
              "#46039f"
             ],
             [
              0.2222222222222222,
              "#7201a8"
             ],
             [
              0.3333333333333333,
              "#9c179e"
             ],
             [
              0.4444444444444444,
              "#bd3786"
             ],
             [
              0.5555555555555556,
              "#d8576b"
             ],
             [
              0.6666666666666666,
              "#ed7953"
             ],
             [
              0.7777777777777778,
              "#fb9f3a"
             ],
             [
              0.8888888888888888,
              "#fdca26"
             ],
             [
              1,
              "#f0f921"
             ]
            ],
            "type": "histogram2dcontour"
           }
          ],
          "mesh3d": [
           {
            "colorbar": {
             "outlinewidth": 0,
             "ticks": ""
            },
            "type": "mesh3d"
           }
          ],
          "parcoords": [
           {
            "line": {
             "colorbar": {
              "outlinewidth": 0,
              "ticks": ""
             }
            },
            "type": "parcoords"
           }
          ],
          "pie": [
           {
            "automargin": true,
            "type": "pie"
           }
          ],
          "scatter": [
           {
            "marker": {
             "colorbar": {
              "outlinewidth": 0,
              "ticks": ""
             }
            },
            "type": "scatter"
           }
          ],
          "scatter3d": [
           {
            "line": {
             "colorbar": {
              "outlinewidth": 0,
              "ticks": ""
             }
            },
            "marker": {
             "colorbar": {
              "outlinewidth": 0,
              "ticks": ""
             }
            },
            "type": "scatter3d"
           }
          ],
          "scattercarpet": [
           {
            "marker": {
             "colorbar": {
              "outlinewidth": 0,
              "ticks": ""
             }
            },
            "type": "scattercarpet"
           }
          ],
          "scattergeo": [
           {
            "marker": {
             "colorbar": {
              "outlinewidth": 0,
              "ticks": ""
             }
            },
            "type": "scattergeo"
           }
          ],
          "scattergl": [
           {
            "marker": {
             "colorbar": {
              "outlinewidth": 0,
              "ticks": ""
             }
            },
            "type": "scattergl"
           }
          ],
          "scattermapbox": [
           {
            "marker": {
             "colorbar": {
              "outlinewidth": 0,
              "ticks": ""
             }
            },
            "type": "scattermapbox"
           }
          ],
          "scatterpolar": [
           {
            "marker": {
             "colorbar": {
              "outlinewidth": 0,
              "ticks": ""
             }
            },
            "type": "scatterpolar"
           }
          ],
          "scatterpolargl": [
           {
            "marker": {
             "colorbar": {
              "outlinewidth": 0,
              "ticks": ""
             }
            },
            "type": "scatterpolargl"
           }
          ],
          "scatterternary": [
           {
            "marker": {
             "colorbar": {
              "outlinewidth": 0,
              "ticks": ""
             }
            },
            "type": "scatterternary"
           }
          ],
          "surface": [
           {
            "colorbar": {
             "outlinewidth": 0,
             "ticks": ""
            },
            "colorscale": [
             [
              0,
              "#0d0887"
             ],
             [
              0.1111111111111111,
              "#46039f"
             ],
             [
              0.2222222222222222,
              "#7201a8"
             ],
             [
              0.3333333333333333,
              "#9c179e"
             ],
             [
              0.4444444444444444,
              "#bd3786"
             ],
             [
              0.5555555555555556,
              "#d8576b"
             ],
             [
              0.6666666666666666,
              "#ed7953"
             ],
             [
              0.7777777777777778,
              "#fb9f3a"
             ],
             [
              0.8888888888888888,
              "#fdca26"
             ],
             [
              1,
              "#f0f921"
             ]
            ],
            "type": "surface"
           }
          ],
          "table": [
           {
            "cells": {
             "fill": {
              "color": "#EBF0F8"
             },
             "line": {
              "color": "white"
             }
            },
            "header": {
             "fill": {
              "color": "#C8D4E3"
             },
             "line": {
              "color": "white"
             }
            },
            "type": "table"
           }
          ]
         },
         "layout": {
          "annotationdefaults": {
           "arrowcolor": "#2a3f5f",
           "arrowhead": 0,
           "arrowwidth": 1
          },
          "coloraxis": {
           "colorbar": {
            "outlinewidth": 0,
            "ticks": ""
           }
          },
          "colorscale": {
           "diverging": [
            [
             0,
             "#8e0152"
            ],
            [
             0.1,
             "#c51b7d"
            ],
            [
             0.2,
             "#de77ae"
            ],
            [
             0.3,
             "#f1b6da"
            ],
            [
             0.4,
             "#fde0ef"
            ],
            [
             0.5,
             "#f7f7f7"
            ],
            [
             0.6,
             "#e6f5d0"
            ],
            [
             0.7,
             "#b8e186"
            ],
            [
             0.8,
             "#7fbc41"
            ],
            [
             0.9,
             "#4d9221"
            ],
            [
             1,
             "#276419"
            ]
           ],
           "sequential": [
            [
             0,
             "#0d0887"
            ],
            [
             0.1111111111111111,
             "#46039f"
            ],
            [
             0.2222222222222222,
             "#7201a8"
            ],
            [
             0.3333333333333333,
             "#9c179e"
            ],
            [
             0.4444444444444444,
             "#bd3786"
            ],
            [
             0.5555555555555556,
             "#d8576b"
            ],
            [
             0.6666666666666666,
             "#ed7953"
            ],
            [
             0.7777777777777778,
             "#fb9f3a"
            ],
            [
             0.8888888888888888,
             "#fdca26"
            ],
            [
             1,
             "#f0f921"
            ]
           ],
           "sequentialminus": [
            [
             0,
             "#0d0887"
            ],
            [
             0.1111111111111111,
             "#46039f"
            ],
            [
             0.2222222222222222,
             "#7201a8"
            ],
            [
             0.3333333333333333,
             "#9c179e"
            ],
            [
             0.4444444444444444,
             "#bd3786"
            ],
            [
             0.5555555555555556,
             "#d8576b"
            ],
            [
             0.6666666666666666,
             "#ed7953"
            ],
            [
             0.7777777777777778,
             "#fb9f3a"
            ],
            [
             0.8888888888888888,
             "#fdca26"
            ],
            [
             1,
             "#f0f921"
            ]
           ]
          },
          "colorway": [
           "#636efa",
           "#EF553B",
           "#00cc96",
           "#ab63fa",
           "#FFA15A",
           "#19d3f3",
           "#FF6692",
           "#B6E880",
           "#FF97FF",
           "#FECB52"
          ],
          "font": {
           "color": "#2a3f5f"
          },
          "geo": {
           "bgcolor": "white",
           "lakecolor": "white",
           "landcolor": "#E5ECF6",
           "showlakes": true,
           "showland": true,
           "subunitcolor": "white"
          },
          "hoverlabel": {
           "align": "left"
          },
          "hovermode": "closest",
          "mapbox": {
           "style": "light"
          },
          "paper_bgcolor": "white",
          "plot_bgcolor": "#E5ECF6",
          "polar": {
           "angularaxis": {
            "gridcolor": "white",
            "linecolor": "white",
            "ticks": ""
           },
           "bgcolor": "#E5ECF6",
           "radialaxis": {
            "gridcolor": "white",
            "linecolor": "white",
            "ticks": ""
           }
          },
          "scene": {
           "xaxis": {
            "backgroundcolor": "#E5ECF6",
            "gridcolor": "white",
            "gridwidth": 2,
            "linecolor": "white",
            "showbackground": true,
            "ticks": "",
            "zerolinecolor": "white"
           },
           "yaxis": {
            "backgroundcolor": "#E5ECF6",
            "gridcolor": "white",
            "gridwidth": 2,
            "linecolor": "white",
            "showbackground": true,
            "ticks": "",
            "zerolinecolor": "white"
           },
           "zaxis": {
            "backgroundcolor": "#E5ECF6",
            "gridcolor": "white",
            "gridwidth": 2,
            "linecolor": "white",
            "showbackground": true,
            "ticks": "",
            "zerolinecolor": "white"
           }
          },
          "shapedefaults": {
           "line": {
            "color": "#2a3f5f"
           }
          },
          "ternary": {
           "aaxis": {
            "gridcolor": "white",
            "linecolor": "white",
            "ticks": ""
           },
           "baxis": {
            "gridcolor": "white",
            "linecolor": "white",
            "ticks": ""
           },
           "bgcolor": "#E5ECF6",
           "caxis": {
            "gridcolor": "white",
            "linecolor": "white",
            "ticks": ""
           }
          },
          "title": {
           "x": 0.05
          },
          "xaxis": {
           "automargin": true,
           "gridcolor": "white",
           "linecolor": "white",
           "ticks": "",
           "title": {
            "standoff": 15
           },
           "zerolinecolor": "white",
           "zerolinewidth": 2
          },
          "yaxis": {
           "automargin": true,
           "gridcolor": "white",
           "linecolor": "white",
           "ticks": "",
           "title": {
            "standoff": 15
           },
           "zerolinecolor": "white",
           "zerolinewidth": 2
          }
         }
        },
        "updatemenus": [
         {
          "buttons": [
           {
            "args": [
             {
              "x": [
               [
                "Adolph van der Voort van Zijp",
                "Adrianus de Jong",
                "Albert Voorn",
                "Anthony Sweijs",
                "Anton Geesink",
                "Antonius Bouwens",
                "Antonius Colenbrander",
                "Ard Schenk",
                "Arie van Vliet",
                "Arjen Teeuwissen",
                "Bart Veldkamp",
                "Bart Zoet",
                "Bep van Klaveren",
                "Bob de Jong",
                "Carl Verheijen",
                "Charles Pahud de Mortanges",
                "Daan van Dijk",
                "Dennis van der Geest",
                "Dirk Boest Gips",
                "Dorian van Rijsselberghe",
                "Driekske van Bussel",
                "Edward Gal",
                "Epke Zonderland",
                "Erben Wennemars",
                "Eric Swinkels",
                "Erik Dekker",
                "Evert Dolman",
                "Falko Zandstra",
                "Fedor den Hertog",
                "Franke Sloothaak",
                "Frans de Vreng",
                "Gerard Bosch van Drakestein",
                "Gerard Kemkers",
                "Gerard de Kruijff",
                "Gerard le Heux",
                "Gerard van Velde",
                "Gerben Karstens",
                "Gerrit Voorting",
                "Gianni Romme",
                "Hans Peter Minderhoud",
                "Hans van Helden",
                "Hendrik Ooms",
                "Hendrik Timmer",
                "Hennie Kuiper",
                "Henrik Sillem",
                "Herman Ponsteen",
                "Ids Postma",
                "Jaap Kraaier",
                "Jacobus van Egmond",
                "Jan Blokhuijsen",
                "Jan Bos",
                "Jan Krekels",
                "Jan Pesman",
                "Jan Pieterse",
                "Jan Smeekens",
                "Jan Ykema",
                "Jan van Reede",
                "Janus Theeuwes",
                "Janus van Merrienboer",
                "Jeroen Dubbeldam",
                "Jetze Doorman",
                "Jo van Gastel",
                "Jochem Uytdehaage",
                "Joep Packbiers",
                "Johan Kenkhuis",
                "Johannes Drost",
                "Joop Zoetemelk",
                "Jorrit Bergsma",
                "Jur Vrieling",
                "Karel Miljon",
                "Kees Broekman",
                "Kees Verkerk",
                "Klaas-Erik Zwering",
                "Ko Willems",
                "Koen Verweij",
                "Leijn Loevesijn",
                "Leo Peelen",
                "Leo Visser",
                "Lieuwe de Boer",
                "Léon van Bon",
                "Maarten van der Weijden",
                "Maikel van der Vleuten",
                "Marc Houtzager",
                "Marcel Wouda",
                "Mark Huizinga",
                "Mark Tuitert",
                "Mark Veens",
                "Mark van der Zijden",
                "Martijn Zuijdweg",
                "Maurice Peeters",
                "Mitja Zastrow",
                "Nicolaas Tates",
                "Peter Nottet",
                "Pierre Versteegh",
                "Piet Ikelaar",
                "Piet Kleine",
                "Piet de Brouwer",
                "Pieter van den Hoogenband",
                "René Pijnen",
                "Rintje Ritsma",
                "Salomon Zeldenrust",
                "Simon Kuipers",
                "Sjinkie Knegt",
                "Solko van den Bergh",
                "Stefan Groothuis",
                "Sven Kramer",
                "Sven Rothenberger",
                "Teun Mulder",
                "Theo Willems",
                "Tiest van Gestel",
                "Wieger Mensonides",
                "Wietse van Alten",
                "Wim Ruska",
                "Wim van der Kroft",
                "Wim van der Voort"
               ],
               [
                "Ada Kok",
                "Adelinde Cornelissen",
                "Alida van der Anker-Doedens",
                "Anky van Grunsven",
                "Anna Wood",
                "Annabel Kosten",
                "Annelies Maas",
                "Annemarie Verstappen",
                "Annemiek Derckx",
                "Annette Gerritsen",
                "Annie Borckink",
                "Ans Schut",
                "Atje Keulen-Deelstra",
                "Carien Kleibeuker",
                "Carry Geijssen",
                "Chantal Groot",
                "Coby van Baalen",
                "Conny van Bentum",
                "Corrie Laddé",
                "Corrie Winkel",
                "Deborah Gravenstijn",
                "Desi Reijers",
                "Edith Bosch",
                "Elis Ligtlee",
                "Elisabeth Willeboordse",
                "Ellen Bontje",
                "Elles Voskes",
                "Enith Brigitha",
                "Erica Terpstra",
                "Femke Heemskerk",
                "Geertje Wielema",
                "Gonnelien Rothenberger",
                "Gretha Smit",
                "Hannie Termeulen",
                "Hinkelien Schreuder",
                "Inge Dekker",
                "Inge de Bruijn",
                "Ingrid Haringa",
                "Ireen Wüst",
                "Irma Heijting-Schuhmacher",
                "Jolanda de Rover",
                "Jopie Selbach",
                "Jorien ter Mors",
                "Karin Brienesse",
                "Kim Lammers",
                "Kirsten Vlieghuis",
                "Klenie Bimolt",
                "Koosje van Voorn",
                "Kristie Boogert",
                "Laura Smulders",
                "Laurine van Riessen",
                "Leontien van Moorsel",
                "Lotte van Beek",
                "Manon van Rooijen",
                "Margot Boer",
                "Margot Marsman",
                "Maria Vierdag",
                "Marianne Heemskerk",
                "Marianne Timmer",
                "Marianne Vos",
                "Marie Braun",
                "Marie-Louise Linssen-Vaessen",
                "Marleen Veldhuis",
                "Marrit Leenstra",
                "Mia Audina",
                "Mieke Jaapies",
                "Miriam Oremans",
                "Nicolien Sauerbreij",
                "Nida Senff",
                "Pauline van der Wildt",
                "Petra van Staveren",
                "Puck Oversloot",
                "Ranomi Kromowidjojo",
                "Reggie de Jong",
                "Renate Groenewold",
                "Ria Visser",
                "Rie Mastenbroek",
                "Sjoukje Dijkstra",
                "Stien Kaiser",
                "Thamar Henneken",
                "Tineke Bartels",
                "Tineke Lagerberg",
                "Tini Wagner",
                "Toos Beumer",
                "Willy den Ouden",
                "Wilma van Hofwegen",
                "Wilma van Velsen",
                "Winnie van Weerdenburg",
                "Yvonne van Gennip"
               ]
              ],
              "y": [
               [
                9,
                1,
                2,
                1,
                3,
                1,
                3,
                9,
                3,
                2,
                5,
                3,
                3,
                7,
                2,
                9,
                3,
                1,
                1,
                3,
                3,
                1,
                3,
                2,
                2,
                2,
                3,
                3,
                3,
                3,
                1,
                3,
                1,
                8,
                1,
                3,
                3,
                2,
                8,
                2,
                3,
                2,
                1,
                3,
                1,
                2,
                5,
                1,
                2,
                6,
                4,
                3,
                1,
                3,
                3,
                3,
                1,
                3,
                3,
                3,
                2,
                3,
                8,
                3,
                3,
                1,
                3,
                4,
                2,
                1,
                4,
                9,
                2,
                3,
                5,
                2,
                2,
                5,
                3,
                2,
                3,
                2,
                2,
                1,
                4,
                5,
                2,
                1,
                1,
                1,
                2,
                1,
                1,
                1,
                2,
                7,
                3,
                15,
                3,
                8,
                1,
                1,
                1,
                1,
                3,
                15,
                3,
                1,
                3,
                3,
                1,
                1,
                6,
                1,
                2
               ],
               [
                7,
                3,
                2,
                18,
                1,
                1,
                1,
                4,
                2,
                2,
                3,
                3,
                4,
                1,
                5,
                3,
                2,
                5,
                2,
                2,
                3,
                2,
                2,
                3,
                1,
                2,
                2,
                2,
                3,
                5,
                2,
                2,
                2,
                5,
                5,
                6,
                29,
                2,
                26,
                3,
                4,
                3,
                6,
                2,
                3,
                2,
                2,
                2,
                2,
                1,
                1,
                6,
                4,
                5,
                2,
                1,
                2,
                2,
                9,
                3,
                5,
                4,
                7,
                3,
                4,
                2,
                2,
                3,
                3,
                1,
                3,
                2,
                11,
                1,
                6,
                2,
                11,
                2,
                7,
                2,
                2,
                1,
                3,
                1,
                7,
                2,
                1,
                1,
                9
               ]
              ]
             }
            ],
            "label": "Mannen",
            "method": "update"
           },
           {
            "args": [
             {
              "x": [
               [
                "Ada Kok",
                "Adelinde Cornelissen",
                "Alida van der Anker-Doedens",
                "Anky van Grunsven",
                "Anna Wood",
                "Annabel Kosten",
                "Annelies Maas",
                "Annemarie Verstappen",
                "Annemiek Derckx",
                "Annette Gerritsen",
                "Annie Borckink",
                "Ans Schut",
                "Atje Keulen-Deelstra",
                "Carien Kleibeuker",
                "Carry Geijssen",
                "Chantal Groot",
                "Coby van Baalen",
                "Conny van Bentum",
                "Corrie Laddé",
                "Corrie Winkel",
                "Deborah Gravenstijn",
                "Desi Reijers",
                "Edith Bosch",
                "Elis Ligtlee",
                "Elisabeth Willeboordse",
                "Ellen Bontje",
                "Elles Voskes",
                "Enith Brigitha",
                "Erica Terpstra",
                "Femke Heemskerk",
                "Geertje Wielema",
                "Gonnelien Rothenberger",
                "Gretha Smit",
                "Hannie Termeulen",
                "Hinkelien Schreuder",
                "Inge Dekker",
                "Inge de Bruijn",
                "Ingrid Haringa",
                "Ireen Wüst",
                "Irma Heijting-Schuhmacher",
                "Jolanda de Rover",
                "Jopie Selbach",
                "Jorien ter Mors",
                "Karin Brienesse",
                "Kim Lammers",
                "Kirsten Vlieghuis",
                "Klenie Bimolt",
                "Koosje van Voorn",
                "Kristie Boogert",
                "Laura Smulders",
                "Laurine van Riessen",
                "Leontien van Moorsel",
                "Lotte van Beek",
                "Manon van Rooijen",
                "Margot Boer",
                "Margot Marsman",
                "Maria Vierdag",
                "Marianne Heemskerk",
                "Marianne Timmer",
                "Marianne Vos",
                "Marie Braun",
                "Marie-Louise Linssen-Vaessen",
                "Marleen Veldhuis",
                "Marrit Leenstra",
                "Mia Audina",
                "Mieke Jaapies",
                "Miriam Oremans",
                "Nicolien Sauerbreij",
                "Nida Senff",
                "Pauline van der Wildt",
                "Petra van Staveren",
                "Puck Oversloot",
                "Ranomi Kromowidjojo",
                "Reggie de Jong",
                "Renate Groenewold",
                "Ria Visser",
                "Rie Mastenbroek",
                "Sjoukje Dijkstra",
                "Stien Kaiser",
                "Thamar Henneken",
                "Tineke Bartels",
                "Tineke Lagerberg",
                "Tini Wagner",
                "Toos Beumer",
                "Willy den Ouden",
                "Wilma van Hofwegen",
                "Wilma van Velsen",
                "Winnie van Weerdenburg",
                "Yvonne van Gennip"
               ],
               [
                "Adolph van der Voort van Zijp",
                "Adrianus de Jong",
                "Albert Voorn",
                "Anthony Sweijs",
                "Anton Geesink",
                "Antonius Bouwens",
                "Antonius Colenbrander",
                "Ard Schenk",
                "Arie van Vliet",
                "Arjen Teeuwissen",
                "Bart Veldkamp",
                "Bart Zoet",
                "Bep van Klaveren",
                "Bob de Jong",
                "Carl Verheijen",
                "Charles Pahud de Mortanges",
                "Daan van Dijk",
                "Dennis van der Geest",
                "Dirk Boest Gips",
                "Dorian van Rijsselberghe",
                "Driekske van Bussel",
                "Edward Gal",
                "Epke Zonderland",
                "Erben Wennemars",
                "Eric Swinkels",
                "Erik Dekker",
                "Evert Dolman",
                "Falko Zandstra",
                "Fedor den Hertog",
                "Franke Sloothaak",
                "Frans de Vreng",
                "Gerard Bosch van Drakestein",
                "Gerard Kemkers",
                "Gerard de Kruijff",
                "Gerard le Heux",
                "Gerard van Velde",
                "Gerben Karstens",
                "Gerrit Voorting",
                "Gianni Romme",
                "Hans Peter Minderhoud",
                "Hans van Helden",
                "Hendrik Ooms",
                "Hendrik Timmer",
                "Hennie Kuiper",
                "Henrik Sillem",
                "Herman Ponsteen",
                "Ids Postma",
                "Jaap Kraaier",
                "Jacobus van Egmond",
                "Jan Blokhuijsen",
                "Jan Bos",
                "Jan Krekels",
                "Jan Pesman",
                "Jan Pieterse",
                "Jan Smeekens",
                "Jan Ykema",
                "Jan van Reede",
                "Janus Theeuwes",
                "Janus van Merrienboer",
                "Jeroen Dubbeldam",
                "Jetze Doorman",
                "Jo van Gastel",
                "Jochem Uytdehaage",
                "Joep Packbiers",
                "Johan Kenkhuis",
                "Johannes Drost",
                "Joop Zoetemelk",
                "Jorrit Bergsma",
                "Jur Vrieling",
                "Karel Miljon",
                "Kees Broekman",
                "Kees Verkerk",
                "Klaas-Erik Zwering",
                "Ko Willems",
                "Koen Verweij",
                "Leijn Loevesijn",
                "Leo Peelen",
                "Leo Visser",
                "Lieuwe de Boer",
                "Léon van Bon",
                "Maarten van der Weijden",
                "Maikel van der Vleuten",
                "Marc Houtzager",
                "Marcel Wouda",
                "Mark Huizinga",
                "Mark Tuitert",
                "Mark Veens",
                "Mark van der Zijden",
                "Martijn Zuijdweg",
                "Maurice Peeters",
                "Mitja Zastrow",
                "Nicolaas Tates",
                "Peter Nottet",
                "Pierre Versteegh",
                "Piet Ikelaar",
                "Piet Kleine",
                "Piet de Brouwer",
                "Pieter van den Hoogenband",
                "René Pijnen",
                "Rintje Ritsma",
                "Salomon Zeldenrust",
                "Simon Kuipers",
                "Sjinkie Knegt",
                "Solko van den Bergh",
                "Stefan Groothuis",
                "Sven Kramer",
                "Sven Rothenberger",
                "Teun Mulder",
                "Theo Willems",
                "Tiest van Gestel",
                "Wieger Mensonides",
                "Wietse van Alten",
                "Wim Ruska",
                "Wim van der Kroft",
                "Wim van der Voort"
               ]
              ],
              "y": [
               [
                7,
                3,
                2,
                18,
                1,
                1,
                1,
                4,
                2,
                2,
                3,
                3,
                4,
                1,
                5,
                3,
                2,
                5,
                2,
                2,
                3,
                2,
                2,
                3,
                1,
                2,
                2,
                2,
                3,
                5,
                2,
                2,
                2,
                5,
                5,
                6,
                29,
                2,
                26,
                3,
                4,
                3,
                6,
                2,
                3,
                2,
                2,
                2,
                2,
                1,
                1,
                6,
                4,
                5,
                2,
                1,
                2,
                2,
                9,
                3,
                5,
                4,
                7,
                3,
                4,
                2,
                2,
                3,
                3,
                1,
                3,
                2,
                11,
                1,
                6,
                2,
                11,
                2,
                7,
                2,
                2,
                1,
                3,
                1,
                7,
                2,
                1,
                1,
                9
               ],
               [
                9,
                1,
                2,
                1,
                3,
                1,
                3,
                9,
                3,
                2,
                5,
                3,
                3,
                7,
                2,
                9,
                3,
                1,
                1,
                3,
                3,
                1,
                3,
                2,
                2,
                2,
                3,
                3,
                3,
                3,
                1,
                3,
                1,
                8,
                1,
                3,
                3,
                2,
                8,
                2,
                3,
                2,
                1,
                3,
                1,
                2,
                5,
                1,
                2,
                6,
                4,
                3,
                1,
                3,
                3,
                3,
                1,
                3,
                3,
                3,
                2,
                3,
                8,
                3,
                3,
                1,
                3,
                4,
                2,
                1,
                4,
                9,
                2,
                3,
                5,
                2,
                2,
                5,
                3,
                2,
                3,
                2,
                2,
                1,
                4,
                5,
                2,
                1,
                1,
                1,
                2,
                1,
                1,
                1,
                2,
                7,
                3,
                15,
                3,
                8,
                1,
                1,
                1,
                1,
                3,
                15,
                3,
                1,
                3,
                3,
                1,
                1,
                6,
                1,
                2
               ]
              ]
             }
            ],
            "label": "Vrouwen",
            "method": "update"
           }
          ],
          "direction": "right",
          "showactive": true,
          "type": "buttons",
          "x": 0.7,
          "y": 1.2
         }
        ],
        "xaxis": {
         "anchor": "y",
         "categoryorder": "total descending",
         "domain": [
          0,
          1
         ],
         "title": {
          "text": "persoon"
         }
        },
        "yaxis": {
         "anchor": "x",
         "domain": [
          0,
          1
         ],
         "title": {
          "text": "waarde"
         }
        }
       }
      },
      "text/html": [
       "<div>\n",
       "        \n",
       "        \n",
       "            <div id=\"ef7b251f-39d0-4a82-b74a-01de6fd130f7\" class=\"plotly-graph-div\" style=\"height:525px; width:100%;\"></div>\n",
       "            <script type=\"text/javascript\">\n",
       "                require([\"plotly\"], function(Plotly) {\n",
       "                    window.PLOTLYENV=window.PLOTLYENV || {};\n",
       "                    \n",
       "                if (document.getElementById(\"ef7b251f-39d0-4a82-b74a-01de6fd130f7\")) {\n",
       "                    Plotly.newPlot(\n",
       "                        'ef7b251f-39d0-4a82-b74a-01de6fd130f7',\n",
       "                        [{\"alignmentgroup\": \"True\", \"hovertemplate\": \"persoon=%{x}<br>waarde=%{y}<extra></extra>\", \"legendgroup\": \"\", \"marker\": {\"color\": \"#636efa\"}, \"name\": \"\", \"offsetgroup\": \"\", \"orientation\": \"v\", \"showlegend\": false, \"textposition\": \"auto\", \"type\": \"bar\", \"x\": [\"Adolph van der Voort van Zijp\", \"Adrianus de Jong\", \"Albert Voorn\", \"Anthony Sweijs\", \"Anton Geesink\", \"Antonius Bouwens\", \"Antonius Colenbrander\", \"Ard Schenk\", \"Arie van Vliet\", \"Arjen Teeuwissen\", \"Bart Veldkamp\", \"Bart Zoet\", \"Bep van Klaveren\", \"Bob de Jong\", \"Carl Verheijen\", \"Charles Pahud de Mortanges\", \"Daan van Dijk\", \"Dennis van der Geest\", \"Dirk Boest Gips\", \"Dorian van Rijsselberghe\", \"Driekske van Bussel\", \"Edward Gal\", \"Epke Zonderland\", \"Erben Wennemars\", \"Eric Swinkels\", \"Erik Dekker\", \"Evert Dolman\", \"Falko Zandstra\", \"Fedor den Hertog\", \"Franke Sloothaak\", \"Frans de Vreng\", \"Gerard Bosch van Drakestein\", \"Gerard Kemkers\", \"Gerard de Kruijff\", \"Gerard le Heux\", \"Gerard van Velde\", \"Gerben Karstens\", \"Gerrit Voorting\", \"Gianni Romme\", \"Hans Peter Minderhoud\", \"Hans van Helden\", \"Hendrik Ooms\", \"Hendrik Timmer\", \"Hennie Kuiper\", \"Henrik Sillem\", \"Herman Ponsteen\", \"Ids Postma\", \"Jaap Kraaier\", \"Jacobus van Egmond\", \"Jan Blokhuijsen\", \"Jan Bos\", \"Jan Krekels\", \"Jan Pesman\", \"Jan Pieterse\", \"Jan Smeekens\", \"Jan Ykema\", \"Jan van Reede\", \"Janus Theeuwes\", \"Janus van Merrienboer\", \"Jeroen Dubbeldam\", \"Jetze Doorman\", \"Jo van Gastel\", \"Jochem Uytdehaage\", \"Joep Packbiers\", \"Johan Kenkhuis\", \"Johannes Drost\", \"Joop Zoetemelk\", \"Jorrit Bergsma\", \"Jur Vrieling\", \"Karel Miljon\", \"Kees Broekman\", \"Kees Verkerk\", \"Klaas-Erik Zwering\", \"Ko Willems\", \"Koen Verweij\", \"Leijn Loevesijn\", \"Leo Peelen\", \"Leo Visser\", \"Lieuwe de Boer\", \"L\\u00e9on van Bon\", \"Maarten van der Weijden\", \"Maikel van der Vleuten\", \"Marc Houtzager\", \"Marcel Wouda\", \"Mark Huizinga\", \"Mark Tuitert\", \"Mark Veens\", \"Mark van der Zijden\", \"Martijn Zuijdweg\", \"Maurice Peeters\", \"Mitja Zastrow\", \"Nicolaas Tates\", \"Peter Nottet\", \"Pierre Versteegh\", \"Piet Ikelaar\", \"Piet Kleine\", \"Piet de Brouwer\", \"Pieter van den Hoogenband\", \"Ren\\u00e9 Pijnen\", \"Rintje Ritsma\", \"Salomon Zeldenrust\", \"Simon Kuipers\", \"Sjinkie Knegt\", \"Solko van den Bergh\", \"Stefan Groothuis\", \"Sven Kramer\", \"Sven Rothenberger\", \"Teun Mulder\", \"Theo Willems\", \"Tiest van Gestel\", \"Wieger Mensonides\", \"Wietse van Alten\", \"Wim Ruska\", \"Wim van der Kroft\", \"Wim van der Voort\"], \"xaxis\": \"x\", \"y\": [9, 1, 2, 1, 3, 1, 3, 9, 3, 2, 5, 3, 3, 7, 2, 9, 3, 1, 1, 3, 3, 1, 3, 2, 2, 2, 3, 3, 3, 3, 1, 3, 1, 8, 1, 3, 3, 2, 8, 2, 3, 2, 1, 3, 1, 2, 5, 1, 2, 6, 4, 3, 1, 3, 3, 3, 1, 3, 3, 3, 2, 3, 8, 3, 3, 1, 3, 4, 2, 1, 4, 9, 2, 3, 5, 2, 2, 5, 3, 2, 3, 2, 2, 1, 4, 5, 2, 1, 1, 1, 2, 1, 1, 1, 2, 7, 3, 15, 3, 8, 1, 1, 1, 1, 3, 15, 3, 1, 3, 3, 1, 1, 6, 1, 2], \"yaxis\": \"y\"}],\n",
       "                        {\"barmode\": \"stack\", \"legend\": {\"tracegroupgap\": 0}, \"margin\": {\"t\": 60}, \"template\": {\"data\": {\"bar\": [{\"error_x\": {\"color\": \"#2a3f5f\"}, \"error_y\": {\"color\": \"#2a3f5f\"}, \"marker\": {\"line\": {\"color\": \"#E5ECF6\", \"width\": 0.5}}, \"type\": \"bar\"}], \"barpolar\": [{\"marker\": {\"line\": {\"color\": \"#E5ECF6\", \"width\": 0.5}}, \"type\": \"barpolar\"}], \"carpet\": [{\"aaxis\": {\"endlinecolor\": \"#2a3f5f\", \"gridcolor\": \"white\", \"linecolor\": \"white\", \"minorgridcolor\": \"white\", \"startlinecolor\": \"#2a3f5f\"}, \"baxis\": {\"endlinecolor\": \"#2a3f5f\", \"gridcolor\": \"white\", \"linecolor\": \"white\", \"minorgridcolor\": \"white\", \"startlinecolor\": \"#2a3f5f\"}, \"type\": \"carpet\"}], \"choropleth\": [{\"colorbar\": {\"outlinewidth\": 0, \"ticks\": \"\"}, \"type\": \"choropleth\"}], \"contour\": [{\"colorbar\": {\"outlinewidth\": 0, \"ticks\": \"\"}, \"colorscale\": [[0.0, \"#0d0887\"], [0.1111111111111111, \"#46039f\"], [0.2222222222222222, \"#7201a8\"], [0.3333333333333333, \"#9c179e\"], [0.4444444444444444, \"#bd3786\"], [0.5555555555555556, \"#d8576b\"], [0.6666666666666666, \"#ed7953\"], [0.7777777777777778, \"#fb9f3a\"], [0.8888888888888888, \"#fdca26\"], [1.0, \"#f0f921\"]], \"type\": \"contour\"}], \"contourcarpet\": [{\"colorbar\": {\"outlinewidth\": 0, \"ticks\": \"\"}, \"type\": \"contourcarpet\"}], \"heatmap\": [{\"colorbar\": {\"outlinewidth\": 0, \"ticks\": \"\"}, \"colorscale\": [[0.0, \"#0d0887\"], [0.1111111111111111, \"#46039f\"], [0.2222222222222222, \"#7201a8\"], [0.3333333333333333, \"#9c179e\"], [0.4444444444444444, \"#bd3786\"], [0.5555555555555556, \"#d8576b\"], [0.6666666666666666, \"#ed7953\"], [0.7777777777777778, \"#fb9f3a\"], [0.8888888888888888, \"#fdca26\"], [1.0, \"#f0f921\"]], \"type\": \"heatmap\"}], \"heatmapgl\": [{\"colorbar\": {\"outlinewidth\": 0, \"ticks\": \"\"}, \"colorscale\": [[0.0, \"#0d0887\"], [0.1111111111111111, \"#46039f\"], [0.2222222222222222, \"#7201a8\"], [0.3333333333333333, \"#9c179e\"], [0.4444444444444444, \"#bd3786\"], [0.5555555555555556, \"#d8576b\"], [0.6666666666666666, \"#ed7953\"], [0.7777777777777778, \"#fb9f3a\"], [0.8888888888888888, \"#fdca26\"], [1.0, \"#f0f921\"]], \"type\": \"heatmapgl\"}], \"histogram\": [{\"marker\": {\"colorbar\": {\"outlinewidth\": 0, \"ticks\": \"\"}}, \"type\": \"histogram\"}], \"histogram2d\": [{\"colorbar\": {\"outlinewidth\": 0, \"ticks\": \"\"}, \"colorscale\": [[0.0, \"#0d0887\"], [0.1111111111111111, \"#46039f\"], [0.2222222222222222, \"#7201a8\"], [0.3333333333333333, \"#9c179e\"], [0.4444444444444444, \"#bd3786\"], [0.5555555555555556, \"#d8576b\"], [0.6666666666666666, \"#ed7953\"], [0.7777777777777778, \"#fb9f3a\"], [0.8888888888888888, \"#fdca26\"], [1.0, \"#f0f921\"]], \"type\": \"histogram2d\"}], \"histogram2dcontour\": [{\"colorbar\": {\"outlinewidth\": 0, \"ticks\": \"\"}, \"colorscale\": [[0.0, \"#0d0887\"], [0.1111111111111111, \"#46039f\"], [0.2222222222222222, \"#7201a8\"], [0.3333333333333333, \"#9c179e\"], [0.4444444444444444, \"#bd3786\"], [0.5555555555555556, \"#d8576b\"], [0.6666666666666666, \"#ed7953\"], [0.7777777777777778, \"#fb9f3a\"], [0.8888888888888888, \"#fdca26\"], [1.0, \"#f0f921\"]], \"type\": \"histogram2dcontour\"}], \"mesh3d\": [{\"colorbar\": {\"outlinewidth\": 0, \"ticks\": \"\"}, \"type\": \"mesh3d\"}], \"parcoords\": [{\"line\": {\"colorbar\": {\"outlinewidth\": 0, \"ticks\": \"\"}}, \"type\": \"parcoords\"}], \"pie\": [{\"automargin\": true, \"type\": \"pie\"}], \"scatter\": [{\"marker\": {\"colorbar\": {\"outlinewidth\": 0, \"ticks\": \"\"}}, \"type\": \"scatter\"}], \"scatter3d\": [{\"line\": {\"colorbar\": {\"outlinewidth\": 0, \"ticks\": \"\"}}, \"marker\": {\"colorbar\": {\"outlinewidth\": 0, \"ticks\": \"\"}}, \"type\": \"scatter3d\"}], \"scattercarpet\": [{\"marker\": {\"colorbar\": {\"outlinewidth\": 0, \"ticks\": \"\"}}, \"type\": \"scattercarpet\"}], \"scattergeo\": [{\"marker\": {\"colorbar\": {\"outlinewidth\": 0, \"ticks\": \"\"}}, \"type\": \"scattergeo\"}], \"scattergl\": [{\"marker\": {\"colorbar\": {\"outlinewidth\": 0, \"ticks\": \"\"}}, \"type\": \"scattergl\"}], \"scattermapbox\": [{\"marker\": {\"colorbar\": {\"outlinewidth\": 0, \"ticks\": \"\"}}, \"type\": \"scattermapbox\"}], \"scatterpolar\": [{\"marker\": {\"colorbar\": {\"outlinewidth\": 0, \"ticks\": \"\"}}, \"type\": \"scatterpolar\"}], \"scatterpolargl\": [{\"marker\": {\"colorbar\": {\"outlinewidth\": 0, \"ticks\": \"\"}}, \"type\": \"scatterpolargl\"}], \"scatterternary\": [{\"marker\": {\"colorbar\": {\"outlinewidth\": 0, \"ticks\": \"\"}}, \"type\": \"scatterternary\"}], \"surface\": [{\"colorbar\": {\"outlinewidth\": 0, \"ticks\": \"\"}, \"colorscale\": [[0.0, \"#0d0887\"], [0.1111111111111111, \"#46039f\"], [0.2222222222222222, \"#7201a8\"], [0.3333333333333333, \"#9c179e\"], [0.4444444444444444, \"#bd3786\"], [0.5555555555555556, \"#d8576b\"], [0.6666666666666666, \"#ed7953\"], [0.7777777777777778, \"#fb9f3a\"], [0.8888888888888888, \"#fdca26\"], [1.0, \"#f0f921\"]], \"type\": \"surface\"}], \"table\": [{\"cells\": {\"fill\": {\"color\": \"#EBF0F8\"}, \"line\": {\"color\": \"white\"}}, \"header\": {\"fill\": {\"color\": \"#C8D4E3\"}, \"line\": {\"color\": \"white\"}}, \"type\": \"table\"}]}, \"layout\": {\"annotationdefaults\": {\"arrowcolor\": \"#2a3f5f\", \"arrowhead\": 0, \"arrowwidth\": 1}, \"coloraxis\": {\"colorbar\": {\"outlinewidth\": 0, \"ticks\": \"\"}}, \"colorscale\": {\"diverging\": [[0, \"#8e0152\"], [0.1, \"#c51b7d\"], [0.2, \"#de77ae\"], [0.3, \"#f1b6da\"], [0.4, \"#fde0ef\"], [0.5, \"#f7f7f7\"], [0.6, \"#e6f5d0\"], [0.7, \"#b8e186\"], [0.8, \"#7fbc41\"], [0.9, \"#4d9221\"], [1, \"#276419\"]], \"sequential\": [[0.0, \"#0d0887\"], [0.1111111111111111, \"#46039f\"], [0.2222222222222222, \"#7201a8\"], [0.3333333333333333, \"#9c179e\"], [0.4444444444444444, \"#bd3786\"], [0.5555555555555556, \"#d8576b\"], [0.6666666666666666, \"#ed7953\"], [0.7777777777777778, \"#fb9f3a\"], [0.8888888888888888, \"#fdca26\"], [1.0, \"#f0f921\"]], \"sequentialminus\": [[0.0, \"#0d0887\"], [0.1111111111111111, \"#46039f\"], [0.2222222222222222, \"#7201a8\"], [0.3333333333333333, \"#9c179e\"], [0.4444444444444444, \"#bd3786\"], [0.5555555555555556, \"#d8576b\"], [0.6666666666666666, \"#ed7953\"], [0.7777777777777778, \"#fb9f3a\"], [0.8888888888888888, \"#fdca26\"], [1.0, \"#f0f921\"]]}, \"colorway\": [\"#636efa\", \"#EF553B\", \"#00cc96\", \"#ab63fa\", \"#FFA15A\", \"#19d3f3\", \"#FF6692\", \"#B6E880\", \"#FF97FF\", \"#FECB52\"], \"font\": {\"color\": \"#2a3f5f\"}, \"geo\": {\"bgcolor\": \"white\", \"lakecolor\": \"white\", \"landcolor\": \"#E5ECF6\", \"showlakes\": true, \"showland\": true, \"subunitcolor\": \"white\"}, \"hoverlabel\": {\"align\": \"left\"}, \"hovermode\": \"closest\", \"mapbox\": {\"style\": \"light\"}, \"paper_bgcolor\": \"white\", \"plot_bgcolor\": \"#E5ECF6\", \"polar\": {\"angularaxis\": {\"gridcolor\": \"white\", \"linecolor\": \"white\", \"ticks\": \"\"}, \"bgcolor\": \"#E5ECF6\", \"radialaxis\": {\"gridcolor\": \"white\", \"linecolor\": \"white\", \"ticks\": \"\"}}, \"scene\": {\"xaxis\": {\"backgroundcolor\": \"#E5ECF6\", \"gridcolor\": \"white\", \"gridwidth\": 2, \"linecolor\": \"white\", \"showbackground\": true, \"ticks\": \"\", \"zerolinecolor\": \"white\"}, \"yaxis\": {\"backgroundcolor\": \"#E5ECF6\", \"gridcolor\": \"white\", \"gridwidth\": 2, \"linecolor\": \"white\", \"showbackground\": true, \"ticks\": \"\", \"zerolinecolor\": \"white\"}, \"zaxis\": {\"backgroundcolor\": \"#E5ECF6\", \"gridcolor\": \"white\", \"gridwidth\": 2, \"linecolor\": \"white\", \"showbackground\": true, \"ticks\": \"\", \"zerolinecolor\": \"white\"}}, \"shapedefaults\": {\"line\": {\"color\": \"#2a3f5f\"}}, \"ternary\": {\"aaxis\": {\"gridcolor\": \"white\", \"linecolor\": \"white\", \"ticks\": \"\"}, \"baxis\": {\"gridcolor\": \"white\", \"linecolor\": \"white\", \"ticks\": \"\"}, \"bgcolor\": \"#E5ECF6\", \"caxis\": {\"gridcolor\": \"white\", \"linecolor\": \"white\", \"ticks\": \"\"}}, \"title\": {\"x\": 0.05}, \"xaxis\": {\"automargin\": true, \"gridcolor\": \"white\", \"linecolor\": \"white\", \"ticks\": \"\", \"title\": {\"standoff\": 15}, \"zerolinecolor\": \"white\", \"zerolinewidth\": 2}, \"yaxis\": {\"automargin\": true, \"gridcolor\": \"white\", \"linecolor\": \"white\", \"ticks\": \"\", \"title\": {\"standoff\": 15}, \"zerolinecolor\": \"white\", \"zerolinewidth\": 2}}}, \"updatemenus\": [{\"buttons\": [{\"args\": [{\"x\": [[\"Adolph van der Voort van Zijp\", \"Adrianus de Jong\", \"Albert Voorn\", \"Anthony Sweijs\", \"Anton Geesink\", \"Antonius Bouwens\", \"Antonius Colenbrander\", \"Ard Schenk\", \"Arie van Vliet\", \"Arjen Teeuwissen\", \"Bart Veldkamp\", \"Bart Zoet\", \"Bep van Klaveren\", \"Bob de Jong\", \"Carl Verheijen\", \"Charles Pahud de Mortanges\", \"Daan van Dijk\", \"Dennis van der Geest\", \"Dirk Boest Gips\", \"Dorian van Rijsselberghe\", \"Driekske van Bussel\", \"Edward Gal\", \"Epke Zonderland\", \"Erben Wennemars\", \"Eric Swinkels\", \"Erik Dekker\", \"Evert Dolman\", \"Falko Zandstra\", \"Fedor den Hertog\", \"Franke Sloothaak\", \"Frans de Vreng\", \"Gerard Bosch van Drakestein\", \"Gerard Kemkers\", \"Gerard de Kruijff\", \"Gerard le Heux\", \"Gerard van Velde\", \"Gerben Karstens\", \"Gerrit Voorting\", \"Gianni Romme\", \"Hans Peter Minderhoud\", \"Hans van Helden\", \"Hendrik Ooms\", \"Hendrik Timmer\", \"Hennie Kuiper\", \"Henrik Sillem\", \"Herman Ponsteen\", \"Ids Postma\", \"Jaap Kraaier\", \"Jacobus van Egmond\", \"Jan Blokhuijsen\", \"Jan Bos\", \"Jan Krekels\", \"Jan Pesman\", \"Jan Pieterse\", \"Jan Smeekens\", \"Jan Ykema\", \"Jan van Reede\", \"Janus Theeuwes\", \"Janus van Merrienboer\", \"Jeroen Dubbeldam\", \"Jetze Doorman\", \"Jo van Gastel\", \"Jochem Uytdehaage\", \"Joep Packbiers\", \"Johan Kenkhuis\", \"Johannes Drost\", \"Joop Zoetemelk\", \"Jorrit Bergsma\", \"Jur Vrieling\", \"Karel Miljon\", \"Kees Broekman\", \"Kees Verkerk\", \"Klaas-Erik Zwering\", \"Ko Willems\", \"Koen Verweij\", \"Leijn Loevesijn\", \"Leo Peelen\", \"Leo Visser\", \"Lieuwe de Boer\", \"L\\u00e9on van Bon\", \"Maarten van der Weijden\", \"Maikel van der Vleuten\", \"Marc Houtzager\", \"Marcel Wouda\", \"Mark Huizinga\", \"Mark Tuitert\", \"Mark Veens\", \"Mark van der Zijden\", \"Martijn Zuijdweg\", \"Maurice Peeters\", \"Mitja Zastrow\", \"Nicolaas Tates\", \"Peter Nottet\", \"Pierre Versteegh\", \"Piet Ikelaar\", \"Piet Kleine\", \"Piet de Brouwer\", \"Pieter van den Hoogenband\", \"Ren\\u00e9 Pijnen\", \"Rintje Ritsma\", \"Salomon Zeldenrust\", \"Simon Kuipers\", \"Sjinkie Knegt\", \"Solko van den Bergh\", \"Stefan Groothuis\", \"Sven Kramer\", \"Sven Rothenberger\", \"Teun Mulder\", \"Theo Willems\", \"Tiest van Gestel\", \"Wieger Mensonides\", \"Wietse van Alten\", \"Wim Ruska\", \"Wim van der Kroft\", \"Wim van der Voort\"], [\"Ada Kok\", \"Adelinde Cornelissen\", \"Alida van der Anker-Doedens\", \"Anky van Grunsven\", \"Anna Wood\", \"Annabel Kosten\", \"Annelies Maas\", \"Annemarie Verstappen\", \"Annemiek Derckx\", \"Annette Gerritsen\", \"Annie Borckink\", \"Ans Schut\", \"Atje Keulen-Deelstra\", \"Carien Kleibeuker\", \"Carry Geijssen\", \"Chantal Groot\", \"Coby van Baalen\", \"Conny van Bentum\", \"Corrie Ladd\\u00e9\", \"Corrie Winkel\", \"Deborah Gravenstijn\", \"Desi Reijers\", \"Edith Bosch\", \"Elis Ligtlee\", \"Elisabeth Willeboordse\", \"Ellen Bontje\", \"Elles Voskes\", \"Enith Brigitha\", \"Erica Terpstra\", \"Femke Heemskerk\", \"Geertje Wielema\", \"Gonnelien Rothenberger\", \"Gretha Smit\", \"Hannie Termeulen\", \"Hinkelien Schreuder\", \"Inge Dekker\", \"Inge de Bruijn\", \"Ingrid Haringa\", \"Ireen W\\u00fcst\", \"Irma Heijting-Schuhmacher\", \"Jolanda de Rover\", \"Jopie Selbach\", \"Jorien ter Mors\", \"Karin Brienesse\", \"Kim Lammers\", \"Kirsten Vlieghuis\", \"Klenie Bimolt\", \"Koosje van Voorn\", \"Kristie Boogert\", \"Laura Smulders\", \"Laurine van Riessen\", \"Leontien van Moorsel\", \"Lotte van Beek\", \"Manon van Rooijen\", \"Margot Boer\", \"Margot Marsman\", \"Maria Vierdag\", \"Marianne Heemskerk\", \"Marianne Timmer\", \"Marianne Vos\", \"Marie Braun\", \"Marie-Louise Linssen-Vaessen\", \"Marleen Veldhuis\", \"Marrit Leenstra\", \"Mia Audina\", \"Mieke Jaapies\", \"Miriam Oremans\", \"Nicolien Sauerbreij\", \"Nida Senff\", \"Pauline van der Wildt\", \"Petra van Staveren\", \"Puck Oversloot\", \"Ranomi Kromowidjojo\", \"Reggie de Jong\", \"Renate Groenewold\", \"Ria Visser\", \"Rie Mastenbroek\", \"Sjoukje Dijkstra\", \"Stien Kaiser\", \"Thamar Henneken\", \"Tineke Bartels\", \"Tineke Lagerberg\", \"Tini Wagner\", \"Toos Beumer\", \"Willy den Ouden\", \"Wilma van Hofwegen\", \"Wilma van Velsen\", \"Winnie van Weerdenburg\", \"Yvonne van Gennip\"]], \"y\": [[9, 1, 2, 1, 3, 1, 3, 9, 3, 2, 5, 3, 3, 7, 2, 9, 3, 1, 1, 3, 3, 1, 3, 2, 2, 2, 3, 3, 3, 3, 1, 3, 1, 8, 1, 3, 3, 2, 8, 2, 3, 2, 1, 3, 1, 2, 5, 1, 2, 6, 4, 3, 1, 3, 3, 3, 1, 3, 3, 3, 2, 3, 8, 3, 3, 1, 3, 4, 2, 1, 4, 9, 2, 3, 5, 2, 2, 5, 3, 2, 3, 2, 2, 1, 4, 5, 2, 1, 1, 1, 2, 1, 1, 1, 2, 7, 3, 15, 3, 8, 1, 1, 1, 1, 3, 15, 3, 1, 3, 3, 1, 1, 6, 1, 2], [7, 3, 2, 18, 1, 1, 1, 4, 2, 2, 3, 3, 4, 1, 5, 3, 2, 5, 2, 2, 3, 2, 2, 3, 1, 2, 2, 2, 3, 5, 2, 2, 2, 5, 5, 6, 29, 2, 26, 3, 4, 3, 6, 2, 3, 2, 2, 2, 2, 1, 1, 6, 4, 5, 2, 1, 2, 2, 9, 3, 5, 4, 7, 3, 4, 2, 2, 3, 3, 1, 3, 2, 11, 1, 6, 2, 11, 2, 7, 2, 2, 1, 3, 1, 7, 2, 1, 1, 9]]}], \"label\": \"Mannen\", \"method\": \"update\"}, {\"args\": [{\"x\": [[\"Ada Kok\", \"Adelinde Cornelissen\", \"Alida van der Anker-Doedens\", \"Anky van Grunsven\", \"Anna Wood\", \"Annabel Kosten\", \"Annelies Maas\", \"Annemarie Verstappen\", \"Annemiek Derckx\", \"Annette Gerritsen\", \"Annie Borckink\", \"Ans Schut\", \"Atje Keulen-Deelstra\", \"Carien Kleibeuker\", \"Carry Geijssen\", \"Chantal Groot\", \"Coby van Baalen\", \"Conny van Bentum\", \"Corrie Ladd\\u00e9\", \"Corrie Winkel\", \"Deborah Gravenstijn\", \"Desi Reijers\", \"Edith Bosch\", \"Elis Ligtlee\", \"Elisabeth Willeboordse\", \"Ellen Bontje\", \"Elles Voskes\", \"Enith Brigitha\", \"Erica Terpstra\", \"Femke Heemskerk\", \"Geertje Wielema\", \"Gonnelien Rothenberger\", \"Gretha Smit\", \"Hannie Termeulen\", \"Hinkelien Schreuder\", \"Inge Dekker\", \"Inge de Bruijn\", \"Ingrid Haringa\", \"Ireen W\\u00fcst\", \"Irma Heijting-Schuhmacher\", \"Jolanda de Rover\", \"Jopie Selbach\", \"Jorien ter Mors\", \"Karin Brienesse\", \"Kim Lammers\", \"Kirsten Vlieghuis\", \"Klenie Bimolt\", \"Koosje van Voorn\", \"Kristie Boogert\", \"Laura Smulders\", \"Laurine van Riessen\", \"Leontien van Moorsel\", \"Lotte van Beek\", \"Manon van Rooijen\", \"Margot Boer\", \"Margot Marsman\", \"Maria Vierdag\", \"Marianne Heemskerk\", \"Marianne Timmer\", \"Marianne Vos\", \"Marie Braun\", \"Marie-Louise Linssen-Vaessen\", \"Marleen Veldhuis\", \"Marrit Leenstra\", \"Mia Audina\", \"Mieke Jaapies\", \"Miriam Oremans\", \"Nicolien Sauerbreij\", \"Nida Senff\", \"Pauline van der Wildt\", \"Petra van Staveren\", \"Puck Oversloot\", \"Ranomi Kromowidjojo\", \"Reggie de Jong\", \"Renate Groenewold\", \"Ria Visser\", \"Rie Mastenbroek\", \"Sjoukje Dijkstra\", \"Stien Kaiser\", \"Thamar Henneken\", \"Tineke Bartels\", \"Tineke Lagerberg\", \"Tini Wagner\", \"Toos Beumer\", \"Willy den Ouden\", \"Wilma van Hofwegen\", \"Wilma van Velsen\", \"Winnie van Weerdenburg\", \"Yvonne van Gennip\"], [\"Adolph van der Voort van Zijp\", \"Adrianus de Jong\", \"Albert Voorn\", \"Anthony Sweijs\", \"Anton Geesink\", \"Antonius Bouwens\", \"Antonius Colenbrander\", \"Ard Schenk\", \"Arie van Vliet\", \"Arjen Teeuwissen\", \"Bart Veldkamp\", \"Bart Zoet\", \"Bep van Klaveren\", \"Bob de Jong\", \"Carl Verheijen\", \"Charles Pahud de Mortanges\", \"Daan van Dijk\", \"Dennis van der Geest\", \"Dirk Boest Gips\", \"Dorian van Rijsselberghe\", \"Driekske van Bussel\", \"Edward Gal\", \"Epke Zonderland\", \"Erben Wennemars\", \"Eric Swinkels\", \"Erik Dekker\", \"Evert Dolman\", \"Falko Zandstra\", \"Fedor den Hertog\", \"Franke Sloothaak\", \"Frans de Vreng\", \"Gerard Bosch van Drakestein\", \"Gerard Kemkers\", \"Gerard de Kruijff\", \"Gerard le Heux\", \"Gerard van Velde\", \"Gerben Karstens\", \"Gerrit Voorting\", \"Gianni Romme\", \"Hans Peter Minderhoud\", \"Hans van Helden\", \"Hendrik Ooms\", \"Hendrik Timmer\", \"Hennie Kuiper\", \"Henrik Sillem\", \"Herman Ponsteen\", \"Ids Postma\", \"Jaap Kraaier\", \"Jacobus van Egmond\", \"Jan Blokhuijsen\", \"Jan Bos\", \"Jan Krekels\", \"Jan Pesman\", \"Jan Pieterse\", \"Jan Smeekens\", \"Jan Ykema\", \"Jan van Reede\", \"Janus Theeuwes\", \"Janus van Merrienboer\", \"Jeroen Dubbeldam\", \"Jetze Doorman\", \"Jo van Gastel\", \"Jochem Uytdehaage\", \"Joep Packbiers\", \"Johan Kenkhuis\", \"Johannes Drost\", \"Joop Zoetemelk\", \"Jorrit Bergsma\", \"Jur Vrieling\", \"Karel Miljon\", \"Kees Broekman\", \"Kees Verkerk\", \"Klaas-Erik Zwering\", \"Ko Willems\", \"Koen Verweij\", \"Leijn Loevesijn\", \"Leo Peelen\", \"Leo Visser\", \"Lieuwe de Boer\", \"L\\u00e9on van Bon\", \"Maarten van der Weijden\", \"Maikel van der Vleuten\", \"Marc Houtzager\", \"Marcel Wouda\", \"Mark Huizinga\", \"Mark Tuitert\", \"Mark Veens\", \"Mark van der Zijden\", \"Martijn Zuijdweg\", \"Maurice Peeters\", \"Mitja Zastrow\", \"Nicolaas Tates\", \"Peter Nottet\", \"Pierre Versteegh\", \"Piet Ikelaar\", \"Piet Kleine\", \"Piet de Brouwer\", \"Pieter van den Hoogenband\", \"Ren\\u00e9 Pijnen\", \"Rintje Ritsma\", \"Salomon Zeldenrust\", \"Simon Kuipers\", \"Sjinkie Knegt\", \"Solko van den Bergh\", \"Stefan Groothuis\", \"Sven Kramer\", \"Sven Rothenberger\", \"Teun Mulder\", \"Theo Willems\", \"Tiest van Gestel\", \"Wieger Mensonides\", \"Wietse van Alten\", \"Wim Ruska\", \"Wim van der Kroft\", \"Wim van der Voort\"]], \"y\": [[7, 3, 2, 18, 1, 1, 1, 4, 2, 2, 3, 3, 4, 1, 5, 3, 2, 5, 2, 2, 3, 2, 2, 3, 1, 2, 2, 2, 3, 5, 2, 2, 2, 5, 5, 6, 29, 2, 26, 3, 4, 3, 6, 2, 3, 2, 2, 2, 2, 1, 1, 6, 4, 5, 2, 1, 2, 2, 9, 3, 5, 4, 7, 3, 4, 2, 2, 3, 3, 1, 3, 2, 11, 1, 6, 2, 11, 2, 7, 2, 2, 1, 3, 1, 7, 2, 1, 1, 9], [9, 1, 2, 1, 3, 1, 3, 9, 3, 2, 5, 3, 3, 7, 2, 9, 3, 1, 1, 3, 3, 1, 3, 2, 2, 2, 3, 3, 3, 3, 1, 3, 1, 8, 1, 3, 3, 2, 8, 2, 3, 2, 1, 3, 1, 2, 5, 1, 2, 6, 4, 3, 1, 3, 3, 3, 1, 3, 3, 3, 2, 3, 8, 3, 3, 1, 3, 4, 2, 1, 4, 9, 2, 3, 5, 2, 2, 5, 3, 2, 3, 2, 2, 1, 4, 5, 2, 1, 1, 1, 2, 1, 1, 1, 2, 7, 3, 15, 3, 8, 1, 1, 1, 1, 3, 15, 3, 1, 3, 3, 1, 1, 6, 1, 2]]}], \"label\": \"Vrouwen\", \"method\": \"update\"}], \"direction\": \"right\", \"showactive\": true, \"type\": \"buttons\", \"x\": 0.7, \"y\": 1.2}], \"xaxis\": {\"anchor\": \"y\", \"categoryorder\": \"total descending\", \"domain\": [0.0, 1.0], \"title\": {\"text\": \"persoon\"}}, \"yaxis\": {\"anchor\": \"x\", \"domain\": [0.0, 1.0], \"title\": {\"text\": \"waarde\"}}},\n",
       "                        {\"responsive\": true}\n",
       "                    ).then(function(){\n",
       "                            \n",
       "var gd = document.getElementById('ef7b251f-39d0-4a82-b74a-01de6fd130f7');\n",
       "var x = new MutationObserver(function (mutations, observer) {{\n",
       "        var display = window.getComputedStyle(gd).display;\n",
       "        if (!display || display === 'none') {{\n",
       "            console.log([gd, 'removed!']);\n",
       "            Plotly.purge(gd);\n",
       "            observer.disconnect();\n",
       "        }}\n",
       "}});\n",
       "\n",
       "// Listen for the removal of the full notebook cells\n",
       "var notebookContainer = gd.closest('#notebook-container');\n",
       "if (notebookContainer) {{\n",
       "    x.observe(notebookContainer, {childList: true});\n",
       "}}\n",
       "\n",
       "// Listen for the clearing of the current output cell\n",
       "var outputEl = gd.closest('.output');\n",
       "if (outputEl) {{\n",
       "    x.observe(outputEl, {childList: true});\n",
       "}}\n",
       "\n",
       "                        })\n",
       "                };\n",
       "                });\n",
       "            </script>\n",
       "        </div>"
      ]
     },
     "metadata": {},
     "output_type": "display_data"
    }
   ],
   "source": [
    "import plotly.express as px\n",
    "\n",
    "vrouwen = df[df.geslacht != 'male']\n",
    "vrouwen = vrouwen.groupby(by=[\"persoon\"], as_index=False)['waarde'].sum()\n",
    "mannen = df[df.geslacht != 'female'] \n",
    "mannen = mannen.groupby(by=[\"persoon\"], as_index=False)['waarde'].sum()\n",
    "\n",
    "fig = px.bar(mannen, x='persoon', y='waarde')\n",
    "fig.update_layout(barmode='stack', xaxis={'categoryorder':'total descending'})\n",
    "fig.update_layout(\n",
    "    updatemenus=[\n",
    "        dict(\n",
    "            type=\"buttons\",\n",
    "            direction=\"right\",\n",
    "            x=0.7,\n",
    "            y=1.2,\n",
    "            showactive=True,\n",
    "            buttons=list(\n",
    "                [\n",
    "                    dict(\n",
    "                        label=\"Mannen\",\n",
    "                        method=\"update\",\n",
    "                        args=[{\"y\": [mannen[\"waarde\"], vrouwen[\"waarde\"]], \"x\": [mannen[\"persoon\"], vrouwen[\"persoon\"]]}],\n",
    "                        \n",
    "                    ),\n",
    "                    dict(\n",
    "                        label=\"Vrouwen\",\n",
    "                        method=\"update\",\n",
    "                        args=[{\"y\": [vrouwen[\"waarde\"], mannen[\"waarde\"]], \"x\": [vrouwen[\"persoon\"], mannen[\"persoon\"]]}],\n",
    "                    ),\n",
    "                ]\n",
    "            ),\n",
    "        )\n",
    "    ]\n",
    ")\n",
    "\n",
    "\n",
    "fig.show()"
   ]
  },
  {
   "cell_type": "markdown",
   "metadata": {},
   "source": [
    "### Sporten door de tijd\n",
    "\n",
    "In het plaatje hieronder is te zien hoeveel medailles (en ook welke medailles) Nederlandse sporters hebben gewonnen door de jaren heen.\n"
   ]
  },
  {
   "cell_type": "code",
   "execution_count": 16,
   "metadata": {},
   "outputs": [
    {
     "data": {
      "application/vnd.plotly.v1+json": {
       "config": {
        "plotlyServerURL": "https://plot.ly"
       },
       "data": [
        {
         "hoverinfo": "y",
         "marker": {
          "color": "darkgoldenrod"
         },
         "name": "Bronzen medailles",
         "type": "bar",
         "x": [
          "1900",
          "1920",
          "1924",
          "1928",
          "1936",
          "1948",
          "1960",
          "1964",
          "1968",
          "1972",
          "1976",
          "1980",
          "1984",
          "1988",
          "1992",
          "1994",
          "1996",
          "1998",
          "2000",
          "2004",
          "2006",
          "2008",
          "2010",
          "2012",
          "2014"
         ],
         "y": [
          6,
          6,
          4,
          4,
          3,
          5,
          3,
          4,
          3,
          2,
          5,
          4,
          4,
          3,
          2,
          3,
          4,
          3,
          7,
          11,
          8,
          1,
          6,
          6,
          7
         ]
        },
        {
         "hoverinfo": "y",
         "marker": {
          "color": "silver"
         },
         "name": "Zilveren medailles",
         "type": "bar",
         "x": [
          "1920",
          "1924",
          "1928",
          "1936",
          "1964",
          "1968",
          "1972",
          "1976",
          "1980",
          "1984",
          "1988",
          "1992",
          "1996",
          "1998",
          "2000",
          "2002",
          "2004",
          "2006",
          "2008",
          "2010",
          "2012",
          "2014",
          "2016",
          "2018"
         ],
         "y": [
          3,
          6,
          2,
          2,
          9,
          2,
          6,
          3,
          4,
          3,
          2,
          4,
          4,
          3,
          1,
          7,
          4,
          14,
          6,
          10,
          2,
          3,
          1,
          9,
          6,
          2
         ]
        },
        {
         "hoverinfo": "y",
         "marker": {
          "color": "gold"
         },
         "name": "Gouden medailles",
         "type": "bar",
         "x": [
          "1920",
          "1924",
          "1928",
          "1936",
          "1964",
          "1968",
          "1972",
          "1976",
          "1980",
          "1984",
          "1988",
          "1992",
          "1996",
          "1998",
          "2000",
          "2002",
          "2004",
          "2006",
          "2008",
          "2010",
          "2012",
          "2014",
          "2016",
          "2018"
         ],
         "y": [
          8,
          6,
          7,
          8,
          5,
          8,
          7,
          1,
          2,
          2,
          4,
          1,
          1,
          5,
          10,
          3,
          4,
          3,
          9,
          4,
          5,
          13,
          1,
          1
         ]
        }
       ],
       "layout": {
        "barmode": "stack",
        "template": {
         "data": {
          "bar": [
           {
            "error_x": {
             "color": "#2a3f5f"
            },
            "error_y": {
             "color": "#2a3f5f"
            },
            "marker": {
             "line": {
              "color": "#E5ECF6",
              "width": 0.5
             }
            },
            "type": "bar"
           }
          ],
          "barpolar": [
           {
            "marker": {
             "line": {
              "color": "#E5ECF6",
              "width": 0.5
             }
            },
            "type": "barpolar"
           }
          ],
          "carpet": [
           {
            "aaxis": {
             "endlinecolor": "#2a3f5f",
             "gridcolor": "white",
             "linecolor": "white",
             "minorgridcolor": "white",
             "startlinecolor": "#2a3f5f"
            },
            "baxis": {
             "endlinecolor": "#2a3f5f",
             "gridcolor": "white",
             "linecolor": "white",
             "minorgridcolor": "white",
             "startlinecolor": "#2a3f5f"
            },
            "type": "carpet"
           }
          ],
          "choropleth": [
           {
            "colorbar": {
             "outlinewidth": 0,
             "ticks": ""
            },
            "type": "choropleth"
           }
          ],
          "contour": [
           {
            "colorbar": {
             "outlinewidth": 0,
             "ticks": ""
            },
            "colorscale": [
             [
              0,
              "#0d0887"
             ],
             [
              0.1111111111111111,
              "#46039f"
             ],
             [
              0.2222222222222222,
              "#7201a8"
             ],
             [
              0.3333333333333333,
              "#9c179e"
             ],
             [
              0.4444444444444444,
              "#bd3786"
             ],
             [
              0.5555555555555556,
              "#d8576b"
             ],
             [
              0.6666666666666666,
              "#ed7953"
             ],
             [
              0.7777777777777778,
              "#fb9f3a"
             ],
             [
              0.8888888888888888,
              "#fdca26"
             ],
             [
              1,
              "#f0f921"
             ]
            ],
            "type": "contour"
           }
          ],
          "contourcarpet": [
           {
            "colorbar": {
             "outlinewidth": 0,
             "ticks": ""
            },
            "type": "contourcarpet"
           }
          ],
          "heatmap": [
           {
            "colorbar": {
             "outlinewidth": 0,
             "ticks": ""
            },
            "colorscale": [
             [
              0,
              "#0d0887"
             ],
             [
              0.1111111111111111,
              "#46039f"
             ],
             [
              0.2222222222222222,
              "#7201a8"
             ],
             [
              0.3333333333333333,
              "#9c179e"
             ],
             [
              0.4444444444444444,
              "#bd3786"
             ],
             [
              0.5555555555555556,
              "#d8576b"
             ],
             [
              0.6666666666666666,
              "#ed7953"
             ],
             [
              0.7777777777777778,
              "#fb9f3a"
             ],
             [
              0.8888888888888888,
              "#fdca26"
             ],
             [
              1,
              "#f0f921"
             ]
            ],
            "type": "heatmap"
           }
          ],
          "heatmapgl": [
           {
            "colorbar": {
             "outlinewidth": 0,
             "ticks": ""
            },
            "colorscale": [
             [
              0,
              "#0d0887"
             ],
             [
              0.1111111111111111,
              "#46039f"
             ],
             [
              0.2222222222222222,
              "#7201a8"
             ],
             [
              0.3333333333333333,
              "#9c179e"
             ],
             [
              0.4444444444444444,
              "#bd3786"
             ],
             [
              0.5555555555555556,
              "#d8576b"
             ],
             [
              0.6666666666666666,
              "#ed7953"
             ],
             [
              0.7777777777777778,
              "#fb9f3a"
             ],
             [
              0.8888888888888888,
              "#fdca26"
             ],
             [
              1,
              "#f0f921"
             ]
            ],
            "type": "heatmapgl"
           }
          ],
          "histogram": [
           {
            "marker": {
             "colorbar": {
              "outlinewidth": 0,
              "ticks": ""
             }
            },
            "type": "histogram"
           }
          ],
          "histogram2d": [
           {
            "colorbar": {
             "outlinewidth": 0,
             "ticks": ""
            },
            "colorscale": [
             [
              0,
              "#0d0887"
             ],
             [
              0.1111111111111111,
              "#46039f"
             ],
             [
              0.2222222222222222,
              "#7201a8"
             ],
             [
              0.3333333333333333,
              "#9c179e"
             ],
             [
              0.4444444444444444,
              "#bd3786"
             ],
             [
              0.5555555555555556,
              "#d8576b"
             ],
             [
              0.6666666666666666,
              "#ed7953"
             ],
             [
              0.7777777777777778,
              "#fb9f3a"
             ],
             [
              0.8888888888888888,
              "#fdca26"
             ],
             [
              1,
              "#f0f921"
             ]
            ],
            "type": "histogram2d"
           }
          ],
          "histogram2dcontour": [
           {
            "colorbar": {
             "outlinewidth": 0,
             "ticks": ""
            },
            "colorscale": [
             [
              0,
              "#0d0887"
             ],
             [
              0.1111111111111111,
              "#46039f"
             ],
             [
              0.2222222222222222,
              "#7201a8"
             ],
             [
              0.3333333333333333,
              "#9c179e"
             ],
             [
              0.4444444444444444,
              "#bd3786"
             ],
             [
              0.5555555555555556,
              "#d8576b"
             ],
             [
              0.6666666666666666,
              "#ed7953"
             ],
             [
              0.7777777777777778,
              "#fb9f3a"
             ],
             [
              0.8888888888888888,
              "#fdca26"
             ],
             [
              1,
              "#f0f921"
             ]
            ],
            "type": "histogram2dcontour"
           }
          ],
          "mesh3d": [
           {
            "colorbar": {
             "outlinewidth": 0,
             "ticks": ""
            },
            "type": "mesh3d"
           }
          ],
          "parcoords": [
           {
            "line": {
             "colorbar": {
              "outlinewidth": 0,
              "ticks": ""
             }
            },
            "type": "parcoords"
           }
          ],
          "pie": [
           {
            "automargin": true,
            "type": "pie"
           }
          ],
          "scatter": [
           {
            "marker": {
             "colorbar": {
              "outlinewidth": 0,
              "ticks": ""
             }
            },
            "type": "scatter"
           }
          ],
          "scatter3d": [
           {
            "line": {
             "colorbar": {
              "outlinewidth": 0,
              "ticks": ""
             }
            },
            "marker": {
             "colorbar": {
              "outlinewidth": 0,
              "ticks": ""
             }
            },
            "type": "scatter3d"
           }
          ],
          "scattercarpet": [
           {
            "marker": {
             "colorbar": {
              "outlinewidth": 0,
              "ticks": ""
             }
            },
            "type": "scattercarpet"
           }
          ],
          "scattergeo": [
           {
            "marker": {
             "colorbar": {
              "outlinewidth": 0,
              "ticks": ""
             }
            },
            "type": "scattergeo"
           }
          ],
          "scattergl": [
           {
            "marker": {
             "colorbar": {
              "outlinewidth": 0,
              "ticks": ""
             }
            },
            "type": "scattergl"
           }
          ],
          "scattermapbox": [
           {
            "marker": {
             "colorbar": {
              "outlinewidth": 0,
              "ticks": ""
             }
            },
            "type": "scattermapbox"
           }
          ],
          "scatterpolar": [
           {
            "marker": {
             "colorbar": {
              "outlinewidth": 0,
              "ticks": ""
             }
            },
            "type": "scatterpolar"
           }
          ],
          "scatterpolargl": [
           {
            "marker": {
             "colorbar": {
              "outlinewidth": 0,
              "ticks": ""
             }
            },
            "type": "scatterpolargl"
           }
          ],
          "scatterternary": [
           {
            "marker": {
             "colorbar": {
              "outlinewidth": 0,
              "ticks": ""
             }
            },
            "type": "scatterternary"
           }
          ],
          "surface": [
           {
            "colorbar": {
             "outlinewidth": 0,
             "ticks": ""
            },
            "colorscale": [
             [
              0,
              "#0d0887"
             ],
             [
              0.1111111111111111,
              "#46039f"
             ],
             [
              0.2222222222222222,
              "#7201a8"
             ],
             [
              0.3333333333333333,
              "#9c179e"
             ],
             [
              0.4444444444444444,
              "#bd3786"
             ],
             [
              0.5555555555555556,
              "#d8576b"
             ],
             [
              0.6666666666666666,
              "#ed7953"
             ],
             [
              0.7777777777777778,
              "#fb9f3a"
             ],
             [
              0.8888888888888888,
              "#fdca26"
             ],
             [
              1,
              "#f0f921"
             ]
            ],
            "type": "surface"
           }
          ],
          "table": [
           {
            "cells": {
             "fill": {
              "color": "#EBF0F8"
             },
             "line": {
              "color": "white"
             }
            },
            "header": {
             "fill": {
              "color": "#C8D4E3"
             },
             "line": {
              "color": "white"
             }
            },
            "type": "table"
           }
          ]
         },
         "layout": {
          "annotationdefaults": {
           "arrowcolor": "#2a3f5f",
           "arrowhead": 0,
           "arrowwidth": 1
          },
          "coloraxis": {
           "colorbar": {
            "outlinewidth": 0,
            "ticks": ""
           }
          },
          "colorscale": {
           "diverging": [
            [
             0,
             "#8e0152"
            ],
            [
             0.1,
             "#c51b7d"
            ],
            [
             0.2,
             "#de77ae"
            ],
            [
             0.3,
             "#f1b6da"
            ],
            [
             0.4,
             "#fde0ef"
            ],
            [
             0.5,
             "#f7f7f7"
            ],
            [
             0.6,
             "#e6f5d0"
            ],
            [
             0.7,
             "#b8e186"
            ],
            [
             0.8,
             "#7fbc41"
            ],
            [
             0.9,
             "#4d9221"
            ],
            [
             1,
             "#276419"
            ]
           ],
           "sequential": [
            [
             0,
             "#0d0887"
            ],
            [
             0.1111111111111111,
             "#46039f"
            ],
            [
             0.2222222222222222,
             "#7201a8"
            ],
            [
             0.3333333333333333,
             "#9c179e"
            ],
            [
             0.4444444444444444,
             "#bd3786"
            ],
            [
             0.5555555555555556,
             "#d8576b"
            ],
            [
             0.6666666666666666,
             "#ed7953"
            ],
            [
             0.7777777777777778,
             "#fb9f3a"
            ],
            [
             0.8888888888888888,
             "#fdca26"
            ],
            [
             1,
             "#f0f921"
            ]
           ],
           "sequentialminus": [
            [
             0,
             "#0d0887"
            ],
            [
             0.1111111111111111,
             "#46039f"
            ],
            [
             0.2222222222222222,
             "#7201a8"
            ],
            [
             0.3333333333333333,
             "#9c179e"
            ],
            [
             0.4444444444444444,
             "#bd3786"
            ],
            [
             0.5555555555555556,
             "#d8576b"
            ],
            [
             0.6666666666666666,
             "#ed7953"
            ],
            [
             0.7777777777777778,
             "#fb9f3a"
            ],
            [
             0.8888888888888888,
             "#fdca26"
            ],
            [
             1,
             "#f0f921"
            ]
           ]
          },
          "colorway": [
           "#636efa",
           "#EF553B",
           "#00cc96",
           "#ab63fa",
           "#FFA15A",
           "#19d3f3",
           "#FF6692",
           "#B6E880",
           "#FF97FF",
           "#FECB52"
          ],
          "font": {
           "color": "#2a3f5f"
          },
          "geo": {
           "bgcolor": "white",
           "lakecolor": "white",
           "landcolor": "#E5ECF6",
           "showlakes": true,
           "showland": true,
           "subunitcolor": "white"
          },
          "hoverlabel": {
           "align": "left"
          },
          "hovermode": "closest",
          "mapbox": {
           "style": "light"
          },
          "paper_bgcolor": "white",
          "plot_bgcolor": "#E5ECF6",
          "polar": {
           "angularaxis": {
            "gridcolor": "white",
            "linecolor": "white",
            "ticks": ""
           },
           "bgcolor": "#E5ECF6",
           "radialaxis": {
            "gridcolor": "white",
            "linecolor": "white",
            "ticks": ""
           }
          },
          "scene": {
           "xaxis": {
            "backgroundcolor": "#E5ECF6",
            "gridcolor": "white",
            "gridwidth": 2,
            "linecolor": "white",
            "showbackground": true,
            "ticks": "",
            "zerolinecolor": "white"
           },
           "yaxis": {
            "backgroundcolor": "#E5ECF6",
            "gridcolor": "white",
            "gridwidth": 2,
            "linecolor": "white",
            "showbackground": true,
            "ticks": "",
            "zerolinecolor": "white"
           },
           "zaxis": {
            "backgroundcolor": "#E5ECF6",
            "gridcolor": "white",
            "gridwidth": 2,
            "linecolor": "white",
            "showbackground": true,
            "ticks": "",
            "zerolinecolor": "white"
           }
          },
          "shapedefaults": {
           "line": {
            "color": "#2a3f5f"
           }
          },
          "ternary": {
           "aaxis": {
            "gridcolor": "white",
            "linecolor": "white",
            "ticks": ""
           },
           "baxis": {
            "gridcolor": "white",
            "linecolor": "white",
            "ticks": ""
           },
           "bgcolor": "#E5ECF6",
           "caxis": {
            "gridcolor": "white",
            "linecolor": "white",
            "ticks": ""
           }
          },
          "title": {
           "x": 0.05
          },
          "xaxis": {
           "automargin": true,
           "gridcolor": "white",
           "linecolor": "white",
           "ticks": "",
           "title": {
            "standoff": 15
           },
           "zerolinecolor": "white",
           "zerolinewidth": 2
          },
          "yaxis": {
           "automargin": true,
           "gridcolor": "white",
           "linecolor": "white",
           "ticks": "",
           "title": {
            "standoff": 15
           },
           "zerolinecolor": "white",
           "zerolinewidth": 2
          }
         }
        }
       }
      },
      "text/html": [
       "<div>\n",
       "        \n",
       "        \n",
       "            <div id=\"af7d94c8-0243-4002-8f5b-522739decf86\" class=\"plotly-graph-div\" style=\"height:525px; width:100%;\"></div>\n",
       "            <script type=\"text/javascript\">\n",
       "                require([\"plotly\"], function(Plotly) {\n",
       "                    window.PLOTLYENV=window.PLOTLYENV || {};\n",
       "                    \n",
       "                if (document.getElementById(\"af7d94c8-0243-4002-8f5b-522739decf86\")) {\n",
       "                    Plotly.newPlot(\n",
       "                        'af7d94c8-0243-4002-8f5b-522739decf86',\n",
       "                        [{\"hoverinfo\": \"y\", \"marker\": {\"color\": \"darkgoldenrod\"}, \"name\": \"Bronzen medailles\", \"type\": \"bar\", \"x\": [\"1900\", \"1920\", \"1924\", \"1928\", \"1936\", \"1948\", \"1960\", \"1964\", \"1968\", \"1972\", \"1976\", \"1980\", \"1984\", \"1988\", \"1992\", \"1994\", \"1996\", \"1998\", \"2000\", \"2004\", \"2006\", \"2008\", \"2010\", \"2012\", \"2014\"], \"y\": [6, 6, 4, 4, 3, 5, 3, 4, 3, 2, 5, 4, 4, 3, 2, 3, 4, 3, 7, 11, 8, 1, 6, 6, 7]}, {\"hoverinfo\": \"y\", \"marker\": {\"color\": \"silver\"}, \"name\": \"Zilveren medailles\", \"type\": \"bar\", \"x\": [\"1920\", \"1924\", \"1928\", \"1936\", \"1964\", \"1968\", \"1972\", \"1976\", \"1980\", \"1984\", \"1988\", \"1992\", \"1996\", \"1998\", \"2000\", \"2002\", \"2004\", \"2006\", \"2008\", \"2010\", \"2012\", \"2014\", \"2016\", \"2018\"], \"y\": [3, 6, 2, 2, 9, 2, 6, 3, 4, 3, 2, 4, 4, 3, 1, 7, 4, 14, 6, 10, 2, 3, 1, 9, 6, 2]}, {\"hoverinfo\": \"y\", \"marker\": {\"color\": \"gold\"}, \"name\": \"Gouden medailles\", \"type\": \"bar\", \"x\": [\"1920\", \"1924\", \"1928\", \"1936\", \"1964\", \"1968\", \"1972\", \"1976\", \"1980\", \"1984\", \"1988\", \"1992\", \"1996\", \"1998\", \"2000\", \"2002\", \"2004\", \"2006\", \"2008\", \"2010\", \"2012\", \"2014\", \"2016\", \"2018\"], \"y\": [8, 6, 7, 8, 5, 8, 7, 1, 2, 2, 4, 1, 1, 5, 10, 3, 4, 3, 9, 4, 5, 13, 1, 1]}],\n",
       "                        {\"barmode\": \"stack\", \"template\": {\"data\": {\"bar\": [{\"error_x\": {\"color\": \"#2a3f5f\"}, \"error_y\": {\"color\": \"#2a3f5f\"}, \"marker\": {\"line\": {\"color\": \"#E5ECF6\", \"width\": 0.5}}, \"type\": \"bar\"}], \"barpolar\": [{\"marker\": {\"line\": {\"color\": \"#E5ECF6\", \"width\": 0.5}}, \"type\": \"barpolar\"}], \"carpet\": [{\"aaxis\": {\"endlinecolor\": \"#2a3f5f\", \"gridcolor\": \"white\", \"linecolor\": \"white\", \"minorgridcolor\": \"white\", \"startlinecolor\": \"#2a3f5f\"}, \"baxis\": {\"endlinecolor\": \"#2a3f5f\", \"gridcolor\": \"white\", \"linecolor\": \"white\", \"minorgridcolor\": \"white\", \"startlinecolor\": \"#2a3f5f\"}, \"type\": \"carpet\"}], \"choropleth\": [{\"colorbar\": {\"outlinewidth\": 0, \"ticks\": \"\"}, \"type\": \"choropleth\"}], \"contour\": [{\"colorbar\": {\"outlinewidth\": 0, \"ticks\": \"\"}, \"colorscale\": [[0.0, \"#0d0887\"], [0.1111111111111111, \"#46039f\"], [0.2222222222222222, \"#7201a8\"], [0.3333333333333333, \"#9c179e\"], [0.4444444444444444, \"#bd3786\"], [0.5555555555555556, \"#d8576b\"], [0.6666666666666666, \"#ed7953\"], [0.7777777777777778, \"#fb9f3a\"], [0.8888888888888888, \"#fdca26\"], [1.0, \"#f0f921\"]], \"type\": \"contour\"}], \"contourcarpet\": [{\"colorbar\": {\"outlinewidth\": 0, \"ticks\": \"\"}, \"type\": \"contourcarpet\"}], \"heatmap\": [{\"colorbar\": {\"outlinewidth\": 0, \"ticks\": \"\"}, \"colorscale\": [[0.0, \"#0d0887\"], [0.1111111111111111, \"#46039f\"], [0.2222222222222222, \"#7201a8\"], [0.3333333333333333, \"#9c179e\"], [0.4444444444444444, \"#bd3786\"], [0.5555555555555556, \"#d8576b\"], [0.6666666666666666, \"#ed7953\"], [0.7777777777777778, \"#fb9f3a\"], [0.8888888888888888, \"#fdca26\"], [1.0, \"#f0f921\"]], \"type\": \"heatmap\"}], \"heatmapgl\": [{\"colorbar\": {\"outlinewidth\": 0, \"ticks\": \"\"}, \"colorscale\": [[0.0, \"#0d0887\"], [0.1111111111111111, \"#46039f\"], [0.2222222222222222, \"#7201a8\"], [0.3333333333333333, \"#9c179e\"], [0.4444444444444444, \"#bd3786\"], [0.5555555555555556, \"#d8576b\"], [0.6666666666666666, \"#ed7953\"], [0.7777777777777778, \"#fb9f3a\"], [0.8888888888888888, \"#fdca26\"], [1.0, \"#f0f921\"]], \"type\": \"heatmapgl\"}], \"histogram\": [{\"marker\": {\"colorbar\": {\"outlinewidth\": 0, \"ticks\": \"\"}}, \"type\": \"histogram\"}], \"histogram2d\": [{\"colorbar\": {\"outlinewidth\": 0, \"ticks\": \"\"}, \"colorscale\": [[0.0, \"#0d0887\"], [0.1111111111111111, \"#46039f\"], [0.2222222222222222, \"#7201a8\"], [0.3333333333333333, \"#9c179e\"], [0.4444444444444444, \"#bd3786\"], [0.5555555555555556, \"#d8576b\"], [0.6666666666666666, \"#ed7953\"], [0.7777777777777778, \"#fb9f3a\"], [0.8888888888888888, \"#fdca26\"], [1.0, \"#f0f921\"]], \"type\": \"histogram2d\"}], \"histogram2dcontour\": [{\"colorbar\": {\"outlinewidth\": 0, \"ticks\": \"\"}, \"colorscale\": [[0.0, \"#0d0887\"], [0.1111111111111111, \"#46039f\"], [0.2222222222222222, \"#7201a8\"], [0.3333333333333333, \"#9c179e\"], [0.4444444444444444, \"#bd3786\"], [0.5555555555555556, \"#d8576b\"], [0.6666666666666666, \"#ed7953\"], [0.7777777777777778, \"#fb9f3a\"], [0.8888888888888888, \"#fdca26\"], [1.0, \"#f0f921\"]], \"type\": \"histogram2dcontour\"}], \"mesh3d\": [{\"colorbar\": {\"outlinewidth\": 0, \"ticks\": \"\"}, \"type\": \"mesh3d\"}], \"parcoords\": [{\"line\": {\"colorbar\": {\"outlinewidth\": 0, \"ticks\": \"\"}}, \"type\": \"parcoords\"}], \"pie\": [{\"automargin\": true, \"type\": \"pie\"}], \"scatter\": [{\"marker\": {\"colorbar\": {\"outlinewidth\": 0, \"ticks\": \"\"}}, \"type\": \"scatter\"}], \"scatter3d\": [{\"line\": {\"colorbar\": {\"outlinewidth\": 0, \"ticks\": \"\"}}, \"marker\": {\"colorbar\": {\"outlinewidth\": 0, \"ticks\": \"\"}}, \"type\": \"scatter3d\"}], \"scattercarpet\": [{\"marker\": {\"colorbar\": {\"outlinewidth\": 0, \"ticks\": \"\"}}, \"type\": \"scattercarpet\"}], \"scattergeo\": [{\"marker\": {\"colorbar\": {\"outlinewidth\": 0, \"ticks\": \"\"}}, \"type\": \"scattergeo\"}], \"scattergl\": [{\"marker\": {\"colorbar\": {\"outlinewidth\": 0, \"ticks\": \"\"}}, \"type\": \"scattergl\"}], \"scattermapbox\": [{\"marker\": {\"colorbar\": {\"outlinewidth\": 0, \"ticks\": \"\"}}, \"type\": \"scattermapbox\"}], \"scatterpolar\": [{\"marker\": {\"colorbar\": {\"outlinewidth\": 0, \"ticks\": \"\"}}, \"type\": \"scatterpolar\"}], \"scatterpolargl\": [{\"marker\": {\"colorbar\": {\"outlinewidth\": 0, \"ticks\": \"\"}}, \"type\": \"scatterpolargl\"}], \"scatterternary\": [{\"marker\": {\"colorbar\": {\"outlinewidth\": 0, \"ticks\": \"\"}}, \"type\": \"scatterternary\"}], \"surface\": [{\"colorbar\": {\"outlinewidth\": 0, \"ticks\": \"\"}, \"colorscale\": [[0.0, \"#0d0887\"], [0.1111111111111111, \"#46039f\"], [0.2222222222222222, \"#7201a8\"], [0.3333333333333333, \"#9c179e\"], [0.4444444444444444, \"#bd3786\"], [0.5555555555555556, \"#d8576b\"], [0.6666666666666666, \"#ed7953\"], [0.7777777777777778, \"#fb9f3a\"], [0.8888888888888888, \"#fdca26\"], [1.0, \"#f0f921\"]], \"type\": \"surface\"}], \"table\": [{\"cells\": {\"fill\": {\"color\": \"#EBF0F8\"}, \"line\": {\"color\": \"white\"}}, \"header\": {\"fill\": {\"color\": \"#C8D4E3\"}, \"line\": {\"color\": \"white\"}}, \"type\": \"table\"}]}, \"layout\": {\"annotationdefaults\": {\"arrowcolor\": \"#2a3f5f\", \"arrowhead\": 0, \"arrowwidth\": 1}, \"coloraxis\": {\"colorbar\": {\"outlinewidth\": 0, \"ticks\": \"\"}}, \"colorscale\": {\"diverging\": [[0, \"#8e0152\"], [0.1, \"#c51b7d\"], [0.2, \"#de77ae\"], [0.3, \"#f1b6da\"], [0.4, \"#fde0ef\"], [0.5, \"#f7f7f7\"], [0.6, \"#e6f5d0\"], [0.7, \"#b8e186\"], [0.8, \"#7fbc41\"], [0.9, \"#4d9221\"], [1, \"#276419\"]], \"sequential\": [[0.0, \"#0d0887\"], [0.1111111111111111, \"#46039f\"], [0.2222222222222222, \"#7201a8\"], [0.3333333333333333, \"#9c179e\"], [0.4444444444444444, \"#bd3786\"], [0.5555555555555556, \"#d8576b\"], [0.6666666666666666, \"#ed7953\"], [0.7777777777777778, \"#fb9f3a\"], [0.8888888888888888, \"#fdca26\"], [1.0, \"#f0f921\"]], \"sequentialminus\": [[0.0, \"#0d0887\"], [0.1111111111111111, \"#46039f\"], [0.2222222222222222, \"#7201a8\"], [0.3333333333333333, \"#9c179e\"], [0.4444444444444444, \"#bd3786\"], [0.5555555555555556, \"#d8576b\"], [0.6666666666666666, \"#ed7953\"], [0.7777777777777778, \"#fb9f3a\"], [0.8888888888888888, \"#fdca26\"], [1.0, \"#f0f921\"]]}, \"colorway\": [\"#636efa\", \"#EF553B\", \"#00cc96\", \"#ab63fa\", \"#FFA15A\", \"#19d3f3\", \"#FF6692\", \"#B6E880\", \"#FF97FF\", \"#FECB52\"], \"font\": {\"color\": \"#2a3f5f\"}, \"geo\": {\"bgcolor\": \"white\", \"lakecolor\": \"white\", \"landcolor\": \"#E5ECF6\", \"showlakes\": true, \"showland\": true, \"subunitcolor\": \"white\"}, \"hoverlabel\": {\"align\": \"left\"}, \"hovermode\": \"closest\", \"mapbox\": {\"style\": \"light\"}, \"paper_bgcolor\": \"white\", \"plot_bgcolor\": \"#E5ECF6\", \"polar\": {\"angularaxis\": {\"gridcolor\": \"white\", \"linecolor\": \"white\", \"ticks\": \"\"}, \"bgcolor\": \"#E5ECF6\", \"radialaxis\": {\"gridcolor\": \"white\", \"linecolor\": \"white\", \"ticks\": \"\"}}, \"scene\": {\"xaxis\": {\"backgroundcolor\": \"#E5ECF6\", \"gridcolor\": \"white\", \"gridwidth\": 2, \"linecolor\": \"white\", \"showbackground\": true, \"ticks\": \"\", \"zerolinecolor\": \"white\"}, \"yaxis\": {\"backgroundcolor\": \"#E5ECF6\", \"gridcolor\": \"white\", \"gridwidth\": 2, \"linecolor\": \"white\", \"showbackground\": true, \"ticks\": \"\", \"zerolinecolor\": \"white\"}, \"zaxis\": {\"backgroundcolor\": \"#E5ECF6\", \"gridcolor\": \"white\", \"gridwidth\": 2, \"linecolor\": \"white\", \"showbackground\": true, \"ticks\": \"\", \"zerolinecolor\": \"white\"}}, \"shapedefaults\": {\"line\": {\"color\": \"#2a3f5f\"}}, \"ternary\": {\"aaxis\": {\"gridcolor\": \"white\", \"linecolor\": \"white\", \"ticks\": \"\"}, \"baxis\": {\"gridcolor\": \"white\", \"linecolor\": \"white\", \"ticks\": \"\"}, \"bgcolor\": \"#E5ECF6\", \"caxis\": {\"gridcolor\": \"white\", \"linecolor\": \"white\", \"ticks\": \"\"}}, \"title\": {\"x\": 0.05}, \"xaxis\": {\"automargin\": true, \"gridcolor\": \"white\", \"linecolor\": \"white\", \"ticks\": \"\", \"title\": {\"standoff\": 15}, \"zerolinecolor\": \"white\", \"zerolinewidth\": 2}, \"yaxis\": {\"automargin\": true, \"gridcolor\": \"white\", \"linecolor\": \"white\", \"ticks\": \"\", \"title\": {\"standoff\": 15}, \"zerolinecolor\": \"white\", \"zerolinewidth\": 2}}}},\n",
       "                        {\"responsive\": true}\n",
       "                    ).then(function(){\n",
       "                            \n",
       "var gd = document.getElementById('af7d94c8-0243-4002-8f5b-522739decf86');\n",
       "var x = new MutationObserver(function (mutations, observer) {{\n",
       "        var display = window.getComputedStyle(gd).display;\n",
       "        if (!display || display === 'none') {{\n",
       "            console.log([gd, 'removed!']);\n",
       "            Plotly.purge(gd);\n",
       "            observer.disconnect();\n",
       "        }}\n",
       "}});\n",
       "\n",
       "// Listen for the removal of the full notebook cells\n",
       "var notebookContainer = gd.closest('#notebook-container');\n",
       "if (notebookContainer) {{\n",
       "    x.observe(notebookContainer, {childList: true});\n",
       "}}\n",
       "\n",
       "// Listen for the clearing of the current output cell\n",
       "var outputEl = gd.closest('.output');\n",
       "if (outputEl) {{\n",
       "    x.observe(outputEl, {childList: true});\n",
       "}}\n",
       "\n",
       "                        })\n",
       "                };\n",
       "                });\n",
       "            </script>\n",
       "        </div>"
      ]
     },
     "metadata": {},
     "output_type": "display_data"
    }
   ],
   "source": [
    "import plotly.graph_objs as go\n",
    "\n",
    "df_goud = df[df['medaille']=='Olympic gold medal'].groupby(by=[\"tijd\"], as_index=False)['medaille'].count()\n",
    "df_zilver = df[df['medaille']=='Olympic silver medal'].groupby(by=[\"tijd\"], as_index=False)['medaille'].count()\n",
    "df_brons = df[df['medaille']=='Olympic bronze medal'].groupby(by=[\"tijd\"], as_index=False)['medaille'].count()\n",
    "\n",
    "colors = ['gold', 'silver', 'darkgoldenrod']\n",
    "\n",
    "data = [go.Bar(\n",
    "        name = 'Bronzen medailles',\n",
    "        y=df_brons['medaille'],\n",
    "        x=df_brons['tijd'],\n",
    "        hoverinfo='y',\n",
    "        marker_color=colors[2]\n",
    "),\n",
    "        go.Bar(\n",
    "        name = 'Zilveren medailles',\n",
    "        y=df_zilver['medaille'],\n",
    "        x=df_goud['tijd'],\n",
    "        hoverinfo='y',\n",
    "        marker_color=colors[1]\n",
    "),\n",
    "        go.Bar(\n",
    "        name = 'Gouden medailles',\n",
    "        y=df_goud['medaille'],\n",
    "        x=df_goud['tijd'],\n",
    "        hoverinfo='y',\n",
    "        marker_color=colors[0]\n",
    ")]\n",
    "fig = go.Figure(data=data)\n",
    "\n",
    "fig.update_layout(barmode='stack')\n",
    "fig.show()\n"
   ]
  },
  {
   "cell_type": "markdown",
   "metadata": {},
   "source": [
    "### Nederlands' Beste Sporten\n",
    "\n",
    "Verder hebben we genoemd dat we willen kijken in welke sport Nederland nou eigenlijk de beste is. Onderstaand is een barchart te zien van sporten waarin Nederland goed in is geweest over de jaren heen. Zoals je ziet staan zwemmen en schaatsen vooraan. Ideaal zou dus zijn om een olympische spelen te bezoeken waar veel van deze evenementen zullen zijn."
   ]
  },
  {
   "cell_type": "code",
   "execution_count": 17,
   "metadata": {},
   "outputs": [
    {
     "data": {
      "application/vnd.plotly.v1+json": {
       "config": {
        "plotlyServerURL": "https://plot.ly"
       },
       "data": [
        {
         "hoverinfo": "y",
         "marker": {
          "color": "darkgoldenrod"
         },
         "name": "Bronzen medailles",
         "type": "bar",
         "x": [
          "BMX",
          "archery",
          "boxing",
          "canoeing and kayaking",
          "equestrian sport",
          "fencing",
          "judo",
          "long track speed skating",
          "shooting sport",
          "short track speed skating",
          "speed skating",
          "swimming",
          "tennis",
          "track cycling"
         ],
         "y": [
          1,
          1,
          1,
          6,
          7,
          4,
          4,
          24,
          5,
          1,
          15,
          36,
          1,
          7
         ]
        },
        {
         "hoverinfo": "y",
         "marker": {
          "color": "silver"
         },
         "name": "Zilveren medailles",
         "type": "bar",
         "x": [
          "badminton",
          "canoeing and kayaking",
          "equestrian sport",
          "figure skating",
          "judo",
          "long track speed skating",
          "road bicycle racing",
          "shooting sport",
          "speed skating",
          "swimming",
          "tennis",
          "track cycling"
         ],
         "y": [
          2,
          2,
          17,
          1,
          2,
          19,
          2,
          1,
          17,
          42,
          2,
          9
         ]
        },
        {
         "hoverinfo": "y",
         "marker": {
          "color": "gold"
         },
         "name": "Gouden medailles",
         "type": "bar",
         "x": [
          "archery",
          "artistic gymnastics",
          "boxing",
          "cycle sport",
          "equestrian sport",
          "field hockey",
          "judo",
          "long track speed skating",
          "road bicycle racing",
          "snowboarding",
          "speed skating",
          "swimming",
          "track cycling"
         ],
         "y": [
          8,
          1,
          1,
          1,
          14,
          1,
          4,
          30,
          9,
          1,
          13,
          27,
          5
         ]
        }
       ],
       "layout": {
        "barmode": "stack",
        "template": {
         "data": {
          "bar": [
           {
            "error_x": {
             "color": "#2a3f5f"
            },
            "error_y": {
             "color": "#2a3f5f"
            },
            "marker": {
             "line": {
              "color": "#E5ECF6",
              "width": 0.5
             }
            },
            "type": "bar"
           }
          ],
          "barpolar": [
           {
            "marker": {
             "line": {
              "color": "#E5ECF6",
              "width": 0.5
             }
            },
            "type": "barpolar"
           }
          ],
          "carpet": [
           {
            "aaxis": {
             "endlinecolor": "#2a3f5f",
             "gridcolor": "white",
             "linecolor": "white",
             "minorgridcolor": "white",
             "startlinecolor": "#2a3f5f"
            },
            "baxis": {
             "endlinecolor": "#2a3f5f",
             "gridcolor": "white",
             "linecolor": "white",
             "minorgridcolor": "white",
             "startlinecolor": "#2a3f5f"
            },
            "type": "carpet"
           }
          ],
          "choropleth": [
           {
            "colorbar": {
             "outlinewidth": 0,
             "ticks": ""
            },
            "type": "choropleth"
           }
          ],
          "contour": [
           {
            "colorbar": {
             "outlinewidth": 0,
             "ticks": ""
            },
            "colorscale": [
             [
              0,
              "#0d0887"
             ],
             [
              0.1111111111111111,
              "#46039f"
             ],
             [
              0.2222222222222222,
              "#7201a8"
             ],
             [
              0.3333333333333333,
              "#9c179e"
             ],
             [
              0.4444444444444444,
              "#bd3786"
             ],
             [
              0.5555555555555556,
              "#d8576b"
             ],
             [
              0.6666666666666666,
              "#ed7953"
             ],
             [
              0.7777777777777778,
              "#fb9f3a"
             ],
             [
              0.8888888888888888,
              "#fdca26"
             ],
             [
              1,
              "#f0f921"
             ]
            ],
            "type": "contour"
           }
          ],
          "contourcarpet": [
           {
            "colorbar": {
             "outlinewidth": 0,
             "ticks": ""
            },
            "type": "contourcarpet"
           }
          ],
          "heatmap": [
           {
            "colorbar": {
             "outlinewidth": 0,
             "ticks": ""
            },
            "colorscale": [
             [
              0,
              "#0d0887"
             ],
             [
              0.1111111111111111,
              "#46039f"
             ],
             [
              0.2222222222222222,
              "#7201a8"
             ],
             [
              0.3333333333333333,
              "#9c179e"
             ],
             [
              0.4444444444444444,
              "#bd3786"
             ],
             [
              0.5555555555555556,
              "#d8576b"
             ],
             [
              0.6666666666666666,
              "#ed7953"
             ],
             [
              0.7777777777777778,
              "#fb9f3a"
             ],
             [
              0.8888888888888888,
              "#fdca26"
             ],
             [
              1,
              "#f0f921"
             ]
            ],
            "type": "heatmap"
           }
          ],
          "heatmapgl": [
           {
            "colorbar": {
             "outlinewidth": 0,
             "ticks": ""
            },
            "colorscale": [
             [
              0,
              "#0d0887"
             ],
             [
              0.1111111111111111,
              "#46039f"
             ],
             [
              0.2222222222222222,
              "#7201a8"
             ],
             [
              0.3333333333333333,
              "#9c179e"
             ],
             [
              0.4444444444444444,
              "#bd3786"
             ],
             [
              0.5555555555555556,
              "#d8576b"
             ],
             [
              0.6666666666666666,
              "#ed7953"
             ],
             [
              0.7777777777777778,
              "#fb9f3a"
             ],
             [
              0.8888888888888888,
              "#fdca26"
             ],
             [
              1,
              "#f0f921"
             ]
            ],
            "type": "heatmapgl"
           }
          ],
          "histogram": [
           {
            "marker": {
             "colorbar": {
              "outlinewidth": 0,
              "ticks": ""
             }
            },
            "type": "histogram"
           }
          ],
          "histogram2d": [
           {
            "colorbar": {
             "outlinewidth": 0,
             "ticks": ""
            },
            "colorscale": [
             [
              0,
              "#0d0887"
             ],
             [
              0.1111111111111111,
              "#46039f"
             ],
             [
              0.2222222222222222,
              "#7201a8"
             ],
             [
              0.3333333333333333,
              "#9c179e"
             ],
             [
              0.4444444444444444,
              "#bd3786"
             ],
             [
              0.5555555555555556,
              "#d8576b"
             ],
             [
              0.6666666666666666,
              "#ed7953"
             ],
             [
              0.7777777777777778,
              "#fb9f3a"
             ],
             [
              0.8888888888888888,
              "#fdca26"
             ],
             [
              1,
              "#f0f921"
             ]
            ],
            "type": "histogram2d"
           }
          ],
          "histogram2dcontour": [
           {
            "colorbar": {
             "outlinewidth": 0,
             "ticks": ""
            },
            "colorscale": [
             [
              0,
              "#0d0887"
             ],
             [
              0.1111111111111111,
              "#46039f"
             ],
             [
              0.2222222222222222,
              "#7201a8"
             ],
             [
              0.3333333333333333,
              "#9c179e"
             ],
             [
              0.4444444444444444,
              "#bd3786"
             ],
             [
              0.5555555555555556,
              "#d8576b"
             ],
             [
              0.6666666666666666,
              "#ed7953"
             ],
             [
              0.7777777777777778,
              "#fb9f3a"
             ],
             [
              0.8888888888888888,
              "#fdca26"
             ],
             [
              1,
              "#f0f921"
             ]
            ],
            "type": "histogram2dcontour"
           }
          ],
          "mesh3d": [
           {
            "colorbar": {
             "outlinewidth": 0,
             "ticks": ""
            },
            "type": "mesh3d"
           }
          ],
          "parcoords": [
           {
            "line": {
             "colorbar": {
              "outlinewidth": 0,
              "ticks": ""
             }
            },
            "type": "parcoords"
           }
          ],
          "pie": [
           {
            "automargin": true,
            "type": "pie"
           }
          ],
          "scatter": [
           {
            "marker": {
             "colorbar": {
              "outlinewidth": 0,
              "ticks": ""
             }
            },
            "type": "scatter"
           }
          ],
          "scatter3d": [
           {
            "line": {
             "colorbar": {
              "outlinewidth": 0,
              "ticks": ""
             }
            },
            "marker": {
             "colorbar": {
              "outlinewidth": 0,
              "ticks": ""
             }
            },
            "type": "scatter3d"
           }
          ],
          "scattercarpet": [
           {
            "marker": {
             "colorbar": {
              "outlinewidth": 0,
              "ticks": ""
             }
            },
            "type": "scattercarpet"
           }
          ],
          "scattergeo": [
           {
            "marker": {
             "colorbar": {
              "outlinewidth": 0,
              "ticks": ""
             }
            },
            "type": "scattergeo"
           }
          ],
          "scattergl": [
           {
            "marker": {
             "colorbar": {
              "outlinewidth": 0,
              "ticks": ""
             }
            },
            "type": "scattergl"
           }
          ],
          "scattermapbox": [
           {
            "marker": {
             "colorbar": {
              "outlinewidth": 0,
              "ticks": ""
             }
            },
            "type": "scattermapbox"
           }
          ],
          "scatterpolar": [
           {
            "marker": {
             "colorbar": {
              "outlinewidth": 0,
              "ticks": ""
             }
            },
            "type": "scatterpolar"
           }
          ],
          "scatterpolargl": [
           {
            "marker": {
             "colorbar": {
              "outlinewidth": 0,
              "ticks": ""
             }
            },
            "type": "scatterpolargl"
           }
          ],
          "scatterternary": [
           {
            "marker": {
             "colorbar": {
              "outlinewidth": 0,
              "ticks": ""
             }
            },
            "type": "scatterternary"
           }
          ],
          "surface": [
           {
            "colorbar": {
             "outlinewidth": 0,
             "ticks": ""
            },
            "colorscale": [
             [
              0,
              "#0d0887"
             ],
             [
              0.1111111111111111,
              "#46039f"
             ],
             [
              0.2222222222222222,
              "#7201a8"
             ],
             [
              0.3333333333333333,
              "#9c179e"
             ],
             [
              0.4444444444444444,
              "#bd3786"
             ],
             [
              0.5555555555555556,
              "#d8576b"
             ],
             [
              0.6666666666666666,
              "#ed7953"
             ],
             [
              0.7777777777777778,
              "#fb9f3a"
             ],
             [
              0.8888888888888888,
              "#fdca26"
             ],
             [
              1,
              "#f0f921"
             ]
            ],
            "type": "surface"
           }
          ],
          "table": [
           {
            "cells": {
             "fill": {
              "color": "#EBF0F8"
             },
             "line": {
              "color": "white"
             }
            },
            "header": {
             "fill": {
              "color": "#C8D4E3"
             },
             "line": {
              "color": "white"
             }
            },
            "type": "table"
           }
          ]
         },
         "layout": {
          "annotationdefaults": {
           "arrowcolor": "#2a3f5f",
           "arrowhead": 0,
           "arrowwidth": 1
          },
          "coloraxis": {
           "colorbar": {
            "outlinewidth": 0,
            "ticks": ""
           }
          },
          "colorscale": {
           "diverging": [
            [
             0,
             "#8e0152"
            ],
            [
             0.1,
             "#c51b7d"
            ],
            [
             0.2,
             "#de77ae"
            ],
            [
             0.3,
             "#f1b6da"
            ],
            [
             0.4,
             "#fde0ef"
            ],
            [
             0.5,
             "#f7f7f7"
            ],
            [
             0.6,
             "#e6f5d0"
            ],
            [
             0.7,
             "#b8e186"
            ],
            [
             0.8,
             "#7fbc41"
            ],
            [
             0.9,
             "#4d9221"
            ],
            [
             1,
             "#276419"
            ]
           ],
           "sequential": [
            [
             0,
             "#0d0887"
            ],
            [
             0.1111111111111111,
             "#46039f"
            ],
            [
             0.2222222222222222,
             "#7201a8"
            ],
            [
             0.3333333333333333,
             "#9c179e"
            ],
            [
             0.4444444444444444,
             "#bd3786"
            ],
            [
             0.5555555555555556,
             "#d8576b"
            ],
            [
             0.6666666666666666,
             "#ed7953"
            ],
            [
             0.7777777777777778,
             "#fb9f3a"
            ],
            [
             0.8888888888888888,
             "#fdca26"
            ],
            [
             1,
             "#f0f921"
            ]
           ],
           "sequentialminus": [
            [
             0,
             "#0d0887"
            ],
            [
             0.1111111111111111,
             "#46039f"
            ],
            [
             0.2222222222222222,
             "#7201a8"
            ],
            [
             0.3333333333333333,
             "#9c179e"
            ],
            [
             0.4444444444444444,
             "#bd3786"
            ],
            [
             0.5555555555555556,
             "#d8576b"
            ],
            [
             0.6666666666666666,
             "#ed7953"
            ],
            [
             0.7777777777777778,
             "#fb9f3a"
            ],
            [
             0.8888888888888888,
             "#fdca26"
            ],
            [
             1,
             "#f0f921"
            ]
           ]
          },
          "colorway": [
           "#636efa",
           "#EF553B",
           "#00cc96",
           "#ab63fa",
           "#FFA15A",
           "#19d3f3",
           "#FF6692",
           "#B6E880",
           "#FF97FF",
           "#FECB52"
          ],
          "font": {
           "color": "#2a3f5f"
          },
          "geo": {
           "bgcolor": "white",
           "lakecolor": "white",
           "landcolor": "#E5ECF6",
           "showlakes": true,
           "showland": true,
           "subunitcolor": "white"
          },
          "hoverlabel": {
           "align": "left"
          },
          "hovermode": "closest",
          "mapbox": {
           "style": "light"
          },
          "paper_bgcolor": "white",
          "plot_bgcolor": "#E5ECF6",
          "polar": {
           "angularaxis": {
            "gridcolor": "white",
            "linecolor": "white",
            "ticks": ""
           },
           "bgcolor": "#E5ECF6",
           "radialaxis": {
            "gridcolor": "white",
            "linecolor": "white",
            "ticks": ""
           }
          },
          "scene": {
           "xaxis": {
            "backgroundcolor": "#E5ECF6",
            "gridcolor": "white",
            "gridwidth": 2,
            "linecolor": "white",
            "showbackground": true,
            "ticks": "",
            "zerolinecolor": "white"
           },
           "yaxis": {
            "backgroundcolor": "#E5ECF6",
            "gridcolor": "white",
            "gridwidth": 2,
            "linecolor": "white",
            "showbackground": true,
            "ticks": "",
            "zerolinecolor": "white"
           },
           "zaxis": {
            "backgroundcolor": "#E5ECF6",
            "gridcolor": "white",
            "gridwidth": 2,
            "linecolor": "white",
            "showbackground": true,
            "ticks": "",
            "zerolinecolor": "white"
           }
          },
          "shapedefaults": {
           "line": {
            "color": "#2a3f5f"
           }
          },
          "ternary": {
           "aaxis": {
            "gridcolor": "white",
            "linecolor": "white",
            "ticks": ""
           },
           "baxis": {
            "gridcolor": "white",
            "linecolor": "white",
            "ticks": ""
           },
           "bgcolor": "#E5ECF6",
           "caxis": {
            "gridcolor": "white",
            "linecolor": "white",
            "ticks": ""
           }
          },
          "title": {
           "x": 0.05
          },
          "xaxis": {
           "automargin": true,
           "gridcolor": "white",
           "linecolor": "white",
           "ticks": "",
           "title": {
            "standoff": 15
           },
           "zerolinecolor": "white",
           "zerolinewidth": 2
          },
          "yaxis": {
           "automargin": true,
           "gridcolor": "white",
           "linecolor": "white",
           "ticks": "",
           "title": {
            "standoff": 15
           },
           "zerolinecolor": "white",
           "zerolinewidth": 2
          }
         }
        },
        "xaxis": {
         "categoryorder": "total descending"
        }
       }
      },
      "text/html": [
       "<div>\n",
       "        \n",
       "        \n",
       "            <div id=\"c35d9ca1-f8b9-4b00-8dc2-9c45867848c5\" class=\"plotly-graph-div\" style=\"height:525px; width:100%;\"></div>\n",
       "            <script type=\"text/javascript\">\n",
       "                require([\"plotly\"], function(Plotly) {\n",
       "                    window.PLOTLYENV=window.PLOTLYENV || {};\n",
       "                    \n",
       "                if (document.getElementById(\"c35d9ca1-f8b9-4b00-8dc2-9c45867848c5\")) {\n",
       "                    Plotly.newPlot(\n",
       "                        'c35d9ca1-f8b9-4b00-8dc2-9c45867848c5',\n",
       "                        [{\"hoverinfo\": \"y\", \"marker\": {\"color\": \"darkgoldenrod\"}, \"name\": \"Bronzen medailles\", \"type\": \"bar\", \"x\": [\"BMX\", \"archery\", \"boxing\", \"canoeing and kayaking\", \"equestrian sport\", \"fencing\", \"judo\", \"long track speed skating\", \"shooting sport\", \"short track speed skating\", \"speed skating\", \"swimming\", \"tennis\", \"track cycling\"], \"y\": [1, 1, 1, 6, 7, 4, 4, 24, 5, 1, 15, 36, 1, 7]}, {\"hoverinfo\": \"y\", \"marker\": {\"color\": \"silver\"}, \"name\": \"Zilveren medailles\", \"type\": \"bar\", \"x\": [\"badminton\", \"canoeing and kayaking\", \"equestrian sport\", \"figure skating\", \"judo\", \"long track speed skating\", \"road bicycle racing\", \"shooting sport\", \"speed skating\", \"swimming\", \"tennis\", \"track cycling\"], \"y\": [2, 2, 17, 1, 2, 19, 2, 1, 17, 42, 2, 9]}, {\"hoverinfo\": \"y\", \"marker\": {\"color\": \"gold\"}, \"name\": \"Gouden medailles\", \"type\": \"bar\", \"x\": [\"archery\", \"artistic gymnastics\", \"boxing\", \"cycle sport\", \"equestrian sport\", \"field hockey\", \"judo\", \"long track speed skating\", \"road bicycle racing\", \"snowboarding\", \"speed skating\", \"swimming\", \"track cycling\"], \"y\": [8, 1, 1, 1, 14, 1, 4, 30, 9, 1, 13, 27, 5]}],\n",
       "                        {\"barmode\": \"stack\", \"template\": {\"data\": {\"bar\": [{\"error_x\": {\"color\": \"#2a3f5f\"}, \"error_y\": {\"color\": \"#2a3f5f\"}, \"marker\": {\"line\": {\"color\": \"#E5ECF6\", \"width\": 0.5}}, \"type\": \"bar\"}], \"barpolar\": [{\"marker\": {\"line\": {\"color\": \"#E5ECF6\", \"width\": 0.5}}, \"type\": \"barpolar\"}], \"carpet\": [{\"aaxis\": {\"endlinecolor\": \"#2a3f5f\", \"gridcolor\": \"white\", \"linecolor\": \"white\", \"minorgridcolor\": \"white\", \"startlinecolor\": \"#2a3f5f\"}, \"baxis\": {\"endlinecolor\": \"#2a3f5f\", \"gridcolor\": \"white\", \"linecolor\": \"white\", \"minorgridcolor\": \"white\", \"startlinecolor\": \"#2a3f5f\"}, \"type\": \"carpet\"}], \"choropleth\": [{\"colorbar\": {\"outlinewidth\": 0, \"ticks\": \"\"}, \"type\": \"choropleth\"}], \"contour\": [{\"colorbar\": {\"outlinewidth\": 0, \"ticks\": \"\"}, \"colorscale\": [[0.0, \"#0d0887\"], [0.1111111111111111, \"#46039f\"], [0.2222222222222222, \"#7201a8\"], [0.3333333333333333, \"#9c179e\"], [0.4444444444444444, \"#bd3786\"], [0.5555555555555556, \"#d8576b\"], [0.6666666666666666, \"#ed7953\"], [0.7777777777777778, \"#fb9f3a\"], [0.8888888888888888, \"#fdca26\"], [1.0, \"#f0f921\"]], \"type\": \"contour\"}], \"contourcarpet\": [{\"colorbar\": {\"outlinewidth\": 0, \"ticks\": \"\"}, \"type\": \"contourcarpet\"}], \"heatmap\": [{\"colorbar\": {\"outlinewidth\": 0, \"ticks\": \"\"}, \"colorscale\": [[0.0, \"#0d0887\"], [0.1111111111111111, \"#46039f\"], [0.2222222222222222, \"#7201a8\"], [0.3333333333333333, \"#9c179e\"], [0.4444444444444444, \"#bd3786\"], [0.5555555555555556, \"#d8576b\"], [0.6666666666666666, \"#ed7953\"], [0.7777777777777778, \"#fb9f3a\"], [0.8888888888888888, \"#fdca26\"], [1.0, \"#f0f921\"]], \"type\": \"heatmap\"}], \"heatmapgl\": [{\"colorbar\": {\"outlinewidth\": 0, \"ticks\": \"\"}, \"colorscale\": [[0.0, \"#0d0887\"], [0.1111111111111111, \"#46039f\"], [0.2222222222222222, \"#7201a8\"], [0.3333333333333333, \"#9c179e\"], [0.4444444444444444, \"#bd3786\"], [0.5555555555555556, \"#d8576b\"], [0.6666666666666666, \"#ed7953\"], [0.7777777777777778, \"#fb9f3a\"], [0.8888888888888888, \"#fdca26\"], [1.0, \"#f0f921\"]], \"type\": \"heatmapgl\"}], \"histogram\": [{\"marker\": {\"colorbar\": {\"outlinewidth\": 0, \"ticks\": \"\"}}, \"type\": \"histogram\"}], \"histogram2d\": [{\"colorbar\": {\"outlinewidth\": 0, \"ticks\": \"\"}, \"colorscale\": [[0.0, \"#0d0887\"], [0.1111111111111111, \"#46039f\"], [0.2222222222222222, \"#7201a8\"], [0.3333333333333333, \"#9c179e\"], [0.4444444444444444, \"#bd3786\"], [0.5555555555555556, \"#d8576b\"], [0.6666666666666666, \"#ed7953\"], [0.7777777777777778, \"#fb9f3a\"], [0.8888888888888888, \"#fdca26\"], [1.0, \"#f0f921\"]], \"type\": \"histogram2d\"}], \"histogram2dcontour\": [{\"colorbar\": {\"outlinewidth\": 0, \"ticks\": \"\"}, \"colorscale\": [[0.0, \"#0d0887\"], [0.1111111111111111, \"#46039f\"], [0.2222222222222222, \"#7201a8\"], [0.3333333333333333, \"#9c179e\"], [0.4444444444444444, \"#bd3786\"], [0.5555555555555556, \"#d8576b\"], [0.6666666666666666, \"#ed7953\"], [0.7777777777777778, \"#fb9f3a\"], [0.8888888888888888, \"#fdca26\"], [1.0, \"#f0f921\"]], \"type\": \"histogram2dcontour\"}], \"mesh3d\": [{\"colorbar\": {\"outlinewidth\": 0, \"ticks\": \"\"}, \"type\": \"mesh3d\"}], \"parcoords\": [{\"line\": {\"colorbar\": {\"outlinewidth\": 0, \"ticks\": \"\"}}, \"type\": \"parcoords\"}], \"pie\": [{\"automargin\": true, \"type\": \"pie\"}], \"scatter\": [{\"marker\": {\"colorbar\": {\"outlinewidth\": 0, \"ticks\": \"\"}}, \"type\": \"scatter\"}], \"scatter3d\": [{\"line\": {\"colorbar\": {\"outlinewidth\": 0, \"ticks\": \"\"}}, \"marker\": {\"colorbar\": {\"outlinewidth\": 0, \"ticks\": \"\"}}, \"type\": \"scatter3d\"}], \"scattercarpet\": [{\"marker\": {\"colorbar\": {\"outlinewidth\": 0, \"ticks\": \"\"}}, \"type\": \"scattercarpet\"}], \"scattergeo\": [{\"marker\": {\"colorbar\": {\"outlinewidth\": 0, \"ticks\": \"\"}}, \"type\": \"scattergeo\"}], \"scattergl\": [{\"marker\": {\"colorbar\": {\"outlinewidth\": 0, \"ticks\": \"\"}}, \"type\": \"scattergl\"}], \"scattermapbox\": [{\"marker\": {\"colorbar\": {\"outlinewidth\": 0, \"ticks\": \"\"}}, \"type\": \"scattermapbox\"}], \"scatterpolar\": [{\"marker\": {\"colorbar\": {\"outlinewidth\": 0, \"ticks\": \"\"}}, \"type\": \"scatterpolar\"}], \"scatterpolargl\": [{\"marker\": {\"colorbar\": {\"outlinewidth\": 0, \"ticks\": \"\"}}, \"type\": \"scatterpolargl\"}], \"scatterternary\": [{\"marker\": {\"colorbar\": {\"outlinewidth\": 0, \"ticks\": \"\"}}, \"type\": \"scatterternary\"}], \"surface\": [{\"colorbar\": {\"outlinewidth\": 0, \"ticks\": \"\"}, \"colorscale\": [[0.0, \"#0d0887\"], [0.1111111111111111, \"#46039f\"], [0.2222222222222222, \"#7201a8\"], [0.3333333333333333, \"#9c179e\"], [0.4444444444444444, \"#bd3786\"], [0.5555555555555556, \"#d8576b\"], [0.6666666666666666, \"#ed7953\"], [0.7777777777777778, \"#fb9f3a\"], [0.8888888888888888, \"#fdca26\"], [1.0, \"#f0f921\"]], \"type\": \"surface\"}], \"table\": [{\"cells\": {\"fill\": {\"color\": \"#EBF0F8\"}, \"line\": {\"color\": \"white\"}}, \"header\": {\"fill\": {\"color\": \"#C8D4E3\"}, \"line\": {\"color\": \"white\"}}, \"type\": \"table\"}]}, \"layout\": {\"annotationdefaults\": {\"arrowcolor\": \"#2a3f5f\", \"arrowhead\": 0, \"arrowwidth\": 1}, \"coloraxis\": {\"colorbar\": {\"outlinewidth\": 0, \"ticks\": \"\"}}, \"colorscale\": {\"diverging\": [[0, \"#8e0152\"], [0.1, \"#c51b7d\"], [0.2, \"#de77ae\"], [0.3, \"#f1b6da\"], [0.4, \"#fde0ef\"], [0.5, \"#f7f7f7\"], [0.6, \"#e6f5d0\"], [0.7, \"#b8e186\"], [0.8, \"#7fbc41\"], [0.9, \"#4d9221\"], [1, \"#276419\"]], \"sequential\": [[0.0, \"#0d0887\"], [0.1111111111111111, \"#46039f\"], [0.2222222222222222, \"#7201a8\"], [0.3333333333333333, \"#9c179e\"], [0.4444444444444444, \"#bd3786\"], [0.5555555555555556, \"#d8576b\"], [0.6666666666666666, \"#ed7953\"], [0.7777777777777778, \"#fb9f3a\"], [0.8888888888888888, \"#fdca26\"], [1.0, \"#f0f921\"]], \"sequentialminus\": [[0.0, \"#0d0887\"], [0.1111111111111111, \"#46039f\"], [0.2222222222222222, \"#7201a8\"], [0.3333333333333333, \"#9c179e\"], [0.4444444444444444, \"#bd3786\"], [0.5555555555555556, \"#d8576b\"], [0.6666666666666666, \"#ed7953\"], [0.7777777777777778, \"#fb9f3a\"], [0.8888888888888888, \"#fdca26\"], [1.0, \"#f0f921\"]]}, \"colorway\": [\"#636efa\", \"#EF553B\", \"#00cc96\", \"#ab63fa\", \"#FFA15A\", \"#19d3f3\", \"#FF6692\", \"#B6E880\", \"#FF97FF\", \"#FECB52\"], \"font\": {\"color\": \"#2a3f5f\"}, \"geo\": {\"bgcolor\": \"white\", \"lakecolor\": \"white\", \"landcolor\": \"#E5ECF6\", \"showlakes\": true, \"showland\": true, \"subunitcolor\": \"white\"}, \"hoverlabel\": {\"align\": \"left\"}, \"hovermode\": \"closest\", \"mapbox\": {\"style\": \"light\"}, \"paper_bgcolor\": \"white\", \"plot_bgcolor\": \"#E5ECF6\", \"polar\": {\"angularaxis\": {\"gridcolor\": \"white\", \"linecolor\": \"white\", \"ticks\": \"\"}, \"bgcolor\": \"#E5ECF6\", \"radialaxis\": {\"gridcolor\": \"white\", \"linecolor\": \"white\", \"ticks\": \"\"}}, \"scene\": {\"xaxis\": {\"backgroundcolor\": \"#E5ECF6\", \"gridcolor\": \"white\", \"gridwidth\": 2, \"linecolor\": \"white\", \"showbackground\": true, \"ticks\": \"\", \"zerolinecolor\": \"white\"}, \"yaxis\": {\"backgroundcolor\": \"#E5ECF6\", \"gridcolor\": \"white\", \"gridwidth\": 2, \"linecolor\": \"white\", \"showbackground\": true, \"ticks\": \"\", \"zerolinecolor\": \"white\"}, \"zaxis\": {\"backgroundcolor\": \"#E5ECF6\", \"gridcolor\": \"white\", \"gridwidth\": 2, \"linecolor\": \"white\", \"showbackground\": true, \"ticks\": \"\", \"zerolinecolor\": \"white\"}}, \"shapedefaults\": {\"line\": {\"color\": \"#2a3f5f\"}}, \"ternary\": {\"aaxis\": {\"gridcolor\": \"white\", \"linecolor\": \"white\", \"ticks\": \"\"}, \"baxis\": {\"gridcolor\": \"white\", \"linecolor\": \"white\", \"ticks\": \"\"}, \"bgcolor\": \"#E5ECF6\", \"caxis\": {\"gridcolor\": \"white\", \"linecolor\": \"white\", \"ticks\": \"\"}}, \"title\": {\"x\": 0.05}, \"xaxis\": {\"automargin\": true, \"gridcolor\": \"white\", \"linecolor\": \"white\", \"ticks\": \"\", \"title\": {\"standoff\": 15}, \"zerolinecolor\": \"white\", \"zerolinewidth\": 2}, \"yaxis\": {\"automargin\": true, \"gridcolor\": \"white\", \"linecolor\": \"white\", \"ticks\": \"\", \"title\": {\"standoff\": 15}, \"zerolinecolor\": \"white\", \"zerolinewidth\": 2}}}, \"xaxis\": {\"categoryorder\": \"total descending\"}},\n",
       "                        {\"responsive\": true}\n",
       "                    ).then(function(){\n",
       "                            \n",
       "var gd = document.getElementById('c35d9ca1-f8b9-4b00-8dc2-9c45867848c5');\n",
       "var x = new MutationObserver(function (mutations, observer) {{\n",
       "        var display = window.getComputedStyle(gd).display;\n",
       "        if (!display || display === 'none') {{\n",
       "            console.log([gd, 'removed!']);\n",
       "            Plotly.purge(gd);\n",
       "            observer.disconnect();\n",
       "        }}\n",
       "}});\n",
       "\n",
       "// Listen for the removal of the full notebook cells\n",
       "var notebookContainer = gd.closest('#notebook-container');\n",
       "if (notebookContainer) {{\n",
       "    x.observe(notebookContainer, {childList: true});\n",
       "}}\n",
       "\n",
       "// Listen for the clearing of the current output cell\n",
       "var outputEl = gd.closest('.output');\n",
       "if (outputEl) {{\n",
       "    x.observe(outputEl, {childList: true});\n",
       "}}\n",
       "\n",
       "                        })\n",
       "                };\n",
       "                });\n",
       "            </script>\n",
       "        </div>"
      ]
     },
     "metadata": {},
     "output_type": "display_data"
    }
   ],
   "source": [
    "df_goud = df[df['medaille']=='Olympic gold medal'].groupby(by=[\"sport\"], as_index=False)['medaille'].count()\n",
    "df_zilver = df[df['medaille']=='Olympic silver medal'].groupby(by=[\"sport\"], as_index=False)['medaille'].count()\n",
    "df_brons = df[df['medaille']=='Olympic bronze medal'].groupby(by=[\"sport\"], as_index=False)['medaille'].count()\n",
    "\n",
    "data = [go.Bar(\n",
    "        name = 'Bronzen medailles',\n",
    "        y=df_brons['medaille'],\n",
    "        x=df_brons['sport'],\n",
    "        hoverinfo='y',\n",
    "        marker_color=colors[2]\n",
    "),\n",
    "        go.Bar(\n",
    "        name = 'Zilveren medailles',\n",
    "        y=df_zilver['medaille'],\n",
    "        x=df_zilver['sport'],\n",
    "        hoverinfo='y',\n",
    "        marker_color=colors[1]\n",
    "),\n",
    "        go.Bar(\n",
    "        name = 'Gouden medailles',\n",
    "        y=df_goud['medaille'],\n",
    "        x=df_goud['sport'],\n",
    "        hoverinfo='y',\n",
    "        marker_color=colors[0]\n",
    ")]\n",
    "fig = go.Figure(data=data)\n",
    "\n",
    "fig.update_layout(barmode='stack', xaxis={'categoryorder':'total descending'})\n",
    "fig.show()"
   ]
  },
  {
   "cell_type": "markdown",
   "metadata": {},
   "source": [
    "## Wereldkaart"
   ]
  },
  {
   "cell_type": "markdown",
   "metadata": {},
   "source": [
    "We gaan nu een heatmap maken van de wereld, waaarbij je ziet in welke landen de meeste medailles zijn gevonden. Hiervoor maken we eerst een copy van onze dataframe, waarbij we de waardes van de medailles per land bij elkaar optellen. We hebben de medailles namelijk per soort een waarde gegeven, omdat een gouden medaille wel meer waard is dan zilver of brons. Dus in plaats van het aantal medailles, laten we de waarden aan medailles zien."
   ]
  },
  {
   "cell_type": "code",
   "execution_count": 18,
   "metadata": {},
   "outputs": [],
   "source": [
    "df_new = df.copy()\n",
    "df_new.rename(columns={'land':'COUNTRY'}, inplace=True)\n",
    "df_new['COUNTRY'] = df_new['COUNTRY'].str.lower()\n",
    "df_medaille = df_new.groupby(by=[\"COUNTRY\"], as_index=False)['waarde'].sum()"
   ]
  },
  {
   "cell_type": "markdown",
   "metadata": {},
   "source": [
    "Om een map te kunnen maken van de wereld met geopandas, gebruiken we een shapefile van alle wereldlanden. Deze kan je heel makkelijk vinden op internet om te downloaden. Van deze file kunnen we een tabel maken, hierin staan de landen met de geometrische waaarde erbij."
   ]
  },
  {
   "cell_type": "code",
   "execution_count": 19,
   "metadata": {},
   "outputs": [],
   "source": [
    "worlds = \"World_Countries.shp\"\n",
    "regions = gpd.read_file(worlds)\n",
    "regions['COUNTRY'] = regions['COUNTRY'].str.lower()"
   ]
  },
  {
   "cell_type": "markdown",
   "metadata": {},
   "source": [
    "Nu voegen we de twee tabellen toe tot 1 dataframe genaamd 'wereldmedailles', dit doen we met behulp van 'join'. Hierbij moet je als index een kolom hebben met dezelfde naam, hiervoor gebruiken we de kolom 'COUNTRY'. "
   ]
  },
  {
   "cell_type": "code",
   "execution_count": 20,
   "metadata": {},
   "outputs": [
    {
     "data": {
      "text/html": [
       "<div>\n",
       "<style scoped>\n",
       "    .dataframe tbody tr th:only-of-type {\n",
       "        vertical-align: middle;\n",
       "    }\n",
       "\n",
       "    .dataframe tbody tr th {\n",
       "        vertical-align: top;\n",
       "    }\n",
       "\n",
       "    .dataframe thead th {\n",
       "        text-align: right;\n",
       "    }\n",
       "</style>\n",
       "<table border=\"1\" class=\"dataframe\">\n",
       "  <thead>\n",
       "    <tr style=\"text-align: right;\">\n",
       "      <th></th>\n",
       "      <th>COUNTRY</th>\n",
       "      <th>geometry</th>\n",
       "      <th>waarde</th>\n",
       "    </tr>\n",
       "  </thead>\n",
       "  <tbody>\n",
       "    <tr>\n",
       "      <th>0</th>\n",
       "      <td>aruba (netherlands)</td>\n",
       "      <td>POLYGON ((-69.88223 12.41111, -69.94695 12.436...</td>\n",
       "      <td>0.0</td>\n",
       "    </tr>\n",
       "    <tr>\n",
       "      <th>1</th>\n",
       "      <td>antigua and barbuda</td>\n",
       "      <td>MULTIPOLYGON (((-61.73889 17.54055, -61.75195 ...</td>\n",
       "      <td>0.0</td>\n",
       "    </tr>\n",
       "    <tr>\n",
       "      <th>2</th>\n",
       "      <td>afghanistan</td>\n",
       "      <td>POLYGON ((61.27656 35.60725, 61.29638 35.62853...</td>\n",
       "      <td>0.0</td>\n",
       "    </tr>\n",
       "    <tr>\n",
       "      <th>3</th>\n",
       "      <td>algeria</td>\n",
       "      <td>POLYGON ((-5.15213 30.18047, -5.13917 30.19236...</td>\n",
       "      <td>0.0</td>\n",
       "    </tr>\n",
       "    <tr>\n",
       "      <th>4</th>\n",
       "      <td>azerbaijan</td>\n",
       "      <td>MULTIPOLYGON (((46.54037 38.87559, 46.49554 38...</td>\n",
       "      <td>0.0</td>\n",
       "    </tr>\n",
       "    <tr>\n",
       "      <th>5</th>\n",
       "      <td>albania</td>\n",
       "      <td>POLYGON ((20.79192 40.43154, 20.78722 40.39472...</td>\n",
       "      <td>0.0</td>\n",
       "    </tr>\n",
       "    <tr>\n",
       "      <th>6</th>\n",
       "      <td>armenia</td>\n",
       "      <td>MULTIPOLYGON (((46.54037 38.87559, 46.51639 38...</td>\n",
       "      <td>0.0</td>\n",
       "    </tr>\n",
       "    <tr>\n",
       "      <th>7</th>\n",
       "      <td>andorra</td>\n",
       "      <td>POLYGON ((1.44583 42.60194, 1.48653 42.65041, ...</td>\n",
       "      <td>0.0</td>\n",
       "    </tr>\n",
       "    <tr>\n",
       "      <th>8</th>\n",
       "      <td>angola</td>\n",
       "      <td>MULTIPOLYGON (((13.09139 -4.63306, 13.09264 -4...</td>\n",
       "      <td>0.0</td>\n",
       "    </tr>\n",
       "    <tr>\n",
       "      <th>9</th>\n",
       "      <td>american samoa (us)</td>\n",
       "      <td>POLYGON ((-170.74390 -14.37556, -170.74942 -14...</td>\n",
       "      <td>0.0</td>\n",
       "    </tr>\n",
       "  </tbody>\n",
       "</table>\n",
       "</div>"
      ],
      "text/plain": [
       "               COUNTRY                                           geometry  \\\n",
       "0  aruba (netherlands)  POLYGON ((-69.88223 12.41111, -69.94695 12.436...   \n",
       "1  antigua and barbuda  MULTIPOLYGON (((-61.73889 17.54055, -61.75195 ...   \n",
       "2          afghanistan  POLYGON ((61.27656 35.60725, 61.29638 35.62853...   \n",
       "3              algeria  POLYGON ((-5.15213 30.18047, -5.13917 30.19236...   \n",
       "4           azerbaijan  MULTIPOLYGON (((46.54037 38.87559, 46.49554 38...   \n",
       "5              albania  POLYGON ((20.79192 40.43154, 20.78722 40.39472...   \n",
       "6              armenia  MULTIPOLYGON (((46.54037 38.87559, 46.51639 38...   \n",
       "7              andorra  POLYGON ((1.44583 42.60194, 1.48653 42.65041, ...   \n",
       "8               angola  MULTIPOLYGON (((13.09139 -4.63306, 13.09264 -4...   \n",
       "9  american samoa (us)  POLYGON ((-170.74390 -14.37556, -170.74942 -14...   \n",
       "\n",
       "   waarde  \n",
       "0     0.0  \n",
       "1     0.0  \n",
       "2     0.0  \n",
       "3     0.0  \n",
       "4     0.0  \n",
       "5     0.0  \n",
       "6     0.0  \n",
       "7     0.0  \n",
       "8     0.0  \n",
       "9     0.0  "
      ]
     },
     "execution_count": 20,
     "metadata": {},
     "output_type": "execute_result"
    }
   ],
   "source": [
    "wereldmedailles = regions.set_index('COUNTRY').join(df_medaille.set_index('COUNTRY'))\n",
    "wereldmedailles = wereldmedailles.reset_index()\n",
    "wereldmedailles = wereldmedailles.fillna(0)\n",
    "wereldmedailles[['COUNTRY', 'geometry', 'waarde']].head(10)"
   ]
  },
  {
   "cell_type": "markdown",
   "metadata": {},
   "source": [
    "Vervolgens plotten we de samengevoegde dataframe tot een wereldkaart waarop de landen met de meeste medailles het donkerst zijn."
   ]
  },
  {
   "cell_type": "code",
   "execution_count": 21,
   "metadata": {},
   "outputs": [
    {
     "data": {
      "text/plain": [
       "<matplotlib.axes._subplots.AxesSubplot at 0x12a754c50>"
      ]
     },
     "execution_count": 21,
     "metadata": {},
     "output_type": "execute_result"
    },
    {
     "data": {
      "image/png": "[encoded data removed]",
      "text/plain": [
       "<Figure size 3600x1800 with 2 Axes>"
      ]
     },
     "metadata": {
      "needs_background": "light"
     },
     "output_type": "display_data"
    }
   ],
   "source": [
    "fig, ax = plt.subplots(1, figsize=(50, 25))\n",
    "ax.axis('off')\n",
    "ax.set_title('Medailles per land', fontdict={'fontsize': '50', 'fontweight' : '5', 'color':  'darkred'})\n",
    "color = 'Reds'\n",
    "sm = plt.cm.ScalarMappable(cmap=color, norm=plt.Normalize(vmin=wereldmedailles['waarde'].min(), vmax=wereldmedailles['waarde'].max()))\n",
    "cbar = fig.colorbar(sm)\n",
    "cbar.ax.tick_params(labelsize=25)\n",
    "wereldmedailles.plot('waarde', cmap=color, linewidth=0.8, ax=ax, edgecolor='0.8', figsize=(40,20))"
   ]
  },
  {
   "cell_type": "markdown",
   "metadata": {},
   "source": [
    "In Australië zijn dus de meeste medailles gewonnen!"
   ]
  },
  {
   "cell_type": "markdown",
   "metadata": {},
   "source": [
    "## Ons dreamteam\n",
    "\n",
    "Nu we weten voor welke sporters de meeste medailles hebben gewonnen, willen we natuurlijk weten welk persoon voor nou het beste is voor welke sport. Hieronder zoeken we voor iedere sport de sporter die de meeste medailles heeft gewonnen en deze zal in ons team terecht komen. Voor alle sporten waar Nederland medailles mee heeft gewonnen zal een sporter ons gaan vertegenwoordigen. In de output is te zien wie onze mannelijke en vrouwelijke sporters zullen zijn. \n"
   ]
  },
  {
   "cell_type": "code",
   "execution_count": 22,
   "metadata": {},
   "outputs": [
    {
     "name": "stdout",
     "output_type": "stream",
     "text": [
      "Onze vrouwelijke deelneemster in swimming is Inge de Bruijn\n",
      "Onze vrouwelijke deelneemster in equestrian sport is Anky van Grunsven\n",
      "Onze vrouwelijke deelneemster in canoeing and kayaking is Alida van der Anker-Doedens\n",
      "Onze vrouwelijke deelneemster in long track speed skating is Ireen Wüst\n",
      "Onze vrouwelijke deelneemster in speed skating is Stien Kaiser\n",
      "Onze vrouwelijke deelneemster in judo is Deborah Gravenstijn\n",
      "Onze vrouwelijke deelneemster in cycle sport is Elis Ligtlee\n",
      "Onze vrouwelijke deelneemster in track cycling is Leontien van Moorsel\n",
      "Onze vrouwelijke deelneemster in field hockey is Kim Lammers\n",
      "Onze vrouwelijke deelneemster in tennis is Kristie Boogert\n",
      "Onze vrouwelijke deelneemster in BMX is Laura Smulders\n",
      "Onze vrouwelijke deelneemster in badminton is Mia Audina\n",
      "Onze vrouwelijke deelneemster in snowboarding is Nicolien Sauerbreij\n",
      "Onze vrouwelijke deelneemster in figure skating is Sjoukje Dijkstra\n",
      "\n",
      "\n",
      "Onze mannelijke deelneemer in equestrian sport is Adolph van der Voort van Zijp\n",
      "Onze mannelijke deelneemer in fencing is Jetze Doorman\n",
      "Onze mannelijke deelneemer in shooting sport is Eric Swinkels\n",
      "Onze mannelijke deelneemer in judo is Wim Ruska\n",
      "Onze mannelijke deelneemer in speed skating is Ard Schenk\n",
      "Onze mannelijke deelneemer in track cycling is Arie van Vliet\n",
      "Onze mannelijke deelneemer in road bicycle racing is Bart Zoet\n",
      "Onze mannelijke deelneemer in boxing is Bep van Klaveren\n",
      "Onze mannelijke deelneemer in long track speed skating is Sven Kramer\n",
      "Onze mannelijke deelneemer in None is Dorian van Rijsselberghe\n",
      "Onze mannelijke deelneemer in archery is Driekske van Bussel\n",
      "Onze mannelijke deelneemer in artistic gymnastics is Epke Zonderland\n",
      "Onze mannelijke deelneemer in tennis is Hendrik Timmer\n",
      "Onze mannelijke deelneemer in canoeing and kayaking is Jaap Kraaier\n",
      "Onze mannelijke deelneemer in swimming is Pieter van den Hoogenband\n",
      "Onze mannelijke deelneemer in short track speed skating is Sjinkie Knegt\n"
     ]
    }
   ],
   "source": [
    "sporten = dict()\n",
    "for index, row in df.iterrows():\n",
    "    sporten[row[0]] = row[3]\n",
    "punten = dict()\n",
    "for index, row in vrouwen.iterrows():\n",
    "    punten[row[0]] = row[1]\n",
    "\n",
    "bestevrouwen = dict()\n",
    "for sporter in punten:\n",
    "    if sporten[sporter] not in bestevrouwen:\n",
    "        bestevrouwen[sporten[sporter]] = sporter\n",
    "    elif sporten[sporter] in bestevrouwen:\n",
    "         if punten[sporter] > punten[bestevrouwen[sporten[sporter]]]:\n",
    "            bestevrouwen[sporten[sporter]] = sporter\n",
    "            \n",
    "sporten = dict()\n",
    "for index, row in df.iterrows():\n",
    "    sporten[row[0]] = row[3]\n",
    "punten = dict()\n",
    "for index, row in mannen.iterrows():\n",
    "    punten[row[0]] = row[1]\n",
    "\n",
    "bestemannen = dict()\n",
    "for sporter in punten:\n",
    "    if sporten[sporter] not in bestemannen:\n",
    "        bestemannen[sporten[sporter]] = sporter\n",
    "    elif sporten[sporter] in bestemannen:\n",
    "         if punten[sporter] > punten[bestemannen[sporten[sporter]]]:\n",
    "            bestemannen[sporten[sporter]] = sporter\n",
    "                \n",
    "for sport in bestevrouwen:\n",
    "    print('Onze vrouwelijke deelneemster in', sport, 'is', bestevrouwen[sport])\n",
    "print('\\n')\n",
    "for sport in bestemannen:\n",
    "    print('Onze mannelijke deelneemer in', sport, 'is', bestemannen[sport])"
   ]
  },
  {
   "cell_type": "markdown",
   "metadata": {},
   "source": [
    "## Concluderend\n",
    "\n",
    "We hebben laten zien dat we in Australië de meeste medailles winnen en we willen dus graag onze olympische spelen in Australië houden. Verder laat de tijdsgrafiek zien dat we de meeste medailles in 2006 hebben gehaald. En als laatste zijn we als Nederlanders het beste in de sporten zwemmen en schaatsen. Hieronder is een lijst te zien van Nederlandse sporters die de meeste waarde aan medailles hebben binnen gesleept. Wij willen ze dan ook graag uitnodigen om te komen sporten in ons dreamteam.\n",
    "\n",
    "#### De vrouwelijke leden van ons team:\n",
    "Onze vrouwelijke deelneemster in swimming is Inge de Bruijn <br>\n",
    "Onze vrouwelijke deelneemster in equestrian sport is Anky van Grunsven<br>\n",
    "Onze vrouwelijke deelneemster in canoeing and kayaking is Alida van der Anker-Doedens<br>\n",
    "Onze vrouwelijke deelneemster in long track speed skating is Ireen Wüst<br>\n",
    "Onze vrouwelijke deelneemster in speed skating is Stien Kaiser<br>\n",
    "Onze vrouwelijke deelneemster in judo is Deborah Gravenstijn<br>\n",
    "Onze vrouwelijke deelneemster in cycle sport is Elis Ligtlee<br>\n",
    "Onze vrouwelijke deelneemster in track cycling is Leontien van Moorsel<br>\n",
    "Onze vrouwelijke deelneemster in field hockey is Kim Lammers<br>\n",
    "Onze vrouwelijke deelneemster in tennis is Kristie Boogert<br>\n",
    "Onze vrouwelijke deelneemster in BMX is Laura Smulders<br>\n",
    "Onze vrouwelijke deelneemster in badminton is Mia Audina<br>\n",
    "Onze vrouwelijke deelneemster in snowboarding is Nicolien Sauerbreij<br>\n",
    "Onze vrouwelijke deelneemster in figure skating is Sjoukje Dijkstra<br>\n",
    "\n",
    "<img src=\"https://images0.persgroep.net/rcs/8nunf2kGk2ILDo12bQVrEJm2OnM/diocontent/68388814/_fill/657/900/?appId=21791a8992982cd8da851550a453bd7f&quality=0.9\">\n",
    "\n",
    "#### De mannelijke leden van ons team:\n",
    "Onze mannelijke deelneemer in equestrian sport is Adolph van der Voort van Zijp<br>\n",
    "Onze mannelijke deelneemer in fencing is Jetze Doorman<br>\n",
    "Onze mannelijke deelneemer in shooting sport is Eric Swinkels<br>\n",
    "Onze mannelijke deelneemer in judo is Wim Ruska<br>\n",
    "Onze mannelijke deelneemer in speed skating is Ard Schenk<br>\n",
    "Onze mannelijke deelneemer in track cycling is Arie van Vliet<br>\n",
    "Onze mannelijke deelneemer in road bicycle racing is Bart Zoet<br>\n",
    "Onze mannelijke deelneemer in boxing is Bep van Klaveren<br>\n",
    "Onze mannelijke deelneemer in long track speed skating is Sven Kramer<br>\n",
    "Onze mannelijke deelneemer in None is Dorian van Rijsselberghe<br>\n",
    "Onze mannelijke deelneemer in archery is Driekske van Bussel<br>\n",
    "Onze mannelijke deelneemer in artistic gymnastics is Epke Zonderland<br>\n",
    "Onze mannelijke deelneemer in tennis is Hendrik Timmer<br>\n",
    "Onze mannelijke deelneemer in canoeing and kayaking is Jaap Kraaier<br>\n",
    "Onze mannelijke deelneemer in swimming is Pieter van den Hoogenband<br>\n",
    "Onze mannelijke deelneemer in short track speed skating is Sjinkie Knegt<br>\n",
    "\n",
    "<img src=\"https://images0.persgroep.net/rcs/LH98C03_tJ71r7qyXRfTCh3_vJc/diocontent/158845119/_fitwidth/694/?appId=21791a8992982cd8da851550a453bd7f&quality=0.8\">"
   ]
  },
  {
   "cell_type": "markdown",
   "metadata": {},
   "source": [
    "Onze vlaggendrager wordt Wim Ruska, omdat hij als enige Nederlander twee keer goud gehaald op dezelfde spelen in judo.\n",
    "\n",
    "<img src=\"https://payload.cargocollective.com/1/7/228446/4317675/Wim_Ruska_480x854_640.jpg\">"
   ]
  },
  {
   "cell_type": "markdown",
   "metadata": {},
   "source": [
    "## Reflectie\n",
    "\n",
    "We zijn begonnen met nadenken over welke data we wilden gaan gebruiken. We kwamen terecht bij Nederlandse sporters. Vanuit hier kwamen wij terecht bij Nederlandse olympische sporters. Enkel het vinden van deze sporters leek ons niet echt een probleem. We kwamen met het idee om een Nederlands dreamteam te maken. Hiervoor moesten we eerst uitvinden welke Nederlandse sporters medailles hebben gewonnen. Van de data die beschikbaar was over al deze sporters hebben we de data hieruit gehaald die zouden kunnen bijdragen om een ultieme olympische spelen voor Nederland te organiseren waar we zo goed mogelijk zouden preseteren. Dit hebben we gedaan op basis van beste sporters per sport, beste locatie, beste tijd en beste sporten voor Nederland.\n"
   ]
  }
 ],
 "metadata": {
  "kernelspec": {
   "display_name": "Python 3",
   "language": "python",
   "name": "python3"
  },
  "language_info": {
   "codemirror_mode": {
    "name": "ipython",
    "version": 3
   },
   "file_extension": ".py",
   "mimetype": "text/x-python",
   "name": "python",
   "nbconvert_exporter": "python",
   "pygments_lexer": "ipython3",
   "version": "3.7.4"
  },
  "toc": {
   "nav_menu": {},
   "number_sections": true,
   "sideBar": true,
   "skip_h1_title": false,
   "title_cell": "Table of Contents",
   "title_sidebar": "Contents",
   "toc_cell": false,
   "toc_position": {},
   "toc_section_display": true,
   "toc_window_display": false
  }
 },
 "nbformat": 4,
 "nbformat_minor": 2
}
