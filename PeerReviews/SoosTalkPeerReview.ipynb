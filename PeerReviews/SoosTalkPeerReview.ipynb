{
 "cells": [
  {
   "cell_type": "code",
   "execution_count": 2,
   "metadata": {
    "slideshow": {
     "slide_type": "skip"
    }
   },
   "outputs": [
    {
     "name": "stdout",
     "output_type": "stream",
     "text": [
      "[NbConvertApp] Converting notebook SoosTalkPeerReview.ipynb to slides\n",
      "[NbConvertApp] Writing 296889 bytes to SoosTalkPeerReview.slides.html\n"
     ]
    }
   ],
   "source": [
    "!jupyter nbconvert SoosTalkPeerReview.ipynb --to slides --post serve"
   ]
  },
  {
   "cell_type": "markdown",
   "metadata": {
    "slideshow": {
     "slide_type": "skip"
    },
    "toc": true
   },
   "source": [
    "<h1>Table of Contents<span class=\"tocSkip\"></span></h1>\n",
    "<div class=\"toc\"><ul class=\"toc-item\"><li><span><a href=\"#Title\" data-toc-modified-id=\"Title-1\">Title</a></span></li><li><span><a href=\"#Abstract\" data-toc-modified-id=\"Abstract-2\">Abstract</a></span></li><li><span><a href=\"#Using-IR-and-RecSys-techniques-in-education-\" data-toc-modified-id=\"Using-IR-and-RecSys-techniques-in-education--3\">Using IR and RecSys techniques in education </a></span><ul class=\"toc-item\"><li><span><a href=\"#Ranking,-rating,-reviewing\" data-toc-modified-id=\"Ranking,-rating,-reviewing-3.1\">Ranking, rating, reviewing</a></span><ul class=\"toc-item\"><li><ul class=\"toc-item\"><li><span><a href=\"#Soos-Talk,-2021-04-13,-Maarten-Marx\" data-toc-modified-id=\"Soos-Talk,-2021-04-13,-Maarten-Marx-3.1.0.1\">Soos Talk, 2021-04-13, Maarten Marx</a></span></li></ul></li></ul></li></ul></li><li><span><a href=\"#Contents\" data-toc-modified-id=\"Contents-4\">Contents</a></span></li><li><span><a href=\"#Objective-in-my-courses--😀\" data-toc-modified-id=\"Objective-in-my-courses--😀-5\">Objective in my courses  😀</a></span><ul class=\"toc-item\"><li><span><a href=\"#Observation-😞\" data-toc-modified-id=\"Observation-😞-5.1\">Observation 😞</a></span></li></ul></li><li><span><a href=\"#But-hey-wait-a-minute,-how-do-you-best-learn-something?-💡\" data-toc-modified-id=\"But-hey-wait-a-minute,-how-do-you-best-learn-something?-💡-6\">But hey wait a minute, how do you best learn something? 💡</a></span><ul class=\"toc-item\"><li><span><a href=\"#Even-more\" data-toc-modified-id=\"Even-more-6.1\">Even more</a></span></li><li><span><a href=\"#Even-more-more\" data-toc-modified-id=\"Even-more-more-6.2\">Even more more</a></span></li></ul></li><li><span><a href=\"#Research-question-🙍‍♀️\" data-toc-modified-id=\"Research-question-🙍‍♀️-7\">Research question 🙍‍♀️</a></span><ul class=\"toc-item\"><li><span><a href=\"#Aims\" data-toc-modified-id=\"Aims-7.1\">Aims</a></span></li><li><span><a href=\"#Experiment\" data-toc-modified-id=\"Experiment-7.2\">Experiment</a></span></li></ul></li><li><span><a href=\"#Methods\" data-toc-modified-id=\"Methods-8\">Methods</a></span><ul class=\"toc-item\"><li><ul class=\"toc-item\"><li><ul class=\"toc-item\"><li><span><a href=\"#0-Homework-made-by-groups\" data-toc-modified-id=\"0-Homework-made-by-groups-8.0.0.1\">0 Homework made by groups</a></span></li><li><span><a href=\"#1-Open-access-to-all-submitted-homework\" data-toc-modified-id=\"1-Open-access-to-all-submitted-homework-8.0.0.2\">1 Open access to all submitted homework</a></span></li><li><span><a href=\"#2-Students-create-(unit)-tests\" data-toc-modified-id=\"2-Students-create-(unit)-tests-8.0.0.3\">2 Students create (unit) tests</a></span></li><li><span><a href=\"#3-Peer-review-everything\" data-toc-modified-id=\"3-Peer-review-everything-8.0.0.4\">3 Peer review everything</a></span></li><li><span><a href=\"#4-Open-access-to-all-test-results-and-peer-reviews\" data-toc-modified-id=\"4-Open-access-to-all-test-results-and-peer-reviews-8.0.0.5\">4 Open access to all test results and peer reviews</a></span></li></ul></li></ul></li></ul></li><li><span><a href=\"#Results\" data-toc-modified-id=\"Results-9\">Results</a></span><ul class=\"toc-item\"><li><span><a href=\"#On-mastering-the-material-👍\" data-toc-modified-id=\"On-mastering-the-material-👍-9.1\">On mastering the material 👍</a></span></li><li><span><a href=\"#Testing-drill\" data-toc-modified-id=\"Testing-drill-9.2\">Testing drill</a></span></li></ul></li><li><span><a href=\"#Test-vs-Submission-matrix\" data-toc-modified-id=\"Test-vs-Submission-matrix-10\">Test vs Submission matrix</a></span><ul class=\"toc-item\"><li><ul class=\"toc-item\"><li><span><a href=\"#Quiz\" data-toc-modified-id=\"Quiz-10.0.1\">Quiz</a></span></li></ul></li><li><span><a href=\"#Rating/ranking\" data-toc-modified-id=\"Rating/ranking-10.1\">Rating/ranking</a></span><ul class=\"toc-item\"><li><span><a href=\"#1--Pitfall\" data-toc-modified-id=\"1--Pitfall-10.1.1\">1  Pitfall</a></span></li></ul></li><li><span><a href=\"#Example---peer-review-report\" data-toc-modified-id=\"Example---peer-review-report-10.2\">Example   peer review report</a></span><ul class=\"toc-item\"><li><ul class=\"toc-item\"><li><span><a href=\"#scores--distribution\" data-toc-modified-id=\"scores--distribution-10.2.0.1\">scores  distribution</a></span></li><li><span><a href=\"#Ranking--histogram\" data-toc-modified-id=\"Ranking--histogram-10.2.0.2\">Ranking  histogram</a></span></li></ul></li><li><span><a href=\"#2-Quality\" data-toc-modified-id=\"2-Quality-10.2.1\">2 Quality</a></span><ul class=\"toc-item\"><li><span><a href=\"#cheating\" data-toc-modified-id=\"cheating-10.2.1.1\">cheating</a></span></li><li><span><a href=\"#consistency\" data-toc-modified-id=\"consistency-10.2.1.2\">consistency</a></span></li><li><span><a href=\"#variation-analysis-(boxplots)\" data-toc-modified-id=\"variation-analysis-(boxplots)-10.2.1.3\">variation analysis (boxplots)</a></span></li></ul></li><li><span><a href=\"#boxplot-per-submission\" data-toc-modified-id=\"boxplot-per-submission-10.2.2\">boxplot per submission</a></span></li><li><span><a href=\"#boxplot-per-student\" data-toc-modified-id=\"boxplot-per-student-10.2.3\">boxplot per student</a></span></li></ul></li></ul></li><li><span><a href=\"#Conclusion-🧠\" data-toc-modified-id=\"Conclusion-🧠-11\">Conclusion 🧠</a></span><ul class=\"toc-item\"><li><span><a href=\"#Scoring-variations\" data-toc-modified-id=\"Scoring-variations-11.1\">Scoring variations</a></span><ul class=\"toc-item\"><li><span><a href=\"#Tried\" data-toc-modified-id=\"Tried-11.1.1\">Tried</a></span></li><li><span><a href=\"#Avoid-ratio-and-interval-scales\" data-toc-modified-id=\"Avoid-ratio-and-interval-scales-11.1.2\">Avoid ratio and interval scales</a></span><ul class=\"toc-item\"><li><span><a href=\"#in-between-ordinal-and-interval\" data-toc-modified-id=\"in-between-ordinal-and-interval-11.1.2.1\">in between ordinal and interval</a></span></li></ul></li></ul></li></ul></li><li><span><a href=\"#Slides-voor-grassroots-start-bijeenkomst\" data-toc-modified-id=\"Slides-voor-grassroots-start-bijeenkomst-12\">Slides voor grassroots start bijeenkomst</a></span></li><li><span><a href=\"#Stof-leren-beheersen-door-peer-reviewing-ipv-cijfertjes-voor-je-huiswerk\" data-toc-modified-id=\"Stof-leren-beheersen-door-peer-reviewing-ipv-cijfertjes-voor-je-huiswerk-13\">Stof leren beheersen door peer reviewing ipv cijfertjes voor je huiswerk</a></span><ul class=\"toc-item\"><li><ul class=\"toc-item\"><li><span><a href=\"#Beschrijf-kort-wat-je-wilt-gaan-doen\" data-toc-modified-id=\"Beschrijf-kort-wat-je-wilt-gaan-doen-13.0.1\">Beschrijf kort wat je wilt gaan doen</a></span></li><li><span><a href=\"#Besteed-geld-aan\" data-toc-modified-id=\"Besteed-geld-aan-13.0.2\">Besteed geld aan</a></span></li></ul></li></ul></li><li><span><a href=\"#Waarom?\" data-toc-modified-id=\"Waarom?-14\">Waarom?</a></span></li><li><span><a href=\"#Objective-in-my-courses--😀\" data-toc-modified-id=\"Objective-in-my-courses--😀-15\">Objective in my courses  😀</a></span><ul class=\"toc-item\"><li><span><a href=\"#Observation-😞\" data-toc-modified-id=\"Observation-😞-15.1\">Observation 😞</a></span></li></ul></li><li><span><a href=\"#Ervaringen-in-pilot\" data-toc-modified-id=\"Ervaringen-in-pilot-16\">Ervaringen in pilot</a></span><ul class=\"toc-item\"><li><span><a href=\"#Extreem-testen\" data-toc-modified-id=\"Extreem-testen-16.1\">Extreem testen</a></span></li></ul></li><li><span><a href=\"#Ervaringen-2:---variantie-in-peer-feedback-scores\" data-toc-modified-id=\"Ervaringen-2:---variantie-in-peer-feedback-scores-17\">Ervaringen 2:   variantie in peer feedback scores</a></span><ul class=\"toc-item\"><li><ul class=\"toc-item\"><li><span><a href=\"#boxplot-per-student\" data-toc-modified-id=\"boxplot-per-student-17.0.1\">boxplot per student</a></span></li><li><span><a href=\"#boxplot-per-submission\" data-toc-modified-id=\"boxplot-per-submission-17.0.2\">boxplot per submission</a></span></li></ul></li></ul></li></ul></div>"
   ]
  },
  {
   "cell_type": "markdown",
   "metadata": {
    "slideshow": {
     "slide_type": "skip"
    }
   },
   "source": [
    "# Title\n",
    "\n",
    "> Ranking, rating, reviewing: using IR and RecSys techniques in education\n",
    "\n",
    "> Maarten Marx\n",
    "\n",
    "# Abstract\n",
    "\n",
    "We experimented with applying IR evaluation techniques in a classroom setting with the goal of achieving a better understanding of the study material by the students. \n",
    "We report on the motivation, the used methods, our experience, and evaluate the preliminary results.\n",
    "I am very excited about this and believe it has the potential to improve success (pass) rate of courses *without* lowering grading standards.  "
   ]
  },
  {
   "cell_type": "markdown",
   "metadata": {
    "slideshow": {
     "slide_type": "slide"
    }
   },
   "source": [
    "<!--# Ranking, rating, reviewing: using IR and RecSys techniques in education-->\n",
    "\n",
    "<center>\n",
    "    <h1>Using IR and RecSys techniques in education </h1>\n",
    "    <h2>Ranking, rating, reviewing</h2>\n",
    "    <h4>Soos Talk, 2021-04-13, Maarten Marx</h4>\n",
    "    <img src='https://blog.scienceopen.com/wp-content/uploads/2016/02/PeerReview.jpeg'/>\n",
    "</center>"
   ]
  },
  {
   "cell_type": "markdown",
   "metadata": {
    "slideshow": {
     "slide_type": "slide"
    }
   },
   "source": [
    "# Contents\n",
    "\n",
    "1. Objective\n",
    "2. Methods\n",
    "3. Results\n",
    "4. Conclusion"
   ]
  },
  {
   "cell_type": "markdown",
   "metadata": {
    "slideshow": {
     "slide_type": "slide"
    }
   },
   "source": [
    "# Objective in my courses  😀\n",
    "* Students pass after having mastered the material, enjoy it, and \"remember\" it for later use. \n",
    "\n",
    "\n",
    " \n",
    "## Observation 😞\n",
    "\n",
    "1. Students do not make homework which is not graded and does not count towards passing the course.\n",
    "    * But without practice they cannot master the material and pass\n",
    "    * so we give graded homework\n",
    "2. Which causes\n",
    "    1. obsessive focus on grades, grading, decimals, **instead of on the content**\n",
    "    2. fraud, plagiarism\n",
    "    3. feeling of wasted time by teacher and TAs"
   ]
  },
  {
   "cell_type": "markdown",
   "metadata": {
    "slideshow": {
     "slide_type": "slide"
    }
   },
   "source": [
    "# But hey wait a minute, how do you best learn something? 💡"
   ]
  },
  {
   "cell_type": "markdown",
   "metadata": {
    "slideshow": {
     "slide_type": "fragment"
    }
   },
   "source": [
    "> by teaching it"
   ]
  },
  {
   "cell_type": "markdown",
   "metadata": {
    "slideshow": {
     "slide_type": "fragment"
    }
   },
   "source": [
    "## Even more\n",
    "\n",
    "> by testing and reviewing it"
   ]
  },
  {
   "cell_type": "markdown",
   "metadata": {
    "slideshow": {
     "slide_type": "fragment"
    }
   },
   "source": [
    "## Even more more\n",
    "\n",
    "> reviewing several solutions (including your own) to a problem\n",
    "\n",
    "* efficiency, correctness, creativity, ease of understanding"
   ]
  },
  {
   "cell_type": "markdown",
   "metadata": {
    "slideshow": {
     "slide_type": "slide"
    }
   },
   "source": [
    "# Research question 🙍‍♀️\n",
    "\n",
    "> Can we trade in grading homework for peer testing and peer reviewing ? \n",
    "\n",
    "> **While keeping the same objective.**\n",
    "\n",
    "## Aims\n",
    "\n",
    "* No drop in passing course\n",
    "* Deeper understanding of course material\n",
    "* change focus from grades to content\n",
    "\n",
    "## Experiment \n",
    "\n",
    "* *Knowledge and Data* 2nd year Bachelor course\n",
    "    * Knowledge graphs, RDF, RDFS, SPARQL\n",
    "    * Semantic web and ontology languages\n",
    "    * Logic and reasoning"
   ]
  },
  {
   "cell_type": "markdown",
   "metadata": {
    "slideshow": {
     "slide_type": "slide"
    }
   },
   "source": [
    "# Methods\n",
    "\n",
    "#### 0 Homework made by groups\n",
    "\n",
    "* Each week new random group (N=4)  chosen from \"class\" (N=20)\n",
    "\n",
    "#### 1 Open access to all submitted homework\n",
    "\n",
    "\n",
    "\n",
    "#### 2 Students create (unit) tests\n",
    "\n",
    "\n",
    "\n",
    "#### 3 Peer review everything\n",
    "\n",
    "* Contribution of each group member (review by group)\n",
    "* for own and other groups (N=5)\n",
    "    * review in words (strong/weak points)\n",
    "    * rank, score\n",
    "    \n",
    "#### 4 Open access to all test results and peer reviews    "
   ]
  },
  {
   "cell_type": "markdown",
   "metadata": {
    "slideshow": {
     "slide_type": "slide"
    }
   },
   "source": [
    "# Results"
   ]
  },
  {
   "cell_type": "markdown",
   "metadata": {
    "slideshow": {
     "slide_type": "fragment"
    }
   },
   "source": [
    "## On mastering the material 👍\n",
    "\n",
    "* students liked the extensive feedback\n",
    "* more interaction about solutions in class"
   ]
  },
  {
   "cell_type": "markdown",
   "metadata": {
    "slideshow": {
     "slide_type": "slide"
    }
   },
   "source": [
    "## Testing drill\n",
    "\n",
    "* (very) difficult for the students 👎\n",
    "    * 54% of 184 tests was a valid test \n",
    "    \n",
    "| | |\n",
    "|:-:|:-:|\n",
    "|![](TestCircusWeek6/bar1.png)  |  ![](TestCircusWeek6/bar2.png) |"
   ]
  },
  {
   "cell_type": "markdown",
   "metadata": {
    "slideshow": {
     "slide_type": "slide"
    }
   },
   "source": [
    "# Test vs Submission matrix\n",
    "\n",
    "> Compare AP of several   IR systems   on a set of queries\n",
    "\n",
    "| | |\n",
    "|:-:|:-|\n",
    "|![](TestCircusWeek6/heatmapA.png)| * each column is a **set of tests** <br/> * each row is a submission <br/> * a cell is the fraction succeeded tests|\n",
    "\n",
    "### Quiz\n",
    "\n",
    "* What are the good tests?\n",
    "* What are the good submissions?"
   ]
  },
  {
   "cell_type": "markdown",
   "metadata": {
    "slideshow": {
     "slide_type": "slide"
    }
   },
   "source": [
    "## Rating/ranking\n",
    "\n",
    "\n",
    "###  1  Pitfall\n",
    "\n",
    "* **Avoid** another focus on \"grades/scores/ranks/leaderboard\"\n",
    "* **How** \n",
    "    * avoid \"compacted representations\" (like MAP)\n",
    "    * instead show histograms/distributions"
   ]
  },
  {
   "cell_type": "markdown",
   "metadata": {
    "slideshow": {
     "slide_type": "subslide"
    }
   },
   "source": [
    "## Example   peer review report  \n",
    "\n",
    " \n",
    " \n",
    "#### scores  distribution\n",
    " \n",
    "|                 |   score (5-9) |\n",
    "|:----------------|-------:|\n",
    "| count           |   13   |\n",
    "| mean            |    8.1 |\n",
    "| std             |    0.7 |\n",
    "| min             |    7   |\n",
    "| 25%             |    7.5 |\n",
    "| 50%             |    8   |\n",
    "| 75%             |    9   |\n",
    "| max             |    9   |\n",
    "| PeerReviewScore |    8.1 |\n",
    "\n",
    "#### Ranking  histogram\n",
    "\n",
    "\n",
    "\n",
    "|   rank |  count (all)| count (own)|\n",
    "|----:|-------:|---:|\n",
    "|   1 |      3 |2|\n",
    "|   2 |      7 |1|\n",
    "|   3 |      1 |-|\n",
    "|   4 |      1 |-|\n",
    "|   5 |      0 |-|"
   ]
  },
  {
   "cell_type": "markdown",
   "metadata": {
    "slideshow": {
     "slide_type": "slide"
    }
   },
   "source": [
    "### 2 Quality\n",
    "\n",
    "#### cheating \n",
    "\n",
    "* occurred but can be spotted (eg using cosine)\n",
    "\n",
    "#### consistency\n",
    "\n",
    "* compare rankings with scores\n",
    "    * 8 out of 9 were consistent\n",
    "    * students use (crazy) decimals to force strict ordering on the grades\n",
    "        * 8.3--8.4--8.5\n",
    "        \n",
    "#### variation analysis (boxplots)\n",
    "\n",
    "<!--\n",
    "* Variation in scores of a student must be **high** ($4\\leq N\\leq 6$)\n",
    "* Variation in scores of submissions must be **low** ($15\\leq N\\leq 20$)\n",
    "-->"
   ]
  },
  {
   "cell_type": "markdown",
   "metadata": {
    "slideshow": {
     "slide_type": "slide"
    }
   },
   "source": [
    "### boxplot per submission\n",
    "\n",
    "![](Week7/box_scores_submissions.png)"
   ]
  },
  {
   "cell_type": "markdown",
   "metadata": {
    "slideshow": {
     "slide_type": "slide"
    }
   },
   "source": [
    "### boxplot per student\n",
    "\n",
    "![](Week7/box_scores_students.png)"
   ]
  },
  {
   "cell_type": "markdown",
   "metadata": {
    "slideshow": {
     "slide_type": "slide"
    }
   },
   "source": [
    "# Conclusion 🧠\n",
    "\n",
    "* Fun!\n",
    "* Every week wealth of data (5N  reviews, for N number of students)\n",
    "* much less fuzz about grades/grading\n",
    "* To be seen:\n",
    "    * will students do the homework without grades?\n",
    "    * will more/less students pass?\n",
    "    * will students like it as much as I do?"
   ]
  },
  {
   "cell_type": "markdown",
   "metadata": {
    "slideshow": {
     "slide_type": "slide"
    }
   },
   "source": [
    "## Scoring variations\n",
    "\n",
    "### Tried\n",
    "\n",
    "* distributing fixed amount over all groups\n",
    "* scores in a range\n",
    "* ranking\n",
    "\n",
    "### Avoid ratio and interval scales\n",
    "\n",
    "* simple ranking\n",
    "* pairwise comparing\n",
    "* comparing to oneself\n",
    "\n",
    "#### in between ordinal and interval\n",
    "\n",
    "* using sliders\n"
   ]
  },
  {
   "cell_type": "markdown",
   "metadata": {
    "slideshow": {
     "slide_type": "skip"
    }
   },
   "source": [
    "# Slides voor grassroots start bijeenkomst"
   ]
  },
  {
   "cell_type": "markdown",
   "metadata": {
    "slideshow": {
     "slide_type": "slide"
    }
   },
   "source": [
    "# Stof leren beheersen door peer reviewing ipv cijfertjes voor je huiswerk \n",
    "\n",
    "* Gecombineerd Student/Docent Grassroot\n",
    "* FNWI, Informatiewetenschappen\n",
    "\n",
    "### Beschrijf kort wat je wilt gaan doen\n",
    "\n",
    "> We gaan het geven van cijfers voor wekelijkse huiswerkopdrachten vervangen door het wekelijks peer reviewen van opdrachten gemaakt door jezelf en anderen.\n",
    "\n",
    "### Besteed geld aan\n",
    "\n",
    "* Salaris SA"
   ]
  },
  {
   "cell_type": "markdown",
   "metadata": {
    "slideshow": {
     "slide_type": "slide"
    }
   },
   "source": [
    "# Waarom?\n",
    "\n",
    "\n",
    "# Objective in my courses  😀\n",
    "* Students pass after having mastered the material, enjoy it, and \"remember\" it for later use. \n",
    "\n",
    "\n",
    "## Observation 😞\n",
    "\n",
    "1. Students do not make homework which is not graded and does not count towards passing the course.\n",
    "    * But without practice they cannot master the material and pass\n",
    "    * so we give graded homework\n",
    "2. Which causes\n",
    "    1. obsessive focus on grades, grading, decimals, **instead of on the content**\n",
    "    2. fraud, plagiarism\n",
    "    3. feeling of wasted time by teacher and TAs"
   ]
  },
  {
   "cell_type": "markdown",
   "metadata": {
    "slideshow": {
     "slide_type": "slide"
    }
   },
   "source": [
    "# Ervaringen in pilot\n",
    "\n",
    "## Extreem testen\n",
    "\n",
    "| | |\n",
    "|:-:|:-|\n",
    "|![](TestCircusWeek6/heatmapA.png)| * each column is a **set of tests** <br/> * each row is a submission <br/> * a cell is the fraction succeeded tests|"
   ]
  },
  {
   "cell_type": "markdown",
   "metadata": {
    "slideshow": {
     "slide_type": "slide"
    }
   },
   "source": [
    "# Ervaringen 2:   variantie in peer feedback scores\n",
    "\n",
    "* bij studenten (wil je dat hoog is)\n",
    "* over de ingeleverde opdrachten (wil je dat laag is)\n",
    "\n",
    "### boxplot per student\n",
    "\n",
    "![](Week7/box_scores_students.png)"
   ]
  },
  {
   "cell_type": "markdown",
   "metadata": {
    "slideshow": {
     "slide_type": "subslide"
    }
   },
   "source": [
    "### boxplot per submission\n",
    "\n",
    "![](Week7/box_scores_submissions.png)"
   ]
  },
  {
   "cell_type": "code",
   "execution_count": null,
   "metadata": {},
   "outputs": [],
   "source": []
  }
 ],
 "metadata": {
  "celltoolbar": "Slideshow",
  "kernelspec": {
   "display_name": "Python 3",
   "language": "python",
   "name": "python3"
  },
  "language_info": {
   "codemirror_mode": {
    "name": "ipython",
    "version": 3
   },
   "file_extension": ".py",
   "mimetype": "text/x-python",
   "name": "python",
   "nbconvert_exporter": "python",
   "pygments_lexer": "ipython3",
   "version": "3.6.3"
  },
  "toc": {
   "nav_menu": {},
   "number_sections": false,
   "sideBar": true,
   "skip_h1_title": false,
   "title_cell": "Table of Contents",
   "title_sidebar": "Contents",
   "toc_cell": true,
   "toc_position": {},
   "toc_section_display": true,
   "toc_window_display": false
  }
 },
 "nbformat": 4,
 "nbformat_minor": 2
}
